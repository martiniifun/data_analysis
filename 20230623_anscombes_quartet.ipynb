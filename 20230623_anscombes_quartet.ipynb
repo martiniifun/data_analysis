{
 "cells": [
  {
   "cell_type": "markdown",
   "source": [
    "# 앤스컴 콰르텟(앤스컴의 4중주) : 시각화의 중요성\n",
    "\n",
    "1970년대, 당시 통계학자들 사이에는 \"숫자 계산이 그래프보다 정확하며,\n",
    "\n",
    "그래프는 다소 러프한 통계특성을 보여줄 뿐이다.\" 라는 관념이 있었습니다.\n",
    "\n",
    "앤스콤은 1973년, \"Graphs in Statistical Analysis\" 라는 논문을 <American Statistician>이라는 저널에 발표하며\n",
    "\n",
    "이 통념에 일침을 가합니다.\n",
    "\n",
    "아래 4개의 데이터셋은 x평균, x표본분산, y평균, y표본분산, x와 y의 상관계수, 선형회귀선, 선형회귀 결정계수 등\n",
    "\n",
    "7개의 기술통계량이 소숫점 2~3째자리까지 동일합니다.\n",
    "\n",
    "하지만 시각화를 해 보면 전혀 다른 패턴을 보이는 것을 확인할 수 있습니다.\n",
    "\n",
    "이를 같이 그려보겠습니다."
   ],
   "metadata": {
    "collapsed": false
   }
  },
  {
   "cell_type": "code",
   "execution_count": 53,
   "outputs": [],
   "source": [
    "# 출처 : 위키피디아(seaborn의 데이터셋 중에도 anscombe이 있습니다.)\n",
    "data = \"x1\\ty1\\tx2\\ty2\\tx3\\ty3\\tx4\\ty4\\n10.0\\t8.04\\t10.0\\t9.14\\t10.0\\t7.46\\t8.0\\t6.58\\n8.0\\t6.95\\t8.0\\t8.14\\t8.0\\t6.77\\t8.0\\t5.76\\n13.0\\t7.58\\t13.0\\t8.74\\t13.0\\t12.74\\t8.0\\t7.71\\n9.0\\t8.81\\t9.0\\t8.77\\t9.0\\t7.11\\t8.0\\t8.84\\n11.0\\t8.33\\t11.0\\t9.26\\t11.0\\t7.81\\t8.0\\t8.47\\n14.0\\t9.96\\t14.0\\t8.10\\t14.0\\t8.84\\t8.0\\t7.04\\n6.0\\t7.24\\t6.0\\t6.13\\t6.0\\t6.08\\t8.0\\t5.25\\n4.0\\t4.26\\t4.0\\t3.10\\t4.0\\t5.39\\t19.0\\t12.50\\n12.0\\t10.84\\t12.0\\t9.13\\t12.0\\t8.15\\t8.0\\t5.56\\n7.0\\t4.82\\t7.0\\t7.26\\t7.0\\t6.42\\t8.0\\t7.91\\n5.0\\t5.68\\t5.0\\t4.74\\t5.0\\t5.73\\t8.0\\t6.89\""
   ],
   "metadata": {
    "collapsed": false,
    "ExecuteTime": {
     "end_time": "2023-06-26T07:23:50.970115Z",
     "start_time": "2023-06-26T07:23:50.970115Z"
    }
   }
  },
  {
   "cell_type": "code",
   "execution_count": 54,
   "outputs": [
    {
     "data": {
      "text/plain": "[['x1', 'y1', 'x2', 'y2', 'x3', 'y3', 'x4', 'y4'],\n ['10.0', '8.04', '10.0', '9.14', '10.0', '7.46', '8.0', '6.58'],\n ['8.0', '6.95', '8.0', '8.14', '8.0', '6.77', '8.0', '5.76'],\n ['13.0', '7.58', '13.0', '8.74', '13.0', '12.74', '8.0', '7.71'],\n ['9.0', '8.81', '9.0', '8.77', '9.0', '7.11', '8.0', '8.84'],\n ['11.0', '8.33', '11.0', '9.26', '11.0', '7.81', '8.0', '8.47'],\n ['14.0', '9.96', '14.0', '8.10', '14.0', '8.84', '8.0', '7.04'],\n ['6.0', '7.24', '6.0', '6.13', '6.0', '6.08', '8.0', '5.25'],\n ['4.0', '4.26', '4.0', '3.10', '4.0', '5.39', '19.0', '12.50'],\n ['12.0', '10.84', '12.0', '9.13', '12.0', '8.15', '8.0', '5.56'],\n ['7.0', '4.82', '7.0', '7.26', '7.0', '6.42', '8.0', '7.91'],\n ['5.0', '5.68', '5.0', '4.74', '5.0', '5.73', '8.0', '6.89']]"
     },
     "execution_count": 54,
     "metadata": {},
     "output_type": "execute_result"
    }
   ],
   "source": [
    "data = [i.split(\"\\t\") for i in data.split(\"\\n\")]\n",
    "data"
   ],
   "metadata": {
    "collapsed": false,
    "ExecuteTime": {
     "end_time": "2023-06-26T07:23:51.966535Z",
     "start_time": "2023-06-26T07:23:51.958049700Z"
    }
   }
  },
  {
   "cell_type": "code",
   "execution_count": 55,
   "outputs": [],
   "source": [
    "import pandas as pd\n",
    "df = pd.DataFrame(data[1:], columns=data[0], dtype=float)  # dtype: str이 아닌 float으로 가져오기 위함"
   ],
   "metadata": {
    "collapsed": false,
    "ExecuteTime": {
     "end_time": "2023-06-26T07:23:53.218332100Z",
     "start_time": "2023-06-26T07:23:53.202442200Z"
    }
   }
  },
  {
   "cell_type": "code",
   "execution_count": 56,
   "outputs": [
    {
     "data": {
      "text/plain": "     x1    y1    x2    y2    x3     y3   x4    y4\n0  10.0  8.04  10.0  9.14  10.0   7.46  8.0  6.58\n1   8.0  6.95   8.0  8.14   8.0   6.77  8.0  5.76\n2  13.0  7.58  13.0  8.74  13.0  12.74  8.0  7.71\n3   9.0  8.81   9.0  8.77   9.0   7.11  8.0  8.84\n4  11.0  8.33  11.0  9.26  11.0   7.81  8.0  8.47",
      "text/html": "<div>\n<style scoped>\n    .dataframe tbody tr th:only-of-type {\n        vertical-align: middle;\n    }\n\n    .dataframe tbody tr th {\n        vertical-align: top;\n    }\n\n    .dataframe thead th {\n        text-align: right;\n    }\n</style>\n<table border=\"1\" class=\"dataframe\">\n  <thead>\n    <tr style=\"text-align: right;\">\n      <th></th>\n      <th>x1</th>\n      <th>y1</th>\n      <th>x2</th>\n      <th>y2</th>\n      <th>x3</th>\n      <th>y3</th>\n      <th>x4</th>\n      <th>y4</th>\n    </tr>\n  </thead>\n  <tbody>\n    <tr>\n      <th>0</th>\n      <td>10.0</td>\n      <td>8.04</td>\n      <td>10.0</td>\n      <td>9.14</td>\n      <td>10.0</td>\n      <td>7.46</td>\n      <td>8.0</td>\n      <td>6.58</td>\n    </tr>\n    <tr>\n      <th>1</th>\n      <td>8.0</td>\n      <td>6.95</td>\n      <td>8.0</td>\n      <td>8.14</td>\n      <td>8.0</td>\n      <td>6.77</td>\n      <td>8.0</td>\n      <td>5.76</td>\n    </tr>\n    <tr>\n      <th>2</th>\n      <td>13.0</td>\n      <td>7.58</td>\n      <td>13.0</td>\n      <td>8.74</td>\n      <td>13.0</td>\n      <td>12.74</td>\n      <td>8.0</td>\n      <td>7.71</td>\n    </tr>\n    <tr>\n      <th>3</th>\n      <td>9.0</td>\n      <td>8.81</td>\n      <td>9.0</td>\n      <td>8.77</td>\n      <td>9.0</td>\n      <td>7.11</td>\n      <td>8.0</td>\n      <td>8.84</td>\n    </tr>\n    <tr>\n      <th>4</th>\n      <td>11.0</td>\n      <td>8.33</td>\n      <td>11.0</td>\n      <td>9.26</td>\n      <td>11.0</td>\n      <td>7.81</td>\n      <td>8.0</td>\n      <td>8.47</td>\n    </tr>\n  </tbody>\n</table>\n</div>"
     },
     "execution_count": 56,
     "metadata": {},
     "output_type": "execute_result"
    }
   ],
   "source": [
    "df.head()"
   ],
   "metadata": {
    "collapsed": false,
    "ExecuteTime": {
     "end_time": "2023-06-26T07:23:54.322125900Z",
     "start_time": "2023-06-26T07:23:54.302510900Z"
    }
   }
  },
  {
   "cell_type": "code",
   "execution_count": 57,
   "outputs": [],
   "source": [
    "df1 = df[[\"x1\", \"y1\"]]"
   ],
   "metadata": {
    "collapsed": false,
    "ExecuteTime": {
     "end_time": "2023-06-26T07:23:55.329756800Z",
     "start_time": "2023-06-26T07:23:55.319238800Z"
    }
   }
  },
  {
   "cell_type": "code",
   "execution_count": 58,
   "outputs": [],
   "source": [
    "df2 = df[[\"x2\", \"y2\"]]"
   ],
   "metadata": {
    "collapsed": false,
    "ExecuteTime": {
     "end_time": "2023-06-26T07:23:55.817784Z",
     "start_time": "2023-06-26T07:23:55.811998400Z"
    }
   }
  },
  {
   "cell_type": "code",
   "execution_count": 59,
   "outputs": [],
   "source": [
    "df3 = df[[\"x3\", \"y3\"]]"
   ],
   "metadata": {
    "collapsed": false,
    "ExecuteTime": {
     "end_time": "2023-06-26T07:23:56.129371500Z",
     "start_time": "2023-06-26T07:23:56.120381700Z"
    }
   }
  },
  {
   "cell_type": "code",
   "execution_count": 60,
   "outputs": [],
   "source": [
    "df4 = df[[\"x4\", \"y4\"]]"
   ],
   "metadata": {
    "collapsed": false,
    "ExecuteTime": {
     "end_time": "2023-06-26T07:23:57.329794600Z",
     "start_time": "2023-06-26T07:23:57.322360Z"
    }
   }
  },
  {
   "cell_type": "code",
   "execution_count": 61,
   "outputs": [
    {
     "data": {
      "text/plain": "              x1         y1\ncount  11.000000  11.000000\nmean    9.000000   7.500909\nstd     3.316625   2.031568\nmin     4.000000   4.260000\n25%     6.500000   6.315000\n50%     9.000000   7.580000\n75%    11.500000   8.570000\nmax    14.000000  10.840000",
      "text/html": "<div>\n<style scoped>\n    .dataframe tbody tr th:only-of-type {\n        vertical-align: middle;\n    }\n\n    .dataframe tbody tr th {\n        vertical-align: top;\n    }\n\n    .dataframe thead th {\n        text-align: right;\n    }\n</style>\n<table border=\"1\" class=\"dataframe\">\n  <thead>\n    <tr style=\"text-align: right;\">\n      <th></th>\n      <th>x1</th>\n      <th>y1</th>\n    </tr>\n  </thead>\n  <tbody>\n    <tr>\n      <th>count</th>\n      <td>11.000000</td>\n      <td>11.000000</td>\n    </tr>\n    <tr>\n      <th>mean</th>\n      <td>9.000000</td>\n      <td>7.500909</td>\n    </tr>\n    <tr>\n      <th>std</th>\n      <td>3.316625</td>\n      <td>2.031568</td>\n    </tr>\n    <tr>\n      <th>min</th>\n      <td>4.000000</td>\n      <td>4.260000</td>\n    </tr>\n    <tr>\n      <th>25%</th>\n      <td>6.500000</td>\n      <td>6.315000</td>\n    </tr>\n    <tr>\n      <th>50%</th>\n      <td>9.000000</td>\n      <td>7.580000</td>\n    </tr>\n    <tr>\n      <th>75%</th>\n      <td>11.500000</td>\n      <td>8.570000</td>\n    </tr>\n    <tr>\n      <th>max</th>\n      <td>14.000000</td>\n      <td>10.840000</td>\n    </tr>\n  </tbody>\n</table>\n</div>"
     },
     "execution_count": 61,
     "metadata": {},
     "output_type": "execute_result"
    }
   ],
   "source": [
    "# 기술통계값 확인\n",
    "df1.describe()"
   ],
   "metadata": {
    "collapsed": false,
    "ExecuteTime": {
     "end_time": "2023-06-26T07:23:58.721734500Z",
     "start_time": "2023-06-26T07:23:58.711840900Z"
    }
   }
  },
  {
   "cell_type": "code",
   "execution_count": 62,
   "outputs": [
    {
     "data": {
      "text/plain": "              x2         y2\ncount  11.000000  11.000000\nmean    9.000000   7.500909\nstd     3.316625   2.031657\nmin     4.000000   3.100000\n25%     6.500000   6.695000\n50%     9.000000   8.140000\n75%    11.500000   8.950000\nmax    14.000000   9.260000",
      "text/html": "<div>\n<style scoped>\n    .dataframe tbody tr th:only-of-type {\n        vertical-align: middle;\n    }\n\n    .dataframe tbody tr th {\n        vertical-align: top;\n    }\n\n    .dataframe thead th {\n        text-align: right;\n    }\n</style>\n<table border=\"1\" class=\"dataframe\">\n  <thead>\n    <tr style=\"text-align: right;\">\n      <th></th>\n      <th>x2</th>\n      <th>y2</th>\n    </tr>\n  </thead>\n  <tbody>\n    <tr>\n      <th>count</th>\n      <td>11.000000</td>\n      <td>11.000000</td>\n    </tr>\n    <tr>\n      <th>mean</th>\n      <td>9.000000</td>\n      <td>7.500909</td>\n    </tr>\n    <tr>\n      <th>std</th>\n      <td>3.316625</td>\n      <td>2.031657</td>\n    </tr>\n    <tr>\n      <th>min</th>\n      <td>4.000000</td>\n      <td>3.100000</td>\n    </tr>\n    <tr>\n      <th>25%</th>\n      <td>6.500000</td>\n      <td>6.695000</td>\n    </tr>\n    <tr>\n      <th>50%</th>\n      <td>9.000000</td>\n      <td>8.140000</td>\n    </tr>\n    <tr>\n      <th>75%</th>\n      <td>11.500000</td>\n      <td>8.950000</td>\n    </tr>\n    <tr>\n      <th>max</th>\n      <td>14.000000</td>\n      <td>9.260000</td>\n    </tr>\n  </tbody>\n</table>\n</div>"
     },
     "execution_count": 62,
     "metadata": {},
     "output_type": "execute_result"
    }
   ],
   "source": [
    "df2.describe()"
   ],
   "metadata": {
    "collapsed": false,
    "ExecuteTime": {
     "end_time": "2023-06-26T07:24:04.264724300Z",
     "start_time": "2023-06-26T07:24:04.244937500Z"
    }
   }
  },
  {
   "cell_type": "code",
   "execution_count": 63,
   "outputs": [
    {
     "data": {
      "text/plain": "              x3         y3\ncount  11.000000  11.000000\nmean    9.000000   7.500000\nstd     3.316625   2.030424\nmin     4.000000   5.390000\n25%     6.500000   6.250000\n50%     9.000000   7.110000\n75%    11.500000   7.980000\nmax    14.000000  12.740000",
      "text/html": "<div>\n<style scoped>\n    .dataframe tbody tr th:only-of-type {\n        vertical-align: middle;\n    }\n\n    .dataframe tbody tr th {\n        vertical-align: top;\n    }\n\n    .dataframe thead th {\n        text-align: right;\n    }\n</style>\n<table border=\"1\" class=\"dataframe\">\n  <thead>\n    <tr style=\"text-align: right;\">\n      <th></th>\n      <th>x3</th>\n      <th>y3</th>\n    </tr>\n  </thead>\n  <tbody>\n    <tr>\n      <th>count</th>\n      <td>11.000000</td>\n      <td>11.000000</td>\n    </tr>\n    <tr>\n      <th>mean</th>\n      <td>9.000000</td>\n      <td>7.500000</td>\n    </tr>\n    <tr>\n      <th>std</th>\n      <td>3.316625</td>\n      <td>2.030424</td>\n    </tr>\n    <tr>\n      <th>min</th>\n      <td>4.000000</td>\n      <td>5.390000</td>\n    </tr>\n    <tr>\n      <th>25%</th>\n      <td>6.500000</td>\n      <td>6.250000</td>\n    </tr>\n    <tr>\n      <th>50%</th>\n      <td>9.000000</td>\n      <td>7.110000</td>\n    </tr>\n    <tr>\n      <th>75%</th>\n      <td>11.500000</td>\n      <td>7.980000</td>\n    </tr>\n    <tr>\n      <th>max</th>\n      <td>14.000000</td>\n      <td>12.740000</td>\n    </tr>\n  </tbody>\n</table>\n</div>"
     },
     "execution_count": 63,
     "metadata": {},
     "output_type": "execute_result"
    }
   ],
   "source": [
    "df3.describe()"
   ],
   "metadata": {
    "collapsed": false,
    "ExecuteTime": {
     "end_time": "2023-06-26T07:24:04.793427900Z",
     "start_time": "2023-06-26T07:24:04.769869Z"
    }
   }
  },
  {
   "cell_type": "code",
   "execution_count": 64,
   "outputs": [
    {
     "data": {
      "text/plain": "              x4         y4\ncount  11.000000  11.000000\nmean    9.000000   7.500909\nstd     3.316625   2.030579\nmin     8.000000   5.250000\n25%     8.000000   6.170000\n50%     8.000000   7.040000\n75%     8.000000   8.190000\nmax    19.000000  12.500000",
      "text/html": "<div>\n<style scoped>\n    .dataframe tbody tr th:only-of-type {\n        vertical-align: middle;\n    }\n\n    .dataframe tbody tr th {\n        vertical-align: top;\n    }\n\n    .dataframe thead th {\n        text-align: right;\n    }\n</style>\n<table border=\"1\" class=\"dataframe\">\n  <thead>\n    <tr style=\"text-align: right;\">\n      <th></th>\n      <th>x4</th>\n      <th>y4</th>\n    </tr>\n  </thead>\n  <tbody>\n    <tr>\n      <th>count</th>\n      <td>11.000000</td>\n      <td>11.000000</td>\n    </tr>\n    <tr>\n      <th>mean</th>\n      <td>9.000000</td>\n      <td>7.500909</td>\n    </tr>\n    <tr>\n      <th>std</th>\n      <td>3.316625</td>\n      <td>2.030579</td>\n    </tr>\n    <tr>\n      <th>min</th>\n      <td>8.000000</td>\n      <td>5.250000</td>\n    </tr>\n    <tr>\n      <th>25%</th>\n      <td>8.000000</td>\n      <td>6.170000</td>\n    </tr>\n    <tr>\n      <th>50%</th>\n      <td>8.000000</td>\n      <td>7.040000</td>\n    </tr>\n    <tr>\n      <th>75%</th>\n      <td>8.000000</td>\n      <td>8.190000</td>\n    </tr>\n    <tr>\n      <th>max</th>\n      <td>19.000000</td>\n      <td>12.500000</td>\n    </tr>\n  </tbody>\n</table>\n</div>"
     },
     "execution_count": 64,
     "metadata": {},
     "output_type": "execute_result"
    }
   ],
   "source": [
    "df4.describe()"
   ],
   "metadata": {
    "collapsed": false,
    "ExecuteTime": {
     "end_time": "2023-06-26T07:24:05.288243800Z",
     "start_time": "2023-06-26T07:24:05.267022800Z"
    }
   }
  },
  {
   "cell_type": "markdown",
   "source": [
    "기술통계치 확인결과 네 개의 데이터셋의 count, mean, std 등이 모두 동일합니다.\n",
    "\n",
    "그럼에도 불구하고 네 개의 데이터셋이 유사하다고 볼 수 없는 이유는\n",
    "\n",
    "결국 시각화를 통해 확인해볼 수 있습니다."
   ],
   "metadata": {
    "collapsed": false
   }
  },
  {
   "cell_type": "code",
   "execution_count": 65,
   "outputs": [
    {
     "data": {
      "text/plain": "<Axes: xlabel='x1', ylabel='y1'>"
     },
     "execution_count": 65,
     "metadata": {},
     "output_type": "execute_result"
    },
    {
     "data": {
      "text/plain": "<Figure size 640x480 with 1 Axes>",
      "image/png": "[encoded data removed]"
     },
     "metadata": {},
     "output_type": "display_data"
    }
   ],
   "source": [
    "df1.plot.scatter(x=\"x1\", y=\"y1\")"
   ],
   "metadata": {
    "collapsed": false,
    "ExecuteTime": {
     "end_time": "2023-06-26T07:24:36.768028700Z",
     "start_time": "2023-06-26T07:24:36.616336200Z"
    }
   }
  },
  {
   "cell_type": "code",
   "execution_count": 66,
   "outputs": [
    {
     "data": {
      "text/plain": "<Axes: xlabel='x2', ylabel='y2'>"
     },
     "execution_count": 66,
     "metadata": {},
     "output_type": "execute_result"
    },
    {
     "data": {
      "text/plain": "<Figure size 640x480 with 1 Axes>",
      "image/png": "[encoded data removed]"
     },
     "metadata": {},
     "output_type": "display_data"
    }
   ],
   "source": [
    "df2.plot.scatter(x=\"x2\", y=\"y2\")"
   ],
   "metadata": {
    "collapsed": false,
    "ExecuteTime": {
     "end_time": "2023-06-26T07:24:37.709379300Z",
     "start_time": "2023-06-26T07:24:37.560103100Z"
    }
   }
  },
  {
   "cell_type": "code",
   "execution_count": 67,
   "outputs": [
    {
     "data": {
      "text/plain": "<Axes: xlabel='x3', ylabel='y3'>"
     },
     "execution_count": 67,
     "metadata": {},
     "output_type": "execute_result"
    },
    {
     "data": {
      "text/plain": "<Figure size 640x480 with 1 Axes>",
      "image/png": "[encoded data removed]"
     },
     "metadata": {},
     "output_type": "display_data"
    }
   ],
   "source": [
    "df3.plot.scatter(x=\"x3\", y=\"y3\")"
   ],
   "metadata": {
    "collapsed": false,
    "ExecuteTime": {
     "end_time": "2023-06-26T07:24:38.695438Z",
     "start_time": "2023-06-26T07:24:38.550106300Z"
    }
   }
  },
  {
   "cell_type": "code",
   "execution_count": 68,
   "outputs": [
    {
     "data": {
      "text/plain": "<Axes: xlabel='x4', ylabel='y4'>"
     },
     "execution_count": 68,
     "metadata": {},
     "output_type": "execute_result"
    },
    {
     "data": {
      "text/plain": "<Figure size 640x480 with 1 Axes>",
      "image/png": "[encoded data removed]"
     },
     "metadata": {},
     "output_type": "display_data"
    }
   ],
   "source": [
    "df4.plot.scatter(x=\"x4\", y=\"y4\")"
   ],
   "metadata": {
    "collapsed": false,
    "ExecuteTime": {
     "end_time": "2023-06-26T07:24:39.703539100Z",
     "start_time": "2023-06-26T07:24:39.550652400Z"
    }
   }
  },
  {
   "cell_type": "markdown",
   "source": [
    "이처럼 평균, 표준편차, 분산 등이 같은 데이터 집합이라고 하더라도\n",
    "\n",
    "실제로 데이터 분포를 차트를 통해 확인해보면 판이하게 다른 패턴을 갖고 있는 경우가 있습니다.\n",
    "\n",
    "앤스콤의 4중주가 대변해 주는 또 다른 주제는 바로\n",
    "\n",
    "### 이상치, 즉 특이값이 데이터에 미치는 영향\n",
    "\n",
    "입니다.\n",
    "\n",
    "데이터셋 3번과 4번은 단 한 개의 포인트가 전체적인 양상에 적잖은 영향을 미치고 있습니다.\n",
    "\n",
    "데이터 분석시 이 두 가지 사실을 꼭 유념해야 하겠습니다. 끝.\n",
    "\n"
   ],
   "metadata": {
    "collapsed": false
   }
  }
 ],
 "metadata": {
  "kernelspec": {
   "display_name": "Python 3",
   "language": "python",
   "name": "python3"
  },
  "language_info": {
   "codemirror_mode": {
    "name": "ipython",
    "version": 2
   },
   "file_extension": ".py",
   "mimetype": "text/x-python",
   "name": "python",
   "nbconvert_exporter": "python",
   "pygments_lexer": "ipython2",
   "version": "2.7.6"
  }
 },
 "nbformat": 4,
 "nbformat_minor": 0
}
