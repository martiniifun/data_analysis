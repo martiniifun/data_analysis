{
 "cells": [
  {
   "cell_type": "code",
   "execution_count": null,
   "outputs": [],
   "source": [],
   "metadata": {
    "collapsed": false,
    "ExecuteTime": {
     "end_time": "2023-07-03T00:31:18.477294100Z",
     "start_time": "2023-07-03T00:31:18.457127600Z"
    }
   }
  },
  {
   "cell_type": "code",
   "execution_count": null,
   "outputs": [],
   "source": [],
   "metadata": {
    "collapsed": false,
    "ExecuteTime": {
     "end_time": "2023-07-03T00:31:19.322890400Z",
     "start_time": "2023-07-03T00:31:19.322385Z"
    }
   }
  },
  {
   "cell_type": "code",
   "execution_count": null,
   "outputs": [],
   "source": [],
   "metadata": {
    "collapsed": false,
    "ExecuteTime": {
     "end_time": "2023-07-03T00:31:19.554860200Z",
     "start_time": "2023-07-03T00:31:19.538595900Z"
    }
   }
  },
  {
   "cell_type": "code",
   "execution_count": null,
   "outputs": [],
   "source": [],
   "metadata": {
    "collapsed": false,
    "ExecuteTime": {
     "end_time": "2023-07-03T00:31:19.915654600Z",
     "start_time": "2023-07-03T00:31:19.915148900Z"
    }
   }
  },
  {
   "cell_type": "code",
   "execution_count": null,
   "outputs": [],
   "source": [],
   "metadata": {
    "collapsed": false,
    "ExecuteTime": {
     "end_time": "2023-07-03T00:31:20.170415200Z",
     "start_time": "2023-07-03T00:31:20.166896100Z"
    }
   }
  },
  {
   "cell_type": "code",
   "execution_count": 1,
   "metadata": {
    "collapsed": true,
    "ExecuteTime": {
     "end_time": "2023-07-03T00:31:20.575441600Z",
     "start_time": "2023-07-03T00:31:20.516149200Z"
    }
   },
   "outputs": [],
   "source": [
    "import turtle"
   ]
  },
  {
   "cell_type": "code",
   "execution_count": 2,
   "outputs": [],
   "source": [
    "t = turtle.Turtle()"
   ],
   "metadata": {
    "collapsed": false,
    "ExecuteTime": {
     "end_time": "2023-07-03T00:31:23.246285200Z",
     "start_time": "2023-07-03T00:31:23.087497200Z"
    }
   }
  },
  {
   "cell_type": "code",
   "execution_count": 3,
   "outputs": [],
   "source": [
    "s = turtle.Screen()"
   ],
   "metadata": {
    "collapsed": false,
    "ExecuteTime": {
     "end_time": "2023-07-03T00:31:23.386931700Z",
     "start_time": "2023-07-03T00:31:23.376049300Z"
    }
   }
  },
  {
   "cell_type": "code",
   "execution_count": 4,
   "outputs": [],
   "source": [
    "s.setup(1024/2, 700)"
   ],
   "metadata": {
    "collapsed": false,
    "ExecuteTime": {
     "end_time": "2023-07-03T00:16:55.745914200Z",
     "start_time": "2023-07-03T00:16:55.705333600Z"
    }
   }
  },
  {
   "cell_type": "code",
   "execution_count": 5,
   "outputs": [],
   "source": [
    "t.shape(\"turtle\")"
   ],
   "metadata": {
    "collapsed": false,
    "ExecuteTime": {
     "end_time": "2023-07-03T00:16:55.745914200Z",
     "start_time": "2023-07-03T00:16:55.705333600Z"
    }
   }
  },
  {
   "cell_type": "code",
   "execution_count": 6,
   "outputs": [],
   "source": [
    "t.forward(50)"
   ],
   "metadata": {
    "collapsed": false,
    "ExecuteTime": {
     "end_time": "2023-06-30T00:16:36.904752600Z",
     "start_time": "2023-06-30T00:16:36.824392600Z"
    }
   }
  },
  {
   "cell_type": "code",
   "execution_count": 11,
   "outputs": [],
   "source": [
    "t.left(90)"
   ],
   "metadata": {
    "collapsed": false,
    "ExecuteTime": {
     "end_time": "2023-06-30T00:18:26.971805300Z",
     "start_time": "2023-06-30T00:18:26.779184100Z"
    }
   }
  },
  {
   "cell_type": "code",
   "execution_count": 12,
   "outputs": [],
   "source": [
    "t.forward(50)"
   ],
   "metadata": {
    "collapsed": false,
    "ExecuteTime": {
     "end_time": "2023-06-30T00:18:27.187702300Z",
     "start_time": "2023-06-30T00:18:27.102633Z"
    }
   }
  },
  {
   "cell_type": "code",
   "execution_count": 13,
   "outputs": [],
   "source": [
    "t.clear()"
   ],
   "metadata": {
    "collapsed": false,
    "ExecuteTime": {
     "end_time": "2023-06-30T00:18:50.236463300Z",
     "start_time": "2023-06-30T00:18:50.187278100Z"
    }
   }
  },
  {
   "cell_type": "code",
   "execution_count": 16,
   "outputs": [],
   "source": [
    "for _ in range(10):  # 4번 반복\n",
    "    t.forward(100)\n",
    "    t.left(60)"
   ],
   "metadata": {
    "collapsed": false,
    "ExecuteTime": {
     "end_time": "2023-06-30T00:25:44.726391300Z",
     "start_time": "2023-06-30T00:25:41.958808100Z"
    }
   }
  },
  {
   "cell_type": "code",
   "execution_count": 21,
   "outputs": [],
   "source": [
    "t.clear()"
   ],
   "metadata": {
    "collapsed": false,
    "ExecuteTime": {
     "end_time": "2023-06-30T00:27:10.834974400Z",
     "start_time": "2023-06-30T00:27:10.801860700Z"
    }
   }
  },
  {
   "cell_type": "code",
   "execution_count": 18,
   "outputs": [],
   "source": [
    "t.circle(50)"
   ],
   "metadata": {
    "collapsed": false,
    "ExecuteTime": {
     "end_time": "2023-06-30T00:26:50.515471400Z",
     "start_time": "2023-06-30T00:26:48.707280300Z"
    }
   }
  },
  {
   "cell_type": "code",
   "execution_count": 20,
   "outputs": [],
   "source": [
    "t.home()"
   ],
   "metadata": {
    "collapsed": false,
    "ExecuteTime": {
     "end_time": "2023-06-30T00:27:08.933106400Z",
     "start_time": "2023-06-30T00:27:08.382374200Z"
    }
   }
  },
  {
   "cell_type": "code",
   "execution_count": 22,
   "outputs": [
    {
     "data": {
      "text/plain": "(0.00,0.00)"
     },
     "execution_count": 22,
     "metadata": {},
     "output_type": "execute_result"
    }
   ],
   "source": [
    "t.pos()"
   ],
   "metadata": {
    "collapsed": false,
    "ExecuteTime": {
     "end_time": "2023-06-30T00:29:39.783817300Z",
     "start_time": "2023-06-30T00:29:39.783817300Z"
    }
   }
  },
  {
   "cell_type": "code",
   "execution_count": 25,
   "outputs": [],
   "source": [
    "# 10씩 앞으로 이동하면서\n",
    "# 5도씩 꺾으면서\n",
    "# n 각형이 될 것.\n",
    "# 반복은 while문으로!\n",
    "\n",
    "while True:\n",
    "    t.forward(10)\n",
    "    t.left(5)\n",
    "    x = round(t.pos()[0])\n",
    "    y = round(t.pos()[1])\n",
    "    if (x, y) == (0,0):\n",
    "        break"
   ],
   "metadata": {
    "collapsed": false,
    "ExecuteTime": {
     "end_time": "2023-06-30T00:37:32.128252300Z",
     "start_time": "2023-06-30T00:37:28.578391900Z"
    }
   }
  },
  {
   "cell_type": "code",
   "execution_count": 26,
   "outputs": [],
   "source": [
    "t.reset()"
   ],
   "metadata": {
    "collapsed": false,
    "ExecuteTime": {
     "end_time": "2023-06-30T00:41:12.902883500Z",
     "start_time": "2023-06-30T00:41:12.853944800Z"
    }
   }
  },
  {
   "cell_type": "code",
   "execution_count": 50,
   "outputs": [],
   "source": [
    "for i in range(10):\n",
    "    t.forward(5)\n",
    "    t.penup()\n",
    "    t.forward(5)\n",
    "    t.pendown()"
   ],
   "metadata": {
    "collapsed": false,
    "ExecuteTime": {
     "end_time": "2023-06-30T00:45:11.309044200Z",
     "start_time": "2023-06-30T00:45:10.611464900Z"
    }
   }
  },
  {
   "cell_type": "code",
   "execution_count": 49,
   "outputs": [],
   "source": [
    "t.home()\n",
    "t.clear()"
   ],
   "metadata": {
    "collapsed": false,
    "ExecuteTime": {
     "end_time": "2023-06-30T00:45:09.309886300Z",
     "start_time": "2023-06-30T00:45:09.185931400Z"
    }
   }
  },
  {
   "cell_type": "code",
   "execution_count": 51,
   "outputs": [],
   "source": [
    "# 위 코드를 사용하여\n",
    "# 점선으로\n",
    "# 네모를 그려보세요."
   ],
   "metadata": {
    "collapsed": false,
    "ExecuteTime": {
     "end_time": "2023-06-30T00:45:43.885573500Z",
     "start_time": "2023-06-30T00:45:43.869951600Z"
    }
   }
  },
  {
   "cell_type": "code",
   "execution_count": 52,
   "outputs": [],
   "source": [
    "t.home()\n",
    "t.clear()\n",
    "for _ in range(4):\n",
    "    점선그리기(100)\n",
    "    t.left(90)"
   ],
   "metadata": {
    "collapsed": false,
    "ExecuteTime": {
     "end_time": "2023-06-30T00:50:49.527032900Z",
     "start_time": "2023-06-30T00:50:45.716572600Z"
    }
   }
  },
  {
   "cell_type": "code",
   "execution_count": 53,
   "outputs": [],
   "source": [
    "t.clear()"
   ],
   "metadata": {
    "collapsed": false,
    "ExecuteTime": {
     "end_time": "2023-06-30T01:03:38.501095700Z",
     "start_time": "2023-06-30T01:03:38.478600600Z"
    }
   }
  },
  {
   "cell_type": "code",
   "execution_count": null,
   "outputs": [],
   "source": [
    "# 변의 길이가 각각 10, 20, 30, 40, 50인 네모"
   ],
   "metadata": {
    "collapsed": false
   }
  },
  {
   "cell_type": "code",
   "execution_count": 54,
   "outputs": [],
   "source": [
    "# 변의 길이가 x인 네모를 그리는 함수\n",
    "def 네모그리기(x):\n",
    "    for _ in range(4):\n",
    "        t.forward(x)\n",
    "        t.left(90)"
   ],
   "metadata": {
    "collapsed": false,
    "ExecuteTime": {
     "end_time": "2023-06-30T01:12:44.555706900Z",
     "start_time": "2023-06-30T01:12:44.544734500Z"
    }
   }
  },
  {
   "cell_type": "code",
   "execution_count": 58,
   "outputs": [],
   "source": [
    "def 점선그리기(x):\n",
    "    for i in range(int(x / 10)):\n",
    "        t.forward(5)\n",
    "        t.penup()\n",
    "        t.forward(5)\n",
    "        t.pendown()"
   ],
   "metadata": {
    "collapsed": false,
    "ExecuteTime": {
     "end_time": "2023-06-30T01:15:57.444416300Z",
     "start_time": "2023-06-30T01:15:57.435271200Z"
    }
   }
  },
  {
   "cell_type": "code",
   "execution_count": 59,
   "outputs": [],
   "source": [
    "def 점선네모그리기(x):\n",
    "    for _ in range(4):\n",
    "        점선그리기(x)\n",
    "        t.left(90)"
   ],
   "metadata": {
    "collapsed": false,
    "ExecuteTime": {
     "end_time": "2023-06-30T01:15:57.822338500Z",
     "start_time": "2023-06-30T01:15:57.803643900Z"
    }
   }
  },
  {
   "cell_type": "code",
   "execution_count": 61,
   "outputs": [],
   "source": [
    "for i in [100, 200, 300, 400, 500]:\n",
    "    점선네모그리기(i)"
   ],
   "metadata": {
    "collapsed": false,
    "ExecuteTime": {
     "end_time": "2023-06-30T01:18:06.934119600Z",
     "start_time": "2023-06-30T01:17:12.087041100Z"
    }
   }
  },
  {
   "cell_type": "code",
   "execution_count": 62,
   "outputs": [],
   "source": [
    "# 함수 정의 없이\n",
    "# 3중 for문으로\n",
    "# 점선 네모 다섯 개를 그릴 수 있을까?"
   ],
   "metadata": {
    "collapsed": false,
    "ExecuteTime": {
     "end_time": "2023-06-30T01:20:17.808755200Z",
     "start_time": "2023-06-30T01:20:17.795789300Z"
    }
   }
  },
  {
   "cell_type": "code",
   "execution_count": 63,
   "outputs": [],
   "source": [
    "for 한변길이 in [100, 200, 300, 400, 500]:\n",
    "    for _ in range(4):\n",
    "        for i in range(int(한변길이 / 10)):\n",
    "            t.fw(5)\n",
    "            t.penup()\n",
    "            t.fw(5)\n",
    "            t.pendown()\n",
    "        t.left(90)"
   ],
   "metadata": {
    "collapsed": false,
    "ExecuteTime": {
     "end_time": "2023-06-30T01:30:24.534964400Z",
     "start_time": "2023-06-30T01:29:31.764678600Z"
    }
   }
  },
  {
   "cell_type": "code",
   "execution_count": 64,
   "outputs": [],
   "source": [
    "turtle.bye()"
   ],
   "metadata": {
    "collapsed": false,
    "ExecuteTime": {
     "end_time": "2023-06-30T01:31:49.404299700Z",
     "start_time": "2023-06-30T01:31:49.389336700Z"
    }
   }
  },
  {
   "cell_type": "code",
   "execution_count": null,
   "outputs": [],
   "source": [],
   "metadata": {
    "collapsed": false
   }
  }
 ],
 "metadata": {
  "kernelspec": {
   "display_name": "Python 3",
   "language": "python",
   "name": "python3"
  },
  "language_info": {
   "codemirror_mode": {
    "name": "ipython",
    "version": 2
   },
   "file_extension": ".py",
   "mimetype": "text/x-python",
   "name": "python",
   "nbconvert_exporter": "python",
   "pygments_lexer": "ipython2",
   "version": "2.7.6"
  }
 },
 "nbformat": 4,
 "nbformat_minor": 0
}
