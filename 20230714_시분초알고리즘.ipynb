{
 "cells": [
  {
   "cell_type": "markdown",
   "source": [
    "# datetime 또는 time 모듈을 쓰지 않고,\n",
    "\n",
    "# \"00:00:00\"(시:분:초)에서 특정 초(예:10000초) 후의 시분초를\n",
    "\n",
    "# HH:MM:SS 형식으로 나타내는 함수를 작성해주세요.\n",
    "\n",
    "# 예)\n",
    "\n",
    "# input : 02:30:43 초일 때 6543초 뒤의 시간은 ??:??:??\n",
    "\n",
    "# 단, HH는 24를 넘을 수 없음. (일 단위 생략)\n"
   ],
   "metadata": {
    "collapsed": false
   }
  },
  {
   "cell_type": "code",
   "execution_count": 24,
   "outputs": [
    {
     "data": {
      "text/plain": "'11:59:02'"
     },
     "execution_count": 24,
     "metadata": {},
     "output_type": "execute_result"
    }
   ],
   "source": [
    "def hmd_plus(hhmmdd, sec):\n",
    "    시, 분, 초 = [int(i) for i in hhmmdd.split(\":\")]\n",
    "    초 += sec\n",
    "    분 += 초 // 60\n",
    "    초 = 초 % 60\n",
    "    시 += 분 // 60\n",
    "    분 = 분 % 60\n",
    "    시 = 시 % 24\n",
    "    return f\"{시:02}:{분:02}:{초:02}\"\n",
    "\n",
    "\n",
    "hmd_plus(\"10:35:42\", 5000)"
   ],
   "metadata": {
    "collapsed": false,
    "ExecuteTime": {
     "end_time": "2023-07-14T01:07:08.743876100Z",
     "start_time": "2023-07-14T01:07:08.743368700Z"
    }
   }
  },
  {
   "cell_type": "code",
   "execution_count": 1,
   "outputs": [
    {
     "name": "stdout",
     "output_type": "stream",
     "text": [
      "10 10 10\n"
     ]
    }
   ],
   "source": [
    "# 시분초 문자열을 정수 시, 분, 초로 쪼개는 방법\n",
    "hhmmdd = \"10:10:10\"\n",
    "hh, mm, dd = hhmmdd.split(\":\")\n",
    "hh = int(hh)\n",
    "mm = int(mm)\n",
    "dd = int(dd)\n",
    "print(hh, mm, dd)"
   ],
   "metadata": {
    "collapsed": false,
    "ExecuteTime": {
     "end_time": "2023-07-14T00:34:41.014191100Z",
     "start_time": "2023-07-14T00:34:41.002886200Z"
    }
   }
  },
  {
   "cell_type": "code",
   "execution_count": 7,
   "outputs": [],
   "source": [
    "sec = 5000"
   ],
   "metadata": {
    "collapsed": false,
    "ExecuteTime": {
     "end_time": "2023-07-14T00:38:15.754225900Z",
     "start_time": "2023-07-14T00:38:15.754225900Z"
    }
   }
  },
  {
   "cell_type": "code",
   "execution_count": 8,
   "outputs": [
    {
     "data": {
      "text/plain": "83"
     },
     "execution_count": 8,
     "metadata": {},
     "output_type": "execute_result"
    }
   ],
   "source": [
    "min_plus = sec // 60\n",
    "min_plus"
   ],
   "metadata": {
    "collapsed": false,
    "ExecuteTime": {
     "end_time": "2023-07-14T00:38:25.507785300Z",
     "start_time": "2023-07-14T00:38:25.507785300Z"
    }
   }
  },
  {
   "cell_type": "code",
   "execution_count": 9,
   "outputs": [
    {
     "data": {
      "text/plain": "20"
     },
     "execution_count": 9,
     "metadata": {},
     "output_type": "execute_result"
    }
   ],
   "source": [
    "sec_plus = sec % 60\n",
    "sec_plus"
   ],
   "metadata": {
    "collapsed": false,
    "ExecuteTime": {
     "end_time": "2023-07-14T00:38:32.740817500Z",
     "start_time": "2023-07-14T00:38:32.734208900Z"
    }
   }
  },
  {
   "cell_type": "code",
   "execution_count": 10,
   "outputs": [
    {
     "data": {
      "text/plain": "1"
     },
     "execution_count": 10,
     "metadata": {},
     "output_type": "execute_result"
    }
   ],
   "source": [
    "hour_plus = min_plus // 60\n",
    "hour_plus"
   ],
   "metadata": {
    "collapsed": false,
    "ExecuteTime": {
     "end_time": "2023-07-14T00:38:41.853005200Z",
     "start_time": "2023-07-14T00:38:41.838109300Z"
    }
   }
  },
  {
   "cell_type": "code",
   "execution_count": 11,
   "outputs": [
    {
     "data": {
      "text/plain": "23"
     },
     "execution_count": 11,
     "metadata": {},
     "output_type": "execute_result"
    }
   ],
   "source": [
    "min_plus = min_plus % 60\n",
    "min_plus"
   ],
   "metadata": {
    "collapsed": false,
    "ExecuteTime": {
     "end_time": "2023-07-14T00:38:45.428991600Z",
     "start_time": "2023-07-14T00:38:45.414442300Z"
    }
   }
  },
  {
   "cell_type": "code",
   "execution_count": 12,
   "outputs": [],
   "source": [
    "sec = \"5000\"\n",
    "result = \"1:23:20\""
   ],
   "metadata": {
    "collapsed": false,
    "ExecuteTime": {
     "end_time": "2023-07-14T00:39:40.730553400Z",
     "start_time": "2023-07-14T00:39:40.714896Z"
    }
   }
  },
  {
   "cell_type": "markdown",
   "source": [
    "# 두 번째 퀴즈\n",
    "\n",
    "# 엑셀의 n번째 열의 이름을 리턴하는 함수를 작성해주세요."
   ],
   "metadata": {
    "collapsed": false
   }
  },
  {
   "cell_type": "code",
   "execution_count": 25,
   "outputs": [],
   "source": [
    "def solution(n):\n",
    "    answer = chr(64 + n)\n",
    "    return answer"
   ],
   "metadata": {
    "collapsed": false,
    "ExecuteTime": {
     "end_time": "2023-07-14T01:14:43.974609200Z",
     "start_time": "2023-07-14T01:14:43.974609200Z"
    }
   }
  },
  {
   "cell_type": "markdown",
   "source": [
    "solution(26) -> \"Z\"\n",
    "solution(27) -> \"AA\"\n",
    "solution(28) -> \"AB\"\n",
    "solution(28) -> \"AB\"\n",
    "\n",
    "\n",
    "chr(65) == \"A\""
   ],
   "metadata": {
    "collapsed": false
   }
  },
  {
   "cell_type": "code",
   "execution_count": 28,
   "outputs": [
    {
     "data": {
      "text/plain": "65"
     },
     "execution_count": 28,
     "metadata": {},
     "output_type": "execute_result"
    }
   ],
   "source": [
    "ord(\"A\")"
   ],
   "metadata": {
    "collapsed": false,
    "ExecuteTime": {
     "end_time": "2023-07-14T01:16:07.791299400Z",
     "start_time": "2023-07-14T01:16:07.790787Z"
    }
   }
  },
  {
   "cell_type": "code",
   "execution_count": 29,
   "outputs": [
    {
     "data": {
      "text/plain": "66"
     },
     "execution_count": 29,
     "metadata": {},
     "output_type": "execute_result"
    }
   ],
   "source": [
    "ord(\"B\")"
   ],
   "metadata": {
    "collapsed": false,
    "ExecuteTime": {
     "end_time": "2023-07-14T01:16:12.741836600Z",
     "start_time": "2023-07-14T01:16:12.741836600Z"
    }
   }
  },
  {
   "cell_type": "code",
   "execution_count": 30,
   "outputs": [
    {
     "data": {
      "text/plain": "'A'"
     },
     "execution_count": 30,
     "metadata": {},
     "output_type": "execute_result"
    }
   ],
   "source": [
    "chr(65)"
   ],
   "metadata": {
    "collapsed": false,
    "ExecuteTime": {
     "end_time": "2023-07-14T01:16:19.598580300Z",
     "start_time": "2023-07-14T01:16:19.598580300Z"
    }
   }
  },
  {
   "cell_type": "markdown",
   "source": [
    "26 -> Z\n",
    "27 = 27 + 0 -> \"A\" + \"A\"\n",
    "28 = 27 + 1 -> \"A\" + \"B\"\n",
    "29 = 27 + 2 -> \"A\" + \"C\"\n",
    ".\n",
    ".\n",
    ".\n",
    "51 = 27 + 24 = 27 + 27 - 3\n",
    "\n",
    "27~702 : 2자리"
   ],
   "metadata": {
    "collapsed": false
   }
  },
  {
   "cell_type": "code",
   "execution_count": 34,
   "outputs": [
    {
     "data": {
      "text/plain": "24"
     },
     "execution_count": 34,
     "metadata": {},
     "output_type": "execute_result"
    }
   ],
   "source": [
    "51 - 27"
   ],
   "metadata": {
    "collapsed": false,
    "ExecuteTime": {
     "end_time": "2023-07-14T01:41:12.535295700Z",
     "start_time": "2023-07-14T01:41:12.518096Z"
    }
   }
  },
  {
   "cell_type": "code",
   "execution_count": 74,
   "outputs": [],
   "source": [
    "def solution(n):\n",
    "    return \\\n",
    "    [f\"{chr(i - 1)}{chr(j)}\" if i != 65 else f\"{chr(j)}\" for i in range(65, 65 + 26) for j in range(65, 65 + 26)][n - 1]"
   ],
   "metadata": {
    "collapsed": false,
    "ExecuteTime": {
     "end_time": "2023-07-14T01:57:56.716084800Z",
     "start_time": "2023-07-14T01:57:56.716084800Z"
    }
   }
  },
  {
   "cell_type": "code",
   "execution_count": 83,
   "outputs": [
    {
     "data": {
      "text/plain": "'AA'"
     },
     "execution_count": 83,
     "metadata": {},
     "output_type": "execute_result"
    }
   ],
   "source": [
    "solution(27)"
   ],
   "metadata": {
    "collapsed": false,
    "ExecuteTime": {
     "end_time": "2023-07-14T02:23:15.693493900Z",
     "start_time": "2023-07-14T02:23:15.676242300Z"
    }
   }
  },
  {
   "cell_type": "code",
   "execution_count": null,
   "outputs": [],
   "source": [
    "# JAVA : int number = 0;\n",
    "# python : number:int = 0\n",
    "\n"
   ],
   "metadata": {
    "collapsed": false
   }
  },
  {
   "cell_type": "code",
   "execution_count": 110,
   "outputs": [],
   "source": [
    "# 정규식\n",
    "# 디버깅"
   ],
   "metadata": {
    "collapsed": false,
    "ExecuteTime": {
     "end_time": "2023-07-14T02:59:54.738310800Z",
     "start_time": "2023-07-14T02:59:54.734154600Z"
    }
   }
  },
  {
   "cell_type": "code",
   "execution_count": 104,
   "outputs": [],
   "source": [
    "import re\n",
    "\n",
    "# re.finditer  # 해당하는 구간의 정보를 담아서 리턴(고급)\n",
    "#\n",
    "# re.findall\n",
    "#\n",
    "# re.sub  # \"asdf\".replace(\"df\", \"\")\n",
    "#           re.sub(r\"[A-Za-z]\", \"\", a)\n",
    "#\n",
    "# re.split  # re.split(r\"[A-Za-z]\", a)"
   ],
   "metadata": {
    "collapsed": false,
    "ExecuteTime": {
     "end_time": "2023-07-14T02:58:43.994847300Z",
     "start_time": "2023-07-14T02:58:43.975582100Z"
    }
   }
  },
  {
   "cell_type": "code",
   "execution_count": 111,
   "outputs": [
    {
     "data": {
      "text/plain": "'1234!@#$1233456'"
     },
     "execution_count": 111,
     "metadata": {},
     "output_type": "execute_result"
    }
   ],
   "source": [
    "a = \"qwer1234zxcv!@#$123qwerZXCV3456\"\n",
    "a = a.replace(\"qwer\", \"\").replace(\"ZXCV\", \"\").replace(\"zxcv\", \"\")\n",
    "a"
   ],
   "metadata": {
    "collapsed": false,
    "ExecuteTime": {
     "end_time": "2023-07-14T03:08:21.702815300Z",
     "start_time": "2023-07-14T03:08:21.687421700Z"
    }
   }
  },
  {
   "cell_type": "code",
   "execution_count": 112,
   "outputs": [
    {
     "data": {
      "text/plain": "'1234!@#$1233456'"
     },
     "execution_count": 112,
     "metadata": {},
     "output_type": "execute_result"
    }
   ],
   "source": [
    "a = \"1. 목차\\n2. 개요\\n(1) 추진배경\\n...\"\n",
    "a = re.sub(r\"^(\\d\\. )|(\\(\\d+\\) )\", \"\", a)\n",
    "a"
   ],
   "metadata": {
    "collapsed": false,
    "ExecuteTime": {
     "end_time": "2023-07-14T03:09:04.155549900Z",
     "start_time": "2023-07-14T03:09:04.155549900Z"
    }
   }
  },
  {
   "cell_type": "code",
   "execution_count": 114,
   "outputs": [
    {
     "data": {
      "text/plain": "['ㅁㄴㅇㄻㄴㅇㄹ', 'ㅂㅈㄷㄱㅂㅈㄷㄱ']"
     },
     "execution_count": 114,
     "metadata": {},
     "output_type": "execute_result"
    }
   ],
   "source": [
    "a = \"qwerasdfzxcv123412341234ㅁㄴㅇㄻㄴㅇㄹ!@#$!@#$!@#$   ASDFASDF12341234zxcvzxcvㅂㅈㄷㄱㅂㅈㄷㄱ\"\n",
    "\n",
    "한글리스트 = re.findall(r\"[가-힣ㄱ-ㅎ]+\", a)\n",
    "한글리스트"
   ],
   "metadata": {
    "collapsed": false,
    "ExecuteTime": {
     "end_time": "2023-07-14T03:13:07.195231400Z",
     "start_time": "2023-07-14T03:13:07.190388400Z"
    }
   }
  },
  {
   "cell_type": "code",
   "execution_count": 121,
   "outputs": [],
   "source": [
    "a = \"qwerasdfzxcv123412341234ㅁㄴㅇㄻㄴㅇㄹ!@#$!@#$!@#$   ASDFASDF12341234zxcvzxcvㅂㅈㄷㄱㅂㅈㄷㄱ\"\n",
    "\n",
    "검색리스트 = list(re.finditer(r\"[가-힣ㄱ-ㅎ]+\", a))"
   ],
   "metadata": {
    "collapsed": false,
    "ExecuteTime": {
     "end_time": "2023-07-14T03:16:36.576436100Z",
     "start_time": "2023-07-14T03:16:36.575930300Z"
    }
   }
  },
  {
   "cell_type": "code",
   "execution_count": 122,
   "outputs": [
    {
     "data": {
      "text/plain": "[<re.Match object; span=(24, 31), match='ㅁㄴㅇㄻㄴㅇㄹ'>,\n <re.Match object; span=(70, 78), match='ㅂㅈㄷㄱㅂㅈㄷㄱ'>]"
     },
     "execution_count": 122,
     "metadata": {},
     "output_type": "execute_result"
    }
   ],
   "source": [
    "검색리스트"
   ],
   "metadata": {
    "collapsed": false,
    "ExecuteTime": {
     "end_time": "2023-07-14T03:16:40.210024700Z",
     "start_time": "2023-07-14T03:16:40.194398600Z"
    }
   }
  },
  {
   "cell_type": "code",
   "execution_count": 124,
   "outputs": [
    {
     "name": "stdout",
     "output_type": "stream",
     "text": [
      "ㅁㄴㅇㄻㄴㅇㄹ 24 31\n",
      "ㅂㅈㄷㄱㅂㅈㄷㄱ 70 78\n"
     ]
    }
   ],
   "source": [
    "for i in 검색리스트:\n",
    "    print(i.group(), i.start(), i.end())"
   ],
   "metadata": {
    "collapsed": false,
    "ExecuteTime": {
     "end_time": "2023-07-14T03:17:50.016121900Z",
     "start_time": "2023-07-14T03:17:50.015615400Z"
    }
   }
  },
  {
   "cell_type": "code",
   "execution_count": null,
   "outputs": [],
   "source": [
    "re.sub\n",
    "\n",
    "re.split\n",
    "\n",
    "re.findall\n",
    "\n",
    "re.finditer"
   ],
   "metadata": {
    "collapsed": false
   }
  }
 ],
 "metadata": {
  "kernelspec": {
   "display_name": "Python 3",
   "language": "python",
   "name": "python3"
  },
  "language_info": {
   "codemirror_mode": {
    "name": "ipython",
    "version": 2
   },
   "file_extension": ".py",
   "mimetype": "text/x-python",
   "name": "python",
   "nbconvert_exporter": "python",
   "pygments_lexer": "ipython2",
   "version": "2.7.6"
  }
 },
 "nbformat": 4,
 "nbformat_minor": 0
}
