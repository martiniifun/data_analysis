{
 "cells": [
  {
   "cell_type": "code",
   "execution_count": 1,
   "metadata": {
    "collapsed": true,
    "ExecuteTime": {
     "end_time": "2023-07-04T01:08:52.862441Z",
     "start_time": "2023-07-04T01:08:48.847424600Z"
    }
   },
   "outputs": [
    {
     "name": "stdout",
     "output_type": "stream",
     "text": [
      "Requirement already satisfied: pywin32 in c:\\users\\hkit\\appdata\\local\\programs\\python\\python311\\lib\\site-packages (306)\n",
      "Note: you may need to restart the kernel to use updated packages.\n"
     ]
    }
   ],
   "source": [
    "%pip install pywin32"
   ]
  },
  {
   "cell_type": "code",
   "execution_count": 2,
   "outputs": [],
   "source": [
    "import pandas as pd\n",
    "import win32com.client as win32"
   ],
   "metadata": {
    "collapsed": false,
    "ExecuteTime": {
     "end_time": "2023-07-04T01:10:16.651886300Z",
     "start_time": "2023-07-04T01:10:14.600623700Z"
    }
   }
  },
  {
   "cell_type": "code",
   "execution_count": 3,
   "outputs": [],
   "source": [
    "excel = win32.gencache.EnsureDispatch(\"Excel.Application\")"
   ],
   "metadata": {
    "collapsed": false,
    "ExecuteTime": {
     "end_time": "2023-07-04T01:11:45.763993Z",
     "start_time": "2023-07-04T01:11:41.492783Z"
    }
   }
  },
  {
   "cell_type": "code",
   "execution_count": 4,
   "outputs": [],
   "source": [
    "excel.Visible = True"
   ],
   "metadata": {
    "collapsed": false,
    "ExecuteTime": {
     "end_time": "2023-07-04T01:12:16.706024Z",
     "start_time": "2023-07-04T01:12:16.511085400Z"
    }
   }
  },
  {
   "cell_type": "code",
   "execution_count": 5,
   "outputs": [],
   "source": [
    "# 빈 엑셀문서를 하나 만들어줘\n",
    "wb = excel.Workbooks.Add()"
   ],
   "metadata": {
    "collapsed": false,
    "ExecuteTime": {
     "end_time": "2023-07-04T01:13:04.621964Z",
     "start_time": "2023-07-04T01:13:03.975556400Z"
    }
   }
  },
  {
   "cell_type": "code",
   "execution_count": 6,
   "outputs": [],
   "source": [
    "ws = wb.Worksheets(1)"
   ],
   "metadata": {
    "collapsed": false,
    "ExecuteTime": {
     "end_time": "2023-07-04T01:14:10.086859900Z",
     "start_time": "2023-07-04T01:14:10.003606Z"
    }
   }
  },
  {
   "cell_type": "code",
   "execution_count": 8,
   "outputs": [],
   "source": [
    "ws.Cells(1, 1).Value = \"김재환\""
   ],
   "metadata": {
    "collapsed": false,
    "ExecuteTime": {
     "end_time": "2023-07-04T01:15:22.848374100Z",
     "start_time": "2023-07-04T01:15:22.752268500Z"
    }
   }
  },
  {
   "cell_type": "code",
   "execution_count": 9,
   "outputs": [],
   "source": [
    "ws.Cells(2, 1).Value = \"김나은\""
   ],
   "metadata": {
    "collapsed": false,
    "ExecuteTime": {
     "end_time": "2023-07-04T01:15:42.273342400Z",
     "start_time": "2023-07-04T01:15:42.257756Z"
    }
   }
  },
  {
   "cell_type": "code",
   "execution_count": 12,
   "outputs": [
    {
     "name": "stdout",
     "output_type": "stream",
     "text": [
      "Requirement already satisfied: faker in c:\\users\\hkit\\appdata\\local\\programs\\python\\python311\\lib\\site-packages (18.11.1)\n",
      "Requirement already satisfied: python-dateutil>=2.4 in c:\\users\\hkit\\appdata\\local\\programs\\python\\python311\\lib\\site-packages (from faker) (2.8.2)\n",
      "Requirement already satisfied: six>=1.5 in c:\\users\\hkit\\appdata\\local\\programs\\python\\python311\\lib\\site-packages (from python-dateutil>=2.4->faker) (1.16.0)\n",
      "Note: you may need to restart the kernel to use updated packages.\n"
     ]
    }
   ],
   "source": [
    "%pip install faker\n",
    "from faker import Faker"
   ],
   "metadata": {
    "collapsed": false,
    "ExecuteTime": {
     "end_time": "2023-07-04T01:18:59.992426400Z",
     "start_time": "2023-07-04T01:18:57.865204700Z"
    }
   }
  },
  {
   "cell_type": "code",
   "execution_count": 15,
   "outputs": [],
   "source": [
    "faker = Faker(\"ko-kr\")"
   ],
   "metadata": {
    "collapsed": false,
    "ExecuteTime": {
     "end_time": "2023-07-04T01:20:06.172715600Z",
     "start_time": "2023-07-04T01:20:06.073203200Z"
    }
   }
  },
  {
   "cell_type": "code",
   "execution_count": 16,
   "outputs": [],
   "source": [
    "# == profile = [faker.profile() for _ in range(1000)]\n",
    "\n",
    "profile = []\n",
    "for i in range(1000):\n",
    "    profile.append(faker.profile())"
   ],
   "metadata": {
    "collapsed": false,
    "ExecuteTime": {
     "end_time": "2023-07-04T01:20:07.422322500Z",
     "start_time": "2023-07-04T01:20:07.144774100Z"
    }
   }
  },
  {
   "cell_type": "code",
   "execution_count": 17,
   "outputs": [
    {
     "data": {
      "text/plain": "[{'job': '귀금속 및 보석 세공원',\n  'company': '이이',\n  'ssn': '610721-2987026',\n  'residence': '부산광역시 북구 반포대2거리 (지은김동)',\n  'current_location': (Decimal('87.407099'), Decimal('-0.014915')),\n  'blood_group': 'O+',\n  'website': ['https://www.hwangihwang.kr/',\n   'http://www.gimbag.com/',\n   'https://www.yu.kr/'],\n  'username': 'cunjahwang',\n  'name': '김병철',\n  'sex': 'M',\n  'address': '충청남도 예산군 가락883로 (춘자이황마을)',\n  'mail': 'siu34@hanmail.net',\n  'birthdate': datetime.date(1932, 6, 29)},\n {'job': '애완동물 미용사',\n  'company': '(주) 강',\n  'ssn': '840216-2759656',\n  'residence': '부산광역시 강서구 학동76거리',\n  'current_location': (Decimal('4.373313'), Decimal('141.308555')),\n  'blood_group': 'O-',\n  'website': ['https://www.gimjinseo.org/', 'https://www.gimi.com/'],\n  'username': 'ojeongsun',\n  'name': '오시우',\n  'sex': 'M',\n  'address': '서울특별시 관악구 오금9길',\n  'mail': 'minseogi@daum.net',\n  'birthdate': datetime.date(1964, 6, 12)},\n {'job': '상품기획 전문가',\n  'company': '권이김',\n  'ssn': '040705-1484403',\n  'residence': '대구광역시 중랑구 도산대거리',\n  'current_location': (Decimal('43.589740'), Decimal('-70.368334')),\n  'blood_group': 'O+',\n  'website': ['https://ian.com/',\n   'http://www.gimseo.com/',\n   'http://www.gimi.com/',\n   'https://www.coei.kr/'],\n  'username': 'kbag',\n  'name': '이정자',\n  'sex': 'F',\n  'address': '전라남도 예산군 학동길 (정웅백최면)',\n  'mail': 'bagmijeong@hotmail.com',\n  'birthdate': datetime.date(2008, 8, 27)},\n {'job': '상/하수도 처리장치 조작원',\n  'company': '이곽류',\n  'ssn': '240111-2028592',\n  'residence': '경상남도 천안시 동남구 백제고분483길',\n  'current_location': (Decimal('33.179315'), Decimal('133.024642')),\n  'blood_group': 'A-',\n  'website': ['http://www.ju.kr/', 'http://gimgweoni.kr/'],\n  'username': 'eunseou',\n  'name': '김영일',\n  'sex': 'M',\n  'address': '경기도 안양시 논현1길 (지민권면)',\n  'mail': 'ujincoe@daum.net',\n  'birthdate': datetime.date(1944, 6, 2)},\n {'job': '구두 미화원',\n  'company': '(유) 오장최',\n  'ssn': '000212-1619790',\n  'residence': '충청남도 천안시 서북구 개포6로',\n  'current_location': (Decimal('71.556701'), Decimal('-80.981490')),\n  'blood_group': 'B+',\n  'website': ['http://www.ju.com/',\n   'https://www.igimo.net/',\n   'https://yunii.kr/',\n   'https://www.yu.net/'],\n  'username': 'ei',\n  'name': '김준서',\n  'sex': 'M',\n  'address': '전라북도 수원시 영통구 반포대길 (지훈지김리)',\n  'mail': 'minseo08@hanmail.net',\n  'birthdate': datetime.date(2006, 7, 23)}]"
     },
     "execution_count": 17,
     "metadata": {},
     "output_type": "execute_result"
    }
   ],
   "source": [
    "profile[:5]"
   ],
   "metadata": {
    "collapsed": false,
    "ExecuteTime": {
     "end_time": "2023-07-04T01:20:21.546371200Z",
     "start_time": "2023-07-04T01:20:21.530717500Z"
    }
   }
  },
  {
   "cell_type": "code",
   "execution_count": 19,
   "outputs": [],
   "source": [
    "data = ws.Range(ws.Cells(1,1), ws.Cells(5,1)).Value"
   ],
   "metadata": {
    "collapsed": false,
    "ExecuteTime": {
     "end_time": "2023-07-04T01:22:40.486408800Z",
     "start_time": "2023-07-04T01:22:40.466345900Z"
    }
   }
  },
  {
   "cell_type": "code",
   "execution_count": 20,
   "outputs": [
    {
     "data": {
      "text/plain": "(('김재환',), ('김나은',), ('박영진',), ('박예림',), ('장효원',))"
     },
     "execution_count": 20,
     "metadata": {},
     "output_type": "execute_result"
    }
   ],
   "source": [
    "data"
   ],
   "metadata": {
    "collapsed": false,
    "ExecuteTime": {
     "end_time": "2023-07-04T01:22:42.958869600Z",
     "start_time": "2023-07-04T01:22:42.958869600Z"
    }
   }
  },
  {
   "cell_type": "code",
   "execution_count": 21,
   "outputs": [],
   "source": [
    "wb.SaveAs(\"asdf.xlsx\")"
   ],
   "metadata": {
    "collapsed": false,
    "ExecuteTime": {
     "end_time": "2023-07-04T01:23:30.882822100Z",
     "start_time": "2023-07-04T01:23:30.800630800Z"
    }
   }
  },
  {
   "cell_type": "code",
   "execution_count": 22,
   "outputs": [],
   "source": [
    "excel.Quit()"
   ],
   "metadata": {
    "collapsed": false,
    "ExecuteTime": {
     "end_time": "2023-07-04T01:23:38.622856600Z",
     "start_time": "2023-07-04T01:23:38.622856600Z"
    }
   }
  },
  {
   "cell_type": "code",
   "execution_count": 25,
   "outputs": [],
   "source": [
    "hwp = win32.gencache.EnsureDispatch(\"hwpframe.hwpobject\")"
   ],
   "metadata": {
    "collapsed": false,
    "ExecuteTime": {
     "end_time": "2023-07-04T01:35:56.807342500Z",
     "start_time": "2023-07-04T01:35:55.335317200Z"
    }
   }
  },
  {
   "cell_type": "code",
   "execution_count": 26,
   "outputs": [],
   "source": [
    "hwp.XHwpWindows.Item(0).Visible = True"
   ],
   "metadata": {
    "collapsed": false,
    "ExecuteTime": {
     "end_time": "2023-07-04T01:35:56.995616300Z",
     "start_time": "2023-07-04T01:35:56.807342500Z"
    }
   }
  },
  {
   "cell_type": "code",
   "execution_count": 27,
   "outputs": [
    {
     "data": {
      "text/plain": "True"
     },
     "execution_count": 27,
     "metadata": {},
     "output_type": "execute_result"
    }
   ],
   "source": [
    "hwp.Open(r\"C:\\Users\\HKIT\\Desktop\\프로필.hwpx\")"
   ],
   "metadata": {
    "collapsed": false,
    "ExecuteTime": {
     "end_time": "2023-07-04T01:40:53.555309700Z",
     "start_time": "2023-07-04T01:39:17.108031600Z"
    }
   }
  },
  {
   "cell_type": "code",
   "execution_count": 28,
   "outputs": [],
   "source": [
    "# 해당 필드의 값 가져오기\n",
    "a = hwp.GetFieldText(\"성별1\")"
   ],
   "metadata": {
    "collapsed": false,
    "ExecuteTime": {
     "end_time": "2023-07-04T01:41:55.690336500Z",
     "start_time": "2023-07-04T01:41:55.685324Z"
    }
   }
  },
  {
   "cell_type": "code",
   "execution_count": 29,
   "outputs": [
    {
     "data": {
      "text/plain": "'여'"
     },
     "execution_count": 29,
     "metadata": {},
     "output_type": "execute_result"
    }
   ],
   "source": [
    "a"
   ],
   "metadata": {
    "collapsed": false,
    "ExecuteTime": {
     "end_time": "2023-07-04T01:41:59.815223800Z",
     "start_time": "2023-07-04T01:41:59.809241700Z"
    }
   }
  },
  {
   "cell_type": "code",
   "execution_count": 30,
   "outputs": [],
   "source": [
    "# 필드에 값 넣기\n",
    "hwp.PutFieldText(\"성별2\", \"여\")"
   ],
   "metadata": {
    "collapsed": false,
    "ExecuteTime": {
     "end_time": "2023-07-04T01:42:44.901592200Z",
     "start_time": "2023-07-04T01:42:44.894609200Z"
    }
   }
  },
  {
   "cell_type": "code",
   "execution_count": 31,
   "outputs": [
    {
     "data": {
      "text/plain": "'성별1\\x02성별2\\x02성별3\\x02성별4\\x02성별5\\x02성별6'"
     },
     "execution_count": 31,
     "metadata": {},
     "output_type": "execute_result"
    }
   ],
   "source": [
    "# 필드리스트 열람\n",
    "hwp.GetFieldList()"
   ],
   "metadata": {
    "collapsed": false,
    "ExecuteTime": {
     "end_time": "2023-07-04T01:43:41.522416100Z",
     "start_time": "2023-07-04T01:43:41.516431700Z"
    }
   }
  },
  {
   "cell_type": "code",
   "execution_count": 32,
   "outputs": [],
   "source": [
    "성별리스트 = hwp.GetFieldList().split(\"\\x02\")"
   ],
   "metadata": {
    "collapsed": false,
    "ExecuteTime": {
     "end_time": "2023-07-04T01:45:40.524998900Z",
     "start_time": "2023-07-04T01:45:40.519043Z"
    }
   }
  },
  {
   "cell_type": "code",
   "execution_count": 33,
   "outputs": [
    {
     "data": {
      "text/plain": "['성별1', '성별2', '성별3', '성별4', '성별5', '성별6']"
     },
     "execution_count": 33,
     "metadata": {},
     "output_type": "execute_result"
    }
   ],
   "source": [
    "성별리스트"
   ],
   "metadata": {
    "collapsed": false,
    "ExecuteTime": {
     "end_time": "2023-07-04T01:45:47.489255700Z",
     "start_time": "2023-07-04T01:45:47.479071700Z"
    }
   }
  },
  {
   "cell_type": "code",
   "execution_count": 34,
   "outputs": [],
   "source": [
    "성별 = [\"여\", \"여\", \"남\", \"남\", \"여\", \"여\"]"
   ],
   "metadata": {
    "collapsed": false,
    "ExecuteTime": {
     "end_time": "2023-07-04T01:46:26.961386600Z",
     "start_time": "2023-07-04T01:46:26.955402600Z"
    }
   }
  },
  {
   "cell_type": "code",
   "execution_count": 37,
   "outputs": [],
   "source": [
    "성별필드값 = list(zip(성별리스트, 성별))"
   ],
   "metadata": {
    "collapsed": false,
    "ExecuteTime": {
     "end_time": "2023-07-04T01:48:48.403569600Z",
     "start_time": "2023-07-04T01:48:48.397648200Z"
    }
   }
  },
  {
   "cell_type": "code",
   "execution_count": 38,
   "outputs": [
    {
     "data": {
      "text/plain": "('성별1', '여')"
     },
     "execution_count": 38,
     "metadata": {},
     "output_type": "execute_result"
    }
   ],
   "source": [
    "성별필드값[0]"
   ],
   "metadata": {
    "collapsed": false,
    "ExecuteTime": {
     "end_time": "2023-07-04T01:49:00.932548800Z",
     "start_time": "2023-07-04T01:49:00.926562700Z"
    }
   }
  },
  {
   "cell_type": "code",
   "execution_count": 41,
   "outputs": [],
   "source": [
    "hwp.PutFieldText(성별필드값[0][0], 성별필드값[0][1])"
   ],
   "metadata": {
    "collapsed": false,
    "ExecuteTime": {
     "end_time": "2023-07-04T01:50:15.351472300Z",
     "start_time": "2023-07-04T01:50:15.332415700Z"
    }
   }
  },
  {
   "cell_type": "code",
   "execution_count": 42,
   "outputs": [],
   "source": [
    "for i in 성별필드값: hwp.PutFieldText(i[0], i[1])"
   ],
   "metadata": {
    "collapsed": false,
    "ExecuteTime": {
     "end_time": "2023-07-04T01:51:15.174179100Z",
     "start_time": "2023-07-04T01:51:15.136434600Z"
    }
   }
  },
  {
   "cell_type": "code",
   "execution_count": 44,
   "outputs": [],
   "source": [
    "hcell = win32.gencache.EnsureDispatch(\"HCell.Application\")"
   ],
   "metadata": {
    "collapsed": false,
    "ExecuteTime": {
     "end_time": "2023-07-04T02:19:23.222334300Z",
     "start_time": "2023-07-04T02:19:20.437327600Z"
    }
   }
  },
  {
   "cell_type": "code",
   "execution_count": 45,
   "outputs": [],
   "source": [
    "hcell.Visible = True"
   ],
   "metadata": {
    "collapsed": false,
    "ExecuteTime": {
     "end_time": "2023-07-04T02:19:32.480124400Z",
     "start_time": "2023-07-04T02:19:32.461176400Z"
    }
   }
  },
  {
   "cell_type": "code",
   "execution_count": 48,
   "outputs": [],
   "source": [
    "wb = hcell.Workbooks.Add()"
   ],
   "metadata": {
    "collapsed": false,
    "ExecuteTime": {
     "end_time": "2023-07-04T02:21:01.202295900Z",
     "start_time": "2023-07-04T02:21:00.892011300Z"
    }
   }
  },
  {
   "cell_type": "code",
   "execution_count": 49,
   "outputs": [],
   "source": [
    "ws = hcell.Worksheets(1)"
   ],
   "metadata": {
    "collapsed": false,
    "ExecuteTime": {
     "end_time": "2023-07-04T02:22:33.340942800Z",
     "start_time": "2023-07-04T02:22:33.328941800Z"
    }
   }
  },
  {
   "cell_type": "code",
   "execution_count": 50,
   "outputs": [
    {
     "data": {
      "text/plain": "'Sheet1'"
     },
     "execution_count": 50,
     "metadata": {},
     "output_type": "execute_result"
    }
   ],
   "source": [
    "ws.Name"
   ],
   "metadata": {
    "collapsed": false,
    "ExecuteTime": {
     "end_time": "2023-07-04T02:22:42.486615600Z",
     "start_time": "2023-07-04T02:22:42.472652400Z"
    }
   }
  },
  {
   "cell_type": "code",
   "execution_count": 52,
   "outputs": [],
   "source": [
    "ws.Cells(1,1).Value = \"asdf\""
   ],
   "metadata": {
    "collapsed": false,
    "ExecuteTime": {
     "end_time": "2023-07-04T02:23:17.382177800Z",
     "start_time": "2023-07-04T02:23:17.373690100Z"
    }
   }
  },
  {
   "cell_type": "code",
   "execution_count": 54,
   "outputs": [],
   "source": [
    "from faker import Faker"
   ],
   "metadata": {
    "collapsed": false,
    "ExecuteTime": {
     "end_time": "2023-07-04T02:25:26.203294600Z",
     "start_time": "2023-07-04T02:25:26.195311600Z"
    }
   }
  },
  {
   "cell_type": "code",
   "execution_count": 56,
   "outputs": [],
   "source": [
    "faker = Faker(\"ko-kr\")\n",
    "fake_data = [faker.profile() for i in range(1000)]"
   ],
   "metadata": {
    "collapsed": false,
    "ExecuteTime": {
     "end_time": "2023-07-04T02:27:03.820118500Z",
     "start_time": "2023-07-04T02:27:03.372480800Z"
    }
   }
  },
  {
   "cell_type": "code",
   "execution_count": 57,
   "outputs": [
    {
     "data": {
      "text/plain": "[{'job': '보육 교사',\n  'company': '우김고',\n  'ssn': '190227-1322905',\n  'residence': '대구광역시 강동구 언주942로',\n  'current_location': (Decimal('-72.6990855'), Decimal('-139.762973')),\n  'blood_group': 'AB+',\n  'website': ['https://gimgimyun.kr/',\n   'http://www.hwanggim.com/',\n   'https://www.ii.kr/',\n   'https://www.gimryuhwang.net/'],\n  'username': 'jeonghogo',\n  'name': '홍채원',\n  'sex': 'F',\n  'address': '광주광역시 송파구 도산대로 (경자손전마을)',\n  'mail': 'yeongsun39@daum.net',\n  'birthdate': datetime.date(2010, 9, 12)},\n {'job': '안내 / 접수 사무원 및 전화교환원',\n  'company': '김백최',\n  'ssn': '070623-1970480',\n  'residence': '제주특별자치도 평창군 서초중앙가',\n  'current_location': (Decimal('-80.690636'), Decimal('-105.008848')),\n  'blood_group': 'AB+',\n  'website': ['https://yuhanhoesa.org/',\n   'http://www.jusighoesa.com/',\n   'https://www.jusighoesa.kr/'],\n  'username': 'ei',\n  'name': '김지현',\n  'sex': 'F',\n  'address': '충청남도 성남시 선릉길',\n  'mail': 'hyeonjugim@live.com',\n  'birthdate': datetime.date(1995, 1, 6)}]"
     },
     "execution_count": 57,
     "metadata": {},
     "output_type": "execute_result"
    }
   ],
   "source": [
    "fake_data[:2]"
   ],
   "metadata": {
    "collapsed": false,
    "ExecuteTime": {
     "end_time": "2023-07-04T02:27:13.454326Z",
     "start_time": "2023-07-04T02:27:13.441359200Z"
    }
   }
  },
  {
   "cell_type": "code",
   "execution_count": 58,
   "outputs": [],
   "source": [
    "import pandas as pd"
   ],
   "metadata": {
    "collapsed": false,
    "ExecuteTime": {
     "end_time": "2023-07-04T02:29:43.495007200Z",
     "start_time": "2023-07-04T02:29:43.483007900Z"
    }
   }
  },
  {
   "cell_type": "code",
   "execution_count": 59,
   "outputs": [],
   "source": [
    "df = pd.DataFrame(fake_data)"
   ],
   "metadata": {
    "collapsed": false,
    "ExecuteTime": {
     "end_time": "2023-07-04T02:30:34.455084300Z",
     "start_time": "2023-07-04T02:30:34.443378800Z"
    }
   }
  },
  {
   "cell_type": "code",
   "execution_count": 60,
   "outputs": [
    {
     "data": {
      "text/plain": "                   job  company             ssn               residence  \\\n0                보육 교사      우김고  190227-1322905        대구광역시 강동구 언주942로   \n1  안내 / 접수 사무원 및 전화교환원      김백최  070623-1970480       제주특별자치도 평창군 서초중앙가   \n2             생명과학 시험원  (유) 김김김  830905-1067917         경기도 고양시 압구정42거리   \n3    전기/가스 및 수도 관련 관리자  (주) 김김이  730410-1367021    경상남도 보령시 가락로 (현주허김동)   \n4        채소 및 특용작물 재배원      안최박  230416-1427245  충청남도 태백시 학동305가 (도현김동)   \n\n             current_location blood_group  \\\n0  (-72.6990855, -139.762973)         AB+   \n1   (-80.690636, -105.008848)         AB+   \n2    (46.875093, -122.012846)          B-   \n3   (-40.7725085, 100.347359)         AB+   \n4      (2.351770, -85.450492)          A+   \n\n                                             website    username name sex  \\\n0  [https://gimgimyun.kr/, http://www.hwanggim.co...   jeonghogo  홍채원   F   \n1  [https://yuhanhoesa.org/, http://www.jusighoes...          ei  김지현   F   \n2             [https://www.ii.com/, https://yu.org/]     ogsun96  박은정   F   \n3                               [https://www.ju.kr/]  seongjin77  김시우   M   \n4                       [http://www.jusighoesa.com/]      isujin  정윤서   F   \n\n                   address                 mail   birthdate  \n0  광주광역시 송파구 도산대로 (경자손전마을)  yeongsun39@daum.net  2010-09-12  \n1             충청남도 성남시 선릉길  hyeonjugim@live.com  1995-01-06  \n2     경기도 과천시 서초중앙길 (성진박면)    gimdoyun@nate.com  1938-03-21  \n3  세종특별자치시 강북구 잠실거리 (영희안읍)     sgim@hanmail.net  1994-05-25  \n4  서울특별시 도봉구 학동6거리 (지혜황김동)  eunseobaeg@daum.net  2010-04-09  ",
      "text/html": "<div>\n<style scoped>\n    .dataframe tbody tr th:only-of-type {\n        vertical-align: middle;\n    }\n\n    .dataframe tbody tr th {\n        vertical-align: top;\n    }\n\n    .dataframe thead th {\n        text-align: right;\n    }\n</style>\n<table border=\"1\" class=\"dataframe\">\n  <thead>\n    <tr style=\"text-align: right;\">\n      <th></th>\n      <th>job</th>\n      <th>company</th>\n      <th>ssn</th>\n      <th>residence</th>\n      <th>current_location</th>\n      <th>blood_group</th>\n      <th>website</th>\n      <th>username</th>\n      <th>name</th>\n      <th>sex</th>\n      <th>address</th>\n      <th>mail</th>\n      <th>birthdate</th>\n    </tr>\n  </thead>\n  <tbody>\n    <tr>\n      <th>0</th>\n      <td>보육 교사</td>\n      <td>우김고</td>\n      <td>190227-1322905</td>\n      <td>대구광역시 강동구 언주942로</td>\n      <td>(-72.6990855, -139.762973)</td>\n      <td>AB+</td>\n      <td>[https://gimgimyun.kr/, http://www.hwanggim.co...</td>\n      <td>jeonghogo</td>\n      <td>홍채원</td>\n      <td>F</td>\n      <td>광주광역시 송파구 도산대로 (경자손전마을)</td>\n      <td>yeongsun39@daum.net</td>\n      <td>2010-09-12</td>\n    </tr>\n    <tr>\n      <th>1</th>\n      <td>안내 / 접수 사무원 및 전화교환원</td>\n      <td>김백최</td>\n      <td>070623-1970480</td>\n      <td>제주특별자치도 평창군 서초중앙가</td>\n      <td>(-80.690636, -105.008848)</td>\n      <td>AB+</td>\n      <td>[https://yuhanhoesa.org/, http://www.jusighoes...</td>\n      <td>ei</td>\n      <td>김지현</td>\n      <td>F</td>\n      <td>충청남도 성남시 선릉길</td>\n      <td>hyeonjugim@live.com</td>\n      <td>1995-01-06</td>\n    </tr>\n    <tr>\n      <th>2</th>\n      <td>생명과학 시험원</td>\n      <td>(유) 김김김</td>\n      <td>830905-1067917</td>\n      <td>경기도 고양시 압구정42거리</td>\n      <td>(46.875093, -122.012846)</td>\n      <td>B-</td>\n      <td>[https://www.ii.com/, https://yu.org/]</td>\n      <td>ogsun96</td>\n      <td>박은정</td>\n      <td>F</td>\n      <td>경기도 과천시 서초중앙길 (성진박면)</td>\n      <td>gimdoyun@nate.com</td>\n      <td>1938-03-21</td>\n    </tr>\n    <tr>\n      <th>3</th>\n      <td>전기/가스 및 수도 관련 관리자</td>\n      <td>(주) 김김이</td>\n      <td>730410-1367021</td>\n      <td>경상남도 보령시 가락로 (현주허김동)</td>\n      <td>(-40.7725085, 100.347359)</td>\n      <td>AB+</td>\n      <td>[https://www.ju.kr/]</td>\n      <td>seongjin77</td>\n      <td>김시우</td>\n      <td>M</td>\n      <td>세종특별자치시 강북구 잠실거리 (영희안읍)</td>\n      <td>sgim@hanmail.net</td>\n      <td>1994-05-25</td>\n    </tr>\n    <tr>\n      <th>4</th>\n      <td>채소 및 특용작물 재배원</td>\n      <td>안최박</td>\n      <td>230416-1427245</td>\n      <td>충청남도 태백시 학동305가 (도현김동)</td>\n      <td>(2.351770, -85.450492)</td>\n      <td>A+</td>\n      <td>[http://www.jusighoesa.com/]</td>\n      <td>isujin</td>\n      <td>정윤서</td>\n      <td>F</td>\n      <td>서울특별시 도봉구 학동6거리 (지혜황김동)</td>\n      <td>eunseobaeg@daum.net</td>\n      <td>2010-04-09</td>\n    </tr>\n  </tbody>\n</table>\n</div>"
     },
     "execution_count": 60,
     "metadata": {},
     "output_type": "execute_result"
    }
   ],
   "source": [
    "df.head()"
   ],
   "metadata": {
    "collapsed": false,
    "ExecuteTime": {
     "end_time": "2023-07-04T02:30:40.920712500Z",
     "start_time": "2023-07-04T02:30:40.890267900Z"
    }
   }
  },
  {
   "cell_type": "code",
   "execution_count": null,
   "outputs": [],
   "source": [
    "%pip install openpyxl\n",
    "df.to_excel(\"fake_data.xlsx\")"
   ],
   "metadata": {
    "collapsed": false
   }
  },
  {
   "cell_type": "code",
   "execution_count": null,
   "outputs": [],
   "source": [
    "# 엑셀에서 복사한 데이터 가공하기\n",
    "\n",
    "%pip install pyperclip\n",
    "import pyperclip as cb\n",
    "\n",
    "a = cb.paste()"
   ],
   "metadata": {
    "collapsed": false
   }
  },
  {
   "cell_type": "code",
   "execution_count": 68,
   "outputs": [
    {
     "data": {
      "text/plain": "'residence\\r\\n대구광역시 강동구 언주942로\\r\\n제주특별자치도 평창군 서초중앙가\\r\\n경기도 고양시 압구정42거리\\r\\n경상남도 보령시 가락로 (현주허김동)\\r\\n충청남도 태백시 학동30'"
     },
     "execution_count": 68,
     "metadata": {},
     "output_type": "execute_result"
    }
   ],
   "source": [
    "a[:100]"
   ],
   "metadata": {
    "collapsed": false,
    "ExecuteTime": {
     "end_time": "2023-07-04T02:40:56.362285Z",
     "start_time": "2023-07-04T02:40:56.357204200Z"
    }
   }
  },
  {
   "cell_type": "code",
   "execution_count": 69,
   "outputs": [],
   "source": [
    "a = a.split(\"\\r\\n\")"
   ],
   "metadata": {
    "collapsed": false,
    "ExecuteTime": {
     "end_time": "2023-07-04T02:41:39.346115400Z",
     "start_time": "2023-07-04T02:41:39.316623700Z"
    }
   }
  },
  {
   "cell_type": "code",
   "execution_count": 70,
   "outputs": [
    {
     "data": {
      "text/plain": "1048577"
     },
     "execution_count": 70,
     "metadata": {},
     "output_type": "execute_result"
    }
   ],
   "source": [
    "len(a)"
   ],
   "metadata": {
    "collapsed": false,
    "ExecuteTime": {
     "end_time": "2023-07-04T02:41:49.123350400Z",
     "start_time": "2023-07-04T02:41:49.093559500Z"
    }
   }
  },
  {
   "cell_type": "code",
   "execution_count": 73,
   "outputs": [],
   "source": [
    "b = [i for i in a if i]\n",
    "\n",
    "\n",
    "b = []\n",
    "for i in a:\n",
    "    if not i:\n",
    "        pass\n",
    "    else:\n",
    "        b.append(i)"
   ],
   "metadata": {
    "collapsed": false,
    "ExecuteTime": {
     "end_time": "2023-07-04T02:47:42.667236300Z",
     "start_time": "2023-07-04T02:47:42.637900700Z"
    }
   }
  },
  {
   "cell_type": "code",
   "execution_count": 82,
   "outputs": [
    {
     "name": "stdout",
     "output_type": "stream",
     "text": [
      "qwer\n"
     ]
    }
   ],
   "source": [
    "a = \"a\"\n",
    "if a:  # False\n",
    "    print(\"qwer\")"
   ],
   "metadata": {
    "collapsed": false,
    "ExecuteTime": {
     "end_time": "2023-07-04T02:56:50.825502700Z",
     "start_time": "2023-07-04T02:56:50.805754Z"
    }
   }
  },
  {
   "cell_type": "code",
   "execution_count": 77,
   "outputs": [],
   "source": [
    "b = b[1:]"
   ],
   "metadata": {
    "collapsed": false,
    "ExecuteTime": {
     "end_time": "2023-07-04T02:48:56.561568400Z",
     "start_time": "2023-07-04T02:48:56.557575200Z"
    }
   }
  },
  {
   "cell_type": "code",
   "execution_count": 78,
   "outputs": [
    {
     "data": {
      "text/plain": "['대구광역시 강동구 언주942로',\n '제주특별자치도 평창군 서초중앙가',\n '경기도 고양시 압구정42거리',\n '경상남도 보령시 가락로 (현주허김동)',\n '충청남도 태백시 학동305가 (도현김동)']"
     },
     "execution_count": 78,
     "metadata": {},
     "output_type": "execute_result"
    }
   ],
   "source": [
    "b[:5]"
   ],
   "metadata": {
    "collapsed": false,
    "ExecuteTime": {
     "end_time": "2023-07-04T02:48:59.040515100Z",
     "start_time": "2023-07-04T02:48:59.026552100Z"
    }
   }
  },
  {
   "cell_type": "code",
   "execution_count": 79,
   "outputs": [
    {
     "data": {
      "text/plain": "1000"
     },
     "execution_count": 79,
     "metadata": {},
     "output_type": "execute_result"
    }
   ],
   "source": [
    "len(b)"
   ],
   "metadata": {
    "collapsed": false,
    "ExecuteTime": {
     "end_time": "2023-07-04T02:49:04.519964Z",
     "start_time": "2023-07-04T02:49:04.504033200Z"
    }
   }
  },
  {
   "cell_type": "code",
   "execution_count": 84,
   "outputs": [
    {
     "data": {
      "text/plain": "1000"
     },
     "execution_count": 84,
     "metadata": {},
     "output_type": "execute_result"
    }
   ],
   "source": [
    "len(b)"
   ],
   "metadata": {
    "collapsed": false,
    "ExecuteTime": {
     "end_time": "2023-07-04T02:59:49.321114300Z",
     "start_time": "2023-07-04T02:59:49.315841800Z"
    }
   }
  },
  {
   "cell_type": "code",
   "execution_count": 85,
   "outputs": [
    {
     "data": {
      "text/plain": "['대구광역시 강동구 언주942로',\n '제주특별자치도 평창군 서초중앙가',\n '경기도 고양시 압구정42거리',\n '경상남도 보령시 가락로 (현주허김동)',\n '충청남도 태백시 학동305가 (도현김동)',\n '인천광역시 서구 백제고분길 (영희강한마을)',\n '경상북도 파주시 선릉047길 (영철나김동)',\n '인천광역시 중랑구 가락거리 (도현하마을)',\n '세종특별자치시 북구 압구정거리 (미경홍동)',\n '세종특별자치시 성동구 압구정1거리 (정희강서면)',\n '경상남도 서산시 언주4길',\n '제주특별자치도 청주시 상당구 압구정로',\n '울산광역시 강서구 논현2로 (정남박이면)',\n '세종특별자치시 서구 석촌호수5가',\n '서울특별시 중구 백제고분거리 (준서김김동)',\n '대전광역시 서구 가락4로 (예진조정리)',\n '강원도 인제군 논현가 (지아박동)',\n '광주광역시 도봉구 영동대로',\n '경상북도 제천시 역삼945가',\n '충청남도 안산시 상록구 개포7거리 (지혜김읍)',\n '광주광역시 서구 영동대34거리',\n '대전광역시 동대문구 봉은사가 (상철이이리)',\n '강원도 이천시 삼성94길',\n '세종특별자치시 강서구 선릉865가',\n '경상북도 태백시 봉은사로 (준호안마을)',\n '충청남도 수원시 팔달구 반포대89가',\n '울산광역시 송파구 서초중앙469길',\n '인천광역시 강동구 서초대1로 (영길백마을)',\n '충청남도 영동군 도산대4로 (현주이리)',\n '부산광역시 서초구 테헤란길 (영희황김읍)',\n '전라남도 포천시 개포35로',\n '대구광역시 은평구 압구정750가 (은주손남동)',\n '광주광역시 성북구 압구정780거리',\n '전라남도 용인시 언주길',\n '인천광역시 관악구 도산대길',\n '세종특별자치시 도봉구 서초중앙6거리',\n '경기도 삼척시 서초중앙거리 (현정민리)',\n '인천광역시 금천구 언주74길 (지현황윤면)',\n '경기도 남양주시 도산대가 (선영김읍)',\n '대전광역시 성동구 석촌호수길',\n '충청남도 고성군 잠실거리 (민수이하리)',\n '제주특별자치도 양평군 역삼14거리',\n '경기도 서천군 역삼로 (경수최마을)',\n '경상북도 하남시 테헤란로',\n '충청북도 논산시 오금29거리',\n '충청북도 의왕시 테헤란9로',\n '제주특별자치도 동두천시 반포대길 (서영민동)',\n '전라북도 청주시 상당구 강남대922로 (예원서임마을)',\n '제주특별자치도 의왕시 강남대가 (준영조읍)',\n '세종특별자치시 양천구 백제고분가 (재호이읍)',\n '인천광역시 남구 논현254거리',\n '인천광역시 광진구 역삼8가',\n '경기도 정선군 개포가 (중수김하마을)',\n '부산광역시 성북구 강남대2길 (선영김배면)',\n '광주광역시 동대문구 역삼거리',\n '전라남도 증평군 도산대23거리',\n '대구광역시 은평구 서초대길 (지아김손마을)',\n '울산광역시 은평구 언주가 (지원송마을)',\n '경상북도 안산시 단원구 논현로 (영길백동)',\n '인천광역시 강동구 반포대89길 (민석김마을)',\n '경상북도 옥천군 반포대길 (수진황동)',\n '경상남도 서천군 서초대로',\n '경상북도 충주시 압구정로 (우진이읍)',\n '울산광역시 동작구 선릉로',\n '제주특별자치도 안양시 동안구 강남대가',\n '부산광역시 강남구 강남대638길 (영일김김마을)',\n '대전광역시 광진구 오금거리 (정웅김면)',\n '대전광역시 서구 봉은사로 (준영문면)',\n '세종특별자치시 강동구 선릉가 (정식김배면)',\n '울산광역시 강동구 가락115가',\n '대구광역시 강남구 백제고분가 (도현송면)',\n '대전광역시 금천구 논현거리 (영철박안리)',\n '인천광역시 강서구 잠실거리 (도윤박장리)',\n '울산광역시 마포구 백제고분789가 (은지박민마을)',\n '전라남도 용인시 처인구 학동170가 (정남오마을)',\n '광주광역시 광진구 서초대78거리',\n '대구광역시 동작구 영동대길 (준영김면)',\n '세종특별자치시 강서구 선릉가',\n '울산광역시 강북구 잠실2로 (수진송리)',\n '울산광역시 구로구 봉은사95로 (은경이이리)',\n '세종특별자치시 강동구 도산대895로',\n '경상남도 홍성군 압구정로 (옥순류동)',\n '제주특별자치도 영동군 봉은사6길',\n '대구광역시 강동구 개포777로',\n '세종특별자치시 중구 영동대541가 (수진이리)',\n '인천광역시 도봉구 도산대4길',\n '인천광역시 은평구 언주8가',\n '광주광역시 광진구 테헤란14길 (은지박한읍)',\n '대구광역시 중랑구 개포77거리 (영희전고마을)',\n '대전광역시 양천구 반포대로 (선영남읍)',\n '경상남도 고양시 일산서구 삼성거리 (예준이박읍)',\n '세종특별자치시 도봉구 선릉거리',\n '울산광역시 강북구 봉은사거리',\n '광주광역시 성북구 잠실8거리',\n '세종특별자치시 양천구 가락3길 (영미한박동)',\n '세종특별자치시 강동구 영동대21거리',\n '대전광역시 성북구 양재천가 (영환이고면)',\n '세종특별자치시 금천구 개포가 (지은조면)',\n '울산광역시 서구 언주거리 (명자김읍)',\n '제주특별자치도 화천군 개포283길 (상훈박읍)',\n '경상북도 논산시 잠실547가',\n '전라북도 과천시 도산대가',\n '울산광역시 양천구 삼성33가 (영호박마을)',\n '충청남도 양평군 학동길 (수빈김우마을)',\n '충청북도 성남시 분당구 가락79거리 (옥순강손리)',\n '대전광역시 강북구 봉은사246로',\n '경상남도 고양시 일산동구 강남대로',\n '강원도 춘천시 강남대228로',\n '대구광역시 마포구 테헤란3가 (채원오리)',\n '경상남도 충주시 서초대09가',\n '경기도 충주시 언주길',\n '세종특별자치시 서대문구 백제고분17로',\n '광주광역시 종로구 봉은사371길',\n '대전광역시 강북구 잠실가 (영자이손리)',\n '제주특별자치도 연천군 압구정4로',\n '인천광역시 강서구 논현593거리 (서연황읍)',\n '강원도 안양시 만안구 압구정0로 (상호박이리)',\n '대전광역시 성북구 도산대85로',\n '경기도 춘천시 선릉로',\n '세종특별자치시 동대문구 삼성거리 (춘자최동)',\n '대전광역시 동대문구 잠실264가',\n '세종특별자치시 노원구 압구정60거리 (정훈노송마을)',\n '강원도 용인시 처인구 오금8거리',\n '경상남도 진천군 반포대가 (명숙김박마을)',\n '제주특별자치도 영월군 잠실523가 (현우강읍)',\n '서울특별시 금천구 논현가',\n '충청북도 안양시 동안구 도산대7가',\n '강원도 당진시 선릉13길',\n '대전광역시 마포구 논현59가 (지은윤마을)',\n '울산광역시 성동구 백제고분로 (지원서동)',\n '경상남도 평택시 잠실가 (건우김면)',\n '경상북도 안산시 삼성6길',\n '서울특별시 강북구 오금가',\n '서울특별시 도봉구 백제고분가',\n '대구광역시 동구 석촌호수로 (영숙허황리)',\n '충청남도 공주시 서초중앙6거리',\n '울산광역시 서대문구 백제고분82가 (영자고면)',\n '인천광역시 강서구 선릉거리 (예원홍고마을)',\n '충청남도 안산시 단원구 삼성길',\n '세종특별자치시 서구 압구정43가',\n '경기도 횡성군 봉은사길 (승현김김동)',\n '광주광역시 도봉구 역삼763로 (민재남면)',\n '대전광역시 용산구 도산대거리 (은지장동)',\n '경상북도 홍천군 도산대9로 (영일최권리)',\n '경상남도 천안시 서북구 반포대길 (경수김박동)',\n '울산광역시 성동구 학동거리',\n '서울특별시 동작구 개포1로',\n '충청북도 양구군 반포대로',\n '전라남도 태백시 학동로',\n '제주특별자치도 단양군 백제고분451가',\n '충청남도 여주시 양재천길 (서준김최면)',\n '부산광역시 중랑구 언주7길 (영수김읍)',\n '대구광역시 종로구 가락가',\n '세종특별자치시 종로구 테헤란로',\n '울산광역시 송파구 개포275길 (광수김읍)',\n '서울특별시 서대문구 석촌호수거리 (순자주배읍)',\n '제주특별자치도 옥천군 압구정로',\n '인천광역시 은평구 압구정354길',\n '대전광역시 성동구 압구정길 (영철이이마을)',\n '경상남도 정선군 테헤란593가',\n '서울특별시 동구 압구정417거리 (은영주면)',\n '경상북도 영동군 서초중앙길 (현숙박이동)',\n '제주특별자치도 고양시 일산동구 언주5가',\n '대구광역시 금천구 잠실길',\n '강원도 수원시 선릉로 (현우박동)',\n '제주특별자치도 춘천시 서초중앙거리 (상훈이동)',\n '인천광역시 구로구 강남대길',\n '서울특별시 성동구 서초중앙0길',\n '대전광역시 성북구 역삼5길 (우진류마을)',\n '충청남도 여주시 석촌호수가',\n '대구광역시 관악구 역삼로',\n '서울특별시 은평구 도산대길',\n '인천광역시 성동구 도산대로',\n '광주광역시 은평구 개포379가',\n '대전광역시 송파구 잠실가 (정훈윤고읍)',\n '강원도 파주시 논현로',\n '경기도 수원시 팔달구 오금924거리 (지혜김동)',\n '경상남도 부천시 원미구 가락4가',\n '전라북도 천안시 동남구 압구정가',\n '서울특별시 강서구 압구정504거리 (영식한동)',\n '경기도 진천군 가락가',\n '울산광역시 동대문구 잠실가',\n '광주광역시 북구 양재천길',\n '울산광역시 성북구 테헤란083거리',\n '광주광역시 마포구 양재천로 (준서박동)',\n '전라북도 양주시 압구정로',\n '강원도 춘천시 테헤란03거리 (승민이진동)',\n '세종특별자치시 마포구 언주가 (혜진오마을)',\n '제주특별자치도 수원시 장안구 양재천5거리 (영숙홍리)',\n '대전광역시 양천구 석촌호수1가',\n '인천광역시 동대문구 학동로 (상훈강리)',\n '제주특별자치도 음성군 잠실거리 (지아김리)',\n '서울특별시 북구 양재천610로',\n '강원도 부천시 오정구 도산대23가 (유진김읍)',\n '경상북도 제천시 삼성길',\n '울산광역시 마포구 반포대17가 (경숙김이마을)',\n '강원도 오산시 백제고분로 (현숙김손동)',\n '충청남도 평택시 개포길 (민준강마을)',\n '세종특별자치시 서구 테헤란거리',\n '경기도 성남시 잠실길 (예진장박동)',\n '충청남도 계룡시 개포가 (아름강김면)',\n '대전광역시 강북구 봉은사078길',\n '경상남도 구리시 양재천8로 (예은김강마을)',\n '대구광역시 강동구 서초중앙446로',\n '부산광역시 구로구 백제고분길 (보람남김리)',\n '서울특별시 은평구 가락로',\n '경상남도 충주시 강남대26가 (영길김리)',\n '부산광역시 북구 오금76길',\n '경상남도 평창군 논현11거리 (진우심이리)',\n '대전광역시 구로구 양재천142거리 (정식김동)',\n '제주특별자치도 당진시 반포대76로 (미숙김면)',\n '광주광역시 강남구 학동로',\n '인천광역시 서대문구 테헤란가 (영철허홍읍)',\n '전라남도 옥천군 서초중앙거리',\n '경기도 과천시 선릉32로 (숙자이김리)',\n '인천광역시 북구 반포대길',\n '전라남도 영월군 봉은사거리',\n '세종특별자치시 중구 오금가 (보람강마을)',\n '경상남도 양구군 테헤란거리 (서현윤마을)',\n '부산광역시 동대문구 테헤란58로 (재호박마을)',\n '세종특별자치시 은평구 역삼59거리 (수민김마을)',\n '인천광역시 광진구 영동대7가 (광수김면)',\n '충청북도 안성시 논현로',\n '광주광역시 강동구 언주8가',\n '광주광역시 서초구 오금61거리',\n '부산광역시 강동구 선릉길',\n '울산광역시 마포구 강남대로',\n '세종특별자치시 송파구 역삼202거리 (영자김장동)',\n '경기도 광주시 테헤란626로 (건우남이읍)',\n '대구광역시 관악구 학동길',\n '전라북도 공주시 압구정거리',\n '전라북도 공주시 삼성로',\n '충청북도 안양시 동안구 학동01가',\n '충청남도 청양군 압구정3길',\n '경기도 성남시 분당구 학동가',\n '대구광역시 종로구 개포984가 (정희김마을)',\n '충청남도 군포시 백제고분7길 (영호이손마을)',\n '제주특별자치도 고양시 덕양구 양재천가 (순옥이리)',\n '대구광역시 구로구 압구정3가 (영숙김김리)',\n '세종특별자치시 금천구 양재천길',\n '세종특별자치시 서대문구 잠실4길',\n '대전광역시 양천구 가락1길 (성호유마을)',\n '경기도 의왕시 언주1길',\n '대전광역시 강동구 잠실로 (예은김배동)',\n '전라북도 진천군 반포대1길 (민서이장동)',\n '경기도 안산시 상록구 서초중앙104로',\n '전라남도 속초시 개포로',\n '경기도 광주시 석촌호수로 (수진서고리)',\n '인천광역시 은평구 석촌호수8길',\n '전라남도 수원시 팔달구 테헤란길',\n '충청남도 부천시 오정구 논현로',\n '광주광역시 중랑구 삼성214거리 (서준박동)',\n '경상남도 부천시 소사구 언주5가',\n '대구광역시 강남구 강남대가 (현준이동)',\n '경기도 수원시 팔달구 봉은사093거리',\n '전라북도 홍성군 가락2거리',\n '서울특별시 관악구 도산대로',\n '경상남도 충주시 선릉4로 (은경황서읍)',\n '서울특별시 송파구 테헤란74가',\n '광주광역시 서초구 역삼길 (정숙김구면)',\n '경상북도 부천시 오정구 학동거리',\n '경상남도 수원시 영통구 석촌호수거리',\n '경상남도 부천시 오금가 (영희강리)',\n '제주특별자치도 포천시 강남대길',\n '대전광역시 북구 삼성8로',\n '전라남도 의왕시 반포대로',\n '경상북도 용인시 봉은사44가',\n '서울특별시 서구 가락4가 (지현최이마을)',\n '세종특별자치시 강남구 테헤란거리 (서영강동)',\n '경기도 보령시 역삼42로 (현숙김읍)',\n '인천광역시 동대문구 강남대4길 (수민김동)',\n '경상남도 화천군 석촌호수로',\n '충청남도 고양시 일산서구 백제고분2로 (상철이오동)',\n '대전광역시 도봉구 백제고분9로',\n '경상북도 계룡시 언주1거리 (영숙이김읍)',\n '서울특별시 노원구 삼성966로',\n '대구광역시 서초구 학동16길',\n '대구광역시 남구 삼성길',\n '전라북도 홍성군 압구정가 (중수서면)',\n '경상남도 화성시 석촌호수거리',\n '충청북도 하남시 백제고분779로 (지영정동)',\n '경상남도 고성군 테헤란가 (미경박이마을)',\n '광주광역시 영등포구 오금464가',\n '충청남도 남양주시 서초중앙길 (숙자이서면)',\n '서울특별시 서대문구 석촌호수761로',\n '대구광역시 중랑구 삼성가',\n '광주광역시 관악구 오금2로',\n '울산광역시 동구 삼성거리 (정훈최윤마을)',\n '충청북도 횡성군 백제고분5거리',\n '서울특별시 성동구 백제고분가',\n '인천광역시 서초구 개포6가 (하은서리)',\n '대전광역시 도봉구 테헤란370로',\n '서울특별시 남구 테헤란로',\n '대구광역시 노원구 삼성834길',\n '강원도 고양시 양재천12거리 (민지윤박읍)',\n '전라남도 논산시 학동거리 (은정손읍)',\n '경기도 성남시 분당구 오금가',\n '광주광역시 영등포구 서초중앙가 (은주김마을)',\n '세종특별자치시 중랑구 압구정로 (현우이엄면)',\n '대전광역시 종로구 언주527거리 (영자윤김마을)',\n '경상북도 여주시 석촌호수37길 (지후송리)',\n '충청남도 평택시 삼성5로',\n '강원도 연천군 봉은사1거리',\n '광주광역시 중구 양재천가',\n '경상북도 안양시 만안구 강남대길 (건우안마을)',\n '광주광역시 서구 도산대033거리',\n '경상북도 시흥시 백제고분5거리',\n '광주광역시 북구 역삼325길',\n '세종특별자치시 강북구 선릉로',\n '경상북도 수원시 팔달구 영동대거리 (영숙안조면)',\n '대전광역시 금천구 압구정가 (중수진동)',\n '강원도 성남시 중원구 강남대515가 (예은권읍)',\n '부산광역시 노원구 강남대거리 (예지최읍)',\n '전라남도 속초시 반포대길 (주원최동)',\n '전라남도 동해시 석촌호수1거리',\n '강원도 충주시 개포거리 (명자김이동)',\n '경상북도 의왕시 도산대0거리 (명숙김읍)',\n '울산광역시 강서구 선릉736로',\n '전라북도 홍성군 선릉31길 (지현서마을)',\n '충청북도 금산군 가락길',\n '경상북도 양주시 가락가',\n '서울특별시 노원구 잠실0거리',\n '부산광역시 중구 언주로',\n '전라북도 원주시 삼성3가 (숙자김마을)',\n '부산광역시 송파구 압구정길',\n '제주특별자치도 수원시 팔달구 강남대823길',\n '경기도 충주시 삼성거리 (미영김배동)',\n '인천광역시 영등포구 반포대가 (준호김홍동)',\n '전라북도 천안시 서북구 석촌호수거리',\n '충청남도 성남시 삼성4로',\n '서울특별시 관악구 반포대길 (준호한리)',\n '전라남도 부천시 원미구 개포3길 (승민김마을)',\n '충청북도 고양시 백제고분7가 (영일김리)',\n '대전광역시 강동구 양재천로',\n '세종특별자치시 구로구 영동대995거리',\n '전라북도 용인시 처인구 석촌호수448길 (승민박마을)',\n '강원도 수원시 장안구 역삼727거리 (예지이이면)',\n '서울특별시 도봉구 영동대958거리 (영길이면)',\n '울산광역시 서대문구 봉은사가',\n '세종특별자치시 강동구 가락거리 (정남최김리)',\n '광주광역시 도봉구 언주길',\n '부산광역시 종로구 반포대로',\n '광주광역시 강남구 서초중앙67거리',\n '부산광역시 동작구 삼성가 (경희이황리)',\n '대전광역시 종로구 양재천15가 (민지김읍)',\n '경상남도 의정부시 테헤란길',\n '광주광역시 서초구 역삼368길 (미경김이면)',\n '광주광역시 종로구 삼성가 (현우박홍동)',\n '광주광역시 성북구 압구정로 (서윤이읍)',\n '대구광역시 관악구 학동117길 (예원윤김읍)',\n '대전광역시 구로구 학동거리 (예원김읍)',\n '대구광역시 서구 오금거리 (민수이마을)',\n '강원도 진천군 서초중앙가 (민준권마을)',\n '울산광역시 은평구 서초중앙로',\n '부산광역시 서대문구 가락거리 (영숙이김면)',\n '충청남도 계룡시 역삼040길',\n '전라북도 안양시 동안구 서초대로',\n '제주특별자치도 충주시 석촌호수가 (서현김진리)',\n '전라북도 영동군 강남대522가',\n '경상북도 부천시 오정구 개포452가 (종수김이마을)',\n '경기도 괴산군 학동5거리 (중수손리)',\n '울산광역시 중랑구 서초대가 (명숙한심마을)',\n '충청북도 옥천군 테헤란거리',\n '경상북도 청주시 청원구 강남대길',\n '제주특별자치도 성남시 중원구 압구정가 (춘자박백면)',\n '세종특별자치시 은평구 반포대35거리 (지혜김리)',\n '전라남도 청주시 서원구 논현7거리 (유진이서동)',\n '경상북도 오산시 학동길',\n '제주특별자치도 증평군 오금로',\n '충청남도 충주시 학동가 (하윤류면)',\n '전라북도 천안시 동남구 서초중앙로',\n '충청북도 광명시 역삼2가',\n '울산광역시 동작구 잠실로 (도현김리)',\n '서울특별시 은평구 선릉로',\n '경기도 철원군 서초중앙로',\n '광주광역시 동작구 서초중앙거리 (순옥이엄리)',\n '강원도 연천군 가락0길',\n '광주광역시 서대문구 도산대로',\n '대전광역시 동작구 논현86가',\n '충청남도 안산시 단원구 잠실571로 (윤서남김면)',\n '서울특별시 서초구 도산대거리 (예준강최면)',\n '부산광역시 용산구 석촌호수58거리 (선영나면)',\n '충청북도 횡성군 선릉길',\n '경상남도 평택시 양재천길 (지혜오차동)',\n '부산광역시 양천구 학동길 (유진박조마을)',\n '세종특별자치시 양천구 논현9로',\n '경상남도 정선군 가락697길 (유진이심읍)',\n '부산광역시 강북구 영동대026길 (수빈김마을)',\n '경상북도 부천시 오정구 테헤란거리 (건우김오읍)',\n '대전광역시 동구 압구정길',\n '전라남도 남양주시 삼성10길',\n '경기도 공주시 잠실가 (영희이오리)',\n '전라남도 동해시 언주가 (은주이면)',\n '인천광역시 영등포구 봉은사길',\n '전라남도 용인시 처인구 석촌호수5가 (경희이이읍)',\n '대전광역시 서대문구 역삼가',\n '광주광역시 북구 봉은사79거리',\n '광주광역시 성동구 반포대로',\n '인천광역시 중랑구 잠실거리 (예준이면)',\n '충청북도 충주시 석촌호수553길',\n '강원도 동두천시 학동20가',\n '대전광역시 중구 테헤란969로',\n '강원도 부천시 오정구 양재천5길',\n '경상남도 충주시 테헤란로 (현정강윤동)',\n '강원도 수원시 반포대0가',\n '대구광역시 광진구 압구정로',\n '광주광역시 동대문구 개포길 (은지오강리)',\n '충청남도 진천군 압구정996거리',\n '대구광역시 강남구 가락가',\n '세종특별자치시 영등포구 봉은사거리',\n '전라남도 옥천군 강남대48길 (준서김동)',\n '경상남도 안양시 만안구 학동448길',\n '광주광역시 강북구 서초중앙727거리',\n '경상북도 성남시 가락10거리 (영미오김동)',\n '전라남도 강릉시 백제고분2거리 (성현유읍)',\n '경상북도 평택시 봉은사길',\n '서울특별시 동작구 영동대길',\n '세종특별자치시 북구 테헤란277길',\n '세종특별자치시 중구 언주597거리 (채원김마을)',\n '광주광역시 동구 테헤란길',\n '서울특별시 도봉구 선릉거리',\n '경상남도 하남시 서초중앙로 (영수류조마을)',\n '제주특별자치도 화성시 역삼가 (은영이마을)',\n '강원도 음성군 강남대길 (윤서송리)',\n '전라남도 철원군 봉은사982길',\n '인천광역시 마포구 서초중앙거리 (미정김이면)',\n '제주특별자치도 충주시 선릉거리',\n '울산광역시 은평구 역삼가',\n '전라남도 춘천시 테헤란거리 (채원이김리)',\n '경기도 수원시 팔달구 잠실792거리 (지현주이동)',\n '부산광역시 강서구 잠실거리',\n '대구광역시 중랑구 학동길',\n '세종특별자치시 용산구 언주12거리 (영자오마을)',\n '인천광역시 송파구 백제고분360거리',\n '경상남도 수원시 팔달구 압구정155거리',\n '부산광역시 마포구 강남대81거리',\n '경기도 공주시 개포8거리',\n '제주특별자치도 화천군 강남대54거리',\n '대구광역시 서대문구 선릉0길 (광수장마을)',\n '전라북도 용인시 수지구 선릉40가',\n '부산광역시 강북구 역삼0가 (병철양동)',\n '인천광역시 서대문구 봉은사00거리',\n '부산광역시 종로구 언주25길',\n '제주특별자치도 성남시 수정구 선릉0로 (미경진읍)',\n '경기도 포천시 논현가',\n '서울특별시 영등포구 영동대2길 (성현최나동)',\n '충청남도 양주시 서초중앙47길',\n '울산광역시 성동구 봉은사971거리 (지혜서리)',\n '부산광역시 금천구 백제고분가',\n '전라남도 부천시 반포대346거리 (예지장면)',\n '전라북도 홍성군 영동대가 (영자이박면)',\n '전라북도 청주시 서원구 선릉거리 (지훈김이리)',\n '충청남도 성남시 중원구 오금가',\n '전라북도 안양시 동안구 도산대3가',\n '세종특별자치시 관악구 잠실로 (미정김장읍)',\n '부산광역시 남구 가락가 (정수백면)',\n '서울특별시 동대문구 양재천길',\n '대구광역시 성북구 반포대0길 (정훈김이마을)',\n '충청북도 예산군 도산대66가 (지원이전리)',\n '충청남도 용인시 기흥구 오금30로 (유진이김읍)',\n '대구광역시 강북구 석촌호수길',\n '경상남도 괴산군 학동로 (예은이권면)',\n '경기도 안양시 만안구 압구정가 (지원김이마을)',\n '전라북도 안양시 만안구 반포대가 (준서박마을)',\n '강원도 수원시 영통구 오금길 (수빈이박마을)',\n '경상남도 계룡시 학동로 (우진김오동)',\n '대전광역시 도봉구 강남대38거리',\n '경상북도 김포시 선릉가 (예진한노마을)',\n '부산광역시 송파구 영동대623로',\n '전라남도 음성군 서초중앙거리',\n '서울특별시 서대문구 백제고분길 (정호박박마을)',\n '제주특별자치도 용인시 기흥구 석촌호수82로 (서연김리)',\n '대전광역시 북구 삼성7로',\n '경상북도 예산군 삼성길 (건우박이면)',\n '대구광역시 남구 잠실3거리',\n '대구광역시 영등포구 테헤란698가 (아름노이읍)',\n '대전광역시 북구 석촌호수660거리 (명숙박동)',\n '경기도 삼척시 가락길 (성현최리)',\n '대구광역시 성북구 봉은사998가',\n '제주특별자치도 이천시 오금로',\n '부산광역시 강북구 선릉03가',\n '경상북도 철원군 백제고분거리 (준서이배동)',\n '경상남도 천안시 동남구 서초대거리 (민지김김리)',\n '인천광역시 광진구 개포692가 (혜진김리)',\n '광주광역시 구로구 봉은사길 (영순이리)',\n '광주광역시 노원구 석촌호수643가 (춘자류김리)',\n '세종특별자치시 노원구 테헤란623길',\n '충청남도 안양시 역삼길',\n '울산광역시 영등포구 삼성로 (숙자최이면)',\n '경기도 부천시 도산대9로 (중수김한마을)',\n '강원도 보령시 도산대로 (성민김김마을)',\n '서울특별시 은평구 서초중앙5로',\n '대구광역시 중구 언주69가 (채원김읍)',\n '인천광역시 양천구 테헤란거리 (정식김김면)',\n '경기도 동두천시 압구정20로 (순옥황박마을)',\n '경기도 구리시 백제고분9거리',\n '경상남도 부천시 오정구 선릉2거리',\n '부산광역시 강동구 가락가',\n '충청남도 정선군 백제고분가 (종수우마을)',\n '인천광역시 금천구 영동대가',\n '대전광역시 강동구 강남대거리',\n '인천광역시 구로구 봉은사3로',\n '전라남도 양주시 언주4가',\n '세종특별자치시 송파구 양재천길',\n '대전광역시 송파구 선릉가',\n '경상북도 동두천시 양재천4로',\n '대전광역시 양천구 역삼거리',\n '경기도 괴산군 영동대08가',\n '전라남도 태백시 역삼57로 (서준김읍)',\n '울산광역시 송파구 압구정가 (영미최배동)',\n '전라남도 청양군 잠실가',\n '강원도 안양시 역삼거리 (상현김읍)',\n '제주특별자치도 용인시 처인구 서초대255가',\n '대전광역시 동작구 반포대가 (서준김동)',\n '경상북도 동두천시 도산대9로 (미숙이김마을)',\n '충청북도 파주시 선릉17길 (시우이동)',\n '광주광역시 송파구 가락길 (옥자오면)',\n '부산광역시 은평구 학동거리 (현준고조면)',\n '충청남도 고성군 가락로',\n '대전광역시 서대문구 압구정892길 (준호정리)',\n '충청남도 횡성군 테헤란25가 (상현박리)',\n '경상북도 안산시 오금거리',\n '울산광역시 동구 반포대932가 (정훈김허면)',\n '대구광역시 강북구 언주83로',\n '충청북도 평창군 석촌호수091로',\n '충청북도 하남시 도산대655길',\n '경기도 영동군 백제고분길',\n '경상북도 구리시 논현690로',\n '경상남도 양구군 오금거리',\n '대전광역시 동구 도산대길',\n '충청북도 용인시 처인구 석촌호수597로',\n '경상북도 부여군 잠실거리 (준혁이황마을)',\n '경상북도 태안군 강남대거리',\n '강원도 인제군 학동8길 (준영박박읍)',\n '경기도 고성군 학동거리',\n '전라남도 영동군 논현로',\n '충청북도 성남시 중원구 도산대254길 (성진김면)',\n '울산광역시 남구 압구정로 (영숙황동)',\n '대전광역시 강북구 논현9로 (진호서이동)',\n '대구광역시 종로구 압구정213거리',\n '인천광역시 용산구 개포가',\n '경상남도 군포시 반포대거리 (영미이동)',\n '경상북도 과천시 봉은사거리',\n '대구광역시 동구 압구정길 (숙자이백읍)',\n '제주특별자치도 속초시 서초대로',\n '광주광역시 서대문구 테헤란거리',\n '강원도 수원시 장안구 잠실08길',\n '전라남도 증평군 역삼길 (준호안읍)',\n '제주특별자치도 수원시 권선구 백제고분가',\n '충청남도 홍천군 서초대거리 (명자송리)',\n '강원도 홍성군 양재천가 (상현조김동)',\n '제주특별자치도 당진시 석촌호수가 (수빈김황동)',\n '제주특별자치도 성남시 분당구 역삼9거리 (현숙박이동)',\n '광주광역시 용산구 학동거리',\n '경상북도 고양시 일산동구 역삼거리',\n '충청북도 화천군 언주1로',\n '경상남도 태백시 백제고분길',\n '강원도 서천군 석촌호수로',\n '전라북도 과천시 강남대7길 (영순안강마을)',\n '경상남도 연천군 가락5길',\n '서울특별시 광진구 가락가 (현주김이리)',\n '세종특별자치시 강서구 오금거리',\n '전라북도 금산군 양재천길 (건우최이리)',\n '세종특별자치시 광진구 학동가',\n '제주특별자치도 부여군 선릉769길',\n '전라남도 파주시 선릉467로 (선영김리)',\n '광주광역시 은평구 학동32로 (영철홍동)',\n '서울특별시 서구 잠실거리',\n '제주특별자치도 수원시 권선구 테헤란길 (정식송읍)',\n '대전광역시 노원구 압구정길',\n '대전광역시 금천구 테헤란거리 (지원심읍)',\n '제주특별자치도 당진시 강남대길 (은정김이동)',\n '부산광역시 성동구 봉은사3길 (영미최읍)',\n '충청남도 부여군 강남대길',\n '광주광역시 송파구 가락로 (영희서면)',\n '울산광역시 중구 서초중앙7거리',\n '전라북도 고양시 일산동구 테헤란로 (정호노리)',\n '인천광역시 동구 석촌호수55길 (경희한이면)',\n '전라남도 논산시 백제고분길 (예지진조읍)',\n '울산광역시 강남구 서초중앙로 (서윤한동)',\n '충청북도 철원군 테헤란거리',\n '전라북도 정선군 반포대611길 (진우이이읍)',\n '전라북도 삼척시 테헤란길 (현우안면)',\n '충청북도 강릉시 석촌호수761가 (현주백면)',\n '경기도 용인시 기흥구 테헤란31길',\n '전라남도 의왕시 영동대403가',\n '대전광역시 노원구 도산대145거리',\n '대구광역시 구로구 잠실로',\n '서울특별시 금천구 양재천로',\n '대구광역시 남구 압구정길',\n '세종특별자치시 강남구 강남대가 (영진안최면)',\n '세종특별자치시 서초구 봉은사거리 (재호권읍)',\n '인천광역시 서구 석촌호수339거리 (수민지김읍)',\n '서울특별시 강북구 논현가',\n '충청북도 부천시 서초대069길',\n '서울특별시 노원구 역삼7길',\n '부산광역시 종로구 가락89가',\n '충청남도 진천군 삼성로 (서준이면)',\n '경상남도 동해시 테헤란94가 (수빈이이리)',\n '서울특별시 남구 서초대90거리',\n '서울특별시 성동구 역삼길 (미영황배면)',\n '강원도 안양시 만안구 역삼8길',\n '대전광역시 마포구 테헤란358거리 (지훈오면)',\n '인천광역시 종로구 압구정로',\n '세종특별자치시 강남구 개포263거리',\n '경상북도 충주시 논현2길',\n '전라남도 안양시 동안구 양재천774거리 (진호배엄읍)',\n '부산광역시 북구 언주0거리',\n '부산광역시 관악구 서초중앙09거리 (은영허리)',\n '충청북도 부천시 봉은사가',\n '전라북도 원주시 선릉길',\n '대구광역시 서구 언주가',\n '대구광역시 마포구 도산대1로',\n '제주특별자치도 수원시 오금로 (은정김리)',\n '대전광역시 동작구 서초대867로 (현정김마을)',\n '전라북도 오산시 잠실길 (하은이안면)',\n '경기도 청주시 상당구 압구정가',\n '서울특별시 북구 서초대48가',\n '세종특별자치시 종로구 양재천609가',\n '광주광역시 금천구 봉은사로 (예은김리)',\n '경상북도 김포시 압구정로 (영진박마을)',\n '울산광역시 마포구 강남대6길',\n '대전광역시 구로구 선릉035길',\n '대전광역시 은평구 역삼488가',\n '대전광역시 관악구 양재천07로',\n '충청남도 청양군 삼성9가 (진호유동)',\n '충청남도 포천시 학동1거리',\n '인천광역시 마포구 봉은사길',\n '인천광역시 광진구 영동대682로 (채원김마을)',\n '충청북도 천안시 서북구 영동대9로 (재호서동)',\n '전라남도 동두천시 개포4로',\n '대전광역시 송파구 압구정거리',\n '대구광역시 동대문구 삼성7거리 (은정최마을)',\n '인천광역시 금천구 서초중앙1로',\n '대전광역시 북구 반포대34가',\n '충청남도 금산군 잠실1가 (성수김면)',\n '광주광역시 강북구 삼성길 (서영배읍)',\n '대전광역시 성북구 서초대거리',\n '대구광역시 동작구 서초대거리 (서영류면)',\n '제주특별자치도 양구군 학동7거리 (성수오동)',\n '서울특별시 북구 삼성272길 (현숙남마을)',\n '제주특별자치도 수원시 장안구 양재천가 (성호유동)',\n '경기도 제천시 개포55길 (영순조리)',\n '전라북도 청양군 강남대337가 (승현장리)',\n '경기도 옥천군 서초중앙468로 (명자이김면)',\n '인천광역시 관악구 서초대로',\n '대전광역시 강서구 잠실가 (상현최면)',\n '전라북도 부천시 오정구 강남대0로 (성훈이류읍)',\n '부산광역시 강동구 양재천896거리 (지아오송면)',\n '제주특별자치도 연천군 서초중앙09거리 (정자송최동)',\n '대전광역시 서대문구 삼성거리 (성민이마을)',\n '강원도 충주시 오금거리',\n '전라남도 단양군 양재천길 (은서안이리)',\n '세종특별자치시 강동구 언주93거리',\n '세종특별자치시 성동구 영동대길',\n '인천광역시 성북구 영동대7가 (정호이한읍)',\n '세종특별자치시 노원구 논현286거리 (종수황이마을)',\n '제주특별자치도 양구군 백제고분377로 (현지문면)',\n '서울특별시 성동구 봉은사거리',\n '전라남도 제천시 삼성가',\n '충청북도 양양군 석촌호수99거리 (승민윤마을)',\n '서울특별시 마포구 논현501로',\n '전라남도 수원시 양재천57가 (건우이백마을)',\n '제주특별자치도 고양시 도산대거리 (민지권동)',\n '세종특별자치시 은평구 역삼850로',\n '대구광역시 송파구 오금616가 (광수권동)',\n '울산광역시 중구 개포3거리',\n '강원도 시흥시 언주1거리 (상호김읍)',\n '부산광역시 노원구 테헤란로 (영숙박리)',\n '부산광역시 서초구 선릉71거리 (민석고리)',\n '경상북도 양양군 역삼가 (서윤이이읍)',\n '울산광역시 동작구 역삼739길',\n '대구광역시 구로구 영동대3거리',\n '전라남도 동두천시 석촌호수로 (서현김이마을)',\n '경상남도 하남시 학동길',\n '경상남도 용인시 논현48거리',\n '충청남도 성남시 도산대918로 (영호이면)',\n '세종특별자치시 도봉구 영동대길 (명자김리)',\n '강원도 용인시 수지구 역삼거리',\n '울산광역시 용산구 반포대거리 (보람윤마을)',\n '제주특별자치도 구리시 선릉6거리 (채원조마을)',\n '대구광역시 남구 도산대3가',\n '충청북도 논산시 논현91가 (지연양이마을)',\n '경기도 청주시 상당구 개포163로 (은서나이읍)',\n '강원도 성남시 수정구 역삼50가',\n '부산광역시 동대문구 백제고분2로 (현우김동)',\n '경상남도 군포시 오금209가',\n '인천광역시 중랑구 봉은사로 (성진서리)',\n '경기도 논산시 서초대219거리',\n '전라북도 광명시 서초대680가',\n '제주특별자치도 성남시 수정구 삼성978가',\n '제주특별자치도 양구군 오금거리 (성훈성김면)',\n '부산광역시 종로구 언주947길',\n '서울특별시 강북구 봉은사로',\n '서울특별시 양천구 선릉57가',\n '충청북도 광주시 양재천길 (정남이리)',\n '경상남도 증평군 압구정가 (지은이김면)',\n '인천광역시 서구 서초대7가 (성호우김면)',\n '경상북도 청양군 역삼거리',\n '제주특별자치도 용인시 수지구 압구정95가',\n '경기도 파주시 석촌호수761길',\n '인천광역시 성동구 삼성4로 (선영강남동)',\n '대전광역시 강북구 봉은사거리 (민수박최읍)',\n '경기도 아산시 도산대1로',\n '인천광역시 중구 석촌호수길',\n '광주광역시 금천구 양재천가',\n '대구광역시 강동구 가락85로 (경숙김마을)',\n '경상북도 여주시 개포가 (지현김김리)',\n '울산광역시 은평구 언주96로',\n '인천광역시 중구 석촌호수가 (예지장리)',\n '전라북도 진천군 역삼5거리 (서윤김동)',\n '전라남도 안산시 단원구 역삼로',\n '부산광역시 은평구 양재천02로 (은서이서리)',\n '세종특별자치시 남구 테헤란2로 (건우김이리)',\n '세종특별자치시 서대문구 테헤란길',\n '충청북도 보령시 논현거리 (민석조면)',\n '울산광역시 도봉구 영동대5길',\n '대전광역시 영등포구 오금길 (예준오읍)',\n '서울특별시 용산구 압구정길 (성민박안동)',\n '인천광역시 관악구 백제고분로 (도현고오동)',\n '대전광역시 서초구 논현246길 (재현고마을)',\n '부산광역시 성북구 백제고분길 (영미김마을)',\n '전라북도 영동군 양재천거리',\n '세종특별자치시 용산구 양재천97가',\n '강원도 보은군 양재천4길 (정호박리)',\n '경상남도 안양시 서초중앙거리 (아름김마을)',\n '경기도 안양시 백제고분가 (미경박읍)',\n '서울특별시 영등포구 역삼96길',\n '제주특별자치도 성남시 분당구 서초대로',\n '강원도 안산시 상록구 백제고분292길 (현숙배김면)',\n '울산광역시 성북구 학동길',\n '대구광역시 서대문구 테헤란3로',\n '강원도 화천군 언주2길 (춘자김장읍)',\n '경기도 춘천시 잠실거리',\n '대구광역시 영등포구 반포대93로 (정웅이읍)',\n '세종특별자치시 광진구 석촌호수길 (보람윤리)',\n '경상남도 인제군 반포대6로 (경희류동)',\n '충청남도 계룡시 서초중앙94로 (경자한동)',\n '부산광역시 노원구 영동대가 (정남안양면)',\n '광주광역시 서대문구 논현437로',\n '인천광역시 서대문구 논현거리 (상훈이동)',\n '부산광역시 영등포구 서초대42거리 (영일박이읍)',\n '충청남도 보령시 봉은사로 (민지김마을)',\n '제주특별자치도 동해시 잠실길 (우진최면)',\n '경상북도 안산시 단원구 압구정거리',\n '세종특별자치시 양천구 양재천거리',\n '대구광역시 용산구 양재천28거리 (예지서김읍)',\n '경상남도 양평군 석촌호수7가 (예은서박동)',\n '인천광역시 서대문구 논현거리',\n '대구광역시 송파구 반포대846로 (준영성동)',\n '경상남도 영동군 양재천3가',\n '경상남도 부천시 영동대거리',\n '울산광역시 서대문구 삼성623가 (정수김강마을)',\n '충청남도 계룡시 반포대8거리',\n '경상북도 김포시 삼성331로 (도현김이리)',\n '대구광역시 종로구 언주44로',\n '서울특별시 서대문구 영동대가 (재호김마을)',\n '대구광역시 강동구 선릉거리 (윤서황박동)',\n '세종특별자치시 서초구 백제고분7길 (상철김동)',\n '경상남도 계룡시 영동대가',\n '전라남도 계룡시 백제고분723거리 (채원이이동)',\n '광주광역시 북구 강남대27길 (상훈신읍)',\n '경상북도 오산시 영동대로 (도현이이리)',\n '강원도 안양시 서초대1거리',\n '서울특별시 성동구 서초중앙가',\n '대구광역시 강남구 반포대47길 (지혜최면)',\n '대전광역시 종로구 선릉로 (정순이면)',\n '경상남도 수원시 영통구 개포가',\n '광주광역시 서구 석촌호수992거리',\n '충청남도 부천시 오정구 역삼3가 (현숙류읍)',\n '제주특별자치도 홍천군 반포대3가',\n '제주특별자치도 홍성군 백제고분3거리',\n '울산광역시 강서구 봉은사거리',\n '충청남도 성남시 중원구 서초대로',\n '광주광역시 서초구 석촌호수가',\n '세종특별자치시 동대문구 논현가 (승민구면)',\n '경상남도 춘천시 강남대7거리 (재호박권면)',\n '전라남도 가평군 삼성2가',\n '경상북도 청주시 서원구 테헤란87거리',\n '광주광역시 중구 반포대로 (정훈민마을)',\n '광주광역시 중구 삼성717길',\n '대전광역시 송파구 가락로',\n '부산광역시 노원구 선릉5가 (진호엄윤면)',\n '울산광역시 동구 압구정08거리',\n '대전광역시 동작구 학동199길',\n '광주광역시 중구 테헤란1가',\n '제주특별자치도 성남시 중원구 선릉65거리 (진호이동)',\n '경상북도 철원군 선릉로 (은경백김동)',\n '강원도 안양시 논현길 (상호유마을)',\n '전라남도 고양시 덕양구 선릉5길 (영환김김읍)',\n '대구광역시 중구 역삼212로',\n '충청북도 청양군 역삼20가 (영호허면)',\n '제주특별자치도 수원시 팔달구 도산대033로 (미영김면)',\n '세종특별자치시 구로구 학동074가 (정희최김읍)',\n '울산광역시 동작구 역삼93길',\n '전라남도 구리시 오금4거리',\n '경기도 속초시 압구정거리',\n '강원도 성남시 분당구 서초중앙길 (춘자구리)',\n '대전광역시 강서구 봉은사로',\n '서울특별시 도봉구 역삼로',\n '대전광역시 서대문구 학동길',\n '전라남도 고양시 일산동구 논현06로 (우진류홍면)',\n '제주특별자치도 용인시 수지구 오금거리',\n '경상남도 강릉시 역삼241길',\n '광주광역시 마포구 강남대로 (예진박유동)',\n '대구광역시 강서구 논현가',\n '강원도 과천시 서초대241거리 (은영최한면)',\n '인천광역시 은평구 가락로 (승현김읍)',\n '경상남도 천안시 서북구 압구정거리',\n '인천광역시 중랑구 양재천088길',\n '전라북도 용인시 기흥구 논현4로',\n '제주특별자치도 보령시 잠실로 (정남이민리)',\n '서울특별시 중랑구 잠실길',\n '대전광역시 서대문구 영동대0로 (은정신강면)',\n '세종특별자치시 서대문구 선릉로 (서윤김강면)',\n '대구광역시 양천구 논현거리 (영미이권리)',\n '광주광역시 성동구 영동대8로 (영순임서동)',\n '강원도 안성시 개포거리',\n '세종특별자치시 성북구 영동대로',\n '서울특별시 양천구 강남대길 (도현이이마을)',\n '인천광역시 성북구 논현가',\n '경기도 용인시 서초대21길 (유진민동)',\n '부산광역시 서대문구 도산대로',\n '인천광역시 금천구 도산대18거리',\n '경상북도 고성군 반포대길 (성훈김동)',\n '충청북도 화천군 삼성로 (시우남김리)',\n '제주특별자치도 용인시 봉은사32길',\n '전라북도 영월군 테헤란길 (서현김동)',\n '울산광역시 도봉구 석촌호수가 (승현박동)',\n '서울특별시 은평구 백제고분366길',\n '전라북도 시흥시 강남대가 (상호송박읍)',\n '대전광역시 금천구 역삼17로 (영수김김마을)',\n '울산광역시 관악구 테헤란33길',\n '경상남도 홍성군 학동길 (지은배김마을)',\n '경기도 남양주시 가락333거리',\n '인천광역시 광진구 잠실로 (민준이조면)',\n '인천광역시 서대문구 역삼거리 (정숙장읍)',\n '전라남도 공주시 봉은사가',\n '대전광역시 강북구 양재천912거리 (준영박김면)',\n '경상남도 하남시 도산대37길 (영수서최면)',\n '강원도 고양시 가락817길 (경숙이면)',\n '대전광역시 강남구 잠실690로 (도윤황서동)',\n '경상북도 수원시 개포2거리 (영철박동)',\n '대전광역시 금천구 봉은사82로 (지연송류읍)',\n '세종특별자치시 동작구 반포대거리 (성현박이동)',\n '강원도 양구군 개포가',\n '인천광역시 마포구 개포로',\n '전라북도 용인시 수지구 압구정가',\n '제주특별자치도 광명시 석촌호수0로',\n '광주광역시 양천구 선릉65가',\n '경기도 하남시 잠실3거리',\n '대구광역시 노원구 잠실9로',\n '경기도 동해시 역삼3거리 (미영김최읍)',\n '전라남도 원주시 논현73가 (정남이면)',\n '충청북도 성남시 수정구 서초중앙5길 (현숙김읍)',\n '경기도 고양시 일산서구 테헤란가 (승민이동)',\n '세종특별자치시 성북구 봉은사118길',\n '대구광역시 강동구 학동길',\n '부산광역시 남구 오금891가 (예진박한면)',\n '전라북도 춘천시 삼성가',\n '대전광역시 중구 선릉길 (동현구김리)',\n '전라북도 용인시 처인구 서초대720가 (지민최차동)',\n '서울특별시 동구 언주30로',\n '서울특별시 구로구 반포대가',\n '충청북도 고양시 덕양구 양재천거리',\n '대구광역시 종로구 봉은사거리 (정순김최면)',\n '경기도 당진시 언주602거리',\n '인천광역시 마포구 논현46가',\n '세종특별자치시 강서구 백제고분9길 (성현조김동)',\n '전라남도 서천군 언주길',\n '경상북도 성남시 중원구 봉은사278가',\n '인천광역시 종로구 역삼길',\n '제주특별자치도 청주시 흥덕구 반포대3가 (혜진홍읍)',\n '제주특별자치도 천안시 서북구 오금가',\n '대구광역시 강북구 양재천길',\n '경상남도 수원시 장안구 역삼로 (미경차김마을)',\n '충청남도 안산시 반포대76로 (시우이이마을)',\n '인천광역시 서초구 잠실길 (지원송읍)',\n '부산광역시 성북구 석촌호수거리',\n '대구광역시 금천구 테헤란로 (도윤오리)',\n '충청남도 고양시 일산서구 서초중앙거리 (춘자박면)',\n '강원도 당진시 압구정8길 (준서이동)',\n '제주특별자치도 금산군 논현67로 (은서이동)',\n '부산광역시 강동구 역삼거리',\n '인천광역시 영등포구 서초대가',\n '제주특별자치도 광명시 서초중앙8길',\n '인천광역시 동구 잠실85거리 (지우장읍)',\n '울산광역시 용산구 양재천거리',\n '전라남도 의정부시 논현로 (재현김읍)',\n '전라북도 증평군 백제고분1길 (지영이읍)',\n '경기도 의정부시 서초중앙19길',\n '경기도 남양주시 오금거리',\n '전라북도 부천시 오정구 테헤란25거리 (성진이면)',\n '부산광역시 송파구 서초대가',\n '제주특별자치도 포천시 개포95로',\n '대전광역시 성동구 삼성4길 (은서황마을)',\n '제주특별자치도 의정부시 봉은사04가 (지연김읍)',\n '대구광역시 성동구 학동4가 (정수곽이리)',\n '대전광역시 마포구 반포대794거리',\n '충청북도 남양주시 선릉로',\n '제주특별자치도 안산시 상록구 석촌호수5길',\n '서울특별시 동작구 영동대0거리 (지영김면)',\n '경상남도 가평군 삼성4가',\n '인천광역시 금천구 선릉6로',\n '부산광역시 용산구 서초대거리',\n '광주광역시 강남구 강남대거리 (서연이김리)',\n '울산광역시 중구 서초중앙496가 (경자류권면)',\n '제주특별자치도 안양시 동안구 압구정거리 (서윤김동)',\n '대구광역시 관악구 영동대6로 (상훈김김마을)',\n '전라남도 인제군 서초중앙로',\n '인천광역시 광진구 도산대87거리 (채원김리)',\n '부산광역시 서구 백제고분7가',\n '서울특별시 영등포구 양재천3거리 (명자김마을)',\n '대전광역시 북구 개포거리 (민지양이동)',\n '광주광역시 서초구 강남대84거리',\n '전라북도 부천시 오정구 개포가',\n '광주광역시 성동구 석촌호수거리 (지훈류최마을)',\n '경상남도 청주시 청원구 양재천9거리',\n '세종특별자치시 남구 반포대27가',\n '충청남도 수원시 테헤란가 (미경김마을)',\n '대구광역시 서구 서초대길 (혜진최면)',\n '인천광역시 동대문구 반포대463거리',\n '제주특별자치도 평택시 백제고분로 (성훈박황마을)',\n '세종특별자치시 동구 백제고분가',\n '인천광역시 북구 선릉83거리 (수빈장동)',\n '부산광역시 북구 오금1길 (옥순김이읍)',\n '강원도 청주시 상당구 압구정거리',\n '강원도 단양군 잠실가 (영일김김동)',\n '경기도 홍천군 압구정571길 (승민윤이리)',\n '대구광역시 강북구 잠실0가 (지우서김읍)',\n '경상남도 포천시 양재천거리 (준호최지동)',\n '충청남도 포천시 삼성거리',\n '광주광역시 동구 서초중앙81가',\n '광주광역시 강북구 도산대로 (옥자김리)',\n '부산광역시 동대문구 영동대7로',\n '충청남도 청주시 청원구 압구정4로',\n '광주광역시 동대문구 봉은사225길',\n '대구광역시 구로구 백제고분83길',\n '충청북도 철원군 백제고분9거리 (순옥김동)',\n '광주광역시 양천구 역삼89가',\n '서울특별시 용산구 석촌호수1로',\n '전라남도 군포시 잠실45로 (민서이오읍)',\n '전라북도 안양시 동안구 논현거리 (중수최동)',\n '충청남도 용인시 처인구 역삼0거리 (상호김읍)',\n '울산광역시 성북구 학동길',\n '대전광역시 중랑구 반포대로',\n '충청북도 영동군 서초중앙1가 (미영김리)',\n '인천광역시 관악구 반포대5로 (준영강마을)',\n '전라남도 화성시 논현5로',\n '경상남도 의정부시 영동대가',\n '강원도 의왕시 양재천37거리 (영미고리)',\n '서울특별시 강남구 서초대거리',\n '서울특별시 강동구 석촌호수212길',\n '강원도 부여군 영동대거리',\n '서울특별시 종로구 오금로 (은정하조읍)',\n '경기도 서산시 압구정1로',\n '제주특별자치도 안양시 테헤란거리 (정자김읍)',\n '울산광역시 동대문구 언주거리 (지후김최면)',\n '대전광역시 서초구 오금732거리',\n '광주광역시 관악구 강남대거리 (예원고박동)',\n '충청남도 부천시 소사구 개포가 (정훈박박면)',\n '대구광역시 용산구 서초중앙17로 (미숙이윤마을)',\n '인천광역시 강북구 백제고분길 (지민오마을)',\n '부산광역시 강서구 역삼로',\n '경상남도 수원시 장안구 언주로',\n '경상북도 인제군 논현2로',\n '제주특별자치도 시흥시 서초대42길 (상훈이면)',\n '제주특별자치도 강릉시 선릉거리 (하은김최읍)',\n '전라북도 용인시 기흥구 가락54가',\n '광주광역시 용산구 오금238가',\n '대전광역시 관악구 강남대048로',\n '경상남도 제천시 도산대012가 (은서이김마을)',\n '대전광역시 금천구 논현44길',\n '전라북도 이천시 백제고분2가 (종수김심리)',\n '충청남도 태백시 삼성가',\n '대구광역시 성북구 강남대9거리 (지영백리)',\n '전라북도 연천군 반포대거리 (영철서면)',\n '인천광역시 관악구 강남대거리 (영길장읍)',\n '광주광역시 강북구 서초대0거리',\n '전라북도 동해시 선릉길',\n '세종특별자치시 동대문구 석촌호수98로',\n '경상북도 공주시 가락로 (영길강리)',\n '충청남도 이천시 양재천거리',\n '대전광역시 강동구 도산대길 (지민백박마을)',\n '대전광역시 양천구 서초대로',\n '대구광역시 강서구 선릉5로',\n '제주특별자치도 강릉시 역삼727가',\n '경상남도 고성군 선릉4로',\n '인천광역시 마포구 테헤란가',\n '경상남도 광주시 도산대가',\n '대전광역시 서초구 오금로 (도현황허동)',\n '충청북도 시흥시 압구정거리',\n '울산광역시 성동구 개포6길',\n '강원도 철원군 영동대거리',\n '대전광역시 남구 언주92가',\n '부산광역시 광진구 잠실196거리 (은정고읍)',\n '세종특별자치시 성동구 언주거리',\n '전라북도 용인시 기흥구 서초중앙길',\n '경상북도 천안시 동남구 가락2길',\n '강원도 춘천시 압구정987거리 (민수손이동)']"
     },
     "execution_count": 85,
     "metadata": {},
     "output_type": "execute_result"
    }
   ],
   "source": [
    "b"
   ],
   "metadata": {
    "collapsed": false,
    "ExecuteTime": {
     "end_time": "2023-07-04T03:00:04.921785700Z",
     "start_time": "2023-07-04T03:00:04.893857900Z"
    }
   }
  },
  {
   "cell_type": "code",
   "execution_count": 88,
   "outputs": [],
   "source": [
    "c = []\n",
    "for i in b:\n",
    "    result = i.split(\" \")[0]\n",
    "    c.append(result)"
   ],
   "metadata": {
    "collapsed": false,
    "ExecuteTime": {
     "end_time": "2023-07-04T03:02:06.621329800Z",
     "start_time": "2023-07-04T03:02:06.605049600Z"
    }
   }
  },
  {
   "cell_type": "code",
   "execution_count": 89,
   "outputs": [
    {
     "data": {
      "text/plain": "['대구광역시', '제주특별자치도', '경기도', '경상남도', '충청남도']"
     },
     "execution_count": 89,
     "metadata": {},
     "output_type": "execute_result"
    }
   ],
   "source": [
    "c[:5]"
   ],
   "metadata": {
    "collapsed": false,
    "ExecuteTime": {
     "end_time": "2023-07-04T03:02:07.458029800Z",
     "start_time": "2023-07-04T03:02:07.449906100Z"
    }
   }
  },
  {
   "cell_type": "code",
   "execution_count": 90,
   "outputs": [],
   "source": [
    "d = \"\\r\\n\".join(c)"
   ],
   "metadata": {
    "collapsed": false,
    "ExecuteTime": {
     "end_time": "2023-07-04T03:03:40.306729100Z",
     "start_time": "2023-07-04T03:03:40.267803100Z"
    }
   }
  },
  {
   "cell_type": "code",
   "execution_count": 91,
   "outputs": [
    {
     "data": {
      "text/plain": "'대구광역시\\r\\n제주특별자치도\\r\\n경기도\\r\\n경상남도\\r\\n충청남도\\r\\n인천광역시\\r\\n경상북도\\r\\n인천광역시\\r\\n세종특별자치시\\r\\n세종특별자치시\\r\\n경상남도\\r\\n제주특별자치도\\r\\n울산광역시\\r\\n세종특별자치시'"
     },
     "execution_count": 91,
     "metadata": {},
     "output_type": "execute_result"
    }
   ],
   "source": [
    "d[:100]"
   ],
   "metadata": {
    "collapsed": false,
    "ExecuteTime": {
     "end_time": "2023-07-04T03:07:08.267651400Z",
     "start_time": "2023-07-04T03:07:08.229675100Z"
    }
   }
  },
  {
   "cell_type": "code",
   "execution_count": 92,
   "outputs": [],
   "source": [
    "cb.copy(d)"
   ],
   "metadata": {
    "collapsed": false,
    "ExecuteTime": {
     "end_time": "2023-07-04T03:07:44.271303700Z",
     "start_time": "2023-07-04T03:07:44.249391Z"
    }
   }
  },
  {
   "cell_type": "code",
   "execution_count": 126,
   "outputs": [],
   "source": [
    "a = cb.paste()"
   ],
   "metadata": {
    "collapsed": false,
    "ExecuteTime": {
     "end_time": "2023-07-04T03:34:44.598669400Z",
     "start_time": "2023-07-04T03:34:44.590306200Z"
    }
   }
  },
  {
   "cell_type": "code",
   "execution_count": 127,
   "outputs": [
    {
     "data": {
      "text/plain": "'mail\\r\\nyeon'"
     },
     "execution_count": 127,
     "metadata": {},
     "output_type": "execute_result"
    }
   ],
   "source": [
    "a[:10]"
   ],
   "metadata": {
    "collapsed": false,
    "ExecuteTime": {
     "end_time": "2023-07-04T03:34:49.688957800Z",
     "start_time": "2023-07-04T03:34:49.665483400Z"
    }
   }
  },
  {
   "cell_type": "code",
   "execution_count": 128,
   "outputs": [],
   "source": [
    "b = a.split(\"\\r\\n\")"
   ],
   "metadata": {
    "collapsed": false,
    "ExecuteTime": {
     "end_time": "2023-07-04T03:34:54.801571300Z",
     "start_time": "2023-07-04T03:34:54.765713700Z"
    }
   }
  },
  {
   "cell_type": "code",
   "execution_count": 129,
   "outputs": [],
   "source": [
    "b = [i for i in b if i]"
   ],
   "metadata": {
    "collapsed": false,
    "ExecuteTime": {
     "end_time": "2023-07-04T03:34:57.845604700Z",
     "start_time": "2023-07-04T03:34:57.793174Z"
    }
   }
  },
  {
   "cell_type": "code",
   "execution_count": 132,
   "outputs": [],
   "source": [
    "b = b[1:]"
   ],
   "metadata": {
    "collapsed": false,
    "ExecuteTime": {
     "end_time": "2023-07-04T03:35:12.011512700Z",
     "start_time": "2023-07-04T03:35:11.992648200Z"
    }
   }
  },
  {
   "cell_type": "code",
   "execution_count": 133,
   "outputs": [],
   "source": [
    "b = [i.split(\"@\")[1] for i in b if i]"
   ],
   "metadata": {
    "collapsed": false,
    "ExecuteTime": {
     "end_time": "2023-07-04T03:35:13.591178900Z",
     "start_time": "2023-07-04T03:35:13.584183400Z"
    }
   }
  },
  {
   "cell_type": "code",
   "execution_count": 134,
   "outputs": [
    {
     "data": {
      "text/plain": "['daum.net', 'live.com', 'nate.com', 'hanmail.net', 'daum.net']"
     },
     "execution_count": 134,
     "metadata": {},
     "output_type": "execute_result"
    }
   ],
   "source": [
    "b[:5]"
   ],
   "metadata": {
    "collapsed": false,
    "ExecuteTime": {
     "end_time": "2023-07-04T03:35:16.239595200Z",
     "start_time": "2023-07-04T03:35:16.231282300Z"
    }
   }
  },
  {
   "cell_type": "code",
   "execution_count": 102,
   "outputs": [],
   "source": [
    "b = b[1:]"
   ],
   "metadata": {
    "collapsed": false,
    "ExecuteTime": {
     "end_time": "2023-07-04T03:31:25.740125700Z",
     "start_time": "2023-07-04T03:31:25.711697100Z"
    }
   }
  },
  {
   "cell_type": "code",
   "execution_count": 135,
   "outputs": [
    {
     "data": {
      "text/plain": "['daum.net', 'live.com', 'nate.com', 'hanmail.net', 'daum.net']"
     },
     "execution_count": 135,
     "metadata": {},
     "output_type": "execute_result"
    }
   ],
   "source": [
    "b[:5]"
   ],
   "metadata": {
    "collapsed": false,
    "ExecuteTime": {
     "end_time": "2023-07-04T03:36:37.094305700Z",
     "start_time": "2023-07-04T03:36:37.086404300Z"
    }
   }
  },
  {
   "cell_type": "code",
   "execution_count": 136,
   "outputs": [],
   "source": [
    "cb.copy(\"\\r\\n\".join(b))"
   ],
   "metadata": {
    "collapsed": false,
    "ExecuteTime": {
     "end_time": "2023-07-04T03:36:51.347076300Z",
     "start_time": "2023-07-04T03:36:51.314291300Z"
    }
   }
  },
  {
   "cell_type": "code",
   "execution_count": 137,
   "outputs": [],
   "source": [
    "# 판다스로 데이터 정제\n",
    "\n",
    "df = pd.read_clipboard()"
   ],
   "metadata": {
    "collapsed": false,
    "ExecuteTime": {
     "end_time": "2023-07-04T03:39:45.771361800Z",
     "start_time": "2023-07-04T03:39:45.735686500Z"
    }
   }
  },
  {
   "cell_type": "code",
   "execution_count": 138,
   "outputs": [
    {
     "data": {
      "text/plain": "                   job  company             ssn               residence  \\\n0                보육 교사      우김고  190227-1322905        대구광역시 강동구 언주942로   \n1  안내 / 접수 사무원 및 전화교환원      김백최  070623-1970480       제주특별자치도 평창군 서초중앙가   \n2             생명과학 시험원  (유) 김김김  830905-1067917         경기도 고양시 압구정42거리   \n3    전기/가스 및 수도 관련 관리자  (주) 김김이  730410-1367021    경상남도 보령시 가락로 (현주허김동)   \n4        채소 및 특용작물 재배원      안최박  230416-1427245  충청남도 태백시 학동305가 (도현김동)   \n\n                                   current_location blood_group  \\\n0  (Decimal('-72.6990855'), Decimal('-139.762973'))         AB+   \n1   (Decimal('-80.690636'), Decimal('-105.008848'))         AB+   \n2    (Decimal('46.875093'), Decimal('-122.012846'))          B-   \n3   (Decimal('-40.7725085'), Decimal('100.347359'))         AB+   \n4      (Decimal('2.351770'), Decimal('-85.450492'))          A+   \n\n                                             website    username name sex  \\\n0  ['https://gimgimyun.kr/', 'http://www.hwanggim...   jeonghogo  홍채원   F   \n1  ['https://yuhanhoesa.org/', 'http://www.jusigh...          ei  김지현   F   \n2         ['https://www.ii.com/', 'https://yu.org/']     ogsun96  박은정   F   \n3                             ['https://www.ju.kr/']  seongjin77  김시우   M   \n4                     ['http://www.jusighoesa.com/']      isujin  정윤서   F   \n\n                  mail   birthdate       시도          도메인  \n0  yeongsun39@daum.net  2010-09-12    대구광역시     daum.net  \n1  hyeonjugim@live.com  1995-01-06  제주특별자치도     live.com  \n2    gimdoyun@nate.com  1938-03-21      경기도     nate.com  \n3     sgim@hanmail.net  1994-05-25     경상남도  hanmail.net  \n4  eunseobaeg@daum.net  2010-04-09     충청남도     daum.net  ",
      "text/html": "<div>\n<style scoped>\n    .dataframe tbody tr th:only-of-type {\n        vertical-align: middle;\n    }\n\n    .dataframe tbody tr th {\n        vertical-align: top;\n    }\n\n    .dataframe thead th {\n        text-align: right;\n    }\n</style>\n<table border=\"1\" class=\"dataframe\">\n  <thead>\n    <tr style=\"text-align: right;\">\n      <th></th>\n      <th>job</th>\n      <th>company</th>\n      <th>ssn</th>\n      <th>residence</th>\n      <th>current_location</th>\n      <th>blood_group</th>\n      <th>website</th>\n      <th>username</th>\n      <th>name</th>\n      <th>sex</th>\n      <th>mail</th>\n      <th>birthdate</th>\n      <th>시도</th>\n      <th>도메인</th>\n    </tr>\n  </thead>\n  <tbody>\n    <tr>\n      <th>0</th>\n      <td>보육 교사</td>\n      <td>우김고</td>\n      <td>190227-1322905</td>\n      <td>대구광역시 강동구 언주942로</td>\n      <td>(Decimal('-72.6990855'), Decimal('-139.762973'))</td>\n      <td>AB+</td>\n      <td>['https://gimgimyun.kr/', 'http://www.hwanggim...</td>\n      <td>jeonghogo</td>\n      <td>홍채원</td>\n      <td>F</td>\n      <td>yeongsun39@daum.net</td>\n      <td>2010-09-12</td>\n      <td>대구광역시</td>\n      <td>daum.net</td>\n    </tr>\n    <tr>\n      <th>1</th>\n      <td>안내 / 접수 사무원 및 전화교환원</td>\n      <td>김백최</td>\n      <td>070623-1970480</td>\n      <td>제주특별자치도 평창군 서초중앙가</td>\n      <td>(Decimal('-80.690636'), Decimal('-105.008848'))</td>\n      <td>AB+</td>\n      <td>['https://yuhanhoesa.org/', 'http://www.jusigh...</td>\n      <td>ei</td>\n      <td>김지현</td>\n      <td>F</td>\n      <td>hyeonjugim@live.com</td>\n      <td>1995-01-06</td>\n      <td>제주특별자치도</td>\n      <td>live.com</td>\n    </tr>\n    <tr>\n      <th>2</th>\n      <td>생명과학 시험원</td>\n      <td>(유) 김김김</td>\n      <td>830905-1067917</td>\n      <td>경기도 고양시 압구정42거리</td>\n      <td>(Decimal('46.875093'), Decimal('-122.012846'))</td>\n      <td>B-</td>\n      <td>['https://www.ii.com/', 'https://yu.org/']</td>\n      <td>ogsun96</td>\n      <td>박은정</td>\n      <td>F</td>\n      <td>gimdoyun@nate.com</td>\n      <td>1938-03-21</td>\n      <td>경기도</td>\n      <td>nate.com</td>\n    </tr>\n    <tr>\n      <th>3</th>\n      <td>전기/가스 및 수도 관련 관리자</td>\n      <td>(주) 김김이</td>\n      <td>730410-1367021</td>\n      <td>경상남도 보령시 가락로 (현주허김동)</td>\n      <td>(Decimal('-40.7725085'), Decimal('100.347359'))</td>\n      <td>AB+</td>\n      <td>['https://www.ju.kr/']</td>\n      <td>seongjin77</td>\n      <td>김시우</td>\n      <td>M</td>\n      <td>sgim@hanmail.net</td>\n      <td>1994-05-25</td>\n      <td>경상남도</td>\n      <td>hanmail.net</td>\n    </tr>\n    <tr>\n      <th>4</th>\n      <td>채소 및 특용작물 재배원</td>\n      <td>안최박</td>\n      <td>230416-1427245</td>\n      <td>충청남도 태백시 학동305가 (도현김동)</td>\n      <td>(Decimal('2.351770'), Decimal('-85.450492'))</td>\n      <td>A+</td>\n      <td>['http://www.jusighoesa.com/']</td>\n      <td>isujin</td>\n      <td>정윤서</td>\n      <td>F</td>\n      <td>eunseobaeg@daum.net</td>\n      <td>2010-04-09</td>\n      <td>충청남도</td>\n      <td>daum.net</td>\n    </tr>\n  </tbody>\n</table>\n</div>"
     },
     "execution_count": 138,
     "metadata": {},
     "output_type": "execute_result"
    }
   ],
   "source": [
    "df.head()"
   ],
   "metadata": {
    "collapsed": false,
    "ExecuteTime": {
     "end_time": "2023-07-04T03:39:49.481259500Z",
     "start_time": "2023-07-04T03:39:49.463306Z"
    }
   }
  },
  {
   "cell_type": "code",
   "execution_count": 140,
   "outputs": [],
   "source": [
    "import datetime as dt"
   ],
   "metadata": {
    "collapsed": false,
    "ExecuteTime": {
     "end_time": "2023-07-04T03:47:34.879374300Z",
     "start_time": "2023-07-04T03:47:34.861354100Z"
    }
   }
  },
  {
   "cell_type": "code",
   "execution_count": 141,
   "outputs": [],
   "source": [
    "start_date = dt.date(2023, 6, 12)"
   ],
   "metadata": {
    "collapsed": false,
    "ExecuteTime": {
     "end_time": "2023-07-04T03:47:45.179415700Z",
     "start_time": "2023-07-04T03:47:45.131682800Z"
    }
   }
  },
  {
   "cell_type": "code",
   "execution_count": 142,
   "outputs": [],
   "source": [
    "end_date = dt.date.today()"
   ],
   "metadata": {
    "collapsed": false,
    "ExecuteTime": {
     "end_time": "2023-07-04T03:47:54.737015100Z",
     "start_time": "2023-07-04T03:47:54.694185500Z"
    }
   }
  },
  {
   "cell_type": "code",
   "execution_count": 143,
   "outputs": [
    {
     "data": {
      "text/plain": "1"
     },
     "execution_count": 143,
     "metadata": {},
     "output_type": "execute_result"
    }
   ],
   "source": [
    "end_date.weekday()"
   ],
   "metadata": {
    "collapsed": false,
    "ExecuteTime": {
     "end_time": "2023-07-04T03:48:12.584024100Z",
     "start_time": "2023-07-04T03:48:12.521518Z"
    }
   }
  }
 ],
 "metadata": {
  "kernelspec": {
   "display_name": "Python 3",
   "language": "python",
   "name": "python3"
  },
  "language_info": {
   "codemirror_mode": {
    "name": "ipython",
    "version": 2
   },
   "file_extension": ".py",
   "mimetype": "text/x-python",
   "name": "python",
   "nbconvert_exporter": "python",
   "pygments_lexer": "ipython2",
   "version": "2.7.6"
  }
 },
 "nbformat": 4,
 "nbformat_minor": 0
}
