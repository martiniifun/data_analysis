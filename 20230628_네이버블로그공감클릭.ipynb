{
 "cells": [
  {
   "cell_type": "markdown",
   "source": [
    "# 네이버 크롤링으로 알아보는 셀레늄 기초\n",
    "\n",
    "## 1. 네이버 블로그 공감버튼 클릭하기"
   ],
   "metadata": {
    "collapsed": false
   }
  },
  {
   "cell_type": "code",
   "execution_count": 119,
   "metadata": {
    "collapsed": true,
    "ExecuteTime": {
     "end_time": "2023-06-28T06:41:49.196457700Z",
     "start_time": "2023-06-28T06:41:49.195946900Z"
    }
   },
   "outputs": [],
   "source": [
    "# 모듈 임포트(크롬이 설치되어 있어야 합니다.)\n",
    "#\n",
    "# %pip install selenium chromedriver_autoinstaller\n",
    "from selenium import webdriver\n",
    "import chromedriver_autoinstaller\n",
    "from selenium.common import NoSuchFrameException, NoSuchElementException\n",
    "from selenium.webdriver.common.by import By"
   ]
  },
  {
   "cell_type": "code",
   "execution_count": 108,
   "outputs": [],
   "source": [
    "# 브라우저 열기(셀레늄으로 돌리는 브라우저를 driver라고 부릅니다.)\n",
    "chromedriver_autoinstaller.install()\n",
    "driver = webdriver.Chrome()"
   ],
   "metadata": {
    "collapsed": false,
    "ExecuteTime": {
     "end_time": "2023-06-28T06:20:01.426493600Z",
     "start_time": "2023-06-28T06:19:59.281704500Z"
    }
   }
  },
  {
   "cell_type": "code",
   "execution_count": 109,
   "outputs": [],
   "source": [
    "# 네이버의 차단정책 때문에 로그인은 수동으로 진행해야 합니다.\n",
    "\n",
    "driver.get(\"https://naver.com\")\n",
    "###### 수작업으로 네이버 로그인할 것."
   ],
   "metadata": {
    "collapsed": false,
    "ExecuteTime": {
     "end_time": "2023-06-28T06:20:04.789223600Z",
     "start_time": "2023-06-28T06:20:04.048159900Z"
    }
   }
  },
  {
   "cell_type": "markdown",
   "source": [
    "내 블로그 아무 포스팅이나 주소를 복사해서 들어가봅시다."
   ],
   "metadata": {
    "collapsed": false
   }
  },
  {
   "cell_type": "code",
   "execution_count": 75,
   "outputs": [],
   "source": [
    "포스팅_주소 = \"https://blog.naver.com/pythonrpa/222977573198\"\n",
    "driver.get(포스팅_주소)"
   ],
   "metadata": {
    "collapsed": false,
    "ExecuteTime": {
     "end_time": "2023-06-28T04:44:58.560202700Z",
     "start_time": "2023-06-28T04:44:57.979189600Z"
    }
   }
  },
  {
   "cell_type": "code",
   "execution_count": 76,
   "outputs": [],
   "source": [
    "# 네이버 블로그는 iframe이라는 태그를 활용합니다.\n",
    "# iframe 태그 안에는 또 다른 html 파일이 삽입되는데\n",
    "# iframe 안의 내용은 switch_to.frame 이라는 명령어를 통해\n",
    "# 내부의 html 안으로 들어간 후에야 접근할 수 있습니다.\n",
    "#\n",
    "# 개발자도구를 잘 살펴보면\n",
    "# 우리가 클릭하고자 하는 공감버튼도 \"mainFrame\"이라는 프레임 안에 있으므로\n",
    "# 아래와 같이 mainFrame 안으로 들어갑니다.\n",
    "\n",
    "driver.switch_to.frame(\"mainFrame\")"
   ],
   "metadata": {
    "collapsed": false,
    "ExecuteTime": {
     "end_time": "2023-06-28T04:47:45.656128700Z",
     "start_time": "2023-06-28T04:47:45.605595100Z"
    }
   }
  },
  {
   "cell_type": "code",
   "execution_count": 77,
   "outputs": [],
   "source": [
    "# 브라우저에서 해당 공감버튼(하트모양)을 우클릭하고\n",
    "# \"검사\"를 선택한 후\n",
    "# 우측의 개발자도구에서 해당 태그(<a ~ >)에 우클릭하고\n",
    "# Copy - Copy selector 를 선택하면\n",
    "# CSS 선택자(CSS Selector)가 클립보드로 복사됩니다.\n",
    "# 복사된 선택자를 통해 공감버튼 요소를 찾아 클릭합니다.\n",
    "\n",
    "공감버튼_선택자 = \"#area_sympathy222977573198 > div > a\"\n",
    "driver.find_element(By.CSS_SELECTOR, 공감버튼_선택자).click()"
   ],
   "metadata": {
    "collapsed": false,
    "ExecuteTime": {
     "end_time": "2023-06-28T04:53:54.203019Z",
     "start_time": "2023-06-28T04:53:54.025988400Z"
    }
   }
  },
  {
   "cell_type": "markdown",
   "source": [
    "공감버튼이 잘 클릭되었습니다.\n",
    "\n",
    "한 가지 아쉬운 점은,\n",
    "\n",
    "이 공감버튼_선택자 문자열을 다른 포스팅에는 사용할 수 없다는 것입니다.\n",
    "\n",
    "왜냐면 공감버튼_선택자 중간에 \"222977573198\"이라는 숫자는\n",
    "\n",
    "포스팅 고유의 번호이기 때문입니다.\n",
    "\n",
    "이런 경우를 대비해 CSS선택자는 아래와 같은 문법도 제공하고 있습니다.\n",
    "\n",
    "\"div[id^='area_sympathy'] > div > a\"\n",
    "(id 속성의 값이 \"area_sympathy\"로 시작하는 div태그 하위의 div태그 하위의 a태그)\n",
    "\n",
    "이 선택자로 코드를 바꾸면 됩니다.\n",
    "\n",
    "동작은 동일하지만, 한 가지 바뀐 점은\n",
    "\n",
    "다른 어느 블로그나 어느 포스팅에 들어가더라도\n",
    "\n",
    "공감버튼을 찾을 수 있게 되었다는 것입니다."
   ],
   "metadata": {
    "collapsed": false
   }
  },
  {
   "cell_type": "code",
   "execution_count": null,
   "outputs": [],
   "source": [
    "공감버튼_선택자 = \"div[id^='area_sympathy'] > div > a\"\n",
    "driver.find_element(By.CSS_SELECTOR, 공감버튼_선택자).click()"
   ],
   "metadata": {
    "collapsed": false
   }
  },
  {
   "cell_type": "markdown",
   "source": [
    "한 가지만 더 보완합시다.\n",
    "\n",
    "공감버튼이 이미 클릭되어 있던 경우라면?\n",
    "\n",
    "이 코드를 실행했을 때 공감이 해제됩니다.\n",
    "\n",
    "그래서 if-else 구문을 넣어\n",
    "\n",
    "공감이 눌려 있지 않은 상태에서만\n",
    "\n",
    "공감을 클릭하도록 분기를 만들어야 합니다.\n",
    "\n",
    "공감이 눌러진 상태와 그렇지 않은 상태의 차이를\n",
    "\n",
    "개발자도구를 열어 가만히 살펴보면\n",
    "\n",
    "우리가 클릭하고 있는 a태그의 aria-pressed 값이 \"true\" / \"false\"로\n",
    "\n",
    "토글되는 것을 확인할 수 있습니다.\n",
    "\n",
    "a태그의 aria-pressed 속성값을 확인하는 문법은 아래와 같습니다."
   ],
   "metadata": {
    "collapsed": false
   }
  },
  {
   "cell_type": "code",
   "execution_count": 78,
   "outputs": [
    {
     "data": {
      "text/plain": "'true'"
     },
     "execution_count": 78,
     "metadata": {},
     "output_type": "execute_result"
    }
   ],
   "source": [
    "driver.find_element(By.CSS_SELECTOR, 공감버튼_선택자).get_attribute(\"aria-pressed\")"
   ],
   "metadata": {
    "collapsed": false,
    "ExecuteTime": {
     "end_time": "2023-06-28T05:03:18.811570900Z",
     "start_time": "2023-06-28T05:03:18.750515400Z"
    }
   }
  },
  {
   "cell_type": "markdown",
   "source": [
    "현재는 공감이 눌러져 있어 \"true\"를 리턴했습니다.\n",
    "\n",
    "이런 경우에는 자동클릭을 하지 않아야 하므로 아래와 같이\n",
    "\n",
    "if문을 넣어 코드를 수정합니다."
   ],
   "metadata": {
    "collapsed": false
   }
  },
  {
   "cell_type": "code",
   "execution_count": 79,
   "outputs": [],
   "source": [
    "if driver.find_element(By.CSS_SELECTOR, 공감버튼_선택자).get_attribute(\"aria-pressed\") == \"false\":\n",
    "    driver.find_element(By.CSS_SELECTOR, 공감버튼_선택자).click()"
   ],
   "metadata": {
    "collapsed": false,
    "ExecuteTime": {
     "end_time": "2023-06-28T05:04:38.773886500Z",
     "start_time": "2023-06-28T05:04:38.730990700Z"
    }
   }
  },
  {
   "cell_type": "markdown",
   "source": [
    "여러 번 실행해도 공감이 해제되지 않는 것을 확인하였습니다.\n",
    "\n",
    "이제 이 코드의 편한 재사용을 위해 함수를 만들어 둡시다."
   ],
   "metadata": {
    "collapsed": false
   }
  },
  {
   "cell_type": "code",
   "execution_count": 83,
   "outputs": [],
   "source": [
    "def 공감_클릭():\n",
    "    \"\"\"\n",
    "    블로그 포스팅 내에 들어간 상태로 실행해야 함\n",
    "    \"\"\"\n",
    "    try:\n",
    "        driver.switch_to.frame(\"mainFrame\")\n",
    "    except NoSuchFrameException as e:\n",
    "        pass\n",
    "    공감버튼_선택자 = \"div[id^='area_sympathy'] > div > a\"\n",
    "    if driver.find_element(By.CSS_SELECTOR, 공감버튼_선택자).get_attribute(\"aria-pressed\") == \"false\":\n",
    "        driver.find_element(By.CSS_SELECTOR, 공감버튼_선택자).click()\n",
    "    driver.switch_to.parent_frame()"
   ],
   "metadata": {
    "collapsed": false,
    "ExecuteTime": {
     "end_time": "2023-06-28T05:09:22.066884400Z",
     "start_time": "2023-06-28T05:09:22.003783800Z"
    }
   }
  },
  {
   "cell_type": "code",
   "execution_count": 84,
   "outputs": [],
   "source": [
    "# 다른 글로 이동 후 아래 함수 실행\n",
    "공감_클릭()"
   ],
   "metadata": {
    "collapsed": false,
    "ExecuteTime": {
     "end_time": "2023-06-28T05:10:26.226421500Z",
     "start_time": "2023-06-28T05:10:26.027717900Z"
    }
   }
  },
  {
   "cell_type": "markdown",
   "source": [
    "다른 포스팅에 들어가서도 공감_클릭 함수가 작동하는지 확인해봅시다.\n",
    "\n",
    "잘 작동한다면 이제 다음 챕터로 넘어가겠습니다."
   ],
   "metadata": {
    "collapsed": false
   }
  },
  {
   "cell_type": "markdown",
   "source": [
    "# 2. 블로그 메인화면에서 이웃새글 10개 공감 클릭하는 코드"
   ],
   "metadata": {
    "collapsed": false
   }
  },
  {
   "cell_type": "markdown",
   "source": [
    "![](https://i.ibb.co/bzTSJJJ/2023-06-28-141211.png)"
   ],
   "metadata": {
    "collapsed": false
   }
  },
  {
   "cell_type": "markdown",
   "source": [
    "네이버블로그 홈화면인 blog.naver.com에 접속하면 하단에 위 이미지와 같이\n",
    "\n",
    "이웃들의 새 글이 추천됩니다.\n",
    "\n",
    "인플루언서 또는 파워블로거들과 이웃이 되거나\n",
    "\n",
    "공감, 댓글을 남기는 행동을 통해 상대방이 내 블로그에 방문할 수 있고,\n",
    "\n",
    "결과적으로 내 블로그의 지수를 끌어올릴 수 있게 됩니다.\n",
    "\n",
    "이번 챕터에서는 간단히\n",
    "\n",
    "이웃새글 섹션의 10개 추천글에 공감을 누르는 코드를 작성해보겠습니다."
   ],
   "metadata": {
    "collapsed": false
   }
  },
  {
   "cell_type": "code",
   "execution_count": 97,
   "outputs": [],
   "source": [
    "# 블로그 홈으로 이동\n",
    "driver.get(\"https://blog.naver.com\")\n",
    "\n",
    "# 이웃새글 섹션의 공감버튼 10개 탐색하기\n",
    "블로그메인_공감버튼_선택자 = \"#content > section > div.list_post_article.list_post_article_comments > div > div > div.info_post > div.comments > div > div > a\"\n",
    "\n",
    "공감리스트 = driver.find_elements(By.CSS_SELECTOR, 블로그메인_공감버튼_선택자)"
   ],
   "metadata": {
    "collapsed": false,
    "ExecuteTime": {
     "end_time": "2023-06-28T05:26:51.213741600Z",
     "start_time": "2023-06-28T05:26:50.319664Z"
    }
   }
  },
  {
   "cell_type": "code",
   "execution_count": 98,
   "outputs": [],
   "source": [
    "# for문으로 공감버튼 10개 전부 클릭하기\n",
    "for 하트 in 공감리스트:\n",
    "    if 하트.get_attribute(\"aria-pressed\") == \"false\":\n",
    "        하트.click()"
   ],
   "metadata": {
    "collapsed": false,
    "ExecuteTime": {
     "end_time": "2023-06-28T05:26:53.151203800Z",
     "start_time": "2023-06-28T05:26:52.949765200Z"
    }
   }
  },
  {
   "cell_type": "markdown",
   "source": [
    "![](https://i.ibb.co/B6Mf8KZ/2023-06-28-142729.png)"
   ],
   "metadata": {
    "collapsed": false
   }
  },
  {
   "cell_type": "markdown",
   "source": [
    "메인화면의 10개 포스팅 중 공감버튼이 있는 9개의 공감버튼을\n",
    "\n",
    "순식간에 클릭하였습니다."
   ],
   "metadata": {
    "collapsed": false
   }
  },
  {
   "cell_type": "markdown",
   "source": [
    "# 3. 추천포스팅 하나하나 직접 들어가서 공감 클릭하고 나오기\n",
    "\n",
    "이번에는 (약간 다른 방식으로) 추천포스팅에 하나씩 직접 들어가서 공감을 클릭해보겠습니다. 공감을 누르고 \"좋은 글 남겨주셔서 감사합니다. 공감 꾹 누르고 갑니다^^\" 라는 훈훈한 댓글을 남겨놓으면 우리 블로그로 유입되는 트래픽도 유의미하게 증가할 것입니다.\n",
    "\n",
    "이번에는 특정 태그를 클릭하는 방식이 아니라, 해당 포스팅의 주소를 추출해서 직접 driver.get()을 통해 접근하는 방식으로 진행하겠습니다. 우선 첫 번째 글의 제목을 우클릭하고 \"검사\"를 선택해서 a태그의 CSS선택자를 복사합니다.\n",
    "\n",
    "![](https://i.ibb.co/GdgTjyz/2023-06-28-144533.png)\n",
    "\n",
    "복사한 선택자는 아래와 같습니다."
   ],
   "metadata": {
    "collapsed": false
   }
  },
  {
   "cell_type": "code",
   "execution_count": 41,
   "outputs": [],
   "source": [
    "첫번째글_선택자 = \"#content > section > div.list_post_article.list_post_article_comments > div:nth-child(1) > div > div.info_post > div.desc > a.desc_inner\"\n",
    "\n",
    "# 두 번째 글의 CSS선택자도 복사해봅니다.\n",
    "두번째글_선택자 = \"#content > section > div.list_post_article.list_post_article_comments > div:nth-child(2) > div > div.info_post > div.desc > a.desc_inner\""
   ],
   "metadata": {
    "collapsed": false,
    "ExecuteTime": {
     "end_time": "2023-06-28T03:12:16.303678800Z",
     "start_time": "2023-06-28T03:12:16.256285300Z"
    }
   }
  },
  {
   "cell_type": "markdown",
   "source": [
    "위의 첫번째글_선택자와 두번째글_선택자의 차이를 살펴보니까\n",
    "\n",
    "가운데쯤에 \"div:nth-child(#)\" 이 부분만 다르고 나머지는 동일합니다.\n",
    "\n",
    "그래서 \":nth-child(#)\" 부분을 지우면 10개 글이 전부 선택되는 선택자가 됩니다.\n",
    "\n",
    "그래서 아래와 같이 수정 후 진행해보겠습니다."
   ],
   "metadata": {
    "collapsed": false
   }
  },
  {
   "cell_type": "code",
   "execution_count": 99,
   "outputs": [],
   "source": [
    "글제목_선택자 = \"#content > section > div.list_post_article.list_post_article_comments > div > div > div.info_post > div.desc > a.desc_inner\"\n",
    "\n",
    "글_리스트 = driver.find_elements(By.CSS_SELECTOR, 글제목_선택자)"
   ],
   "metadata": {
    "collapsed": false,
    "ExecuteTime": {
     "end_time": "2023-06-28T05:54:30.020230300Z",
     "start_time": "2023-06-28T05:54:30.000537900Z"
    }
   }
  },
  {
   "cell_type": "code",
   "execution_count": 100,
   "outputs": [
    {
     "data": {
      "text/plain": "10"
     },
     "execution_count": 100,
     "metadata": {},
     "output_type": "execute_result"
    }
   ],
   "source": [
    "len(글_리스트)"
   ],
   "metadata": {
    "collapsed": false,
    "ExecuteTime": {
     "end_time": "2023-06-28T05:54:39.372239300Z",
     "start_time": "2023-06-28T05:54:39.334688900Z"
    }
   }
  },
  {
   "cell_type": "markdown",
   "source": [
    "10개의 태그가 추출된 걸 보니 선택자는 잘 작성된 것 같네요.\n",
    "\n",
    "그럼 각 요소에서 href 속성값인 \"https://blog.naver.com/아이디/글번호\" 문자열을\n",
    "\n",
    "리스트 컴프리헨션을 통해 추출해보겠습니다."
   ],
   "metadata": {
    "collapsed": false
   }
  },
  {
   "cell_type": "code",
   "execution_count": 101,
   "outputs": [
    {
     "data": {
      "text/plain": "['https://blog.naver.com/ridesafe/223140298862',\n 'https://blog.naver.com/ferieo/223139205539',\n 'https://blog.naver.com/annerheekim/223140293036',\n 'https://blog.naver.com/gyoil/223140200657',\n 'https://blog.naver.com/moeblog/223139943528',\n 'https://blog.naver.com/ferieo/223139185729',\n 'https://blog.naver.com/moeblog/223140062473',\n 'https://blog.naver.com/aiwositai/223140037149',\n 'https://blog.naver.com/moeblog/223140028008',\n 'https://blog.naver.com/moeblog/223139871222']"
     },
     "execution_count": 101,
     "metadata": {},
     "output_type": "execute_result"
    }
   ],
   "source": [
    "주소_리스트 = [i.get_attribute(\"href\") for i in 글_리스트]\n",
    "주소_리스트"
   ],
   "metadata": {
    "collapsed": false,
    "ExecuteTime": {
     "end_time": "2023-06-28T05:56:15.684898200Z",
     "start_time": "2023-06-28T05:56:15.525713200Z"
    }
   }
  },
  {
   "cell_type": "markdown",
   "source": [
    "10개 포스팅의 주소와 공감_클릭() 함수가 있으니 이제 실행만 해 보면 되겠네요.\n",
    "\n",
    "잘 되는지 테스트해봅시다."
   ],
   "metadata": {
    "collapsed": false
   }
  },
  {
   "cell_type": "code",
   "execution_count": 102,
   "outputs": [],
   "source": [
    "for i in 주소_리스트:\n",
    "    driver.get(i)\n",
    "    공감_클릭()"
   ],
   "metadata": {
    "collapsed": false,
    "ExecuteTime": {
     "end_time": "2023-06-28T05:58:49.664838300Z",
     "start_time": "2023-06-28T05:58:37.415616900Z"
    }
   }
  },
  {
   "cell_type": "markdown",
   "source": [
    "![](https://i.ibb.co/dKVxK9t/2023-06-28-145917.png)\n",
    "\n",
    "위와 같이 10개 포스팅의 공감 버튼을 모두 클릭하고 작업이 종료되었습니다."
   ],
   "metadata": {
    "collapsed": false
   }
  },
  {
   "cell_type": "markdown",
   "source": [
    "# 4. 이웃새글 모든 페이지의 포스팅 전부 공감 클릭하기\n",
    "\n",
    "아직까지 우리는 1페이지의 10개 글에만 공감을 클릭했습니다.\n",
    "\n",
    "하지만 셀레늄 크롤링의 진정한 가치는\n",
    "\n",
    "어마어마한 반복작업을 실행할 때 비로소 느낄 수 있습니다.\n",
    "\n",
    "이번에는 페이지를 전부 탐색하면서 주소_리스트를 추가하고\n",
    "\n",
    "공감_클릭()을 실행해보겠습니다.\n",
    "\n",
    "먼저 1페이지에서 주소창을 잘 살펴봅시다.\n",
    "\n",
    "![](https://i.ibb.co/8xCTLCf/2023-06-28-150522.png)\n",
    "\n",
    "이번엔 2페이지로 이동한 후 주소창의 URL을 다시 살펴봅시다.\n",
    "\n",
    "![](https://i.ibb.co/JqLbPhz/2023-06-28-150624.png)\n",
    "\n",
    "차이가 보이시죠? 주소창의 \"currentPage={}\" 이 부분만 바꿔 입력하면\n",
    "\n",
    "이웃새글 모든 페이지를 탐색할 수 있을 것 같습니다.\n",
    "\n",
    "제 경우에는 마지막 페이지가 18페이지입니다.\n",
    "\n",
    "여러분도 각각 마지막 페이지가 다를 것입니다.\n",
    "\n",
    "그래서 마지막 페이지를 확인해보려면\n",
    "\n",
    "직접 currentPage={} 부분에 1부터 넣어보면서\n",
    "\n",
    "접속이 되는지 여부만 확인하면 될 것 같습니다.\n",
    "\n",
    "19페이지로 접속해보니 아래와 같은 메시지만 뜹니다.\n",
    "\n",
    "![](https://i.ibb.co/PCcKDYB/2023-06-28-150918.png)\n",
    "\n",
    "## 아하!\n",
    "\n",
    "while문으로 페이지번호를 1씩 올리면서 접속해보다가\n",
    "\n",
    "html소스에 \"업데이트된 이웃의 새 글이 없습니다\" 라는 문자열이 있으면\n",
    "\n",
    "그 때 while문을 종료하면 되겠군요.\n",
    "\n",
    "또 다른 while문 종료방법은,\n",
    "\n",
    "페이지의 글_리스트의 길이가 0일 때 종료하는 방법입니다.\n",
    "\n",
    "(이 방법을 사용하겠습니다.)\n",
    "\n",
    "그럼 이 로직을 코드로 옮겨봅시다."
   ],
   "metadata": {
    "collapsed": false
   }
  },
  {
   "cell_type": "code",
   "execution_count": 114,
   "outputs": [],
   "source": [
    "from time import sleep\n",
    "\n",
    "글제목_선택자 = \"#content > section > div.list_post_article.list_post_article_comments > div > div > div.info_post > div.desc > a.desc_inner\"\n",
    "\n",
    "페이지번호 = 1\n",
    "주소리스트 = []\n",
    "\n",
    "while True:\n",
    "    driver.get(f\"https://section.blog.naver.com/BlogHome.naver?directoryNo=0&currentPage={페이지번호}&groupId=0\")\n",
    "    sleep(1)  # 페이지 로딩이 완료되기 전에 넘어가는 경향이 있어 1초 쉬어줌\n",
    "    글_리스트 = driver.find_elements(By.CSS_SELECTOR, 글제목_선택자)\n",
    "    if not 글_리스트:\n",
    "        break\n",
    "    주소리스트 += [i.get_attribute(\"href\") for i in 글_리스트]\n",
    "    페이지번호 += 1"
   ],
   "metadata": {
    "collapsed": false,
    "ExecuteTime": {
     "end_time": "2023-06-28T06:26:15.114653200Z",
     "start_time": "2023-06-28T06:25:50.375027200Z"
    }
   }
  },
  {
   "cell_type": "code",
   "execution_count": 117,
   "outputs": [
    {
     "data": {
      "text/plain": "171"
     },
     "execution_count": 117,
     "metadata": {},
     "output_type": "execute_result"
    }
   ],
   "source": [
    "len(주소리스트)"
   ],
   "metadata": {
    "collapsed": false,
    "ExecuteTime": {
     "end_time": "2023-06-28T06:26:38.406415200Z",
     "start_time": "2023-06-28T06:26:38.391727500Z"
    }
   }
  },
  {
   "cell_type": "markdown",
   "source": [
    "171개의 포스팅 주소가 모였습니다.\n",
    "\n",
    "그럼 챕터3에서 작성했던 코드를(사실 세 줄 밖에 안 됩니다.)\n",
    "\n",
    "그대로 실행하여 171개의 포스팅에 공감을 눌러봅시다."
   ],
   "metadata": {
    "collapsed": false
   }
  },
  {
   "cell_type": "code",
   "execution_count": 118,
   "outputs": [
    {
     "ename": "NoSuchElementException",
     "evalue": "Message: no such element: Unable to locate element: {\"method\":\"css selector\",\"selector\":\"div[id^='area_sympathy'] > div > a\"}\n  (Session info: chrome=114.0.5735.198); For documentation on this error, please visit: https://www.selenium.dev/documentation/webdriver/troubleshooting/errors#no-such-element-exception\nStacktrace:\nBacktrace:\n\tGetHandleVerifier [0x00DEA813+48355]\n\t(No symbol) [0x00D7C4B1]\n\t(No symbol) [0x00C85358]\n\t(No symbol) [0x00CB09A5]\n\t(No symbol) [0x00CB0B3B]\n\t(No symbol) [0x00CDE232]\n\t(No symbol) [0x00CCA784]\n\t(No symbol) [0x00CDC922]\n\t(No symbol) [0x00CCA536]\n\t(No symbol) [0x00CA82DC]\n\t(No symbol) [0x00CA93DD]\n\tGetHandleVerifier [0x0104AABD+2539405]\n\tGetHandleVerifier [0x0108A78F+2800735]\n\tGetHandleVerifier [0x0108456C+2775612]\n\tGetHandleVerifier [0x00E751E0+616112]\n\t(No symbol) [0x00D85F8C]\n\t(No symbol) [0x00D82328]\n\t(No symbol) [0x00D8240B]\n\t(No symbol) [0x00D74FF7]\n\tBaseThreadInitThunk [0x760C00C9+25]\n\tRtlGetAppContainerNamedObjectPath [0x77A87B4E+286]\n\tRtlGetAppContainerNamedObjectPath [0x77A87B1E+238]\n",
     "output_type": "error",
     "traceback": [
      "\u001B[1;31m---------------------------------------------------------------------------\u001B[0m",
      "\u001B[1;31mNoSuchElementException\u001B[0m                    Traceback (most recent call last)",
      "Cell \u001B[1;32mIn[118], line 3\u001B[0m\n\u001B[0;32m      1\u001B[0m \u001B[38;5;28;01mfor\u001B[39;00m i \u001B[38;5;129;01min\u001B[39;00m 주소리스트:\n\u001B[0;32m      2\u001B[0m     driver\u001B[38;5;241m.\u001B[39mget(i)\n\u001B[1;32m----> 3\u001B[0m     \u001B[43m공감_클릭\u001B[49m\u001B[43m(\u001B[49m\u001B[43m)\u001B[49m\n",
      "Cell \u001B[1;32mIn[83], line 10\u001B[0m, in \u001B[0;36m공감_클릭\u001B[1;34m()\u001B[0m\n\u001B[0;32m      8\u001B[0m     \u001B[38;5;28;01mpass\u001B[39;00m\n\u001B[0;32m      9\u001B[0m 공감버튼_선택자 \u001B[38;5;241m=\u001B[39m \u001B[38;5;124m\"\u001B[39m\u001B[38;5;124mdiv[id^=\u001B[39m\u001B[38;5;124m'\u001B[39m\u001B[38;5;124marea_sympathy\u001B[39m\u001B[38;5;124m'\u001B[39m\u001B[38;5;124m] > div > a\u001B[39m\u001B[38;5;124m\"\u001B[39m\n\u001B[1;32m---> 10\u001B[0m \u001B[38;5;28;01mif\u001B[39;00m \u001B[43mdriver\u001B[49m\u001B[38;5;241;43m.\u001B[39;49m\u001B[43mfind_element\u001B[49m\u001B[43m(\u001B[49m\u001B[43mBy\u001B[49m\u001B[38;5;241;43m.\u001B[39;49m\u001B[43mCSS_SELECTOR\u001B[49m\u001B[43m,\u001B[49m\u001B[43m \u001B[49m\u001B[43m공감버튼_선택자\u001B[49m\u001B[43m)\u001B[49m\u001B[38;5;241m.\u001B[39mget_attribute(\u001B[38;5;124m\"\u001B[39m\u001B[38;5;124maria-pressed\u001B[39m\u001B[38;5;124m\"\u001B[39m) \u001B[38;5;241m==\u001B[39m \u001B[38;5;124m\"\u001B[39m\u001B[38;5;124mfalse\u001B[39m\u001B[38;5;124m\"\u001B[39m:\n\u001B[0;32m     11\u001B[0m     driver\u001B[38;5;241m.\u001B[39mfind_element(By\u001B[38;5;241m.\u001B[39mCSS_SELECTOR, 공감버튼_선택자)\u001B[38;5;241m.\u001B[39mclick()\n\u001B[0;32m     12\u001B[0m driver\u001B[38;5;241m.\u001B[39mswitch_to\u001B[38;5;241m.\u001B[39mparent_frame()\n",
      "File \u001B[1;32m~\\AppData\\Local\\Programs\\Python\\Python311\\Lib\\site-packages\\selenium\\webdriver\\remote\\webdriver.py:740\u001B[0m, in \u001B[0;36mWebDriver.find_element\u001B[1;34m(self, by, value)\u001B[0m\n\u001B[0;32m    737\u001B[0m     by \u001B[38;5;241m=\u001B[39m By\u001B[38;5;241m.\u001B[39mCSS_SELECTOR\n\u001B[0;32m    738\u001B[0m     value \u001B[38;5;241m=\u001B[39m \u001B[38;5;124mf\u001B[39m\u001B[38;5;124m'\u001B[39m\u001B[38;5;124m[name=\u001B[39m\u001B[38;5;124m\"\u001B[39m\u001B[38;5;132;01m{\u001B[39;00mvalue\u001B[38;5;132;01m}\u001B[39;00m\u001B[38;5;124m\"\u001B[39m\u001B[38;5;124m]\u001B[39m\u001B[38;5;124m'\u001B[39m\n\u001B[1;32m--> 740\u001B[0m \u001B[38;5;28;01mreturn\u001B[39;00m \u001B[38;5;28;43mself\u001B[39;49m\u001B[38;5;241;43m.\u001B[39;49m\u001B[43mexecute\u001B[49m\u001B[43m(\u001B[49m\u001B[43mCommand\u001B[49m\u001B[38;5;241;43m.\u001B[39;49m\u001B[43mFIND_ELEMENT\u001B[49m\u001B[43m,\u001B[49m\u001B[43m \u001B[49m\u001B[43m{\u001B[49m\u001B[38;5;124;43m\"\u001B[39;49m\u001B[38;5;124;43musing\u001B[39;49m\u001B[38;5;124;43m\"\u001B[39;49m\u001B[43m:\u001B[49m\u001B[43m \u001B[49m\u001B[43mby\u001B[49m\u001B[43m,\u001B[49m\u001B[43m \u001B[49m\u001B[38;5;124;43m\"\u001B[39;49m\u001B[38;5;124;43mvalue\u001B[39;49m\u001B[38;5;124;43m\"\u001B[39;49m\u001B[43m:\u001B[49m\u001B[43m \u001B[49m\u001B[43mvalue\u001B[49m\u001B[43m}\u001B[49m\u001B[43m)\u001B[49m[\u001B[38;5;124m\"\u001B[39m\u001B[38;5;124mvalue\u001B[39m\u001B[38;5;124m\"\u001B[39m]\n",
      "File \u001B[1;32m~\\AppData\\Local\\Programs\\Python\\Python311\\Lib\\site-packages\\selenium\\webdriver\\remote\\webdriver.py:346\u001B[0m, in \u001B[0;36mWebDriver.execute\u001B[1;34m(self, driver_command, params)\u001B[0m\n\u001B[0;32m    344\u001B[0m response \u001B[38;5;241m=\u001B[39m \u001B[38;5;28mself\u001B[39m\u001B[38;5;241m.\u001B[39mcommand_executor\u001B[38;5;241m.\u001B[39mexecute(driver_command, params)\n\u001B[0;32m    345\u001B[0m \u001B[38;5;28;01mif\u001B[39;00m response:\n\u001B[1;32m--> 346\u001B[0m     \u001B[38;5;28;43mself\u001B[39;49m\u001B[38;5;241;43m.\u001B[39;49m\u001B[43merror_handler\u001B[49m\u001B[38;5;241;43m.\u001B[39;49m\u001B[43mcheck_response\u001B[49m\u001B[43m(\u001B[49m\u001B[43mresponse\u001B[49m\u001B[43m)\u001B[49m\n\u001B[0;32m    347\u001B[0m     response[\u001B[38;5;124m\"\u001B[39m\u001B[38;5;124mvalue\u001B[39m\u001B[38;5;124m\"\u001B[39m] \u001B[38;5;241m=\u001B[39m \u001B[38;5;28mself\u001B[39m\u001B[38;5;241m.\u001B[39m_unwrap_value(response\u001B[38;5;241m.\u001B[39mget(\u001B[38;5;124m\"\u001B[39m\u001B[38;5;124mvalue\u001B[39m\u001B[38;5;124m\"\u001B[39m, \u001B[38;5;28;01mNone\u001B[39;00m))\n\u001B[0;32m    348\u001B[0m     \u001B[38;5;28;01mreturn\u001B[39;00m response\n",
      "File \u001B[1;32m~\\AppData\\Local\\Programs\\Python\\Python311\\Lib\\site-packages\\selenium\\webdriver\\remote\\errorhandler.py:245\u001B[0m, in \u001B[0;36mErrorHandler.check_response\u001B[1;34m(self, response)\u001B[0m\n\u001B[0;32m    243\u001B[0m         alert_text \u001B[38;5;241m=\u001B[39m value[\u001B[38;5;124m\"\u001B[39m\u001B[38;5;124malert\u001B[39m\u001B[38;5;124m\"\u001B[39m]\u001B[38;5;241m.\u001B[39mget(\u001B[38;5;124m\"\u001B[39m\u001B[38;5;124mtext\u001B[39m\u001B[38;5;124m\"\u001B[39m)\n\u001B[0;32m    244\u001B[0m     \u001B[38;5;28;01mraise\u001B[39;00m exception_class(message, screen, stacktrace, alert_text)  \u001B[38;5;66;03m# type: ignore[call-arg]  # mypy is not smart enough here\u001B[39;00m\n\u001B[1;32m--> 245\u001B[0m \u001B[38;5;28;01mraise\u001B[39;00m exception_class(message, screen, stacktrace)\n",
      "\u001B[1;31mNoSuchElementException\u001B[0m: Message: no such element: Unable to locate element: {\"method\":\"css selector\",\"selector\":\"div[id^='area_sympathy'] > div > a\"}\n  (Session info: chrome=114.0.5735.198); For documentation on this error, please visit: https://www.selenium.dev/documentation/webdriver/troubleshooting/errors#no-such-element-exception\nStacktrace:\nBacktrace:\n\tGetHandleVerifier [0x00DEA813+48355]\n\t(No symbol) [0x00D7C4B1]\n\t(No symbol) [0x00C85358]\n\t(No symbol) [0x00CB09A5]\n\t(No symbol) [0x00CB0B3B]\n\t(No symbol) [0x00CDE232]\n\t(No symbol) [0x00CCA784]\n\t(No symbol) [0x00CDC922]\n\t(No symbol) [0x00CCA536]\n\t(No symbol) [0x00CA82DC]\n\t(No symbol) [0x00CA93DD]\n\tGetHandleVerifier [0x0104AABD+2539405]\n\tGetHandleVerifier [0x0108A78F+2800735]\n\tGetHandleVerifier [0x0108456C+2775612]\n\tGetHandleVerifier [0x00E751E0+616112]\n\t(No symbol) [0x00D85F8C]\n\t(No symbol) [0x00D82328]\n\t(No symbol) [0x00D8240B]\n\t(No symbol) [0x00D74FF7]\n\tBaseThreadInitThunk [0x760C00C9+25]\n\tRtlGetAppContainerNamedObjectPath [0x77A87B4E+286]\n\tRtlGetAppContainerNamedObjectPath [0x77A87B1E+238]\n"
     ]
    }
   ],
   "source": [
    "for i in 주소리스트:\n",
    "    driver.get(i)\n",
    "    공감_클릭()"
   ],
   "metadata": {
    "collapsed": false,
    "ExecuteTime": {
     "end_time": "2023-06-28T06:28:47.517992300Z",
     "start_time": "2023-06-28T06:28:41.970666800Z"
    }
   }
  },
  {
   "cell_type": "markdown",
   "source": [
    "아차! 오류가 발생하네요?\n",
    "\n",
    "공감버튼이 없는 페이지가 있기 때문입니다.\n",
    "\n",
    "공감버튼이 없을 때 오류를 내지 말고 패스할 수 있게\n",
    "\n",
    "공감_클릭() 함수를 조금만 수정해줍시다. (try-except문을 사용합니다.)"
   ],
   "metadata": {
    "collapsed": false
   }
  },
  {
   "cell_type": "code",
   "execution_count": 121,
   "outputs": [],
   "source": [
    "def 공감_클릭2():\n",
    "    \"\"\"\n",
    "    블로그 포스팅 내에 들어간 상태로 실행해야 함\n",
    "    \"\"\"\n",
    "    try:\n",
    "        driver.switch_to.frame(\"mainFrame\")\n",
    "    except NoSuchFrameException as e:\n",
    "        pass\n",
    "    공감버튼_선택자 = \"div[id^='area_sympathy'] > div > a\"\n",
    "    try:\n",
    "        if driver.find_element(By.CSS_SELECTOR, 공감버튼_선택자).get_attribute(\"aria-pressed\") == \"false\":\n",
    "            driver.find_element(By.CSS_SELECTOR, 공감버튼_선택자).click()\n",
    "    except NoSuchElementException as e:\n",
    "        pass\n",
    "    driver.switch_to.parent_frame()"
   ],
   "metadata": {
    "collapsed": false,
    "ExecuteTime": {
     "end_time": "2023-06-28T06:43:22.783412300Z",
     "start_time": "2023-06-28T06:43:22.783412300Z"
    }
   }
  },
  {
   "cell_type": "code",
   "execution_count": null,
   "outputs": [],
   "source": [
    "%pip install tqdm\n",
    "from tqdm import tqdm  # 반복문 실행시 진행상태를 표시해주는 모듈"
   ],
   "metadata": {
    "collapsed": false
   }
  },
  {
   "cell_type": "code",
   "execution_count": 123,
   "outputs": [
    {
     "name": "stdout",
     "output_type": "stream",
     "text": [
      "Collecting tqdm\n",
      "  Downloading tqdm-4.65.0-py3-none-any.whl (77 kB)\n",
      "                                              0.0/77.1 kB ? eta -:--:--\n",
      "     ---------------------------------------- 77.1/77.1 kB 4.5 MB/s eta 0:00:00\n",
      "Requirement already satisfied: colorama in c:\\users\\hkit\\appdata\\local\\programs\\python\\python311\\lib\\site-packages (from tqdm) (0.4.6)\n",
      "Installing collected packages: tqdm\n",
      "Successfully installed tqdm-4.65.0\n",
      "Note: you may need to restart the kernel to use updated packages.\n"
     ]
    },
    {
     "name": "stderr",
     "output_type": "stream",
     "text": [
      "100%|██████████| 171/171 [04:22<00:00,  1.54s/it]\n"
     ]
    }
   ],
   "source": [
    "# 수정된 공감_클릭2 함수로 재실행\n",
    "for i in tqdm(주소리스트):\n",
    "    driver.get(i)\n",
    "    공감_클릭2()"
   ],
   "metadata": {
    "collapsed": false,
    "ExecuteTime": {
     "end_time": "2023-06-28T06:56:04.904172400Z",
     "start_time": "2023-06-28T06:51:39.066903700Z"
    }
   }
  },
  {
   "cell_type": "markdown",
   "source": [
    "171개의 이웃새글 포스팅을 돌면서 공감을 다 눌렀습니다.\n",
    "\n",
    "약 4분 정도 걸렸네요.\n",
    "\n",
    "이렇게 오래 걸리는 작업은 무작정 넋놓고 기다리기보다는\n",
    "\n",
    "(enumerate를 써서 for문 안에서 인덱스를 출력하는 방법도 있지만)\n",
    "\n",
    "위처럼 tqdm이라는 모듈을 사용해서\n",
    "\n",
    "현재 진행정도와 예상시간을 출력할 수도 있습니다.\n",
    "\n",
    "셀레늄은 제 과정 말미에 한 번 더 (며칠에 걸쳐)\n",
    "\n",
    "다양한 사이트의 데이터나 첨부파일을 다운받아보는 연습을 해볼 예정입니다.\n",
    "\n",
    "파이썬-셀레늄 관련한 수많은 포스팅이 있으니\n",
    "\n",
    "참고하셔서 여러분에게 필요한 멋진 크롤링 프로그램을 완성해 보시기 바랍니다.\n",
    "\n",
    "# 끝."
   ],
   "metadata": {
    "collapsed": false
   }
  }
 ],
 "metadata": {
  "kernelspec": {
   "display_name": "Python 3",
   "language": "python",
   "name": "python3"
  },
  "language_info": {
   "codemirror_mode": {
    "name": "ipython",
    "version": 2
   },
   "file_extension": ".py",
   "mimetype": "text/x-python",
   "name": "python",
   "nbconvert_exporter": "python",
   "pygments_lexer": "ipython2",
   "version": "2.7.6"
  }
 },
 "nbformat": 4,
 "nbformat_minor": 0
}
