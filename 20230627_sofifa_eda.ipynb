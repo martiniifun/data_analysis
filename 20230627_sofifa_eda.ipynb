{
 "cells": [
  {
   "cell_type": "markdown",
   "source": [
    "# 판다스 데이터프레임 문법 빠르게 훑어보기"
   ],
   "metadata": {
    "collapsed": false
   }
  },
  {
   "cell_type": "markdown",
   "source": [
    "## 1. 데이터프레임 불러오기"
   ],
   "metadata": {
    "collapsed": false
   }
  },
  {
   "cell_type": "code",
   "execution_count": 172,
   "metadata": {
    "collapsed": true,
    "ExecuteTime": {
     "end_time": "2023-06-27T04:14:32.605197600Z",
     "start_time": "2023-06-27T04:14:32.605197600Z"
    }
   },
   "outputs": [],
   "source": [
    "# 판다스 임포트. 관례적으로 \"pd\"라는 축약어를 사용합니다.\n",
    "import pandas as pd"
   ]
  },
  {
   "cell_type": "code",
   "execution_count": 173,
   "outputs": [],
   "source": [
    "# 출처 : https://www.kaggle.com/datasets/stefanoleone992/fifa-22-complete-player-dataset?select=players_22.csv\n",
    "\n",
    "df = pd.read_csv(r\"./players_22.csv\", low_memory=False)"
   ],
   "metadata": {
    "collapsed": false,
    "ExecuteTime": {
     "end_time": "2023-06-27T04:14:34.206743100Z",
     "start_time": "2023-06-27T04:14:33.772917300Z"
    }
   }
  },
  {
   "cell_type": "code",
   "execution_count": 175,
   "outputs": [
    {
     "data": {
      "text/plain": "   sofifa_id                                         player_url  \\\n0     158023  https://sofifa.com/player/158023/lionel-messi/...   \n1     188545  https://sofifa.com/player/188545/robert-lewand...   \n2      20801  https://sofifa.com/player/20801/c-ronaldo-dos-...   \n3     190871  https://sofifa.com/player/190871/neymar-da-sil...   \n4     192985  https://sofifa.com/player/192985/kevin-de-bruy...   \n\n          short_name                            long_name player_positions  \\\n0           L. Messi       Lionel Andrés Messi Cuccittini       RW, ST, CF   \n1     R. Lewandowski                   Robert Lewandowski               ST   \n2  Cristiano Ronaldo  Cristiano Ronaldo dos Santos Aveiro           ST, LW   \n3          Neymar Jr        Neymar da Silva Santos Júnior          LW, CAM   \n4       K. De Bruyne                      Kevin De Bruyne          CM, CAM   \n\n   overall  potential    value_eur  wage_eur  age  ...   lcb    cb   rcb  \\\n0       93         93   78000000.0  320000.0   34  ...  50+3  50+3  50+3   \n1       92         92  119500000.0  270000.0   32  ...  60+3  60+3  60+3   \n2       91         91   45000000.0  270000.0   36  ...  53+3  53+3  53+3   \n3       91         91  129000000.0  270000.0   29  ...  50+3  50+3  50+3   \n4       91         91  125500000.0  350000.0   30  ...  69+3  69+3  69+3   \n\n     rb    gk                                    player_face_url  \\\n0  61+3  19+3  https://cdn.sofifa.net/players/158/023/22_120.png   \n1  61+3  19+3  https://cdn.sofifa.net/players/188/545/22_120.png   \n2  60+3  20+3  https://cdn.sofifa.net/players/020/801/22_120.png   \n3  62+3  20+3  https://cdn.sofifa.net/players/190/871/22_120.png   \n4  75+3  21+3  https://cdn.sofifa.net/players/192/985/22_120.png   \n\n                            club_logo_url  \\\n0  https://cdn.sofifa.net/teams/73/60.png   \n1  https://cdn.sofifa.net/teams/21/60.png   \n2  https://cdn.sofifa.net/teams/11/60.png   \n3  https://cdn.sofifa.net/teams/73/60.png   \n4  https://cdn.sofifa.net/teams/10/60.png   \n\n                             club_flag_url  \\\n0      https://cdn.sofifa.net/flags/fr.png   \n1      https://cdn.sofifa.net/flags/de.png   \n2  https://cdn.sofifa.net/flags/gb-eng.png   \n3      https://cdn.sofifa.net/flags/fr.png   \n4  https://cdn.sofifa.net/flags/gb-eng.png   \n\n                            nation_logo_url  \\\n0  https://cdn.sofifa.net/teams/1369/60.png   \n1  https://cdn.sofifa.net/teams/1353/60.png   \n2  https://cdn.sofifa.net/teams/1354/60.png   \n3                                       NaN   \n4  https://cdn.sofifa.net/teams/1325/60.png   \n\n                       nation_flag_url  \n0  https://cdn.sofifa.net/flags/ar.png  \n1  https://cdn.sofifa.net/flags/pl.png  \n2  https://cdn.sofifa.net/flags/pt.png  \n3  https://cdn.sofifa.net/flags/br.png  \n4  https://cdn.sofifa.net/flags/be.png  \n\n[5 rows x 110 columns]",
      "text/html": "<div>\n<style scoped>\n    .dataframe tbody tr th:only-of-type {\n        vertical-align: middle;\n    }\n\n    .dataframe tbody tr th {\n        vertical-align: top;\n    }\n\n    .dataframe thead th {\n        text-align: right;\n    }\n</style>\n<table border=\"1\" class=\"dataframe\">\n  <thead>\n    <tr style=\"text-align: right;\">\n      <th></th>\n      <th>sofifa_id</th>\n      <th>player_url</th>\n      <th>short_name</th>\n      <th>long_name</th>\n      <th>player_positions</th>\n      <th>overall</th>\n      <th>potential</th>\n      <th>value_eur</th>\n      <th>wage_eur</th>\n      <th>age</th>\n      <th>...</th>\n      <th>lcb</th>\n      <th>cb</th>\n      <th>rcb</th>\n      <th>rb</th>\n      <th>gk</th>\n      <th>player_face_url</th>\n      <th>club_logo_url</th>\n      <th>club_flag_url</th>\n      <th>nation_logo_url</th>\n      <th>nation_flag_url</th>\n    </tr>\n  </thead>\n  <tbody>\n    <tr>\n      <th>0</th>\n      <td>158023</td>\n      <td>https://sofifa.com/player/158023/lionel-messi/...</td>\n      <td>L. Messi</td>\n      <td>Lionel Andrés Messi Cuccittini</td>\n      <td>RW, ST, CF</td>\n      <td>93</td>\n      <td>93</td>\n      <td>78000000.0</td>\n      <td>320000.0</td>\n      <td>34</td>\n      <td>...</td>\n      <td>50+3</td>\n      <td>50+3</td>\n      <td>50+3</td>\n      <td>61+3</td>\n      <td>19+3</td>\n      <td>https://cdn.sofifa.net/players/158/023/22_120.png</td>\n      <td>https://cdn.sofifa.net/teams/73/60.png</td>\n      <td>https://cdn.sofifa.net/flags/fr.png</td>\n      <td>https://cdn.sofifa.net/teams/1369/60.png</td>\n      <td>https://cdn.sofifa.net/flags/ar.png</td>\n    </tr>\n    <tr>\n      <th>1</th>\n      <td>188545</td>\n      <td>https://sofifa.com/player/188545/robert-lewand...</td>\n      <td>R. Lewandowski</td>\n      <td>Robert Lewandowski</td>\n      <td>ST</td>\n      <td>92</td>\n      <td>92</td>\n      <td>119500000.0</td>\n      <td>270000.0</td>\n      <td>32</td>\n      <td>...</td>\n      <td>60+3</td>\n      <td>60+3</td>\n      <td>60+3</td>\n      <td>61+3</td>\n      <td>19+3</td>\n      <td>https://cdn.sofifa.net/players/188/545/22_120.png</td>\n      <td>https://cdn.sofifa.net/teams/21/60.png</td>\n      <td>https://cdn.sofifa.net/flags/de.png</td>\n      <td>https://cdn.sofifa.net/teams/1353/60.png</td>\n      <td>https://cdn.sofifa.net/flags/pl.png</td>\n    </tr>\n    <tr>\n      <th>2</th>\n      <td>20801</td>\n      <td>https://sofifa.com/player/20801/c-ronaldo-dos-...</td>\n      <td>Cristiano Ronaldo</td>\n      <td>Cristiano Ronaldo dos Santos Aveiro</td>\n      <td>ST, LW</td>\n      <td>91</td>\n      <td>91</td>\n      <td>45000000.0</td>\n      <td>270000.0</td>\n      <td>36</td>\n      <td>...</td>\n      <td>53+3</td>\n      <td>53+3</td>\n      <td>53+3</td>\n      <td>60+3</td>\n      <td>20+3</td>\n      <td>https://cdn.sofifa.net/players/020/801/22_120.png</td>\n      <td>https://cdn.sofifa.net/teams/11/60.png</td>\n      <td>https://cdn.sofifa.net/flags/gb-eng.png</td>\n      <td>https://cdn.sofifa.net/teams/1354/60.png</td>\n      <td>https://cdn.sofifa.net/flags/pt.png</td>\n    </tr>\n    <tr>\n      <th>3</th>\n      <td>190871</td>\n      <td>https://sofifa.com/player/190871/neymar-da-sil...</td>\n      <td>Neymar Jr</td>\n      <td>Neymar da Silva Santos Júnior</td>\n      <td>LW, CAM</td>\n      <td>91</td>\n      <td>91</td>\n      <td>129000000.0</td>\n      <td>270000.0</td>\n      <td>29</td>\n      <td>...</td>\n      <td>50+3</td>\n      <td>50+3</td>\n      <td>50+3</td>\n      <td>62+3</td>\n      <td>20+3</td>\n      <td>https://cdn.sofifa.net/players/190/871/22_120.png</td>\n      <td>https://cdn.sofifa.net/teams/73/60.png</td>\n      <td>https://cdn.sofifa.net/flags/fr.png</td>\n      <td>NaN</td>\n      <td>https://cdn.sofifa.net/flags/br.png</td>\n    </tr>\n    <tr>\n      <th>4</th>\n      <td>192985</td>\n      <td>https://sofifa.com/player/192985/kevin-de-bruy...</td>\n      <td>K. De Bruyne</td>\n      <td>Kevin De Bruyne</td>\n      <td>CM, CAM</td>\n      <td>91</td>\n      <td>91</td>\n      <td>125500000.0</td>\n      <td>350000.0</td>\n      <td>30</td>\n      <td>...</td>\n      <td>69+3</td>\n      <td>69+3</td>\n      <td>69+3</td>\n      <td>75+3</td>\n      <td>21+3</td>\n      <td>https://cdn.sofifa.net/players/192/985/22_120.png</td>\n      <td>https://cdn.sofifa.net/teams/10/60.png</td>\n      <td>https://cdn.sofifa.net/flags/gb-eng.png</td>\n      <td>https://cdn.sofifa.net/teams/1325/60.png</td>\n      <td>https://cdn.sofifa.net/flags/be.png</td>\n    </tr>\n  </tbody>\n</table>\n<p>5 rows × 110 columns</p>\n</div>"
     },
     "execution_count": 175,
     "metadata": {},
     "output_type": "execute_result"
    }
   ],
   "source": [
    "# 데이터의 최상단 5개 행만 보고 싶어요.\n",
    "# (실제 데이터가 어떤 모양으로 입력되어 있는지 직접 확인하기 위함)\n",
    "\n",
    "df.head()"
   ],
   "metadata": {
    "collapsed": false,
    "ExecuteTime": {
     "end_time": "2023-06-27T04:15:18.674291700Z",
     "start_time": "2023-06-27T04:15:18.634504200Z"
    }
   }
  },
  {
   "cell_type": "code",
   "execution_count": 176,
   "outputs": [
    {
     "data": {
      "text/plain": "       sofifa_id                                         player_url  \\\n19234     261962  https://sofifa.com/player/261962/defu-song/220002   \n19235     262040  https://sofifa.com/player/262040/caoimhin-port...   \n19236     262760  https://sofifa.com/player/262760/nathan-logue/...   \n19237     262820  https://sofifa.com/player/262820/luke-rudden/2...   \n19238     264540  https://sofifa.com/player/264540/emanuel-lalch...   \n\n               short_name                long_name player_positions  overall  \\\n19234           Song Defu                      宋德福              CDM       47   \n19235           C. Porter          Caoimhin Porter               CM       47   \n19236            N. Logue  Nathan Logue-Cunningham               CM       47   \n19237           L. Rudden              Luke Rudden               ST       47   \n19238  E. Lalchhanchhuaha  Emanuel Lalchhanchhuaha              CAM       47   \n\n       potential  value_eur  wage_eur  age  ...   lcb    cb   rcb    rb    gk  \\\n19234         52    70000.0    1000.0   22  ...  46+2  46+2  46+2  48+2  15+2   \n19235         59   110000.0     500.0   19  ...  44+2  44+2  44+2  48+2  14+2   \n19236         55   100000.0     500.0   21  ...  45+2  45+2  45+2  47+2  12+2   \n19237         60   110000.0     500.0   19  ...  26+2  26+2  26+2  32+2  15+2   \n19238         60   110000.0     500.0   19  ...  41+2  41+2  41+2  45+2  16+2   \n\n                                         player_face_url  \\\n19234  https://cdn.sofifa.net/players/261/962/22_120.png   \n19235  https://cdn.sofifa.net/players/262/040/22_120.png   \n19236  https://cdn.sofifa.net/players/262/760/22_120.png   \n19237  https://cdn.sofifa.net/players/262/820/22_120.png   \n19238  https://cdn.sofifa.net/players/264/540/22_120.png   \n\n                                    club_logo_url  \\\n19234  https://cdn.sofifa.net/teams/112541/60.png   \n19235     https://cdn.sofifa.net/teams/445/60.png   \n19236  https://cdn.sofifa.net/teams/111131/60.png   \n19237  https://cdn.sofifa.net/teams/111131/60.png   \n19238  https://cdn.sofifa.net/teams/113040/60.png   \n\n                             club_flag_url  nation_logo_url  \\\n19234  https://cdn.sofifa.net/flags/cn.png              NaN   \n19235  https://cdn.sofifa.net/flags/ie.png              NaN   \n19236  https://cdn.sofifa.net/flags/ie.png              NaN   \n19237  https://cdn.sofifa.net/flags/ie.png              NaN   \n19238  https://cdn.sofifa.net/flags/in.png              NaN   \n\n                           nation_flag_url  \n19234  https://cdn.sofifa.net/flags/cn.png  \n19235  https://cdn.sofifa.net/flags/ie.png  \n19236  https://cdn.sofifa.net/flags/ie.png  \n19237  https://cdn.sofifa.net/flags/ie.png  \n19238  https://cdn.sofifa.net/flags/in.png  \n\n[5 rows x 110 columns]",
      "text/html": "<div>\n<style scoped>\n    .dataframe tbody tr th:only-of-type {\n        vertical-align: middle;\n    }\n\n    .dataframe tbody tr th {\n        vertical-align: top;\n    }\n\n    .dataframe thead th {\n        text-align: right;\n    }\n</style>\n<table border=\"1\" class=\"dataframe\">\n  <thead>\n    <tr style=\"text-align: right;\">\n      <th></th>\n      <th>sofifa_id</th>\n      <th>player_url</th>\n      <th>short_name</th>\n      <th>long_name</th>\n      <th>player_positions</th>\n      <th>overall</th>\n      <th>potential</th>\n      <th>value_eur</th>\n      <th>wage_eur</th>\n      <th>age</th>\n      <th>...</th>\n      <th>lcb</th>\n      <th>cb</th>\n      <th>rcb</th>\n      <th>rb</th>\n      <th>gk</th>\n      <th>player_face_url</th>\n      <th>club_logo_url</th>\n      <th>club_flag_url</th>\n      <th>nation_logo_url</th>\n      <th>nation_flag_url</th>\n    </tr>\n  </thead>\n  <tbody>\n    <tr>\n      <th>19234</th>\n      <td>261962</td>\n      <td>https://sofifa.com/player/261962/defu-song/220002</td>\n      <td>Song Defu</td>\n      <td>宋德福</td>\n      <td>CDM</td>\n      <td>47</td>\n      <td>52</td>\n      <td>70000.0</td>\n      <td>1000.0</td>\n      <td>22</td>\n      <td>...</td>\n      <td>46+2</td>\n      <td>46+2</td>\n      <td>46+2</td>\n      <td>48+2</td>\n      <td>15+2</td>\n      <td>https://cdn.sofifa.net/players/261/962/22_120.png</td>\n      <td>https://cdn.sofifa.net/teams/112541/60.png</td>\n      <td>https://cdn.sofifa.net/flags/cn.png</td>\n      <td>NaN</td>\n      <td>https://cdn.sofifa.net/flags/cn.png</td>\n    </tr>\n    <tr>\n      <th>19235</th>\n      <td>262040</td>\n      <td>https://sofifa.com/player/262040/caoimhin-port...</td>\n      <td>C. Porter</td>\n      <td>Caoimhin Porter</td>\n      <td>CM</td>\n      <td>47</td>\n      <td>59</td>\n      <td>110000.0</td>\n      <td>500.0</td>\n      <td>19</td>\n      <td>...</td>\n      <td>44+2</td>\n      <td>44+2</td>\n      <td>44+2</td>\n      <td>48+2</td>\n      <td>14+2</td>\n      <td>https://cdn.sofifa.net/players/262/040/22_120.png</td>\n      <td>https://cdn.sofifa.net/teams/445/60.png</td>\n      <td>https://cdn.sofifa.net/flags/ie.png</td>\n      <td>NaN</td>\n      <td>https://cdn.sofifa.net/flags/ie.png</td>\n    </tr>\n    <tr>\n      <th>19236</th>\n      <td>262760</td>\n      <td>https://sofifa.com/player/262760/nathan-logue/...</td>\n      <td>N. Logue</td>\n      <td>Nathan Logue-Cunningham</td>\n      <td>CM</td>\n      <td>47</td>\n      <td>55</td>\n      <td>100000.0</td>\n      <td>500.0</td>\n      <td>21</td>\n      <td>...</td>\n      <td>45+2</td>\n      <td>45+2</td>\n      <td>45+2</td>\n      <td>47+2</td>\n      <td>12+2</td>\n      <td>https://cdn.sofifa.net/players/262/760/22_120.png</td>\n      <td>https://cdn.sofifa.net/teams/111131/60.png</td>\n      <td>https://cdn.sofifa.net/flags/ie.png</td>\n      <td>NaN</td>\n      <td>https://cdn.sofifa.net/flags/ie.png</td>\n    </tr>\n    <tr>\n      <th>19237</th>\n      <td>262820</td>\n      <td>https://sofifa.com/player/262820/luke-rudden/2...</td>\n      <td>L. Rudden</td>\n      <td>Luke Rudden</td>\n      <td>ST</td>\n      <td>47</td>\n      <td>60</td>\n      <td>110000.0</td>\n      <td>500.0</td>\n      <td>19</td>\n      <td>...</td>\n      <td>26+2</td>\n      <td>26+2</td>\n      <td>26+2</td>\n      <td>32+2</td>\n      <td>15+2</td>\n      <td>https://cdn.sofifa.net/players/262/820/22_120.png</td>\n      <td>https://cdn.sofifa.net/teams/111131/60.png</td>\n      <td>https://cdn.sofifa.net/flags/ie.png</td>\n      <td>NaN</td>\n      <td>https://cdn.sofifa.net/flags/ie.png</td>\n    </tr>\n    <tr>\n      <th>19238</th>\n      <td>264540</td>\n      <td>https://sofifa.com/player/264540/emanuel-lalch...</td>\n      <td>E. Lalchhanchhuaha</td>\n      <td>Emanuel Lalchhanchhuaha</td>\n      <td>CAM</td>\n      <td>47</td>\n      <td>60</td>\n      <td>110000.0</td>\n      <td>500.0</td>\n      <td>19</td>\n      <td>...</td>\n      <td>41+2</td>\n      <td>41+2</td>\n      <td>41+2</td>\n      <td>45+2</td>\n      <td>16+2</td>\n      <td>https://cdn.sofifa.net/players/264/540/22_120.png</td>\n      <td>https://cdn.sofifa.net/teams/113040/60.png</td>\n      <td>https://cdn.sofifa.net/flags/in.png</td>\n      <td>NaN</td>\n      <td>https://cdn.sofifa.net/flags/in.png</td>\n    </tr>\n  </tbody>\n</table>\n<p>5 rows × 110 columns</p>\n</div>"
     },
     "execution_count": 176,
     "metadata": {},
     "output_type": "execute_result"
    }
   ],
   "source": [
    "# 이번엔 데이터 최하단 5개 행을 확인하고 싶어요.\n",
    "\n",
    "df.tail()"
   ],
   "metadata": {
    "collapsed": false,
    "ExecuteTime": {
     "end_time": "2023-06-27T04:15:19.774258200Z",
     "start_time": "2023-06-27T04:15:19.748255700Z"
    }
   }
  },
  {
   "cell_type": "markdown",
   "source": [
    "## 2. 데이터프레임의 특정 값 선택하기\n",
    "\n",
    "### 2.1. 특정 행을 선택하는 방법"
   ],
   "metadata": {
    "collapsed": false
   }
  },
  {
   "cell_type": "code",
   "execution_count": 177,
   "outputs": [
    {
     "data": {
      "text/plain": "sofifa_id                                                      190871\nplayer_url          https://sofifa.com/player/190871/neymar-da-sil...\nshort_name                                                  Neymar Jr\nlong_name                               Neymar da Silva Santos Júnior\nplayer_positions                                              LW, CAM\n                                          ...                        \nplayer_face_url     https://cdn.sofifa.net/players/190/871/22_120.png\nclub_logo_url                  https://cdn.sofifa.net/teams/73/60.png\nclub_flag_url                     https://cdn.sofifa.net/flags/fr.png\nnation_logo_url                                                   NaN\nnation_flag_url                   https://cdn.sofifa.net/flags/br.png\nName: 3, Length: 110, dtype: object"
     },
     "execution_count": 177,
     "metadata": {},
     "output_type": "execute_result"
    }
   ],
   "source": [
    "# 특정 행을 \"인덱스번호\"로 선택하는 방법\n",
    "\n",
    "df.iloc[3]  # index가 3인 행만 선택하기"
   ],
   "metadata": {
    "collapsed": false,
    "ExecuteTime": {
     "end_time": "2023-06-27T04:15:52.478682Z",
     "start_time": "2023-06-27T04:15:52.465403300Z"
    }
   }
  },
  {
   "cell_type": "code",
   "execution_count": 178,
   "outputs": [
    {
     "data": {
      "text/plain": "   sofifa_id                                         player_url  \\\n0     158023  https://sofifa.com/player/158023/lionel-messi/...   \n1     188545  https://sofifa.com/player/188545/robert-lewand...   \n2      20801  https://sofifa.com/player/20801/c-ronaldo-dos-...   \n3     190871  https://sofifa.com/player/190871/neymar-da-sil...   \n4     192985  https://sofifa.com/player/192985/kevin-de-bruy...   \n\n          short_name                            long_name player_positions  \\\n0           L. Messi       Lionel Andrés Messi Cuccittini       RW, ST, CF   \n1     R. Lewandowski                   Robert Lewandowski               ST   \n2  Cristiano Ronaldo  Cristiano Ronaldo dos Santos Aveiro           ST, LW   \n3          Neymar Jr        Neymar da Silva Santos Júnior          LW, CAM   \n4       K. De Bruyne                      Kevin De Bruyne          CM, CAM   \n\n   overall  potential    value_eur  wage_eur  age  ...   lcb    cb   rcb  \\\n0       93         93   78000000.0  320000.0   34  ...  50+3  50+3  50+3   \n1       92         92  119500000.0  270000.0   32  ...  60+3  60+3  60+3   \n2       91         91   45000000.0  270000.0   36  ...  53+3  53+3  53+3   \n3       91         91  129000000.0  270000.0   29  ...  50+3  50+3  50+3   \n4       91         91  125500000.0  350000.0   30  ...  69+3  69+3  69+3   \n\n     rb    gk                                    player_face_url  \\\n0  61+3  19+3  https://cdn.sofifa.net/players/158/023/22_120.png   \n1  61+3  19+3  https://cdn.sofifa.net/players/188/545/22_120.png   \n2  60+3  20+3  https://cdn.sofifa.net/players/020/801/22_120.png   \n3  62+3  20+3  https://cdn.sofifa.net/players/190/871/22_120.png   \n4  75+3  21+3  https://cdn.sofifa.net/players/192/985/22_120.png   \n\n                            club_logo_url  \\\n0  https://cdn.sofifa.net/teams/73/60.png   \n1  https://cdn.sofifa.net/teams/21/60.png   \n2  https://cdn.sofifa.net/teams/11/60.png   \n3  https://cdn.sofifa.net/teams/73/60.png   \n4  https://cdn.sofifa.net/teams/10/60.png   \n\n                             club_flag_url  \\\n0      https://cdn.sofifa.net/flags/fr.png   \n1      https://cdn.sofifa.net/flags/de.png   \n2  https://cdn.sofifa.net/flags/gb-eng.png   \n3      https://cdn.sofifa.net/flags/fr.png   \n4  https://cdn.sofifa.net/flags/gb-eng.png   \n\n                            nation_logo_url  \\\n0  https://cdn.sofifa.net/teams/1369/60.png   \n1  https://cdn.sofifa.net/teams/1353/60.png   \n2  https://cdn.sofifa.net/teams/1354/60.png   \n3                                       NaN   \n4  https://cdn.sofifa.net/teams/1325/60.png   \n\n                       nation_flag_url  \n0  https://cdn.sofifa.net/flags/ar.png  \n1  https://cdn.sofifa.net/flags/pl.png  \n2  https://cdn.sofifa.net/flags/pt.png  \n3  https://cdn.sofifa.net/flags/br.png  \n4  https://cdn.sofifa.net/flags/be.png  \n\n[5 rows x 110 columns]",
      "text/html": "<div>\n<style scoped>\n    .dataframe tbody tr th:only-of-type {\n        vertical-align: middle;\n    }\n\n    .dataframe tbody tr th {\n        vertical-align: top;\n    }\n\n    .dataframe thead th {\n        text-align: right;\n    }\n</style>\n<table border=\"1\" class=\"dataframe\">\n  <thead>\n    <tr style=\"text-align: right;\">\n      <th></th>\n      <th>sofifa_id</th>\n      <th>player_url</th>\n      <th>short_name</th>\n      <th>long_name</th>\n      <th>player_positions</th>\n      <th>overall</th>\n      <th>potential</th>\n      <th>value_eur</th>\n      <th>wage_eur</th>\n      <th>age</th>\n      <th>...</th>\n      <th>lcb</th>\n      <th>cb</th>\n      <th>rcb</th>\n      <th>rb</th>\n      <th>gk</th>\n      <th>player_face_url</th>\n      <th>club_logo_url</th>\n      <th>club_flag_url</th>\n      <th>nation_logo_url</th>\n      <th>nation_flag_url</th>\n    </tr>\n  </thead>\n  <tbody>\n    <tr>\n      <th>0</th>\n      <td>158023</td>\n      <td>https://sofifa.com/player/158023/lionel-messi/...</td>\n      <td>L. Messi</td>\n      <td>Lionel Andrés Messi Cuccittini</td>\n      <td>RW, ST, CF</td>\n      <td>93</td>\n      <td>93</td>\n      <td>78000000.0</td>\n      <td>320000.0</td>\n      <td>34</td>\n      <td>...</td>\n      <td>50+3</td>\n      <td>50+3</td>\n      <td>50+3</td>\n      <td>61+3</td>\n      <td>19+3</td>\n      <td>https://cdn.sofifa.net/players/158/023/22_120.png</td>\n      <td>https://cdn.sofifa.net/teams/73/60.png</td>\n      <td>https://cdn.sofifa.net/flags/fr.png</td>\n      <td>https://cdn.sofifa.net/teams/1369/60.png</td>\n      <td>https://cdn.sofifa.net/flags/ar.png</td>\n    </tr>\n    <tr>\n      <th>1</th>\n      <td>188545</td>\n      <td>https://sofifa.com/player/188545/robert-lewand...</td>\n      <td>R. Lewandowski</td>\n      <td>Robert Lewandowski</td>\n      <td>ST</td>\n      <td>92</td>\n      <td>92</td>\n      <td>119500000.0</td>\n      <td>270000.0</td>\n      <td>32</td>\n      <td>...</td>\n      <td>60+3</td>\n      <td>60+3</td>\n      <td>60+3</td>\n      <td>61+3</td>\n      <td>19+3</td>\n      <td>https://cdn.sofifa.net/players/188/545/22_120.png</td>\n      <td>https://cdn.sofifa.net/teams/21/60.png</td>\n      <td>https://cdn.sofifa.net/flags/de.png</td>\n      <td>https://cdn.sofifa.net/teams/1353/60.png</td>\n      <td>https://cdn.sofifa.net/flags/pl.png</td>\n    </tr>\n    <tr>\n      <th>2</th>\n      <td>20801</td>\n      <td>https://sofifa.com/player/20801/c-ronaldo-dos-...</td>\n      <td>Cristiano Ronaldo</td>\n      <td>Cristiano Ronaldo dos Santos Aveiro</td>\n      <td>ST, LW</td>\n      <td>91</td>\n      <td>91</td>\n      <td>45000000.0</td>\n      <td>270000.0</td>\n      <td>36</td>\n      <td>...</td>\n      <td>53+3</td>\n      <td>53+3</td>\n      <td>53+3</td>\n      <td>60+3</td>\n      <td>20+3</td>\n      <td>https://cdn.sofifa.net/players/020/801/22_120.png</td>\n      <td>https://cdn.sofifa.net/teams/11/60.png</td>\n      <td>https://cdn.sofifa.net/flags/gb-eng.png</td>\n      <td>https://cdn.sofifa.net/teams/1354/60.png</td>\n      <td>https://cdn.sofifa.net/flags/pt.png</td>\n    </tr>\n    <tr>\n      <th>3</th>\n      <td>190871</td>\n      <td>https://sofifa.com/player/190871/neymar-da-sil...</td>\n      <td>Neymar Jr</td>\n      <td>Neymar da Silva Santos Júnior</td>\n      <td>LW, CAM</td>\n      <td>91</td>\n      <td>91</td>\n      <td>129000000.0</td>\n      <td>270000.0</td>\n      <td>29</td>\n      <td>...</td>\n      <td>50+3</td>\n      <td>50+3</td>\n      <td>50+3</td>\n      <td>62+3</td>\n      <td>20+3</td>\n      <td>https://cdn.sofifa.net/players/190/871/22_120.png</td>\n      <td>https://cdn.sofifa.net/teams/73/60.png</td>\n      <td>https://cdn.sofifa.net/flags/fr.png</td>\n      <td>NaN</td>\n      <td>https://cdn.sofifa.net/flags/br.png</td>\n    </tr>\n    <tr>\n      <th>4</th>\n      <td>192985</td>\n      <td>https://sofifa.com/player/192985/kevin-de-bruy...</td>\n      <td>K. De Bruyne</td>\n      <td>Kevin De Bruyne</td>\n      <td>CM, CAM</td>\n      <td>91</td>\n      <td>91</td>\n      <td>125500000.0</td>\n      <td>350000.0</td>\n      <td>30</td>\n      <td>...</td>\n      <td>69+3</td>\n      <td>69+3</td>\n      <td>69+3</td>\n      <td>75+3</td>\n      <td>21+3</td>\n      <td>https://cdn.sofifa.net/players/192/985/22_120.png</td>\n      <td>https://cdn.sofifa.net/teams/10/60.png</td>\n      <td>https://cdn.sofifa.net/flags/gb-eng.png</td>\n      <td>https://cdn.sofifa.net/teams/1325/60.png</td>\n      <td>https://cdn.sofifa.net/flags/be.png</td>\n    </tr>\n  </tbody>\n</table>\n<p>5 rows × 110 columns</p>\n</div>"
     },
     "execution_count": 178,
     "metadata": {},
     "output_type": "execute_result"
    }
   ],
   "source": [
    "# 0~4번 인덱스까지 5개의 데이터를 보여줘\n",
    "\n",
    "df.iloc[:5]"
   ],
   "metadata": {
    "collapsed": false,
    "ExecuteTime": {
     "end_time": "2023-06-27T04:16:31.098214600Z",
     "start_time": "2023-06-27T04:16:31.054064100Z"
    }
   }
  },
  {
   "cell_type": "markdown",
   "source": [
    "### 2.2. 데이터프레임의 특정 열(칼럼)을 선택하는 방법"
   ],
   "metadata": {
    "collapsed": false
   }
  },
  {
   "cell_type": "code",
   "execution_count": 180,
   "outputs": [
    {
     "data": {
      "text/plain": "0             Lionel Andrés Messi Cuccittini\n1                         Robert Lewandowski\n2        Cristiano Ronaldo dos Santos Aveiro\n3              Neymar da Silva Santos Júnior\n4                            Kevin De Bruyne\n                        ...                 \n19234                                    宋德福\n19235                        Caoimhin Porter\n19236                Nathan Logue-Cunningham\n19237                            Luke Rudden\n19238                Emanuel Lalchhanchhuaha\nName: long_name, Length: 19239, dtype: object"
     },
     "execution_count": 180,
     "metadata": {},
     "output_type": "execute_result"
    }
   ],
   "source": [
    "df[\"long_name\"]"
   ],
   "metadata": {
    "collapsed": false,
    "ExecuteTime": {
     "end_time": "2023-06-27T04:17:25.194769700Z",
     "start_time": "2023-06-27T04:17:25.166379700Z"
    }
   }
  },
  {
   "cell_type": "markdown",
   "source": [
    "### 2.3. 특정 행 선택과 열 선택을 동시에 할 수 있음"
   ],
   "metadata": {
    "collapsed": false
   }
  },
  {
   "cell_type": "code",
   "execution_count": 182,
   "outputs": [
    {
     "data": {
      "text/plain": "'Neymar Jr'"
     },
     "execution_count": 182,
     "metadata": {},
     "output_type": "execute_result"
    }
   ],
   "source": [
    "# 3번 인덱스 선수의 short_name을 보여줘\n",
    "df[\"short_name\"].iloc[3]"
   ],
   "metadata": {
    "collapsed": false,
    "ExecuteTime": {
     "end_time": "2023-06-27T04:18:26.985678400Z",
     "start_time": "2023-06-27T04:18:26.974155700Z"
    }
   }
  },
  {
   "cell_type": "markdown",
   "source": [
    "### 2.4. 여러 행을 선택하고 싶다면?"
   ],
   "metadata": {
    "collapsed": false
   }
  },
  {
   "cell_type": "code",
   "execution_count": 184,
   "outputs": [
    {
     "data": {
      "text/plain": "    sofifa_id                                         player_url  \\\n0      158023  https://sofifa.com/player/158023/lionel-messi/...   \n2       20801  https://sofifa.com/player/20801/c-ronaldo-dos-...   \n5      200389  https://sofifa.com/player/200389/jan-oblak/220002   \n10     215914  https://sofifa.com/player/215914/ngolo-kante/2...   \n\n           short_name                            long_name player_positions  \\\n0            L. Messi       Lionel Andrés Messi Cuccittini       RW, ST, CF   \n2   Cristiano Ronaldo  Cristiano Ronaldo dos Santos Aveiro           ST, LW   \n5            J. Oblak                            Jan Oblak               GK   \n10           N. Kanté                         N'Golo Kanté          CDM, CM   \n\n    overall  potential    value_eur  wage_eur  age  ...   lcb    cb   rcb  \\\n0        93         93   78000000.0  320000.0   34  ...  50+3  50+3  50+3   \n2        91         91   45000000.0  270000.0   36  ...  53+3  53+3  53+3   \n5        91         93  112000000.0  130000.0   28  ...  33+3  33+3  33+3   \n10       90         90  100000000.0  230000.0   30  ...  84+3  84+3  84+3   \n\n      rb    gk                                    player_face_url  \\\n0   61+3  19+3  https://cdn.sofifa.net/players/158/023/22_120.png   \n2   60+3  20+3  https://cdn.sofifa.net/players/020/801/22_120.png   \n5   32+3  89+3  https://cdn.sofifa.net/players/200/389/22_120.png   \n10  85+3  20+3  https://cdn.sofifa.net/players/215/914/22_120.png   \n\n                              club_logo_url  \\\n0    https://cdn.sofifa.net/teams/73/60.png   \n2    https://cdn.sofifa.net/teams/11/60.png   \n5   https://cdn.sofifa.net/teams/240/60.png   \n10    https://cdn.sofifa.net/teams/5/60.png   \n\n                              club_flag_url  \\\n0       https://cdn.sofifa.net/flags/fr.png   \n2   https://cdn.sofifa.net/flags/gb-eng.png   \n5       https://cdn.sofifa.net/flags/es.png   \n10  https://cdn.sofifa.net/flags/gb-eng.png   \n\n                             nation_logo_url  \\\n0   https://cdn.sofifa.net/teams/1369/60.png   \n2   https://cdn.sofifa.net/teams/1354/60.png   \n5                                        NaN   \n10  https://cdn.sofifa.net/teams/1335/60.png   \n\n                        nation_flag_url  \n0   https://cdn.sofifa.net/flags/ar.png  \n2   https://cdn.sofifa.net/flags/pt.png  \n5   https://cdn.sofifa.net/flags/si.png  \n10  https://cdn.sofifa.net/flags/fr.png  \n\n[4 rows x 110 columns]",
      "text/html": "<div>\n<style scoped>\n    .dataframe tbody tr th:only-of-type {\n        vertical-align: middle;\n    }\n\n    .dataframe tbody tr th {\n        vertical-align: top;\n    }\n\n    .dataframe thead th {\n        text-align: right;\n    }\n</style>\n<table border=\"1\" class=\"dataframe\">\n  <thead>\n    <tr style=\"text-align: right;\">\n      <th></th>\n      <th>sofifa_id</th>\n      <th>player_url</th>\n      <th>short_name</th>\n      <th>long_name</th>\n      <th>player_positions</th>\n      <th>overall</th>\n      <th>potential</th>\n      <th>value_eur</th>\n      <th>wage_eur</th>\n      <th>age</th>\n      <th>...</th>\n      <th>lcb</th>\n      <th>cb</th>\n      <th>rcb</th>\n      <th>rb</th>\n      <th>gk</th>\n      <th>player_face_url</th>\n      <th>club_logo_url</th>\n      <th>club_flag_url</th>\n      <th>nation_logo_url</th>\n      <th>nation_flag_url</th>\n    </tr>\n  </thead>\n  <tbody>\n    <tr>\n      <th>0</th>\n      <td>158023</td>\n      <td>https://sofifa.com/player/158023/lionel-messi/...</td>\n      <td>L. Messi</td>\n      <td>Lionel Andrés Messi Cuccittini</td>\n      <td>RW, ST, CF</td>\n      <td>93</td>\n      <td>93</td>\n      <td>78000000.0</td>\n      <td>320000.0</td>\n      <td>34</td>\n      <td>...</td>\n      <td>50+3</td>\n      <td>50+3</td>\n      <td>50+3</td>\n      <td>61+3</td>\n      <td>19+3</td>\n      <td>https://cdn.sofifa.net/players/158/023/22_120.png</td>\n      <td>https://cdn.sofifa.net/teams/73/60.png</td>\n      <td>https://cdn.sofifa.net/flags/fr.png</td>\n      <td>https://cdn.sofifa.net/teams/1369/60.png</td>\n      <td>https://cdn.sofifa.net/flags/ar.png</td>\n    </tr>\n    <tr>\n      <th>2</th>\n      <td>20801</td>\n      <td>https://sofifa.com/player/20801/c-ronaldo-dos-...</td>\n      <td>Cristiano Ronaldo</td>\n      <td>Cristiano Ronaldo dos Santos Aveiro</td>\n      <td>ST, LW</td>\n      <td>91</td>\n      <td>91</td>\n      <td>45000000.0</td>\n      <td>270000.0</td>\n      <td>36</td>\n      <td>...</td>\n      <td>53+3</td>\n      <td>53+3</td>\n      <td>53+3</td>\n      <td>60+3</td>\n      <td>20+3</td>\n      <td>https://cdn.sofifa.net/players/020/801/22_120.png</td>\n      <td>https://cdn.sofifa.net/teams/11/60.png</td>\n      <td>https://cdn.sofifa.net/flags/gb-eng.png</td>\n      <td>https://cdn.sofifa.net/teams/1354/60.png</td>\n      <td>https://cdn.sofifa.net/flags/pt.png</td>\n    </tr>\n    <tr>\n      <th>5</th>\n      <td>200389</td>\n      <td>https://sofifa.com/player/200389/jan-oblak/220002</td>\n      <td>J. Oblak</td>\n      <td>Jan Oblak</td>\n      <td>GK</td>\n      <td>91</td>\n      <td>93</td>\n      <td>112000000.0</td>\n      <td>130000.0</td>\n      <td>28</td>\n      <td>...</td>\n      <td>33+3</td>\n      <td>33+3</td>\n      <td>33+3</td>\n      <td>32+3</td>\n      <td>89+3</td>\n      <td>https://cdn.sofifa.net/players/200/389/22_120.png</td>\n      <td>https://cdn.sofifa.net/teams/240/60.png</td>\n      <td>https://cdn.sofifa.net/flags/es.png</td>\n      <td>NaN</td>\n      <td>https://cdn.sofifa.net/flags/si.png</td>\n    </tr>\n    <tr>\n      <th>10</th>\n      <td>215914</td>\n      <td>https://sofifa.com/player/215914/ngolo-kante/2...</td>\n      <td>N. Kanté</td>\n      <td>N'Golo Kanté</td>\n      <td>CDM, CM</td>\n      <td>90</td>\n      <td>90</td>\n      <td>100000000.0</td>\n      <td>230000.0</td>\n      <td>30</td>\n      <td>...</td>\n      <td>84+3</td>\n      <td>84+3</td>\n      <td>84+3</td>\n      <td>85+3</td>\n      <td>20+3</td>\n      <td>https://cdn.sofifa.net/players/215/914/22_120.png</td>\n      <td>https://cdn.sofifa.net/teams/5/60.png</td>\n      <td>https://cdn.sofifa.net/flags/gb-eng.png</td>\n      <td>https://cdn.sofifa.net/teams/1335/60.png</td>\n      <td>https://cdn.sofifa.net/flags/fr.png</td>\n    </tr>\n  </tbody>\n</table>\n<p>4 rows × 110 columns</p>\n</div>"
     },
     "execution_count": 184,
     "metadata": {},
     "output_type": "execute_result"
    }
   ],
   "source": [
    "# 인덱스번호가 0, 2, 5 및 10인 네 개의 행을 보여줘\n",
    "\n",
    "df.iloc[[0, 2, 5, 10]]  # 인덱스 대괄호 안에 리스트를 넣으면 됨"
   ],
   "metadata": {
    "collapsed": false,
    "ExecuteTime": {
     "end_time": "2023-06-27T04:19:44.416942300Z",
     "start_time": "2023-06-27T04:19:44.377394700Z"
    }
   }
  },
  {
   "cell_type": "markdown",
   "source": [
    "### 2.5. 여러 개의 열(칼럼)을 선택하고 싶다면?"
   ],
   "metadata": {
    "collapsed": false
   }
  },
  {
   "cell_type": "code",
   "execution_count": 185,
   "outputs": [
    {
     "data": {
      "text/plain": "               short_name                            long_name  overall\n0                L. Messi       Lionel Andrés Messi Cuccittini       93\n1          R. Lewandowski                   Robert Lewandowski       92\n2       Cristiano Ronaldo  Cristiano Ronaldo dos Santos Aveiro       91\n3               Neymar Jr        Neymar da Silva Santos Júnior       91\n4            K. De Bruyne                      Kevin De Bruyne       91\n...                   ...                                  ...      ...\n19234           Song Defu                                  宋德福       47\n19235           C. Porter                      Caoimhin Porter       47\n19236            N. Logue              Nathan Logue-Cunningham       47\n19237           L. Rudden                          Luke Rudden       47\n19238  E. Lalchhanchhuaha              Emanuel Lalchhanchhuaha       47\n\n[19239 rows x 3 columns]",
      "text/html": "<div>\n<style scoped>\n    .dataframe tbody tr th:only-of-type {\n        vertical-align: middle;\n    }\n\n    .dataframe tbody tr th {\n        vertical-align: top;\n    }\n\n    .dataframe thead th {\n        text-align: right;\n    }\n</style>\n<table border=\"1\" class=\"dataframe\">\n  <thead>\n    <tr style=\"text-align: right;\">\n      <th></th>\n      <th>short_name</th>\n      <th>long_name</th>\n      <th>overall</th>\n    </tr>\n  </thead>\n  <tbody>\n    <tr>\n      <th>0</th>\n      <td>L. Messi</td>\n      <td>Lionel Andrés Messi Cuccittini</td>\n      <td>93</td>\n    </tr>\n    <tr>\n      <th>1</th>\n      <td>R. Lewandowski</td>\n      <td>Robert Lewandowski</td>\n      <td>92</td>\n    </tr>\n    <tr>\n      <th>2</th>\n      <td>Cristiano Ronaldo</td>\n      <td>Cristiano Ronaldo dos Santos Aveiro</td>\n      <td>91</td>\n    </tr>\n    <tr>\n      <th>3</th>\n      <td>Neymar Jr</td>\n      <td>Neymar da Silva Santos Júnior</td>\n      <td>91</td>\n    </tr>\n    <tr>\n      <th>4</th>\n      <td>K. De Bruyne</td>\n      <td>Kevin De Bruyne</td>\n      <td>91</td>\n    </tr>\n    <tr>\n      <th>...</th>\n      <td>...</td>\n      <td>...</td>\n      <td>...</td>\n    </tr>\n    <tr>\n      <th>19234</th>\n      <td>Song Defu</td>\n      <td>宋德福</td>\n      <td>47</td>\n    </tr>\n    <tr>\n      <th>19235</th>\n      <td>C. Porter</td>\n      <td>Caoimhin Porter</td>\n      <td>47</td>\n    </tr>\n    <tr>\n      <th>19236</th>\n      <td>N. Logue</td>\n      <td>Nathan Logue-Cunningham</td>\n      <td>47</td>\n    </tr>\n    <tr>\n      <th>19237</th>\n      <td>L. Rudden</td>\n      <td>Luke Rudden</td>\n      <td>47</td>\n    </tr>\n    <tr>\n      <th>19238</th>\n      <td>E. Lalchhanchhuaha</td>\n      <td>Emanuel Lalchhanchhuaha</td>\n      <td>47</td>\n    </tr>\n  </tbody>\n</table>\n<p>19239 rows × 3 columns</p>\n</div>"
     },
     "execution_count": 185,
     "metadata": {},
     "output_type": "execute_result"
    }
   ],
   "source": [
    "df[[\"short_name\", 'long_name', 'overall']]"
   ],
   "metadata": {
    "collapsed": false,
    "ExecuteTime": {
     "end_time": "2023-06-27T04:20:09.232256600Z",
     "start_time": "2023-06-27T04:20:09.218383600Z"
    }
   }
  },
  {
   "cell_type": "markdown",
   "source": [
    "## 3. 특정 조건에 부합하는 행을 선택하기"
   ],
   "metadata": {
    "collapsed": false
   }
  },
  {
   "cell_type": "markdown",
   "source": [
    "### 3.1. 판다스 데이터프레임이 제공하는 필터링 문법 이해하기"
   ],
   "metadata": {
    "collapsed": false
   }
  },
  {
   "cell_type": "markdown",
   "source": [
    "판다스 데이터프레임에서 특정 조건에 부합하는 행을 선택하는 프로세스에 대해 먼저 이해해봅시다.\n",
    "\n",
    "기존 파이썬 기본 문법을 알려드릴 때에는 for문과 if-else문을 통해서 특정 조건식으로 요소를 골라낼 수 있었습니다.\n",
    "\n",
    "하지만 판다스 데이터프레임워크는 브로드캐스팅 등의 기법이 적용되어 병렬연산에 최적화되어 있습니다. 그 덕분에 연산을 순차적으로 하지 않고 한 번에 처리해 냅니다.\n",
    "\n",
    "(그래서 데이터프레임에 for문을 사용하는 경우가 드뭅니다.)"
   ],
   "metadata": {
    "collapsed": false
   }
  },
  {
   "cell_type": "code",
   "execution_count": 195,
   "outputs": [],
   "source": [
    "# 예시를 위한 임시 데이터프레임을 만들어보았습니다.\n",
    "\n",
    "df_imsi = df.iloc[:5]"
   ],
   "metadata": {
    "collapsed": false,
    "ExecuteTime": {
     "end_time": "2023-06-27T04:40:49.821825700Z",
     "start_time": "2023-06-27T04:40:49.821825700Z"
    }
   }
  },
  {
   "cell_type": "code",
   "execution_count": 196,
   "outputs": [
    {
     "data": {
      "text/plain": "   sofifa_id                                         player_url  \\\n0     158023  https://sofifa.com/player/158023/lionel-messi/...   \n1     188545  https://sofifa.com/player/188545/robert-lewand...   \n2      20801  https://sofifa.com/player/20801/c-ronaldo-dos-...   \n3     190871  https://sofifa.com/player/190871/neymar-da-sil...   \n4     192985  https://sofifa.com/player/192985/kevin-de-bruy...   \n\n          short_name                            long_name player_positions  \\\n0           L. Messi       Lionel Andrés Messi Cuccittini       RW, ST, CF   \n1     R. Lewandowski                   Robert Lewandowski               ST   \n2  Cristiano Ronaldo  Cristiano Ronaldo dos Santos Aveiro           ST, LW   \n3          Neymar Jr        Neymar da Silva Santos Júnior          LW, CAM   \n4       K. De Bruyne                      Kevin De Bruyne          CM, CAM   \n\n   overall  potential    value_eur  wage_eur  age  ...   lcb    cb   rcb  \\\n0       93         93   78000000.0  320000.0   34  ...  50+3  50+3  50+3   \n1       92         92  119500000.0  270000.0   32  ...  60+3  60+3  60+3   \n2       91         91   45000000.0  270000.0   36  ...  53+3  53+3  53+3   \n3       91         91  129000000.0  270000.0   29  ...  50+3  50+3  50+3   \n4       91         91  125500000.0  350000.0   30  ...  69+3  69+3  69+3   \n\n     rb    gk                                    player_face_url  \\\n0  61+3  19+3  https://cdn.sofifa.net/players/158/023/22_120.png   \n1  61+3  19+3  https://cdn.sofifa.net/players/188/545/22_120.png   \n2  60+3  20+3  https://cdn.sofifa.net/players/020/801/22_120.png   \n3  62+3  20+3  https://cdn.sofifa.net/players/190/871/22_120.png   \n4  75+3  21+3  https://cdn.sofifa.net/players/192/985/22_120.png   \n\n                            club_logo_url  \\\n0  https://cdn.sofifa.net/teams/73/60.png   \n1  https://cdn.sofifa.net/teams/21/60.png   \n2  https://cdn.sofifa.net/teams/11/60.png   \n3  https://cdn.sofifa.net/teams/73/60.png   \n4  https://cdn.sofifa.net/teams/10/60.png   \n\n                             club_flag_url  \\\n0      https://cdn.sofifa.net/flags/fr.png   \n1      https://cdn.sofifa.net/flags/de.png   \n2  https://cdn.sofifa.net/flags/gb-eng.png   \n3      https://cdn.sofifa.net/flags/fr.png   \n4  https://cdn.sofifa.net/flags/gb-eng.png   \n\n                            nation_logo_url  \\\n0  https://cdn.sofifa.net/teams/1369/60.png   \n1  https://cdn.sofifa.net/teams/1353/60.png   \n2  https://cdn.sofifa.net/teams/1354/60.png   \n3                                       NaN   \n4  https://cdn.sofifa.net/teams/1325/60.png   \n\n                       nation_flag_url  \n0  https://cdn.sofifa.net/flags/ar.png  \n1  https://cdn.sofifa.net/flags/pl.png  \n2  https://cdn.sofifa.net/flags/pt.png  \n3  https://cdn.sofifa.net/flags/br.png  \n4  https://cdn.sofifa.net/flags/be.png  \n\n[5 rows x 110 columns]",
      "text/html": "<div>\n<style scoped>\n    .dataframe tbody tr th:only-of-type {\n        vertical-align: middle;\n    }\n\n    .dataframe tbody tr th {\n        vertical-align: top;\n    }\n\n    .dataframe thead th {\n        text-align: right;\n    }\n</style>\n<table border=\"1\" class=\"dataframe\">\n  <thead>\n    <tr style=\"text-align: right;\">\n      <th></th>\n      <th>sofifa_id</th>\n      <th>player_url</th>\n      <th>short_name</th>\n      <th>long_name</th>\n      <th>player_positions</th>\n      <th>overall</th>\n      <th>potential</th>\n      <th>value_eur</th>\n      <th>wage_eur</th>\n      <th>age</th>\n      <th>...</th>\n      <th>lcb</th>\n      <th>cb</th>\n      <th>rcb</th>\n      <th>rb</th>\n      <th>gk</th>\n      <th>player_face_url</th>\n      <th>club_logo_url</th>\n      <th>club_flag_url</th>\n      <th>nation_logo_url</th>\n      <th>nation_flag_url</th>\n    </tr>\n  </thead>\n  <tbody>\n    <tr>\n      <th>0</th>\n      <td>158023</td>\n      <td>https://sofifa.com/player/158023/lionel-messi/...</td>\n      <td>L. Messi</td>\n      <td>Lionel Andrés Messi Cuccittini</td>\n      <td>RW, ST, CF</td>\n      <td>93</td>\n      <td>93</td>\n      <td>78000000.0</td>\n      <td>320000.0</td>\n      <td>34</td>\n      <td>...</td>\n      <td>50+3</td>\n      <td>50+3</td>\n      <td>50+3</td>\n      <td>61+3</td>\n      <td>19+3</td>\n      <td>https://cdn.sofifa.net/players/158/023/22_120.png</td>\n      <td>https://cdn.sofifa.net/teams/73/60.png</td>\n      <td>https://cdn.sofifa.net/flags/fr.png</td>\n      <td>https://cdn.sofifa.net/teams/1369/60.png</td>\n      <td>https://cdn.sofifa.net/flags/ar.png</td>\n    </tr>\n    <tr>\n      <th>1</th>\n      <td>188545</td>\n      <td>https://sofifa.com/player/188545/robert-lewand...</td>\n      <td>R. Lewandowski</td>\n      <td>Robert Lewandowski</td>\n      <td>ST</td>\n      <td>92</td>\n      <td>92</td>\n      <td>119500000.0</td>\n      <td>270000.0</td>\n      <td>32</td>\n      <td>...</td>\n      <td>60+3</td>\n      <td>60+3</td>\n      <td>60+3</td>\n      <td>61+3</td>\n      <td>19+3</td>\n      <td>https://cdn.sofifa.net/players/188/545/22_120.png</td>\n      <td>https://cdn.sofifa.net/teams/21/60.png</td>\n      <td>https://cdn.sofifa.net/flags/de.png</td>\n      <td>https://cdn.sofifa.net/teams/1353/60.png</td>\n      <td>https://cdn.sofifa.net/flags/pl.png</td>\n    </tr>\n    <tr>\n      <th>2</th>\n      <td>20801</td>\n      <td>https://sofifa.com/player/20801/c-ronaldo-dos-...</td>\n      <td>Cristiano Ronaldo</td>\n      <td>Cristiano Ronaldo dos Santos Aveiro</td>\n      <td>ST, LW</td>\n      <td>91</td>\n      <td>91</td>\n      <td>45000000.0</td>\n      <td>270000.0</td>\n      <td>36</td>\n      <td>...</td>\n      <td>53+3</td>\n      <td>53+3</td>\n      <td>53+3</td>\n      <td>60+3</td>\n      <td>20+3</td>\n      <td>https://cdn.sofifa.net/players/020/801/22_120.png</td>\n      <td>https://cdn.sofifa.net/teams/11/60.png</td>\n      <td>https://cdn.sofifa.net/flags/gb-eng.png</td>\n      <td>https://cdn.sofifa.net/teams/1354/60.png</td>\n      <td>https://cdn.sofifa.net/flags/pt.png</td>\n    </tr>\n    <tr>\n      <th>3</th>\n      <td>190871</td>\n      <td>https://sofifa.com/player/190871/neymar-da-sil...</td>\n      <td>Neymar Jr</td>\n      <td>Neymar da Silva Santos Júnior</td>\n      <td>LW, CAM</td>\n      <td>91</td>\n      <td>91</td>\n      <td>129000000.0</td>\n      <td>270000.0</td>\n      <td>29</td>\n      <td>...</td>\n      <td>50+3</td>\n      <td>50+3</td>\n      <td>50+3</td>\n      <td>62+3</td>\n      <td>20+3</td>\n      <td>https://cdn.sofifa.net/players/190/871/22_120.png</td>\n      <td>https://cdn.sofifa.net/teams/73/60.png</td>\n      <td>https://cdn.sofifa.net/flags/fr.png</td>\n      <td>NaN</td>\n      <td>https://cdn.sofifa.net/flags/br.png</td>\n    </tr>\n    <tr>\n      <th>4</th>\n      <td>192985</td>\n      <td>https://sofifa.com/player/192985/kevin-de-bruy...</td>\n      <td>K. De Bruyne</td>\n      <td>Kevin De Bruyne</td>\n      <td>CM, CAM</td>\n      <td>91</td>\n      <td>91</td>\n      <td>125500000.0</td>\n      <td>350000.0</td>\n      <td>30</td>\n      <td>...</td>\n      <td>69+3</td>\n      <td>69+3</td>\n      <td>69+3</td>\n      <td>75+3</td>\n      <td>21+3</td>\n      <td>https://cdn.sofifa.net/players/192/985/22_120.png</td>\n      <td>https://cdn.sofifa.net/teams/10/60.png</td>\n      <td>https://cdn.sofifa.net/flags/gb-eng.png</td>\n      <td>https://cdn.sofifa.net/teams/1325/60.png</td>\n      <td>https://cdn.sofifa.net/flags/be.png</td>\n    </tr>\n  </tbody>\n</table>\n<p>5 rows × 110 columns</p>\n</div>"
     },
     "execution_count": 196,
     "metadata": {},
     "output_type": "execute_result"
    }
   ],
   "source": [
    "# df_imsi의 모양은 아래와 같습니다. 5행의 데이터입니다.\n",
    "\n",
    "df_imsi"
   ],
   "metadata": {
    "collapsed": false,
    "ExecuteTime": {
     "end_time": "2023-06-27T04:40:50.164838Z",
     "start_time": "2023-06-27T04:40:50.128838300Z"
    }
   }
  },
  {
   "cell_type": "code",
   "execution_count": 197,
   "outputs": [
    {
     "data": {
      "text/plain": "   sofifa_id                                         player_url  \\\n0     158023  https://sofifa.com/player/158023/lionel-messi/...   \n1     188545  https://sofifa.com/player/188545/robert-lewand...   \n2      20801  https://sofifa.com/player/20801/c-ronaldo-dos-...   \n\n          short_name                            long_name player_positions  \\\n0           L. Messi       Lionel Andrés Messi Cuccittini       RW, ST, CF   \n1     R. Lewandowski                   Robert Lewandowski               ST   \n2  Cristiano Ronaldo  Cristiano Ronaldo dos Santos Aveiro           ST, LW   \n\n   overall  potential    value_eur  wage_eur  age  ...   lcb    cb   rcb  \\\n0       93         93   78000000.0  320000.0   34  ...  50+3  50+3  50+3   \n1       92         92  119500000.0  270000.0   32  ...  60+3  60+3  60+3   \n2       91         91   45000000.0  270000.0   36  ...  53+3  53+3  53+3   \n\n     rb    gk                                    player_face_url  \\\n0  61+3  19+3  https://cdn.sofifa.net/players/158/023/22_120.png   \n1  61+3  19+3  https://cdn.sofifa.net/players/188/545/22_120.png   \n2  60+3  20+3  https://cdn.sofifa.net/players/020/801/22_120.png   \n\n                            club_logo_url  \\\n0  https://cdn.sofifa.net/teams/73/60.png   \n1  https://cdn.sofifa.net/teams/21/60.png   \n2  https://cdn.sofifa.net/teams/11/60.png   \n\n                             club_flag_url  \\\n0      https://cdn.sofifa.net/flags/fr.png   \n1      https://cdn.sofifa.net/flags/de.png   \n2  https://cdn.sofifa.net/flags/gb-eng.png   \n\n                            nation_logo_url  \\\n0  https://cdn.sofifa.net/teams/1369/60.png   \n1  https://cdn.sofifa.net/teams/1353/60.png   \n2  https://cdn.sofifa.net/teams/1354/60.png   \n\n                       nation_flag_url  \n0  https://cdn.sofifa.net/flags/ar.png  \n1  https://cdn.sofifa.net/flags/pl.png  \n2  https://cdn.sofifa.net/flags/pt.png  \n\n[3 rows x 110 columns]",
      "text/html": "<div>\n<style scoped>\n    .dataframe tbody tr th:only-of-type {\n        vertical-align: middle;\n    }\n\n    .dataframe tbody tr th {\n        vertical-align: top;\n    }\n\n    .dataframe thead th {\n        text-align: right;\n    }\n</style>\n<table border=\"1\" class=\"dataframe\">\n  <thead>\n    <tr style=\"text-align: right;\">\n      <th></th>\n      <th>sofifa_id</th>\n      <th>player_url</th>\n      <th>short_name</th>\n      <th>long_name</th>\n      <th>player_positions</th>\n      <th>overall</th>\n      <th>potential</th>\n      <th>value_eur</th>\n      <th>wage_eur</th>\n      <th>age</th>\n      <th>...</th>\n      <th>lcb</th>\n      <th>cb</th>\n      <th>rcb</th>\n      <th>rb</th>\n      <th>gk</th>\n      <th>player_face_url</th>\n      <th>club_logo_url</th>\n      <th>club_flag_url</th>\n      <th>nation_logo_url</th>\n      <th>nation_flag_url</th>\n    </tr>\n  </thead>\n  <tbody>\n    <tr>\n      <th>0</th>\n      <td>158023</td>\n      <td>https://sofifa.com/player/158023/lionel-messi/...</td>\n      <td>L. Messi</td>\n      <td>Lionel Andrés Messi Cuccittini</td>\n      <td>RW, ST, CF</td>\n      <td>93</td>\n      <td>93</td>\n      <td>78000000.0</td>\n      <td>320000.0</td>\n      <td>34</td>\n      <td>...</td>\n      <td>50+3</td>\n      <td>50+3</td>\n      <td>50+3</td>\n      <td>61+3</td>\n      <td>19+3</td>\n      <td>https://cdn.sofifa.net/players/158/023/22_120.png</td>\n      <td>https://cdn.sofifa.net/teams/73/60.png</td>\n      <td>https://cdn.sofifa.net/flags/fr.png</td>\n      <td>https://cdn.sofifa.net/teams/1369/60.png</td>\n      <td>https://cdn.sofifa.net/flags/ar.png</td>\n    </tr>\n    <tr>\n      <th>1</th>\n      <td>188545</td>\n      <td>https://sofifa.com/player/188545/robert-lewand...</td>\n      <td>R. Lewandowski</td>\n      <td>Robert Lewandowski</td>\n      <td>ST</td>\n      <td>92</td>\n      <td>92</td>\n      <td>119500000.0</td>\n      <td>270000.0</td>\n      <td>32</td>\n      <td>...</td>\n      <td>60+3</td>\n      <td>60+3</td>\n      <td>60+3</td>\n      <td>61+3</td>\n      <td>19+3</td>\n      <td>https://cdn.sofifa.net/players/188/545/22_120.png</td>\n      <td>https://cdn.sofifa.net/teams/21/60.png</td>\n      <td>https://cdn.sofifa.net/flags/de.png</td>\n      <td>https://cdn.sofifa.net/teams/1353/60.png</td>\n      <td>https://cdn.sofifa.net/flags/pl.png</td>\n    </tr>\n    <tr>\n      <th>2</th>\n      <td>20801</td>\n      <td>https://sofifa.com/player/20801/c-ronaldo-dos-...</td>\n      <td>Cristiano Ronaldo</td>\n      <td>Cristiano Ronaldo dos Santos Aveiro</td>\n      <td>ST, LW</td>\n      <td>91</td>\n      <td>91</td>\n      <td>45000000.0</td>\n      <td>270000.0</td>\n      <td>36</td>\n      <td>...</td>\n      <td>53+3</td>\n      <td>53+3</td>\n      <td>53+3</td>\n      <td>60+3</td>\n      <td>20+3</td>\n      <td>https://cdn.sofifa.net/players/020/801/22_120.png</td>\n      <td>https://cdn.sofifa.net/teams/11/60.png</td>\n      <td>https://cdn.sofifa.net/flags/gb-eng.png</td>\n      <td>https://cdn.sofifa.net/teams/1354/60.png</td>\n      <td>https://cdn.sofifa.net/flags/pt.png</td>\n    </tr>\n  </tbody>\n</table>\n<p>3 rows × 110 columns</p>\n</div>"
     },
     "execution_count": 197,
     "metadata": {},
     "output_type": "execute_result"
    }
   ],
   "source": [
    "# 아래와 같이 bool 값들을 리스트에 넣어 인덱싱을 실행해보면\n",
    "# 어떤 결과가 나타날까요?\n",
    "\n",
    "df_imsi[[True, True, True, False, False]]"
   ],
   "metadata": {
    "collapsed": false,
    "ExecuteTime": {
     "end_time": "2023-06-27T04:40:52.032569200Z",
     "start_time": "2023-06-27T04:40:52.019790700Z"
    }
   }
  },
  {
   "cell_type": "markdown",
   "source": [
    "인덱스 순번이 True에 해당하는 행 3개만 추출되었습니다.\n",
    "\n",
    "(False에 해당하는 3, 4번 인덱스 행은 제외되었고요.)"
   ],
   "metadata": {
    "collapsed": false
   }
  },
  {
   "cell_type": "markdown",
   "source": [
    "이번엔 아래 코드를 실행해봅시다.\n",
    "\n",
    "마치 if문 안에 들어가는 조건식처럼 보이는데요.\n",
    "\n",
    "단순히 \"df_imsi[\"age\"] 칼럼이 30보다 크냐?\"라는 의미가 아닌,\n",
    "\n",
    "\"df_imsi[\"age\"] 칼럼의 값들 중에서 30보다 크면 True를, 30이하면 False를 돌려줘\"라는 의미의 코드입니다.\n",
    "\n",
    "처음엔 생소하더라도,\n",
    "\n",
    "df의 데이터를 특정 조건으로 필터링하기 위한 기본 문법이므로\n",
    "\n",
    "꼭 숙지하여 주시기 바랍니다."
   ],
   "metadata": {
    "collapsed": false
   }
  },
  {
   "cell_type": "code",
   "execution_count": 198,
   "outputs": [
    {
     "data": {
      "text/plain": "0     True\n1     True\n2     True\n3    False\n4    False\nName: age, dtype: bool"
     },
     "execution_count": 198,
     "metadata": {},
     "output_type": "execute_result"
    }
   ],
   "source": [
    "df_imsi[\"age\"] > 30  # [True, True, True, False, False]를 리턴"
   ],
   "metadata": {
    "collapsed": false,
    "ExecuteTime": {
     "end_time": "2023-06-27T04:40:58.350750300Z",
     "start_time": "2023-06-27T04:40:58.350240100Z"
    }
   }
  },
  {
   "cell_type": "markdown",
   "source": [
    "이번엔 위에서 보여드린 두 개의 문법을 조합해서,\n",
    "\n",
    "df_imsi 데이터프레임에서 나이가 30을 넘는 선수만 보여달라는 코드를 작성해보겠습니다."
   ],
   "metadata": {
    "collapsed": false
   }
  },
  {
   "cell_type": "code",
   "execution_count": 199,
   "outputs": [
    {
     "data": {
      "text/plain": "   sofifa_id                                         player_url  \\\n0     158023  https://sofifa.com/player/158023/lionel-messi/...   \n1     188545  https://sofifa.com/player/188545/robert-lewand...   \n2      20801  https://sofifa.com/player/20801/c-ronaldo-dos-...   \n\n          short_name                            long_name player_positions  \\\n0           L. Messi       Lionel Andrés Messi Cuccittini       RW, ST, CF   \n1     R. Lewandowski                   Robert Lewandowski               ST   \n2  Cristiano Ronaldo  Cristiano Ronaldo dos Santos Aveiro           ST, LW   \n\n   overall  potential    value_eur  wage_eur  age  ...   lcb    cb   rcb  \\\n0       93         93   78000000.0  320000.0   34  ...  50+3  50+3  50+3   \n1       92         92  119500000.0  270000.0   32  ...  60+3  60+3  60+3   \n2       91         91   45000000.0  270000.0   36  ...  53+3  53+3  53+3   \n\n     rb    gk                                    player_face_url  \\\n0  61+3  19+3  https://cdn.sofifa.net/players/158/023/22_120.png   \n1  61+3  19+3  https://cdn.sofifa.net/players/188/545/22_120.png   \n2  60+3  20+3  https://cdn.sofifa.net/players/020/801/22_120.png   \n\n                            club_logo_url  \\\n0  https://cdn.sofifa.net/teams/73/60.png   \n1  https://cdn.sofifa.net/teams/21/60.png   \n2  https://cdn.sofifa.net/teams/11/60.png   \n\n                             club_flag_url  \\\n0      https://cdn.sofifa.net/flags/fr.png   \n1      https://cdn.sofifa.net/flags/de.png   \n2  https://cdn.sofifa.net/flags/gb-eng.png   \n\n                            nation_logo_url  \\\n0  https://cdn.sofifa.net/teams/1369/60.png   \n1  https://cdn.sofifa.net/teams/1353/60.png   \n2  https://cdn.sofifa.net/teams/1354/60.png   \n\n                       nation_flag_url  \n0  https://cdn.sofifa.net/flags/ar.png  \n1  https://cdn.sofifa.net/flags/pl.png  \n2  https://cdn.sofifa.net/flags/pt.png  \n\n[3 rows x 110 columns]",
      "text/html": "<div>\n<style scoped>\n    .dataframe tbody tr th:only-of-type {\n        vertical-align: middle;\n    }\n\n    .dataframe tbody tr th {\n        vertical-align: top;\n    }\n\n    .dataframe thead th {\n        text-align: right;\n    }\n</style>\n<table border=\"1\" class=\"dataframe\">\n  <thead>\n    <tr style=\"text-align: right;\">\n      <th></th>\n      <th>sofifa_id</th>\n      <th>player_url</th>\n      <th>short_name</th>\n      <th>long_name</th>\n      <th>player_positions</th>\n      <th>overall</th>\n      <th>potential</th>\n      <th>value_eur</th>\n      <th>wage_eur</th>\n      <th>age</th>\n      <th>...</th>\n      <th>lcb</th>\n      <th>cb</th>\n      <th>rcb</th>\n      <th>rb</th>\n      <th>gk</th>\n      <th>player_face_url</th>\n      <th>club_logo_url</th>\n      <th>club_flag_url</th>\n      <th>nation_logo_url</th>\n      <th>nation_flag_url</th>\n    </tr>\n  </thead>\n  <tbody>\n    <tr>\n      <th>0</th>\n      <td>158023</td>\n      <td>https://sofifa.com/player/158023/lionel-messi/...</td>\n      <td>L. Messi</td>\n      <td>Lionel Andrés Messi Cuccittini</td>\n      <td>RW, ST, CF</td>\n      <td>93</td>\n      <td>93</td>\n      <td>78000000.0</td>\n      <td>320000.0</td>\n      <td>34</td>\n      <td>...</td>\n      <td>50+3</td>\n      <td>50+3</td>\n      <td>50+3</td>\n      <td>61+3</td>\n      <td>19+3</td>\n      <td>https://cdn.sofifa.net/players/158/023/22_120.png</td>\n      <td>https://cdn.sofifa.net/teams/73/60.png</td>\n      <td>https://cdn.sofifa.net/flags/fr.png</td>\n      <td>https://cdn.sofifa.net/teams/1369/60.png</td>\n      <td>https://cdn.sofifa.net/flags/ar.png</td>\n    </tr>\n    <tr>\n      <th>1</th>\n      <td>188545</td>\n      <td>https://sofifa.com/player/188545/robert-lewand...</td>\n      <td>R. Lewandowski</td>\n      <td>Robert Lewandowski</td>\n      <td>ST</td>\n      <td>92</td>\n      <td>92</td>\n      <td>119500000.0</td>\n      <td>270000.0</td>\n      <td>32</td>\n      <td>...</td>\n      <td>60+3</td>\n      <td>60+3</td>\n      <td>60+3</td>\n      <td>61+3</td>\n      <td>19+3</td>\n      <td>https://cdn.sofifa.net/players/188/545/22_120.png</td>\n      <td>https://cdn.sofifa.net/teams/21/60.png</td>\n      <td>https://cdn.sofifa.net/flags/de.png</td>\n      <td>https://cdn.sofifa.net/teams/1353/60.png</td>\n      <td>https://cdn.sofifa.net/flags/pl.png</td>\n    </tr>\n    <tr>\n      <th>2</th>\n      <td>20801</td>\n      <td>https://sofifa.com/player/20801/c-ronaldo-dos-...</td>\n      <td>Cristiano Ronaldo</td>\n      <td>Cristiano Ronaldo dos Santos Aveiro</td>\n      <td>ST, LW</td>\n      <td>91</td>\n      <td>91</td>\n      <td>45000000.0</td>\n      <td>270000.0</td>\n      <td>36</td>\n      <td>...</td>\n      <td>53+3</td>\n      <td>53+3</td>\n      <td>53+3</td>\n      <td>60+3</td>\n      <td>20+3</td>\n      <td>https://cdn.sofifa.net/players/020/801/22_120.png</td>\n      <td>https://cdn.sofifa.net/teams/11/60.png</td>\n      <td>https://cdn.sofifa.net/flags/gb-eng.png</td>\n      <td>https://cdn.sofifa.net/teams/1354/60.png</td>\n      <td>https://cdn.sofifa.net/flags/pt.png</td>\n    </tr>\n  </tbody>\n</table>\n<p>3 rows × 110 columns</p>\n</div>"
     },
     "execution_count": 199,
     "metadata": {},
     "output_type": "execute_result"
    }
   ],
   "source": [
    "# df_imsi[[True, True, True, False, False]] 와 결과가 동일합니다.\n",
    "df_imsi[df_imsi[\"age\"] > 30]"
   ],
   "metadata": {
    "collapsed": false,
    "ExecuteTime": {
     "end_time": "2023-06-27T04:41:02.250039400Z",
     "start_time": "2023-06-27T04:41:02.235596100Z"
    }
   }
  },
  {
   "cell_type": "code",
   "execution_count": 200,
   "outputs": [],
   "source": [
    "# (참고로) 굳이 for문으로 필터링을 하려면 아래와 같이 다소 귀찮은 for-if문을 써야 합니다.\n",
    "\n",
    "# players = []\n",
    "# for i in range(5):\n",
    "#     if df_imsi.iloc[i][\"age\"] > 30:\n",
    "#         players.append(df_imsi.iloc[i][\"short_name\"])\n",
    "# print(players)"
   ],
   "metadata": {
    "collapsed": false,
    "ExecuteTime": {
     "end_time": "2023-06-27T04:41:03.141290800Z",
     "start_time": "2023-06-27T04:41:03.125337600Z"
    }
   }
  },
  {
   "cell_type": "markdown",
   "source": [
    "### 3.2. overall 점수가 90점 이상인 선수들의 목록을 보여줘"
   ],
   "metadata": {
    "collapsed": false
   }
  },
  {
   "cell_type": "code",
   "execution_count": 201,
   "outputs": [
    {
     "data": {
      "text/plain": "0         True\n1         True\n2         True\n3         True\n4         True\n         ...  \n19234    False\n19235    False\n19236    False\n19237    False\n19238    False\nName: overall, Length: 19239, dtype: bool"
     },
     "execution_count": 201,
     "metadata": {},
     "output_type": "execute_result"
    }
   ],
   "source": [
    "# 조건식의 결과만 확인해볼까?\n",
    "df[\"overall\"] > 90"
   ],
   "metadata": {
    "collapsed": false,
    "ExecuteTime": {
     "end_time": "2023-06-27T04:43:21.223358800Z",
     "start_time": "2023-06-27T04:43:21.195751900Z"
    }
   }
  },
  {
   "cell_type": "code",
   "execution_count": 202,
   "outputs": [
    {
     "data": {
      "text/plain": "   sofifa_id                                         player_url  \\\n0     158023  https://sofifa.com/player/158023/lionel-messi/...   \n1     188545  https://sofifa.com/player/188545/robert-lewand...   \n2      20801  https://sofifa.com/player/20801/c-ronaldo-dos-...   \n3     190871  https://sofifa.com/player/190871/neymar-da-sil...   \n4     192985  https://sofifa.com/player/192985/kevin-de-bruy...   \n5     200389  https://sofifa.com/player/200389/jan-oblak/220002   \n6     231747  https://sofifa.com/player/231747/kylian-mbappe...   \n\n          short_name                            long_name player_positions  \\\n0           L. Messi       Lionel Andrés Messi Cuccittini       RW, ST, CF   \n1     R. Lewandowski                   Robert Lewandowski               ST   \n2  Cristiano Ronaldo  Cristiano Ronaldo dos Santos Aveiro           ST, LW   \n3          Neymar Jr        Neymar da Silva Santos Júnior          LW, CAM   \n4       K. De Bruyne                      Kevin De Bruyne          CM, CAM   \n5           J. Oblak                            Jan Oblak               GK   \n6          K. Mbappé                 Kylian Mbappé Lottin           ST, LW   \n\n   overall  potential    value_eur  wage_eur  age  ...   lcb    cb   rcb  \\\n0       93         93   78000000.0  320000.0   34  ...  50+3  50+3  50+3   \n1       92         92  119500000.0  270000.0   32  ...  60+3  60+3  60+3   \n2       91         91   45000000.0  270000.0   36  ...  53+3  53+3  53+3   \n3       91         91  129000000.0  270000.0   29  ...  50+3  50+3  50+3   \n4       91         91  125500000.0  350000.0   30  ...  69+3  69+3  69+3   \n5       91         93  112000000.0  130000.0   28  ...  33+3  33+3  33+3   \n6       91         95  194000000.0  230000.0   22  ...  54+3  54+3  54+3   \n\n     rb    gk                                    player_face_url  \\\n0  61+3  19+3  https://cdn.sofifa.net/players/158/023/22_120.png   \n1  61+3  19+3  https://cdn.sofifa.net/players/188/545/22_120.png   \n2  60+3  20+3  https://cdn.sofifa.net/players/020/801/22_120.png   \n3  62+3  20+3  https://cdn.sofifa.net/players/190/871/22_120.png   \n4  75+3  21+3  https://cdn.sofifa.net/players/192/985/22_120.png   \n5  32+3  89+3  https://cdn.sofifa.net/players/200/389/22_120.png   \n6  63+3  18+3  https://cdn.sofifa.net/players/231/747/22_120.png   \n\n                             club_logo_url  \\\n0   https://cdn.sofifa.net/teams/73/60.png   \n1   https://cdn.sofifa.net/teams/21/60.png   \n2   https://cdn.sofifa.net/teams/11/60.png   \n3   https://cdn.sofifa.net/teams/73/60.png   \n4   https://cdn.sofifa.net/teams/10/60.png   \n5  https://cdn.sofifa.net/teams/240/60.png   \n6   https://cdn.sofifa.net/teams/73/60.png   \n\n                             club_flag_url  \\\n0      https://cdn.sofifa.net/flags/fr.png   \n1      https://cdn.sofifa.net/flags/de.png   \n2  https://cdn.sofifa.net/flags/gb-eng.png   \n3      https://cdn.sofifa.net/flags/fr.png   \n4  https://cdn.sofifa.net/flags/gb-eng.png   \n5      https://cdn.sofifa.net/flags/es.png   \n6      https://cdn.sofifa.net/flags/fr.png   \n\n                            nation_logo_url  \\\n0  https://cdn.sofifa.net/teams/1369/60.png   \n1  https://cdn.sofifa.net/teams/1353/60.png   \n2  https://cdn.sofifa.net/teams/1354/60.png   \n3                                       NaN   \n4  https://cdn.sofifa.net/teams/1325/60.png   \n5                                       NaN   \n6  https://cdn.sofifa.net/teams/1335/60.png   \n\n                       nation_flag_url  \n0  https://cdn.sofifa.net/flags/ar.png  \n1  https://cdn.sofifa.net/flags/pl.png  \n2  https://cdn.sofifa.net/flags/pt.png  \n3  https://cdn.sofifa.net/flags/br.png  \n4  https://cdn.sofifa.net/flags/be.png  \n5  https://cdn.sofifa.net/flags/si.png  \n6  https://cdn.sofifa.net/flags/fr.png  \n\n[7 rows x 110 columns]",
      "text/html": "<div>\n<style scoped>\n    .dataframe tbody tr th:only-of-type {\n        vertical-align: middle;\n    }\n\n    .dataframe tbody tr th {\n        vertical-align: top;\n    }\n\n    .dataframe thead th {\n        text-align: right;\n    }\n</style>\n<table border=\"1\" class=\"dataframe\">\n  <thead>\n    <tr style=\"text-align: right;\">\n      <th></th>\n      <th>sofifa_id</th>\n      <th>player_url</th>\n      <th>short_name</th>\n      <th>long_name</th>\n      <th>player_positions</th>\n      <th>overall</th>\n      <th>potential</th>\n      <th>value_eur</th>\n      <th>wage_eur</th>\n      <th>age</th>\n      <th>...</th>\n      <th>lcb</th>\n      <th>cb</th>\n      <th>rcb</th>\n      <th>rb</th>\n      <th>gk</th>\n      <th>player_face_url</th>\n      <th>club_logo_url</th>\n      <th>club_flag_url</th>\n      <th>nation_logo_url</th>\n      <th>nation_flag_url</th>\n    </tr>\n  </thead>\n  <tbody>\n    <tr>\n      <th>0</th>\n      <td>158023</td>\n      <td>https://sofifa.com/player/158023/lionel-messi/...</td>\n      <td>L. Messi</td>\n      <td>Lionel Andrés Messi Cuccittini</td>\n      <td>RW, ST, CF</td>\n      <td>93</td>\n      <td>93</td>\n      <td>78000000.0</td>\n      <td>320000.0</td>\n      <td>34</td>\n      <td>...</td>\n      <td>50+3</td>\n      <td>50+3</td>\n      <td>50+3</td>\n      <td>61+3</td>\n      <td>19+3</td>\n      <td>https://cdn.sofifa.net/players/158/023/22_120.png</td>\n      <td>https://cdn.sofifa.net/teams/73/60.png</td>\n      <td>https://cdn.sofifa.net/flags/fr.png</td>\n      <td>https://cdn.sofifa.net/teams/1369/60.png</td>\n      <td>https://cdn.sofifa.net/flags/ar.png</td>\n    </tr>\n    <tr>\n      <th>1</th>\n      <td>188545</td>\n      <td>https://sofifa.com/player/188545/robert-lewand...</td>\n      <td>R. Lewandowski</td>\n      <td>Robert Lewandowski</td>\n      <td>ST</td>\n      <td>92</td>\n      <td>92</td>\n      <td>119500000.0</td>\n      <td>270000.0</td>\n      <td>32</td>\n      <td>...</td>\n      <td>60+3</td>\n      <td>60+3</td>\n      <td>60+3</td>\n      <td>61+3</td>\n      <td>19+3</td>\n      <td>https://cdn.sofifa.net/players/188/545/22_120.png</td>\n      <td>https://cdn.sofifa.net/teams/21/60.png</td>\n      <td>https://cdn.sofifa.net/flags/de.png</td>\n      <td>https://cdn.sofifa.net/teams/1353/60.png</td>\n      <td>https://cdn.sofifa.net/flags/pl.png</td>\n    </tr>\n    <tr>\n      <th>2</th>\n      <td>20801</td>\n      <td>https://sofifa.com/player/20801/c-ronaldo-dos-...</td>\n      <td>Cristiano Ronaldo</td>\n      <td>Cristiano Ronaldo dos Santos Aveiro</td>\n      <td>ST, LW</td>\n      <td>91</td>\n      <td>91</td>\n      <td>45000000.0</td>\n      <td>270000.0</td>\n      <td>36</td>\n      <td>...</td>\n      <td>53+3</td>\n      <td>53+3</td>\n      <td>53+3</td>\n      <td>60+3</td>\n      <td>20+3</td>\n      <td>https://cdn.sofifa.net/players/020/801/22_120.png</td>\n      <td>https://cdn.sofifa.net/teams/11/60.png</td>\n      <td>https://cdn.sofifa.net/flags/gb-eng.png</td>\n      <td>https://cdn.sofifa.net/teams/1354/60.png</td>\n      <td>https://cdn.sofifa.net/flags/pt.png</td>\n    </tr>\n    <tr>\n      <th>3</th>\n      <td>190871</td>\n      <td>https://sofifa.com/player/190871/neymar-da-sil...</td>\n      <td>Neymar Jr</td>\n      <td>Neymar da Silva Santos Júnior</td>\n      <td>LW, CAM</td>\n      <td>91</td>\n      <td>91</td>\n      <td>129000000.0</td>\n      <td>270000.0</td>\n      <td>29</td>\n      <td>...</td>\n      <td>50+3</td>\n      <td>50+3</td>\n      <td>50+3</td>\n      <td>62+3</td>\n      <td>20+3</td>\n      <td>https://cdn.sofifa.net/players/190/871/22_120.png</td>\n      <td>https://cdn.sofifa.net/teams/73/60.png</td>\n      <td>https://cdn.sofifa.net/flags/fr.png</td>\n      <td>NaN</td>\n      <td>https://cdn.sofifa.net/flags/br.png</td>\n    </tr>\n    <tr>\n      <th>4</th>\n      <td>192985</td>\n      <td>https://sofifa.com/player/192985/kevin-de-bruy...</td>\n      <td>K. De Bruyne</td>\n      <td>Kevin De Bruyne</td>\n      <td>CM, CAM</td>\n      <td>91</td>\n      <td>91</td>\n      <td>125500000.0</td>\n      <td>350000.0</td>\n      <td>30</td>\n      <td>...</td>\n      <td>69+3</td>\n      <td>69+3</td>\n      <td>69+3</td>\n      <td>75+3</td>\n      <td>21+3</td>\n      <td>https://cdn.sofifa.net/players/192/985/22_120.png</td>\n      <td>https://cdn.sofifa.net/teams/10/60.png</td>\n      <td>https://cdn.sofifa.net/flags/gb-eng.png</td>\n      <td>https://cdn.sofifa.net/teams/1325/60.png</td>\n      <td>https://cdn.sofifa.net/flags/be.png</td>\n    </tr>\n    <tr>\n      <th>5</th>\n      <td>200389</td>\n      <td>https://sofifa.com/player/200389/jan-oblak/220002</td>\n      <td>J. Oblak</td>\n      <td>Jan Oblak</td>\n      <td>GK</td>\n      <td>91</td>\n      <td>93</td>\n      <td>112000000.0</td>\n      <td>130000.0</td>\n      <td>28</td>\n      <td>...</td>\n      <td>33+3</td>\n      <td>33+3</td>\n      <td>33+3</td>\n      <td>32+3</td>\n      <td>89+3</td>\n      <td>https://cdn.sofifa.net/players/200/389/22_120.png</td>\n      <td>https://cdn.sofifa.net/teams/240/60.png</td>\n      <td>https://cdn.sofifa.net/flags/es.png</td>\n      <td>NaN</td>\n      <td>https://cdn.sofifa.net/flags/si.png</td>\n    </tr>\n    <tr>\n      <th>6</th>\n      <td>231747</td>\n      <td>https://sofifa.com/player/231747/kylian-mbappe...</td>\n      <td>K. Mbappé</td>\n      <td>Kylian Mbappé Lottin</td>\n      <td>ST, LW</td>\n      <td>91</td>\n      <td>95</td>\n      <td>194000000.0</td>\n      <td>230000.0</td>\n      <td>22</td>\n      <td>...</td>\n      <td>54+3</td>\n      <td>54+3</td>\n      <td>54+3</td>\n      <td>63+3</td>\n      <td>18+3</td>\n      <td>https://cdn.sofifa.net/players/231/747/22_120.png</td>\n      <td>https://cdn.sofifa.net/teams/73/60.png</td>\n      <td>https://cdn.sofifa.net/flags/fr.png</td>\n      <td>https://cdn.sofifa.net/teams/1335/60.png</td>\n      <td>https://cdn.sofifa.net/flags/fr.png</td>\n    </tr>\n  </tbody>\n</table>\n<p>7 rows × 110 columns</p>\n</div>"
     },
     "execution_count": 202,
     "metadata": {},
     "output_type": "execute_result"
    }
   ],
   "source": [
    "# 해당 조건식을 df 인덱싱 문법 안에 넣어보면?\n",
    "df[df[\"overall\"] > 90]"
   ],
   "metadata": {
    "collapsed": false,
    "ExecuteTime": {
     "end_time": "2023-06-27T04:43:39.344451700Z",
     "start_time": "2023-06-27T04:43:39.302293900Z"
    }
   }
  },
  {
   "cell_type": "markdown",
   "source": [
    "우리가 원하는대로 overall 점수가 90점을 넘는 7명 선수들의 목록이 출력되었습니다."
   ],
   "metadata": {
    "collapsed": false
   }
  },
  {
   "cell_type": "markdown",
   "source": [
    "### 3.3. 조건식을 중첩할 수 있나?\n",
    "\n",
    "df[조건식] 이 리턴하는 값은 데이터프레임이므로,\n",
    "\n",
    "그 뒤에 이어서 [조건식]을 붙일 수 있습니다.\n",
    "\n",
    "아래처럼요."
   ],
   "metadata": {
    "collapsed": false
   }
  },
  {
   "cell_type": "code",
   "execution_count": 212,
   "outputs": [
    {
     "name": "stderr",
     "output_type": "stream",
     "text": [
      "C:\\Users\\HKIT\\AppData\\Local\\Temp\\ipykernel_5684\\706077948.py:1: UserWarning: Boolean Series key will be reindexed to match DataFrame index.\n",
      "  df[df[\"overall\"] > 90][df[\"wage_eur\"] > 300000]\n"
     ]
    },
    {
     "data": {
      "text/plain": "   sofifa_id                                         player_url    short_name  \\\n0     158023  https://sofifa.com/player/158023/lionel-messi/...      L. Messi   \n4     192985  https://sofifa.com/player/192985/kevin-de-bruy...  K. De Bruyne   \n\n                        long_name player_positions  overall  potential  \\\n0  Lionel Andrés Messi Cuccittini       RW, ST, CF       93         93   \n4                 Kevin De Bruyne          CM, CAM       91         91   \n\n     value_eur  wage_eur  age  ...   lcb    cb   rcb    rb    gk  \\\n0   78000000.0  320000.0   34  ...  50+3  50+3  50+3  61+3  19+3   \n4  125500000.0  350000.0   30  ...  69+3  69+3  69+3  75+3  21+3   \n\n                                     player_face_url  \\\n0  https://cdn.sofifa.net/players/158/023/22_120.png   \n4  https://cdn.sofifa.net/players/192/985/22_120.png   \n\n                            club_logo_url  \\\n0  https://cdn.sofifa.net/teams/73/60.png   \n4  https://cdn.sofifa.net/teams/10/60.png   \n\n                             club_flag_url  \\\n0      https://cdn.sofifa.net/flags/fr.png   \n4  https://cdn.sofifa.net/flags/gb-eng.png   \n\n                            nation_logo_url  \\\n0  https://cdn.sofifa.net/teams/1369/60.png   \n4  https://cdn.sofifa.net/teams/1325/60.png   \n\n                       nation_flag_url  \n0  https://cdn.sofifa.net/flags/ar.png  \n4  https://cdn.sofifa.net/flags/be.png  \n\n[2 rows x 110 columns]",
      "text/html": "<div>\n<style scoped>\n    .dataframe tbody tr th:only-of-type {\n        vertical-align: middle;\n    }\n\n    .dataframe tbody tr th {\n        vertical-align: top;\n    }\n\n    .dataframe thead th {\n        text-align: right;\n    }\n</style>\n<table border=\"1\" class=\"dataframe\">\n  <thead>\n    <tr style=\"text-align: right;\">\n      <th></th>\n      <th>sofifa_id</th>\n      <th>player_url</th>\n      <th>short_name</th>\n      <th>long_name</th>\n      <th>player_positions</th>\n      <th>overall</th>\n      <th>potential</th>\n      <th>value_eur</th>\n      <th>wage_eur</th>\n      <th>age</th>\n      <th>...</th>\n      <th>lcb</th>\n      <th>cb</th>\n      <th>rcb</th>\n      <th>rb</th>\n      <th>gk</th>\n      <th>player_face_url</th>\n      <th>club_logo_url</th>\n      <th>club_flag_url</th>\n      <th>nation_logo_url</th>\n      <th>nation_flag_url</th>\n    </tr>\n  </thead>\n  <tbody>\n    <tr>\n      <th>0</th>\n      <td>158023</td>\n      <td>https://sofifa.com/player/158023/lionel-messi/...</td>\n      <td>L. Messi</td>\n      <td>Lionel Andrés Messi Cuccittini</td>\n      <td>RW, ST, CF</td>\n      <td>93</td>\n      <td>93</td>\n      <td>78000000.0</td>\n      <td>320000.0</td>\n      <td>34</td>\n      <td>...</td>\n      <td>50+3</td>\n      <td>50+3</td>\n      <td>50+3</td>\n      <td>61+3</td>\n      <td>19+3</td>\n      <td>https://cdn.sofifa.net/players/158/023/22_120.png</td>\n      <td>https://cdn.sofifa.net/teams/73/60.png</td>\n      <td>https://cdn.sofifa.net/flags/fr.png</td>\n      <td>https://cdn.sofifa.net/teams/1369/60.png</td>\n      <td>https://cdn.sofifa.net/flags/ar.png</td>\n    </tr>\n    <tr>\n      <th>4</th>\n      <td>192985</td>\n      <td>https://sofifa.com/player/192985/kevin-de-bruy...</td>\n      <td>K. De Bruyne</td>\n      <td>Kevin De Bruyne</td>\n      <td>CM, CAM</td>\n      <td>91</td>\n      <td>91</td>\n      <td>125500000.0</td>\n      <td>350000.0</td>\n      <td>30</td>\n      <td>...</td>\n      <td>69+3</td>\n      <td>69+3</td>\n      <td>69+3</td>\n      <td>75+3</td>\n      <td>21+3</td>\n      <td>https://cdn.sofifa.net/players/192/985/22_120.png</td>\n      <td>https://cdn.sofifa.net/teams/10/60.png</td>\n      <td>https://cdn.sofifa.net/flags/gb-eng.png</td>\n      <td>https://cdn.sofifa.net/teams/1325/60.png</td>\n      <td>https://cdn.sofifa.net/flags/be.png</td>\n    </tr>\n  </tbody>\n</table>\n<p>2 rows × 110 columns</p>\n</div>"
     },
     "execution_count": 212,
     "metadata": {},
     "output_type": "execute_result"
    }
   ],
   "source": [
    "df[df[\"overall\"] > 90][df[\"wage_eur\"] > 300000]"
   ],
   "metadata": {
    "collapsed": false,
    "ExecuteTime": {
     "end_time": "2023-06-27T04:49:25.095399400Z",
     "start_time": "2023-06-27T04:49:25.064621200Z"
    }
   }
  },
  {
   "cell_type": "markdown",
   "source": [
    "실행이 잘 되기는 했지만, 인덱스 관련 경고메시지가 발생합니다.\n",
    "\n",
    "#### 그 이유가 무엇일까요?\n",
    "\n",
    "왜냐면, 위 코드의 첫 번째 조건식을 통과하는 시점에서\n",
    "\n",
    "해당 데이터프레임이 7행짜리 데이터로 줄어버렸는데,\n",
    "\n",
    "두 번째 조건식 안에서 2만여개의 [True, False, ...] 데이터가 들어와버렸기 때문입니다.\n",
    "\n",
    "판다스가 나름 똑똑하게 인덱스 번호를 매칭해줘서,\n",
    "\n",
    "오류 없이 결과가 출력되기는 했지만, 추천하지 않는 방식입니다.\n",
    "\n",
    "대신 아래처럼 and(&) 또는 or(|) 조건식을 적용할 수 있습니다."
   ],
   "metadata": {
    "collapsed": false
   }
  },
  {
   "cell_type": "code",
   "execution_count": 213,
   "outputs": [
    {
     "data": {
      "text/plain": "   sofifa_id                                         player_url    short_name  \\\n0     158023  https://sofifa.com/player/158023/lionel-messi/...      L. Messi   \n4     192985  https://sofifa.com/player/192985/kevin-de-bruy...  K. De Bruyne   \n\n                        long_name player_positions  overall  potential  \\\n0  Lionel Andrés Messi Cuccittini       RW, ST, CF       93         93   \n4                 Kevin De Bruyne          CM, CAM       91         91   \n\n     value_eur  wage_eur  age  ...   lcb    cb   rcb    rb    gk  \\\n0   78000000.0  320000.0   34  ...  50+3  50+3  50+3  61+3  19+3   \n4  125500000.0  350000.0   30  ...  69+3  69+3  69+3  75+3  21+3   \n\n                                     player_face_url  \\\n0  https://cdn.sofifa.net/players/158/023/22_120.png   \n4  https://cdn.sofifa.net/players/192/985/22_120.png   \n\n                            club_logo_url  \\\n0  https://cdn.sofifa.net/teams/73/60.png   \n4  https://cdn.sofifa.net/teams/10/60.png   \n\n                             club_flag_url  \\\n0      https://cdn.sofifa.net/flags/fr.png   \n4  https://cdn.sofifa.net/flags/gb-eng.png   \n\n                            nation_logo_url  \\\n0  https://cdn.sofifa.net/teams/1369/60.png   \n4  https://cdn.sofifa.net/teams/1325/60.png   \n\n                       nation_flag_url  \n0  https://cdn.sofifa.net/flags/ar.png  \n4  https://cdn.sofifa.net/flags/be.png  \n\n[2 rows x 110 columns]",
      "text/html": "<div>\n<style scoped>\n    .dataframe tbody tr th:only-of-type {\n        vertical-align: middle;\n    }\n\n    .dataframe tbody tr th {\n        vertical-align: top;\n    }\n\n    .dataframe thead th {\n        text-align: right;\n    }\n</style>\n<table border=\"1\" class=\"dataframe\">\n  <thead>\n    <tr style=\"text-align: right;\">\n      <th></th>\n      <th>sofifa_id</th>\n      <th>player_url</th>\n      <th>short_name</th>\n      <th>long_name</th>\n      <th>player_positions</th>\n      <th>overall</th>\n      <th>potential</th>\n      <th>value_eur</th>\n      <th>wage_eur</th>\n      <th>age</th>\n      <th>...</th>\n      <th>lcb</th>\n      <th>cb</th>\n      <th>rcb</th>\n      <th>rb</th>\n      <th>gk</th>\n      <th>player_face_url</th>\n      <th>club_logo_url</th>\n      <th>club_flag_url</th>\n      <th>nation_logo_url</th>\n      <th>nation_flag_url</th>\n    </tr>\n  </thead>\n  <tbody>\n    <tr>\n      <th>0</th>\n      <td>158023</td>\n      <td>https://sofifa.com/player/158023/lionel-messi/...</td>\n      <td>L. Messi</td>\n      <td>Lionel Andrés Messi Cuccittini</td>\n      <td>RW, ST, CF</td>\n      <td>93</td>\n      <td>93</td>\n      <td>78000000.0</td>\n      <td>320000.0</td>\n      <td>34</td>\n      <td>...</td>\n      <td>50+3</td>\n      <td>50+3</td>\n      <td>50+3</td>\n      <td>61+3</td>\n      <td>19+3</td>\n      <td>https://cdn.sofifa.net/players/158/023/22_120.png</td>\n      <td>https://cdn.sofifa.net/teams/73/60.png</td>\n      <td>https://cdn.sofifa.net/flags/fr.png</td>\n      <td>https://cdn.sofifa.net/teams/1369/60.png</td>\n      <td>https://cdn.sofifa.net/flags/ar.png</td>\n    </tr>\n    <tr>\n      <th>4</th>\n      <td>192985</td>\n      <td>https://sofifa.com/player/192985/kevin-de-bruy...</td>\n      <td>K. De Bruyne</td>\n      <td>Kevin De Bruyne</td>\n      <td>CM, CAM</td>\n      <td>91</td>\n      <td>91</td>\n      <td>125500000.0</td>\n      <td>350000.0</td>\n      <td>30</td>\n      <td>...</td>\n      <td>69+3</td>\n      <td>69+3</td>\n      <td>69+3</td>\n      <td>75+3</td>\n      <td>21+3</td>\n      <td>https://cdn.sofifa.net/players/192/985/22_120.png</td>\n      <td>https://cdn.sofifa.net/teams/10/60.png</td>\n      <td>https://cdn.sofifa.net/flags/gb-eng.png</td>\n      <td>https://cdn.sofifa.net/teams/1325/60.png</td>\n      <td>https://cdn.sofifa.net/flags/be.png</td>\n    </tr>\n  </tbody>\n</table>\n<p>2 rows × 110 columns</p>\n</div>"
     },
     "execution_count": 213,
     "metadata": {},
     "output_type": "execute_result"
    }
   ],
   "source": [
    "# 선수들 중 overall 점수가 90을 넘으면서 wage_eur이 30만을 넘는 선수 리스트\n",
    "\n",
    "df[(df[\"overall\"] > 90) & (df[\"wage_eur\"] > 300000.0)]"
   ],
   "metadata": {
    "collapsed": false,
    "ExecuteTime": {
     "end_time": "2023-06-27T04:55:08.843848800Z",
     "start_time": "2023-06-27T04:55:08.803387600Z"
    }
   }
  },
  {
   "cell_type": "markdown",
   "source": [
    "[참고]\n",
    "\n",
    "조건식에 괄호를 넣는 이유는 \"&\"와 \"|\"연산자의 우선순위가 \"<\", \">\"보다 높기 때문입니다.\n",
    "\n",
    "그래서 괄호를 쳐주지 않으면 가운데의 ... \"90 & df[\"wage_eur\"]\" ... 을 먼저 연산하려고 하기 때문에\n",
    "\n",
    "오류가 발생하게 됩니다."
   ],
   "metadata": {
    "collapsed": false
   }
  },
  {
   "cell_type": "markdown",
   "source": [
    "### 3.4. [예제] 키가 170 이하인 선수들은 총 몇 명인가?"
   ],
   "metadata": {
    "collapsed": false
   }
  },
  {
   "cell_type": "code",
   "execution_count": 224,
   "outputs": [
    {
     "data": {
      "text/plain": "(1248, 110)"
     },
     "execution_count": 224,
     "metadata": {},
     "output_type": "execute_result"
    }
   ],
   "source": [
    "# df의 행 수를 확인하는 방법은 여러 가지가 있습니다.\n",
    "# info나 shape, count()를 쓰기도 하는데,\n",
    "# 그중 가장 흔하게 사용되는 프로퍼티는 shape이라고 생각합니다.\n",
    "# (행과 열의 갯수를 같이 출력해줍니다.)\n",
    "\n",
    "df[df[\"height_cm\"] <= 170].shape"
   ],
   "metadata": {
    "collapsed": false,
    "ExecuteTime": {
     "end_time": "2023-06-27T05:02:10.301077100Z",
     "start_time": "2023-06-27T05:02:10.290835600Z"
    }
   }
  },
  {
   "cell_type": "markdown",
   "source": [
    "## 4. 기타 메서드\n",
    "\n",
    "###  4.1. 가장 높은 값부터 n개를 보여주는 nlargest 메서드"
   ],
   "metadata": {
    "collapsed": false
   }
  },
  {
   "cell_type": "code",
   "execution_count": 253,
   "outputs": [
    {
     "data": {
      "text/plain": "                              long_name  wage_eur\n4                       Kevin De Bruyne  350000.0\n11                        Karim Benzema  350000.0\n0        Lionel Andrés Messi Cuccittini  320000.0\n14    Carlos Henrique Venancio Casimiro  310000.0\n24                           Toni Kroos  310000.0\n27                      Raheem Sterling  290000.0\n1                    Robert Lewandowski  270000.0\n2   Cristiano Ronaldo dos Santos Aveiro  270000.0\n3         Neymar da Silva Santos Júnior  270000.0\n16                           Sadio Mané  270000.0",
      "text/html": "<div>\n<style scoped>\n    .dataframe tbody tr th:only-of-type {\n        vertical-align: middle;\n    }\n\n    .dataframe tbody tr th {\n        vertical-align: top;\n    }\n\n    .dataframe thead th {\n        text-align: right;\n    }\n</style>\n<table border=\"1\" class=\"dataframe\">\n  <thead>\n    <tr style=\"text-align: right;\">\n      <th></th>\n      <th>long_name</th>\n      <th>wage_eur</th>\n    </tr>\n  </thead>\n  <tbody>\n    <tr>\n      <th>4</th>\n      <td>Kevin De Bruyne</td>\n      <td>350000.0</td>\n    </tr>\n    <tr>\n      <th>11</th>\n      <td>Karim Benzema</td>\n      <td>350000.0</td>\n    </tr>\n    <tr>\n      <th>0</th>\n      <td>Lionel Andrés Messi Cuccittini</td>\n      <td>320000.0</td>\n    </tr>\n    <tr>\n      <th>14</th>\n      <td>Carlos Henrique Venancio Casimiro</td>\n      <td>310000.0</td>\n    </tr>\n    <tr>\n      <th>24</th>\n      <td>Toni Kroos</td>\n      <td>310000.0</td>\n    </tr>\n    <tr>\n      <th>27</th>\n      <td>Raheem Sterling</td>\n      <td>290000.0</td>\n    </tr>\n    <tr>\n      <th>1</th>\n      <td>Robert Lewandowski</td>\n      <td>270000.0</td>\n    </tr>\n    <tr>\n      <th>2</th>\n      <td>Cristiano Ronaldo dos Santos Aveiro</td>\n      <td>270000.0</td>\n    </tr>\n    <tr>\n      <th>3</th>\n      <td>Neymar da Silva Santos Júnior</td>\n      <td>270000.0</td>\n    </tr>\n    <tr>\n      <th>16</th>\n      <td>Sadio Mané</td>\n      <td>270000.0</td>\n    </tr>\n  </tbody>\n</table>\n</div>"
     },
     "execution_count": 253,
     "metadata": {},
     "output_type": "execute_result"
    }
   ],
   "source": [
    "# nlargest 메서드의 첫 번째 인자는 \"몇 개나 보여줄까?\" 이고,\n",
    "# 두 번째 인자는 \"어떤 칼럼을 기준으로 보여줄까?\" 입니다.\n",
    "# 그래서, \"wage_eur\" 칼럼을 기준으로 가장 많이 받는 선수 10명을 보여줘!\n",
    "# 라고 명령하고 싶으면, df.nlargest(10, \"wage_eur\") 라고 실행하면 되고,\n",
    "# 해당 데이터셋의 \"long_name\" 칼럼과 \"wage_eur\" 칼럼만 보고 싶으면\n",
    "# 아래처럼 입력하시면 됩니다.\n",
    "\n",
    "df.nlargest(10, \"wage_eur\")[[\"long_name\", \"wage_eur\"]]"
   ],
   "metadata": {
    "collapsed": false,
    "ExecuteTime": {
     "end_time": "2023-06-27T05:55:59.867210200Z",
     "start_time": "2023-06-27T05:55:59.845030600Z"
    }
   }
  },
  {
   "cell_type": "markdown",
   "source": [
    "### 4.2. [예제] 대한민국 선수들의 주급 평균은?"
   ],
   "metadata": {
    "collapsed": false
   }
  },
  {
   "cell_type": "code",
   "execution_count": 228,
   "outputs": [
    {
     "data": {
      "text/plain": "3442.3076923076924"
     },
     "execution_count": 228,
     "metadata": {},
     "output_type": "execute_result"
    }
   ],
   "source": [
    "# 국적인 대한민국인 선수들 명단의 wage_eur 칼럼의 평균\n",
    "df[df[\"nationality_name\"] == \"Korea Republic\"][\"wage_eur\"].mean()"
   ],
   "metadata": {
    "collapsed": false,
    "ExecuteTime": {
     "end_time": "2023-06-27T05:23:06.496536100Z",
     "start_time": "2023-06-27T05:23:06.471868100Z"
    }
   }
  },
  {
   "cell_type": "markdown",
   "source": [
    "### 4.3. 순위를 집계해주는 rank 함수\n",
    "\n",
    "rank 함수는 사용법이 조금 특이합니다.\n",
    "\n",
    "순위정보만 담긴 칼럼(pd.Series)만 딸랑 리턴해주는데요.\n",
    "\n",
    "그런 이유로 rank 함수를 활용하려면\n",
    "\n",
    "rank 함수로 생성된 칼럼을 df에 추가해서 함께 분석하거나 하는 편입니다.\n",
    "\n",
    "rank 함수를 활용한 예제를 하나 알아보겠습니다."
   ],
   "metadata": {
    "collapsed": false
   }
  },
  {
   "cell_type": "markdown",
   "source": [
    "### 4.4. [예제] 손흥민은 주급 순위 상위권 몇위인가?"
   ],
   "metadata": {
    "collapsed": false
   }
  },
  {
   "cell_type": "code",
   "execution_count": 255,
   "outputs": [
    {
     "data": {
      "text/plain": "13    24.0\nName: wage_rank, dtype: float64"
     },
     "execution_count": 255,
     "metadata": {},
     "output_type": "execute_result"
    }
   ],
   "source": [
    "# wage_rank 칼럼 추가\n",
    "df[\"wage_rank\"] = df[\"wage_eur\"].rank(ascending=False)\n",
    "\n",
    "# 손흥민의 wage_rank 출력(= 24위)\n",
    "df[df[\"long_name\"].str.startswith(\"손흥민\")][\"wage_rank\"]"
   ],
   "metadata": {
    "collapsed": false,
    "ExecuteTime": {
     "end_time": "2023-06-27T05:57:21.223370700Z",
     "start_time": "2023-06-27T05:57:21.177447100Z"
    }
   }
  },
  {
   "cell_type": "markdown",
   "source": [
    "분석을 마치고 나면 해당 \"wage_rank\" 칼럼은 제거해도 됩니다.\n",
    "\n",
    "특정 행이나 열을 제거하는 메서드는 drop 입니다.\n",
    "\n",
    "사실 본격적으로 분석을 시작하기 전에도\n",
    "\n",
    "절대 사용하지 않을 것 같은 칼럼은 미리 제거해주고 분석을 진행해야 합니다.\n",
    "\n",
    "왜냐면 행의 수가 큰 데이터프레임의 경우에는\n",
    "\n",
    "칼럼 하나를 지우는 것만으로도 상당량의 메모리를 확보할 수 있기 때문입니다."
   ],
   "metadata": {
    "collapsed": false
   }
  },
  {
   "cell_type": "markdown",
   "source": [
    "### 4.5. 특정 칼럼 제거하기(drop)"
   ],
   "metadata": {
    "collapsed": false
   }
  },
  {
   "cell_type": "code",
   "execution_count": 244,
   "outputs": [],
   "source": [
    "# [\"wage_rank\", \"player_url\", \"player_positions\"] 등 세 개의 칼럼 제거하기\n",
    "df.drop([\"wage_rank\", \"player_url\", \"player_positions\"], axis=1, inplace=True)"
   ],
   "metadata": {
    "collapsed": false,
    "ExecuteTime": {
     "end_time": "2023-06-27T05:51:25.273018500Z",
     "start_time": "2023-06-27T05:51:25.233441Z"
    }
   }
  },
  {
   "cell_type": "markdown",
   "source": [
    "### 4.6. [예제] 가장 키가 큰 선수의 이름과 국적은?"
   ],
   "metadata": {
    "collapsed": false
   }
  },
  {
   "cell_type": "code",
   "execution_count": 252,
   "outputs": [
    {
     "data": {
      "text/plain": "       long_name nationality_name  height_cm\n9929  Tomáš Holý   Czech Republic        206",
      "text/html": "<div>\n<style scoped>\n    .dataframe tbody tr th:only-of-type {\n        vertical-align: middle;\n    }\n\n    .dataframe tbody tr th {\n        vertical-align: top;\n    }\n\n    .dataframe thead th {\n        text-align: right;\n    }\n</style>\n<table border=\"1\" class=\"dataframe\">\n  <thead>\n    <tr style=\"text-align: right;\">\n      <th></th>\n      <th>long_name</th>\n      <th>nationality_name</th>\n      <th>height_cm</th>\n    </tr>\n  </thead>\n  <tbody>\n    <tr>\n      <th>9929</th>\n      <td>Tomáš Holý</td>\n      <td>Czech Republic</td>\n      <td>206</td>\n    </tr>\n  </tbody>\n</table>\n</div>"
     },
     "execution_count": 252,
     "metadata": {},
     "output_type": "execute_result"
    }
   ],
   "source": [
    "# rank 메서드 사용\n",
    "# 내림차순으로 rank 시리즈(칼럼)를 생성하고\n",
    "# \"해당 칼럼의 값이 1인 선수로 필터링\"한 후\n",
    "# 해당 행의 \"long_name\", \"nationality_name\" 및 \"height_cm\"만 출력\n",
    "\n",
    "df[df[\"height_cm\"].rank(ascending=False) == 1][[\"long_name\", \"nationality_name\", \"height_cm\"]]"
   ],
   "metadata": {
    "collapsed": false,
    "ExecuteTime": {
     "end_time": "2023-06-27T05:55:10.189333Z",
     "start_time": "2023-06-27T05:55:10.153055500Z"
    }
   }
  },
  {
   "cell_type": "markdown",
   "source": [
    "### 4.7. [예제] 가장 키가 큰 10명의 long_name, overall, height_cm을 출력하기"
   ],
   "metadata": {
    "collapsed": false
   }
  },
  {
   "cell_type": "code",
   "execution_count": 261,
   "outputs": [
    {
     "data": {
      "text/plain": "0    35.0\n1    20.0\n2    18.0\n3    30.0\n4    24.0\nName: height_rank, dtype: float64"
     },
     "execution_count": 261,
     "metadata": {},
     "output_type": "execute_result"
    }
   ],
   "source": [
    "# ① 우선 rank함수를 통해 키순위(height_rank) 칼럼을 추가해줍니다.\n",
    "df[\"height_rank\"] = df[\"height_cm\"].rank(ascending=False, method=\"dense\")\n",
    "df[\"height_rank\"].head()"
   ],
   "metadata": {
    "collapsed": false,
    "ExecuteTime": {
     "end_time": "2023-06-27T06:05:01.235630500Z",
     "start_time": "2023-06-27T06:05:01.203793300Z"
    }
   }
  },
  {
   "cell_type": "code",
   "execution_count": 262,
   "outputs": [
    {
     "data": {
      "text/plain": "       sofifa_id      short_name                 long_name  overall  \\\n12        192119     T. Courtois          Thibaut Courtois       89   \n21        230621   G. Donnarumma      Gianluigi Donnarumma       89   \n34        186153     W. Szczęsny  Wojciech Tomasz Szczęsny       87   \n54        192984     K. Casteels             Koen Casteels       86   \n97         41236  Z. Ibrahimović        Zlatan Ibrahimović       84   \n...          ...             ...                       ...      ...   \n18988     263877       M. Sjøeng             Magnus Sjøeng       51   \n19046     260146       L. Sharma               Lara Sharma       50   \n19104     247224    Wang Zhifeng                       王智峰       49   \n19178     250978         Ma Zhen                        马镇       48   \n19183     255336      F. Emmings              Fred Emmings       48   \n\n       potential    value_eur  wage_eur  age         dob  height_cm  ...  \\\n12            91   85500000.0  250000.0   29  1992-05-11        199  ...   \n21            93  119500000.0  110000.0   22  1999-02-25        196  ...   \n34            87   42000000.0  105000.0   31  1990-04-18        195  ...   \n54            87   52000000.0   88000.0   29  1992-06-25        197  ...   \n97            84   14500000.0   51000.0   39  1981-10-03        195  ...   \n...          ...          ...       ...  ...         ...        ...  ...   \n18988         66     120000.0     500.0   19  2002-03-23        196  ...   \n19046         59      90000.0     500.0   21  1999-10-01        195  ...   \n19104         55      60000.0    1000.0   24  1997-02-01        195  ...   \n19178         52      50000.0    1000.0   23  1998-06-01        196  ...   \n19183         73     130000.0     500.0   17  2004-02-08        195  ...   \n\n        rcb    rb    gk                                    player_face_url  \\\n12     29+3  29+3  86+3  https://cdn.sofifa.net/players/192/119/22_120.png   \n21     31+3  31+3  87+3  https://cdn.sofifa.net/players/230/621/22_120.png   \n34     29+3  28+3  85+2  https://cdn.sofifa.net/players/186/153/22_120.png   \n54     29+3  29+3  84+3  https://cdn.sofifa.net/players/192/984/22_120.png   \n97     53+3  52+3  20+3  https://cdn.sofifa.net/players/041/236/22_120.png   \n...     ...   ...   ...                                                ...   \n18988  18+2  16+2  50+2  https://cdn.sofifa.net/players/263/877/22_120.png   \n19046  19+2  16+2  49+2  https://cdn.sofifa.net/players/260/146/22_120.png   \n19104  23+2  21+2  48+2  https://cdn.sofifa.net/players/247/224/22_120.png   \n19178  24+2  24+2  47+2  https://cdn.sofifa.net/players/250/978/22_120.png   \n19183  20+2  16+2  47+2  https://cdn.sofifa.net/players/255/336/22_120.png   \n\n                                    club_logo_url  \\\n12        https://cdn.sofifa.net/teams/243/60.png   \n21         https://cdn.sofifa.net/teams/73/60.png   \n34         https://cdn.sofifa.net/teams/45/60.png   \n54        https://cdn.sofifa.net/teams/175/60.png   \n97         https://cdn.sofifa.net/teams/47/60.png   \n...                                           ...   \n18988     https://cdn.sofifa.net/teams/920/60.png   \n19046  https://cdn.sofifa.net/teams/113302/60.png   \n19104  https://cdn.sofifa.net/teams/112541/60.png   \n19178  https://cdn.sofifa.net/teams/110955/60.png   \n19183  https://cdn.sofifa.net/teams/111138/60.png   \n\n                             club_flag_url  \\\n12     https://cdn.sofifa.net/flags/es.png   \n21     https://cdn.sofifa.net/flags/fr.png   \n34     https://cdn.sofifa.net/flags/it.png   \n54     https://cdn.sofifa.net/flags/de.png   \n97     https://cdn.sofifa.net/flags/it.png   \n...                                    ...   \n18988  https://cdn.sofifa.net/flags/no.png   \n19046  https://cdn.sofifa.net/flags/in.png   \n19104  https://cdn.sofifa.net/flags/cn.png   \n19178  https://cdn.sofifa.net/flags/cn.png   \n19183  https://cdn.sofifa.net/flags/us.png   \n\n                                nation_logo_url  \\\n12     https://cdn.sofifa.net/teams/1325/60.png   \n21     https://cdn.sofifa.net/teams/1343/60.png   \n34     https://cdn.sofifa.net/teams/1353/60.png   \n54                                          NaN   \n97     https://cdn.sofifa.net/teams/1363/60.png   \n...                                         ...   \n18988                                       NaN   \n19046                                       NaN   \n19104                                       NaN   \n19178                                       NaN   \n19183                                       NaN   \n\n                           nation_flag_url wage_rank  height_rank  \n12     https://cdn.sofifa.net/flags/be.png      15.0          6.0  \n21     https://cdn.sofifa.net/flags/it.png     135.5          9.0  \n34     https://cdn.sofifa.net/flags/pl.png     148.5         10.0  \n54     https://cdn.sofifa.net/flags/be.png     208.0          8.0  \n97     https://cdn.sofifa.net/flags/se.png     562.5         10.0  \n...                                    ...       ...          ...  \n18988  https://cdn.sofifa.net/flags/no.png   18040.5          9.0  \n19046  https://cdn.sofifa.net/flags/in.png   18040.5         10.0  \n19104  https://cdn.sofifa.net/flags/cn.png   14167.5         10.0  \n19178  https://cdn.sofifa.net/flags/cn.png   14167.5          9.0  \n19183  https://cdn.sofifa.net/flags/us.png   18040.5         10.0  \n\n[445 rows x 110 columns]",
      "text/html": "<div>\n<style scoped>\n    .dataframe tbody tr th:only-of-type {\n        vertical-align: middle;\n    }\n\n    .dataframe tbody tr th {\n        vertical-align: top;\n    }\n\n    .dataframe thead th {\n        text-align: right;\n    }\n</style>\n<table border=\"1\" class=\"dataframe\">\n  <thead>\n    <tr style=\"text-align: right;\">\n      <th></th>\n      <th>sofifa_id</th>\n      <th>short_name</th>\n      <th>long_name</th>\n      <th>overall</th>\n      <th>potential</th>\n      <th>value_eur</th>\n      <th>wage_eur</th>\n      <th>age</th>\n      <th>dob</th>\n      <th>height_cm</th>\n      <th>...</th>\n      <th>rcb</th>\n      <th>rb</th>\n      <th>gk</th>\n      <th>player_face_url</th>\n      <th>club_logo_url</th>\n      <th>club_flag_url</th>\n      <th>nation_logo_url</th>\n      <th>nation_flag_url</th>\n      <th>wage_rank</th>\n      <th>height_rank</th>\n    </tr>\n  </thead>\n  <tbody>\n    <tr>\n      <th>12</th>\n      <td>192119</td>\n      <td>T. Courtois</td>\n      <td>Thibaut Courtois</td>\n      <td>89</td>\n      <td>91</td>\n      <td>85500000.0</td>\n      <td>250000.0</td>\n      <td>29</td>\n      <td>1992-05-11</td>\n      <td>199</td>\n      <td>...</td>\n      <td>29+3</td>\n      <td>29+3</td>\n      <td>86+3</td>\n      <td>https://cdn.sofifa.net/players/192/119/22_120.png</td>\n      <td>https://cdn.sofifa.net/teams/243/60.png</td>\n      <td>https://cdn.sofifa.net/flags/es.png</td>\n      <td>https://cdn.sofifa.net/teams/1325/60.png</td>\n      <td>https://cdn.sofifa.net/flags/be.png</td>\n      <td>15.0</td>\n      <td>6.0</td>\n    </tr>\n    <tr>\n      <th>21</th>\n      <td>230621</td>\n      <td>G. Donnarumma</td>\n      <td>Gianluigi Donnarumma</td>\n      <td>89</td>\n      <td>93</td>\n      <td>119500000.0</td>\n      <td>110000.0</td>\n      <td>22</td>\n      <td>1999-02-25</td>\n      <td>196</td>\n      <td>...</td>\n      <td>31+3</td>\n      <td>31+3</td>\n      <td>87+3</td>\n      <td>https://cdn.sofifa.net/players/230/621/22_120.png</td>\n      <td>https://cdn.sofifa.net/teams/73/60.png</td>\n      <td>https://cdn.sofifa.net/flags/fr.png</td>\n      <td>https://cdn.sofifa.net/teams/1343/60.png</td>\n      <td>https://cdn.sofifa.net/flags/it.png</td>\n      <td>135.5</td>\n      <td>9.0</td>\n    </tr>\n    <tr>\n      <th>34</th>\n      <td>186153</td>\n      <td>W. Szczęsny</td>\n      <td>Wojciech Tomasz Szczęsny</td>\n      <td>87</td>\n      <td>87</td>\n      <td>42000000.0</td>\n      <td>105000.0</td>\n      <td>31</td>\n      <td>1990-04-18</td>\n      <td>195</td>\n      <td>...</td>\n      <td>29+3</td>\n      <td>28+3</td>\n      <td>85+2</td>\n      <td>https://cdn.sofifa.net/players/186/153/22_120.png</td>\n      <td>https://cdn.sofifa.net/teams/45/60.png</td>\n      <td>https://cdn.sofifa.net/flags/it.png</td>\n      <td>https://cdn.sofifa.net/teams/1353/60.png</td>\n      <td>https://cdn.sofifa.net/flags/pl.png</td>\n      <td>148.5</td>\n      <td>10.0</td>\n    </tr>\n    <tr>\n      <th>54</th>\n      <td>192984</td>\n      <td>K. Casteels</td>\n      <td>Koen Casteels</td>\n      <td>86</td>\n      <td>87</td>\n      <td>52000000.0</td>\n      <td>88000.0</td>\n      <td>29</td>\n      <td>1992-06-25</td>\n      <td>197</td>\n      <td>...</td>\n      <td>29+3</td>\n      <td>29+3</td>\n      <td>84+3</td>\n      <td>https://cdn.sofifa.net/players/192/984/22_120.png</td>\n      <td>https://cdn.sofifa.net/teams/175/60.png</td>\n      <td>https://cdn.sofifa.net/flags/de.png</td>\n      <td>NaN</td>\n      <td>https://cdn.sofifa.net/flags/be.png</td>\n      <td>208.0</td>\n      <td>8.0</td>\n    </tr>\n    <tr>\n      <th>97</th>\n      <td>41236</td>\n      <td>Z. Ibrahimović</td>\n      <td>Zlatan Ibrahimović</td>\n      <td>84</td>\n      <td>84</td>\n      <td>14500000.0</td>\n      <td>51000.0</td>\n      <td>39</td>\n      <td>1981-10-03</td>\n      <td>195</td>\n      <td>...</td>\n      <td>53+3</td>\n      <td>52+3</td>\n      <td>20+3</td>\n      <td>https://cdn.sofifa.net/players/041/236/22_120.png</td>\n      <td>https://cdn.sofifa.net/teams/47/60.png</td>\n      <td>https://cdn.sofifa.net/flags/it.png</td>\n      <td>https://cdn.sofifa.net/teams/1363/60.png</td>\n      <td>https://cdn.sofifa.net/flags/se.png</td>\n      <td>562.5</td>\n      <td>10.0</td>\n    </tr>\n    <tr>\n      <th>...</th>\n      <td>...</td>\n      <td>...</td>\n      <td>...</td>\n      <td>...</td>\n      <td>...</td>\n      <td>...</td>\n      <td>...</td>\n      <td>...</td>\n      <td>...</td>\n      <td>...</td>\n      <td>...</td>\n      <td>...</td>\n      <td>...</td>\n      <td>...</td>\n      <td>...</td>\n      <td>...</td>\n      <td>...</td>\n      <td>...</td>\n      <td>...</td>\n      <td>...</td>\n      <td>...</td>\n    </tr>\n    <tr>\n      <th>18988</th>\n      <td>263877</td>\n      <td>M. Sjøeng</td>\n      <td>Magnus Sjøeng</td>\n      <td>51</td>\n      <td>66</td>\n      <td>120000.0</td>\n      <td>500.0</td>\n      <td>19</td>\n      <td>2002-03-23</td>\n      <td>196</td>\n      <td>...</td>\n      <td>18+2</td>\n      <td>16+2</td>\n      <td>50+2</td>\n      <td>https://cdn.sofifa.net/players/263/877/22_120.png</td>\n      <td>https://cdn.sofifa.net/teams/920/60.png</td>\n      <td>https://cdn.sofifa.net/flags/no.png</td>\n      <td>NaN</td>\n      <td>https://cdn.sofifa.net/flags/no.png</td>\n      <td>18040.5</td>\n      <td>9.0</td>\n    </tr>\n    <tr>\n      <th>19046</th>\n      <td>260146</td>\n      <td>L. Sharma</td>\n      <td>Lara Sharma</td>\n      <td>50</td>\n      <td>59</td>\n      <td>90000.0</td>\n      <td>500.0</td>\n      <td>21</td>\n      <td>1999-10-01</td>\n      <td>195</td>\n      <td>...</td>\n      <td>19+2</td>\n      <td>16+2</td>\n      <td>49+2</td>\n      <td>https://cdn.sofifa.net/players/260/146/22_120.png</td>\n      <td>https://cdn.sofifa.net/teams/113302/60.png</td>\n      <td>https://cdn.sofifa.net/flags/in.png</td>\n      <td>NaN</td>\n      <td>https://cdn.sofifa.net/flags/in.png</td>\n      <td>18040.5</td>\n      <td>10.0</td>\n    </tr>\n    <tr>\n      <th>19104</th>\n      <td>247224</td>\n      <td>Wang Zhifeng</td>\n      <td>王智峰</td>\n      <td>49</td>\n      <td>55</td>\n      <td>60000.0</td>\n      <td>1000.0</td>\n      <td>24</td>\n      <td>1997-02-01</td>\n      <td>195</td>\n      <td>...</td>\n      <td>23+2</td>\n      <td>21+2</td>\n      <td>48+2</td>\n      <td>https://cdn.sofifa.net/players/247/224/22_120.png</td>\n      <td>https://cdn.sofifa.net/teams/112541/60.png</td>\n      <td>https://cdn.sofifa.net/flags/cn.png</td>\n      <td>NaN</td>\n      <td>https://cdn.sofifa.net/flags/cn.png</td>\n      <td>14167.5</td>\n      <td>10.0</td>\n    </tr>\n    <tr>\n      <th>19178</th>\n      <td>250978</td>\n      <td>Ma Zhen</td>\n      <td>马镇</td>\n      <td>48</td>\n      <td>52</td>\n      <td>50000.0</td>\n      <td>1000.0</td>\n      <td>23</td>\n      <td>1998-06-01</td>\n      <td>196</td>\n      <td>...</td>\n      <td>24+2</td>\n      <td>24+2</td>\n      <td>47+2</td>\n      <td>https://cdn.sofifa.net/players/250/978/22_120.png</td>\n      <td>https://cdn.sofifa.net/teams/110955/60.png</td>\n      <td>https://cdn.sofifa.net/flags/cn.png</td>\n      <td>NaN</td>\n      <td>https://cdn.sofifa.net/flags/cn.png</td>\n      <td>14167.5</td>\n      <td>9.0</td>\n    </tr>\n    <tr>\n      <th>19183</th>\n      <td>255336</td>\n      <td>F. Emmings</td>\n      <td>Fred Emmings</td>\n      <td>48</td>\n      <td>73</td>\n      <td>130000.0</td>\n      <td>500.0</td>\n      <td>17</td>\n      <td>2004-02-08</td>\n      <td>195</td>\n      <td>...</td>\n      <td>20+2</td>\n      <td>16+2</td>\n      <td>47+2</td>\n      <td>https://cdn.sofifa.net/players/255/336/22_120.png</td>\n      <td>https://cdn.sofifa.net/teams/111138/60.png</td>\n      <td>https://cdn.sofifa.net/flags/us.png</td>\n      <td>NaN</td>\n      <td>https://cdn.sofifa.net/flags/us.png</td>\n      <td>18040.5</td>\n      <td>10.0</td>\n    </tr>\n  </tbody>\n</table>\n<p>445 rows × 110 columns</p>\n</div>"
     },
     "execution_count": 262,
     "metadata": {},
     "output_type": "execute_result"
    }
   ],
   "source": [
    "# ② 이를 기준삼아 \"키순위 10위 이하(1~10)인 선수\"라는 조건을 적용해봅니다.\n",
    "df[df[\"height_cm\"].rank(ascending=False, method=\"dense\") <= 10]"
   ],
   "metadata": {
    "collapsed": false,
    "ExecuteTime": {
     "end_time": "2023-06-27T06:06:09.816233Z",
     "start_time": "2023-06-27T06:06:09.767345800Z"
    }
   }
  },
  {
   "cell_type": "code",
   "execution_count": 263,
   "outputs": [
    {
     "data": {
      "text/plain": "                      long_name  overall  height_cm  height_rank\n12             Thibaut Courtois       89        199          6.0\n21         Gianluigi Donnarumma       89        196          9.0\n34     Wojciech Tomasz Szczęsny       87        195         10.0\n54                Koen Casteels       86        197          8.0\n97           Zlatan Ibrahimović       84        195         10.0\n...                         ...      ...        ...          ...\n18988             Magnus Sjøeng       51        196          9.0\n19046               Lara Sharma       50        195         10.0\n19104                       王智峰       49        195         10.0\n19178                        马镇       48        196          9.0\n19183              Fred Emmings       48        195         10.0\n\n[445 rows x 4 columns]",
      "text/html": "<div>\n<style scoped>\n    .dataframe tbody tr th:only-of-type {\n        vertical-align: middle;\n    }\n\n    .dataframe tbody tr th {\n        vertical-align: top;\n    }\n\n    .dataframe thead th {\n        text-align: right;\n    }\n</style>\n<table border=\"1\" class=\"dataframe\">\n  <thead>\n    <tr style=\"text-align: right;\">\n      <th></th>\n      <th>long_name</th>\n      <th>overall</th>\n      <th>height_cm</th>\n      <th>height_rank</th>\n    </tr>\n  </thead>\n  <tbody>\n    <tr>\n      <th>12</th>\n      <td>Thibaut Courtois</td>\n      <td>89</td>\n      <td>199</td>\n      <td>6.0</td>\n    </tr>\n    <tr>\n      <th>21</th>\n      <td>Gianluigi Donnarumma</td>\n      <td>89</td>\n      <td>196</td>\n      <td>9.0</td>\n    </tr>\n    <tr>\n      <th>34</th>\n      <td>Wojciech Tomasz Szczęsny</td>\n      <td>87</td>\n      <td>195</td>\n      <td>10.0</td>\n    </tr>\n    <tr>\n      <th>54</th>\n      <td>Koen Casteels</td>\n      <td>86</td>\n      <td>197</td>\n      <td>8.0</td>\n    </tr>\n    <tr>\n      <th>97</th>\n      <td>Zlatan Ibrahimović</td>\n      <td>84</td>\n      <td>195</td>\n      <td>10.0</td>\n    </tr>\n    <tr>\n      <th>...</th>\n      <td>...</td>\n      <td>...</td>\n      <td>...</td>\n      <td>...</td>\n    </tr>\n    <tr>\n      <th>18988</th>\n      <td>Magnus Sjøeng</td>\n      <td>51</td>\n      <td>196</td>\n      <td>9.0</td>\n    </tr>\n    <tr>\n      <th>19046</th>\n      <td>Lara Sharma</td>\n      <td>50</td>\n      <td>195</td>\n      <td>10.0</td>\n    </tr>\n    <tr>\n      <th>19104</th>\n      <td>王智峰</td>\n      <td>49</td>\n      <td>195</td>\n      <td>10.0</td>\n    </tr>\n    <tr>\n      <th>19178</th>\n      <td>马镇</td>\n      <td>48</td>\n      <td>196</td>\n      <td>9.0</td>\n    </tr>\n    <tr>\n      <th>19183</th>\n      <td>Fred Emmings</td>\n      <td>48</td>\n      <td>195</td>\n      <td>10.0</td>\n    </tr>\n  </tbody>\n</table>\n<p>445 rows × 4 columns</p>\n</div>"
     },
     "execution_count": 263,
     "metadata": {},
     "output_type": "execute_result"
    }
   ],
   "source": [
    "# ③ 출력값이 너무 장황하므로 [\"long_name\", \"overall\", \"height_cm\", \"height_rank\"] 칼럼만 확인해보겠습니다.\n"
   ],
   "metadata": {
    "collapsed": false,
    "ExecuteTime": {
     "end_time": "2023-06-27T06:07:14.459819100Z",
     "start_time": "2023-06-27T06:07:14.427962400Z"
    }
   }
  },
  {
   "cell_type": "code",
   "execution_count": 269,
   "outputs": [
    {
     "data": {
      "text/plain": "                           long_name  overall  height_cm  height_rank\n9929                      Tomáš Holý       65        206          1.0\n12467                Andries Noppert       63        203          2.0\n15216            Aaron James Chapman       60        203          2.0\n9802             Pape-Alioune Ndiaye       66        203          2.0\n11434                   Fejsal Mulić       64        203          2.0\n...                              ...      ...        ...          ...\n11264              Wladimiro Falcone       64        195         10.0\n1416               Nikola Milenković       76        195         10.0\n11502                  Matija Šarkić       64        195         10.0\n11670  Zechariah Joshua Henry Medley       64        195         10.0\n19183                   Fred Emmings       48        195         10.0\n\n[445 rows x 4 columns]",
      "text/html": "<div>\n<style scoped>\n    .dataframe tbody tr th:only-of-type {\n        vertical-align: middle;\n    }\n\n    .dataframe tbody tr th {\n        vertical-align: top;\n    }\n\n    .dataframe thead th {\n        text-align: right;\n    }\n</style>\n<table border=\"1\" class=\"dataframe\">\n  <thead>\n    <tr style=\"text-align: right;\">\n      <th></th>\n      <th>long_name</th>\n      <th>overall</th>\n      <th>height_cm</th>\n      <th>height_rank</th>\n    </tr>\n  </thead>\n  <tbody>\n    <tr>\n      <th>9929</th>\n      <td>Tomáš Holý</td>\n      <td>65</td>\n      <td>206</td>\n      <td>1.0</td>\n    </tr>\n    <tr>\n      <th>12467</th>\n      <td>Andries Noppert</td>\n      <td>63</td>\n      <td>203</td>\n      <td>2.0</td>\n    </tr>\n    <tr>\n      <th>15216</th>\n      <td>Aaron James Chapman</td>\n      <td>60</td>\n      <td>203</td>\n      <td>2.0</td>\n    </tr>\n    <tr>\n      <th>9802</th>\n      <td>Pape-Alioune Ndiaye</td>\n      <td>66</td>\n      <td>203</td>\n      <td>2.0</td>\n    </tr>\n    <tr>\n      <th>11434</th>\n      <td>Fejsal Mulić</td>\n      <td>64</td>\n      <td>203</td>\n      <td>2.0</td>\n    </tr>\n    <tr>\n      <th>...</th>\n      <td>...</td>\n      <td>...</td>\n      <td>...</td>\n      <td>...</td>\n    </tr>\n    <tr>\n      <th>11264</th>\n      <td>Wladimiro Falcone</td>\n      <td>64</td>\n      <td>195</td>\n      <td>10.0</td>\n    </tr>\n    <tr>\n      <th>1416</th>\n      <td>Nikola Milenković</td>\n      <td>76</td>\n      <td>195</td>\n      <td>10.0</td>\n    </tr>\n    <tr>\n      <th>11502</th>\n      <td>Matija Šarkić</td>\n      <td>64</td>\n      <td>195</td>\n      <td>10.0</td>\n    </tr>\n    <tr>\n      <th>11670</th>\n      <td>Zechariah Joshua Henry Medley</td>\n      <td>64</td>\n      <td>195</td>\n      <td>10.0</td>\n    </tr>\n    <tr>\n      <th>19183</th>\n      <td>Fred Emmings</td>\n      <td>48</td>\n      <td>195</td>\n      <td>10.0</td>\n    </tr>\n  </tbody>\n</table>\n<p>445 rows × 4 columns</p>\n</div>"
     },
     "execution_count": 269,
     "metadata": {},
     "output_type": "execute_result"
    }
   ],
   "source": [
    "# ④ 위 결과를 다시 height_cm 순으로 내림차순 정렬합니다. (완료)\n",
    "df[df[\"height_cm\"].rank(ascending=False, method=\"dense\") <= 10][[\"long_name\", \"overall\", \"height_cm\", \"height_rank\"]].sort_values(\"height_cm\", ascending=False)"
   ],
   "metadata": {
    "collapsed": false,
    "ExecuteTime": {
     "end_time": "2023-06-27T06:08:57.831881900Z",
     "start_time": "2023-06-27T06:08:57.792260500Z"
    }
   }
  },
  {
   "cell_type": "markdown",
   "source": [
    "### 4.8. 해당 결과를 엑셀파일로 저장하기"
   ],
   "metadata": {
    "collapsed": false
   }
  },
  {
   "cell_type": "code",
   "execution_count": 270,
   "outputs": [],
   "source": [
    "# 일반적으로 최종결과를 새로운 df_final에 담은 후\n",
    "# df_final.to_excel(\"height_top10.xlsx\") 이라고 실행하면 됩니다.\n",
    "# 파이썬 기본 문법 중 언더스코어(_)는 직전 리턴값을 담고 있습니다.\n",
    "# 그래서 아래처럼 실행할 수도 있습니다.\n",
    "\n",
    "_.to_excel(\"height_top_10.xlsx\")"
   ],
   "metadata": {
    "collapsed": false,
    "ExecuteTime": {
     "end_time": "2023-06-27T06:10:43.138763600Z",
     "start_time": "2023-06-27T06:10:43.067596200Z"
    }
   }
  },
  {
   "cell_type": "code",
   "execution_count": 279,
   "outputs": [
    {
     "data": {
      "text/plain": "['20230626_이름나이.xlsx', 'height_top_10.xlsx']"
     },
     "execution_count": 279,
     "metadata": {},
     "output_type": "execute_result"
    }
   ],
   "source": [
    "# 현재 폴더의 파일목록을 glob.glob이나 os.listdir()을 통해 확인해보면\n",
    "# \"height_top_10.xlsx\"가 생성되어 있음을 확인할 수 있습니다.\n",
    "\n",
    "from glob import glob\n",
    "\n",
    "glob(\"*.xlsx\")"
   ],
   "metadata": {
    "collapsed": false,
    "ExecuteTime": {
     "end_time": "2023-06-27T06:13:03.022718400Z",
     "start_time": "2023-06-27T06:13:02.983402300Z"
    }
   }
  },
  {
   "cell_type": "markdown",
   "source": [
    "## 5. 데이터프레임 정렬하기(sort_values)\n",
    "\n",
    "사실 sort_values는 바로 위 예제에서 먼저 사용해 보았습니다.\n",
    "\n",
    "기본적인 사용법은 df.sort_values(기준칼럼이름, ascending=[True:오름차순 / False:내림차순])\n",
    "\n",
    "입니다."
   ],
   "metadata": {
    "collapsed": false
   }
  },
  {
   "cell_type": "code",
   "execution_count": 284,
   "outputs": [
    {
     "data": {
      "text/plain": "                              long_name  height_cm  wage_eur\n4                       Kevin De Bruyne        181  350000.0\n11                        Karim Benzema        185  350000.0\n0        Lionel Andrés Messi Cuccittini        170  320000.0\n24                           Toni Kroos        183  310000.0\n14    Carlos Henrique Venancio Casimiro        185  310000.0\n27                      Raheem Sterling        170  290000.0\n16                           Sadio Mané        175  270000.0\n2   Cristiano Ronaldo dos Santos Aveiro        187  270000.0\n1                    Robert Lewandowski        185  270000.0\n17                  Mohamed Salah Ghaly        175  270000.0",
      "text/html": "<div>\n<style scoped>\n    .dataframe tbody tr th:only-of-type {\n        vertical-align: middle;\n    }\n\n    .dataframe tbody tr th {\n        vertical-align: top;\n    }\n\n    .dataframe thead th {\n        text-align: right;\n    }\n</style>\n<table border=\"1\" class=\"dataframe\">\n  <thead>\n    <tr style=\"text-align: right;\">\n      <th></th>\n      <th>long_name</th>\n      <th>height_cm</th>\n      <th>wage_eur</th>\n    </tr>\n  </thead>\n  <tbody>\n    <tr>\n      <th>4</th>\n      <td>Kevin De Bruyne</td>\n      <td>181</td>\n      <td>350000.0</td>\n    </tr>\n    <tr>\n      <th>11</th>\n      <td>Karim Benzema</td>\n      <td>185</td>\n      <td>350000.0</td>\n    </tr>\n    <tr>\n      <th>0</th>\n      <td>Lionel Andrés Messi Cuccittini</td>\n      <td>170</td>\n      <td>320000.0</td>\n    </tr>\n    <tr>\n      <th>24</th>\n      <td>Toni Kroos</td>\n      <td>183</td>\n      <td>310000.0</td>\n    </tr>\n    <tr>\n      <th>14</th>\n      <td>Carlos Henrique Venancio Casimiro</td>\n      <td>185</td>\n      <td>310000.0</td>\n    </tr>\n    <tr>\n      <th>27</th>\n      <td>Raheem Sterling</td>\n      <td>170</td>\n      <td>290000.0</td>\n    </tr>\n    <tr>\n      <th>16</th>\n      <td>Sadio Mané</td>\n      <td>175</td>\n      <td>270000.0</td>\n    </tr>\n    <tr>\n      <th>2</th>\n      <td>Cristiano Ronaldo dos Santos Aveiro</td>\n      <td>187</td>\n      <td>270000.0</td>\n    </tr>\n    <tr>\n      <th>1</th>\n      <td>Robert Lewandowski</td>\n      <td>185</td>\n      <td>270000.0</td>\n    </tr>\n    <tr>\n      <th>17</th>\n      <td>Mohamed Salah Ghaly</td>\n      <td>175</td>\n      <td>270000.0</td>\n    </tr>\n  </tbody>\n</table>\n</div>"
     },
     "execution_count": 284,
     "metadata": {},
     "output_type": "execute_result"
    }
   ],
   "source": [
    "# 데이터 프레임 정렬하기 : 키를 기준으로 오름차순 정렬 후, 주급 기준으로 내림차순 정렬\n",
    "# 그러면 결과는 주급이 가장 높은 사람이 제일 상단에 위치하고,\n",
    "# 같은 주급을 가진 사람 중에서는 키가 작은 사람부터 위에 위치하게 될 겁니다.\n",
    "# 결과를 확인해볼까요?\n",
    "\n",
    "df.sort_values(\"height_cm\", ascending=True).sort_values(\"wage_eur\", ascending=False)[[\"long_name\", \"height_cm\", \"wage_eur\"]].head(10)"
   ],
   "metadata": {
    "collapsed": false,
    "ExecuteTime": {
     "end_time": "2023-06-27T06:19:31.259921300Z",
     "start_time": "2023-06-27T06:19:31.201063100Z"
    }
   }
  },
  {
   "cell_type": "markdown",
   "source": [
    "## 6. 그룹으로 묶은 후 집계함수 실행(group_by)\n",
    "\n",
    "여기까지 데이터프레임 사용법을 배우고 있지만,\n",
    "\n",
    "아직 우리가 처리하기 어려운 종류의 연산이 하나 있습니다.\n",
    "\n",
    "바로, 특정 칼럼값을 그룹으로 묶은 후 해당 그룹의 특정 집계값을\n",
    "\n",
    "(예를 들면 각 그룹의 평균이나 표준편차, 최대값, 갯수 등)\n",
    "\n",
    "구하는 방법은 아직 배우지 않았습니다.\n",
    "\n",
    "이는 group_by 메서드를 사용하면 간편하게 계산할 수 있습니다."
   ],
   "metadata": {
    "collapsed": false
   }
  },
  {
   "cell_type": "markdown",
   "source": [
    "### 6.1. [예제] 나라별로 주급 평균을 구해줘!"
   ],
   "metadata": {
    "collapsed": false
   }
  },
  {
   "cell_type": "code",
   "execution_count": 285,
   "outputs": [
    {
     "data": {
      "text/plain": "nationality_name\nEgypt                       43041.666667\nTanzania                    43000.000000\nDominican Republic          30875.000000\nCentral African Republic    29500.000000\nSyria                       22500.000000\n                                ...     \nBolivia                       605.333333\nMalawi                        575.000000\nUnited Arab Emirates          536.842105\nIndia                         513.004484\nPapua New Guinea              500.000000\nName: wage_eur, Length: 163, dtype: float64"
     },
     "execution_count": 285,
     "metadata": {},
     "output_type": "execute_result"
    }
   ],
   "source": [
    "# 기본적인 group_by 메서드의 사용법은 아래와 같습니다.\n",
    "# 값을_구하고자_하는_칼럼.groupby(그룹화하고자_하는_칼럼).연산함수()\n",
    "df[\"wage_eur\"].groupby(df[\"nationality_name\"]).mean().sort_values(ascending=False)"
   ],
   "metadata": {
    "collapsed": false,
    "ExecuteTime": {
     "end_time": "2023-06-27T06:25:03.220654300Z",
     "start_time": "2023-06-27T06:25:03.192794Z"
    }
   }
  },
  {
   "cell_type": "markdown",
   "source": [
    "### 6.2. [예제] 국가별로 가장 연봉이 높은 선수의 이름과 연봉, 그리고 국가를 출력해줘"
   ],
   "metadata": {
    "collapsed": false
   }
  },
  {
   "cell_type": "code",
   "execution_count": 127,
   "outputs": [],
   "source": [
    "# 국가별로 wage_eur 선수의 수 ㅁㄴㅇㄹㅁㄴㅇㄹㅂㅈ굣ㅁㄷ론ㅁㄷ섬ㄴㄱ선ㄱ서"
   ],
   "metadata": {
    "collapsed": false,
    "ExecuteTime": {
     "end_time": "2023-06-27T03:25:17.266306300Z",
     "start_time": "2023-06-27T03:25:17.155411100Z"
    }
   }
  },
  {
   "cell_type": "code",
   "execution_count": 136,
   "outputs": [],
   "source": [
    "df_vc = df[\"nationality_name\"].value_counts()"
   ],
   "metadata": {
    "collapsed": false,
    "ExecuteTime": {
     "end_time": "2023-06-27T03:29:52.054930700Z",
     "start_time": "2023-06-27T03:29:52.042792300Z"
    }
   }
  },
  {
   "cell_type": "code",
   "execution_count": 143,
   "outputs": [
    {
     "data": {
      "text/plain": "nationality_name\nEngland             1719\nGermany             1214\nSpain               1086\nFrance               980\nArgentina            960\n                    ... \nEthiopia               1\nPapua New Guinea       1\nKyrgyzstan             1\nGuam                   1\nIndonesia              1\nName: count, Length: 163, dtype: int64"
     },
     "execution_count": 143,
     "metadata": {},
     "output_type": "execute_result"
    }
   ],
   "source": [
    "df_vc"
   ],
   "metadata": {
    "collapsed": false,
    "ExecuteTime": {
     "end_time": "2023-06-27T03:32:03.361896400Z",
     "start_time": "2023-06-27T03:32:03.346194800Z"
    }
   }
  },
  {
   "cell_type": "code",
   "execution_count": 160,
   "outputs": [
    {
     "data": {
      "text/plain": "<Axes: ylabel='nationality_name'>"
     },
     "execution_count": 160,
     "metadata": {},
     "output_type": "execute_result"
    },
    {
     "data": {
      "text/plain": "<Figure size 640x480 with 1 Axes>",
      "image/png": "[encoded data removed]"
     },
     "metadata": {},
     "output_type": "display_data"
    }
   ],
   "source": [
    "df_vc.head(20).sort_values(ascending=True).plot.barh()"
   ],
   "metadata": {
    "collapsed": false,
    "ExecuteTime": {
     "end_time": "2023-06-27T03:43:40.998982800Z",
     "start_time": "2023-06-27T03:43:40.763143800Z"
    }
   }
  }
 ],
 "metadata": {
  "kernelspec": {
   "display_name": "Python 3",
   "language": "python",
   "name": "python3"
  },
  "language_info": {
   "codemirror_mode": {
    "name": "ipython",
    "version": 2
   },
   "file_extension": ".py",
   "mimetype": "text/x-python",
   "name": "python",
   "nbconvert_exporter": "python",
   "pygments_lexer": "ipython2",
   "version": "2.7.6"
  }
 },
 "nbformat": 4,
 "nbformat_minor": 0
}
