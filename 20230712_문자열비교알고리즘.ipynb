{
 "cells": [
  {
   "cell_type": "code",
   "execution_count": 1,
   "metadata": {
    "collapsed": true,
    "ExecuteTime": {
     "end_time": "2023-07-12T01:14:08.618231100Z",
     "start_time": "2023-07-12T01:14:08.602597Z"
    }
   },
   "outputs": [],
   "source": [
    "기준 = \"메밀꽃 필 무렵\"\n",
    "후보1 = \"동백꽃 질 무렵\"\n",
    "후보2 = \"메밀꽃 피어날 저녁무렵\"\n",
    "후보3 = \"꽃 필 무렵\""
   ]
  },
  {
   "cell_type": "code",
   "execution_count": 2,
   "outputs": [],
   "source": [
    "from difflib import ndiff"
   ],
   "metadata": {
    "collapsed": false,
    "ExecuteTime": {
     "end_time": "2023-07-12T01:14:57.831428200Z",
     "start_time": "2023-07-12T01:14:57.831428200Z"
    }
   }
  },
  {
   "cell_type": "code",
   "execution_count": 5,
   "outputs": [
    {
     "name": "stdout",
     "output_type": "stream",
     "text": [
      "+ 메\n",
      "+ 밀\n",
      "  꽃\n",
      "   \n",
      "  필\n",
      "   \n",
      "  무\n",
      "  렵\n"
     ]
    }
   ],
   "source": [
    "for i in ndiff(후보3, 기준):\n",
    "    print(i)"
   ],
   "metadata": {
    "collapsed": false,
    "ExecuteTime": {
     "end_time": "2023-07-12T01:17:06.424795800Z",
     "start_time": "2023-07-12T01:17:06.422874700Z"
    }
   }
  },
  {
   "cell_type": "code",
   "execution_count": 6,
   "outputs": [],
   "source": [
    "from difflib import SequenceMatcher"
   ],
   "metadata": {
    "collapsed": false,
    "ExecuteTime": {
     "end_time": "2023-07-12T01:18:56.417051600Z",
     "start_time": "2023-07-12T01:18:56.417051600Z"
    }
   }
  },
  {
   "cell_type": "code",
   "execution_count": 7,
   "outputs": [
    {
     "data": {
      "text/plain": "0.625"
     },
     "execution_count": 7,
     "metadata": {},
     "output_type": "execute_result"
    }
   ],
   "source": [
    "SequenceMatcher(None, 기준, 후보1).ratio()"
   ],
   "metadata": {
    "collapsed": false,
    "ExecuteTime": {
     "end_time": "2023-07-12T01:19:48.745532400Z",
     "start_time": "2023-07-12T01:19:48.745532400Z"
    }
   }
  },
  {
   "cell_type": "code",
   "execution_count": 8,
   "outputs": [
    {
     "name": "stdout",
     "output_type": "stream",
     "text": [
      "동백꽃 질 무렵 0.625\n",
      "메밀꽃 피어날 저녁무렵 0.7\n",
      "꽃 필 무렵 0.8571428571428571\n"
     ]
    }
   ],
   "source": [
    "for i in [후보1, 후보2, 후보3]:\n",
    "    print(str(i), SequenceMatcher(None, 기준, i).ratio())"
   ],
   "metadata": {
    "collapsed": false,
    "ExecuteTime": {
     "end_time": "2023-07-12T01:21:46.505209300Z",
     "start_time": "2023-07-12T01:21:46.505209300Z"
    }
   }
  },
  {
   "cell_type": "code",
   "execution_count": 9,
   "outputs": [
    {
     "name": "stdout",
     "output_type": "stream",
     "text": [
      "동백꽃 질 무렵 0.625\n",
      "메밀꽃 피어날 저녁무렵 0.7\n",
      "꽃 필 무렵 0.8571428571428571\n"
     ]
    }
   ],
   "source": [
    "for i in [후보1, 후보2, 후보3]:\n",
    "    print(str(i), SequenceMatcher(None, 기준, i).quick_ratio())"
   ],
   "metadata": {
    "collapsed": false,
    "ExecuteTime": {
     "end_time": "2023-07-12T01:22:22.438505Z",
     "start_time": "2023-07-12T01:22:22.438505Z"
    }
   }
  },
  {
   "cell_type": "code",
   "execution_count": 11,
   "outputs": [],
   "source": [
    "현대 = \"\"\"\n",
    "계절이 지나가는 하늘에는\n",
    "가을로 가득 차 있습니다.\n",
    "\n",
    "나는 아무 걱정도 없이\n",
    "가을 속의 별들을 다 헤일 듯합니다.\n",
    "\n",
    "가슴 속에 하나 둘 새겨지는 별을\n",
    "이제 다 못 헤는 것은\n",
    "쉬이 아침이 오는 까닭이요,\n",
    "내일 밤이 남은 까닭이요,\n",
    "아직 나의 청춘이 다하지 않은 까닭입니다.\n",
    "\n",
    "별 하나에 추억과\n",
    "별 하나에 사랑과\n",
    "별 하나에 쓸쓸함과\n",
    "별 하나에 동경과\n",
    "별 하나에 시와\n",
    "별 하나에 어머니, 어머니,\n",
    "\n",
    "어머님, 나는 별 하나에 아름다운 말 한마디씩 불러 봅니다. 소학교 때 책상을 같이 했던 아이들의 이름과, 패, 경, 옥, 이런 이국 소녀들의 이름과, 벌써 아기 어머니 된 계집애들의 이름과, 가난한 이웃 사람들의 이름과, 비둘기, 강아지, 토끼, 노새, 노루, '프랑시스 잠', '라이너 마리아 릴케' 이런 시인의 이름을 불러 봅니다.\n",
    "\n",
    "이네들은 너무나 멀리 있습니다.\n",
    "별이 아스라이 멀듯이.\n",
    "\n",
    "어머님,\n",
    "그리고 당신은 멀리 북간도에 계십니다.\n",
    "\n",
    "나는 무엇인지 그리워\n",
    "이 많은 별빛이 내린 언덕 위에\n",
    "내 이름자를 써 보고\n",
    "흙으로 덮어 버리었습니다.\n",
    "\n",
    "따는 밤을 새워 우는 벌레는\n",
    "부끄러운 이름을 슬퍼하는 까닭입니다.\n",
    "\n",
    "그러나 겨울이 지나고 나의 별에도 봄이 오면\n",
    "무덤 위에 파란 잔디가 피어나듯이\n",
    "내 이름자 묻힌 언덕 위에도\n",
    "자랑처럼 풀이 무성할 거외다.\n",
    "\"\"\""
   ],
   "metadata": {
    "collapsed": false,
    "ExecuteTime": {
     "end_time": "2023-07-12T01:28:51.894909800Z",
     "start_time": "2023-07-12T01:28:51.894404100Z"
    }
   }
  },
  {
   "cell_type": "code",
   "execution_count": 12,
   "outputs": [],
   "source": [
    "원문 = \"\"\"\n",
    "季節계절이 지나가는 하늘에는\n",
    "가을로 가득 차있습니다。\n",
    "\n",
    "나는 아무 걱정도 없이\n",
    "가을속의 별들을 다 헤일듯합니다。\n",
    "\n",
    "가슴속에 하나 둘 색여지는 별을\n",
    "이제 다 못헤는것은\n",
    "쉬이 아츰이 오는 까닭이오、\n",
    "來日내일밤이 남은 까닭이오、\n",
    "아직 나의 靑春청춘이 다하지 않은 까닭입니다。\n",
    "\n",
    "별 하나에 追憶추억과\n",
    "별 하나에 사랑과\n",
    "별 하나에 쓸쓸함과\n",
    "별 하나에 憧憬동경과\n",
    "별 하나에 詩시와\n",
    "별 하나에 어머니、어머니、\n",
    "\n",
    "어머님、나는 별 하나에 아름다운 말 한마디식 불러봅니다。 小學校소학교 때 冊床책상을 같이 햇든 아이들의 일홈과 佩패、鏡경、玉옥 이런 異國少女이국소녀들의 일홈과 벌서 애기 어마니 된 게집애들의 일홈과、가난한 이웃사람들의 일홈과、비둘기、강아지、토끼、노새、노루、｢프랑시스·자｣ ｢라이너·마리아·릴케｣ 이런 詩人시인의 일홈을 불러봅니다。\n",
    "\n",
    "이네들은 너무나 멀리 있습니다。\n",
    "별이 아슬이 멀듯이、\n",
    "\n",
    "어머님、\n",
    "그리고 당신은 멀리 北間島북간도에 게십니다。\n",
    "\n",
    "나는 무엇인지 그러워\n",
    "이많은 별빛이 나린 언덕우에\n",
    "내 일홈자를 써보고、\n",
    "흙으로 덥허 버리엿습니다。\n",
    "\n",
    "따는 밤을 새워 우는 버레는\n",
    "부끄러운 일홈을 슬퍼하는 까닭입니다。\n",
    "(一九四一、十一、五.)[3]\n",
    "\n",
    "그러나 겨을이 지나고 나의별에도 봄이 오면\n",
    "무덤우에 파란 잔디가 피여나듯이\n",
    "내일홈자 묻힌 언덕우에도\n",
    "자랑처럼 풀이 무성 할게외다。\n",
    "\"\"\""
   ],
   "metadata": {
    "collapsed": false,
    "ExecuteTime": {
     "end_time": "2023-07-12T01:30:02.216199800Z",
     "start_time": "2023-07-12T01:30:02.216199800Z"
    }
   }
  },
  {
   "cell_type": "code",
   "execution_count": 13,
   "outputs": [],
   "source": [
    "import re\n",
    "\n",
    "원문 = 원문.replace(\"。\", \".\").replace(\"、\", \", \")"
   ],
   "metadata": {
    "collapsed": false,
    "ExecuteTime": {
     "end_time": "2023-07-12T01:32:15.863024800Z",
     "start_time": "2023-07-12T01:32:15.863024800Z"
    }
   }
  },
  {
   "cell_type": "code",
   "execution_count": 17,
   "outputs": [],
   "source": [
    "stopwords = re.findall(r\"[^가-힣., \\n]+\", 원문)"
   ],
   "metadata": {
    "collapsed": false,
    "ExecuteTime": {
     "end_time": "2023-07-12T01:34:27.374198800Z",
     "start_time": "2023-07-12T01:34:27.374198800Z"
    }
   }
  },
  {
   "cell_type": "code",
   "execution_count": 18,
   "outputs": [],
   "source": [
    "for i in stopwords:\n",
    "    원문 = 원문.replace(i, \"\")"
   ],
   "metadata": {
    "collapsed": false,
    "ExecuteTime": {
     "end_time": "2023-07-12T01:35:02.726176900Z",
     "start_time": "2023-07-12T01:35:02.726176900Z"
    }
   }
  },
  {
   "cell_type": "code",
   "execution_count": 19,
   "outputs": [
    {
     "name": "stdout",
     "output_type": "stream",
     "text": [
      "\n",
      "계절이 지나가는 하늘에는\n",
      "가을로 가득 차있습니다.\n",
      "\n",
      "나는 아무 걱정도 없이\n",
      "가을속의 별들을 다 헤일듯합니다.\n",
      "\n",
      "가슴속에 하나 둘 색여지는 별을\n",
      "이제 다 못헤는것은\n",
      "쉬이 아츰이 오는 까닭이오, \n",
      "내일밤이 남은 까닭이오, \n",
      "아직 나의 청춘이 다하지 않은 까닭입니다.\n",
      "\n",
      "별 하나에 추억과\n",
      "별 하나에 사랑과\n",
      "별 하나에 쓸쓸함과\n",
      "별 하나에 동경과\n",
      "별 하나에 시와\n",
      "별 하나에 어머니, 어머니, \n",
      "\n",
      "어머님, 나는 별 하나에 아름다운 말 한마디식 불러봅니다. 소학교 때 책상을 같이 햇든 아이들의 일홈과 패, 경, 옥 이런 이국소녀들의 일홈과 벌서 애기 어마니 된 게집애들의 일홈과, 가난한 이웃사람들의 일홈과, 비둘기, 강아지, 토끼, 노새, 노루, 프랑시스자 라이너마리아릴케 이런 人시인의 일홈을 불러봅니다.\n",
      "\n",
      "이네들은 너무나 멀리 있습니다.\n",
      "별이 아슬이 멀듯이, \n",
      "\n",
      "어머님, \n",
      "그리고 당신은 멀리 북간도에 게십니다.\n",
      "\n",
      "나는 무엇인지 그러워\n",
      "이많은 별빛이 나린 언덕우에\n",
      "내 일홈자를 써보고, \n",
      "흙으로 덥허 버리엿습니다.\n",
      "\n",
      "따는 밤을 새워 우는 버레는\n",
      "부끄러운 일홈을 슬퍼하는 까닭입니다.\n",
      ", , .\n",
      "\n",
      "그러나 겨을이 지나고 나의별에도 봄이 오면\n",
      "무덤우에 파란 잔디가 피여나듯이\n",
      "내일홈자 묻힌 언덕우에도\n",
      "자랑처럼 풀이 무성 할게외다.\n",
      "\n"
     ]
    }
   ],
   "source": [
    "print(원문)"
   ],
   "metadata": {
    "collapsed": false,
    "ExecuteTime": {
     "end_time": "2023-07-12T01:35:09.773846600Z",
     "start_time": "2023-07-12T01:35:09.773846600Z"
    }
   }
  },
  {
   "cell_type": "code",
   "execution_count": 21,
   "outputs": [
    {
     "name": "stdout",
     "output_type": "stream",
     "text": [
      "  \n",
      "\n",
      "  계\n",
      "  절\n",
      "  이\n",
      "   \n",
      "  지\n",
      "  나\n",
      "  가\n",
      "  는\n",
      "   \n",
      "  하\n",
      "  늘\n",
      "  에\n",
      "  는\n",
      "  \n",
      "\n",
      "  가\n",
      "  을\n",
      "  로\n",
      "   \n",
      "  가\n",
      "  득\n",
      "   \n",
      "  차\n",
      "+  \n",
      "  있\n",
      "  습\n",
      "  니\n",
      "  다\n",
      "  .\n",
      "  \n",
      "\n",
      "  \n",
      "\n",
      "  나\n",
      "  는\n",
      "   \n",
      "  아\n",
      "  무\n",
      "   \n",
      "  걱\n",
      "  정\n",
      "  도\n",
      "   \n",
      "  없\n",
      "  이\n",
      "  \n",
      "\n",
      "  가\n",
      "  을\n",
      "+  \n",
      "  속\n",
      "  의\n",
      "   \n",
      "  별\n",
      "  들\n",
      "  을\n",
      "   \n",
      "  다\n",
      "   \n",
      "  헤\n",
      "  일\n",
      "+  \n",
      "  듯\n",
      "  합\n",
      "  니\n",
      "  다\n",
      "  .\n",
      "  \n",
      "\n",
      "  \n",
      "\n",
      "  가\n",
      "  슴\n",
      "+  \n",
      "  속\n",
      "  에\n",
      "   \n",
      "  하\n",
      "  나\n",
      "   \n",
      "  둘\n",
      "   \n",
      "- 색\n",
      "- 여\n",
      "+ 새\n",
      "+ 겨\n",
      "  지\n",
      "  는\n",
      "   \n",
      "  별\n",
      "  을\n",
      "  \n",
      "\n",
      "  이\n",
      "  제\n",
      "   \n",
      "  다\n",
      "   \n",
      "  못\n",
      "+  \n",
      "  헤\n",
      "  는\n",
      "+  \n",
      "  것\n",
      "  은\n",
      "  \n",
      "\n",
      "  쉬\n",
      "  이\n",
      "   \n",
      "  아\n",
      "- 츰\n",
      "+ 침\n",
      "  이\n",
      "   \n",
      "  오\n",
      "  는\n",
      "   \n",
      "  까\n",
      "  닭\n",
      "  이\n",
      "- 오\n",
      "+ 요\n",
      "  ,\n",
      "-  \n",
      "  \n",
      "\n",
      "  내\n",
      "  일\n",
      "+  \n",
      "  밤\n",
      "  이\n",
      "   \n",
      "  남\n",
      "  은\n",
      "   \n",
      "  까\n",
      "  닭\n",
      "  이\n",
      "- 오\n",
      "+ 요\n",
      "  ,\n",
      "-  \n",
      "  \n",
      "\n",
      "  아\n",
      "  직\n",
      "   \n",
      "  나\n",
      "  의\n",
      "   \n",
      "  청\n",
      "  춘\n",
      "  이\n",
      "   \n",
      "  다\n",
      "  하\n",
      "  지\n",
      "   \n",
      "  않\n",
      "  은\n",
      "   \n",
      "  까\n",
      "  닭\n",
      "  입\n",
      "  니\n",
      "  다\n",
      "  .\n",
      "  \n",
      "\n",
      "  \n",
      "\n",
      "  별\n",
      "   \n",
      "  하\n",
      "  나\n",
      "  에\n",
      "   \n",
      "  추\n",
      "  억\n",
      "  과\n",
      "  \n",
      "\n",
      "  별\n",
      "   \n",
      "  하\n",
      "  나\n",
      "  에\n",
      "   \n",
      "  사\n",
      "  랑\n",
      "  과\n",
      "  \n",
      "\n",
      "  별\n",
      "   \n",
      "  하\n",
      "  나\n",
      "  에\n",
      "   \n",
      "  쓸\n",
      "  쓸\n",
      "  함\n",
      "  과\n",
      "  \n",
      "\n",
      "  별\n",
      "   \n",
      "  하\n",
      "  나\n",
      "  에\n",
      "   \n",
      "  동\n",
      "  경\n",
      "  과\n",
      "  \n",
      "\n",
      "  별\n",
      "   \n",
      "  하\n",
      "  나\n",
      "  에\n",
      "   \n",
      "  시\n",
      "  와\n",
      "  \n",
      "\n",
      "  별\n",
      "   \n",
      "  하\n",
      "  나\n",
      "  에\n",
      "   \n",
      "  어\n",
      "  머\n",
      "  니\n",
      "  ,\n",
      "   \n",
      "  어\n",
      "  머\n",
      "  니\n",
      "  ,\n",
      "-  \n",
      "  \n",
      "\n",
      "  \n",
      "\n",
      "  어\n",
      "  머\n",
      "  님\n",
      "  ,\n",
      "   \n",
      "  나\n",
      "  는\n",
      "   \n",
      "  별\n",
      "   \n",
      "  하\n",
      "  나\n",
      "  에\n",
      "   \n",
      "  아\n",
      "  름\n",
      "  다\n",
      "  운\n",
      "   \n",
      "  말\n",
      "   \n",
      "  한\n",
      "  마\n",
      "  디\n",
      "- 식\n",
      "+ 씩\n",
      "   \n",
      "  불\n",
      "  러\n",
      "+  \n",
      "  봅\n",
      "  니\n",
      "  다\n",
      "  .\n",
      "   \n",
      "  소\n",
      "  학\n",
      "  교\n",
      "   \n",
      "  때\n",
      "   \n",
      "  책\n",
      "  상\n",
      "  을\n",
      "   \n",
      "  같\n",
      "  이\n",
      "   \n",
      "- 햇\n",
      "- 든\n",
      "+ 했\n",
      "+ 던\n",
      "   \n",
      "  아\n",
      "  이\n",
      "  들\n",
      "  의\n",
      "   \n",
      "- 일\n",
      "- 홈\n",
      "+ 이\n",
      "+ 름\n",
      "  과\n",
      "+ ,\n",
      "   \n",
      "  패\n",
      "  ,\n",
      "   \n",
      "  경\n",
      "  ,\n",
      "   \n",
      "  옥\n",
      "+ ,\n",
      "   \n",
      "  이\n",
      "  런\n",
      "   \n",
      "  이\n",
      "  국\n",
      "+  \n",
      "  소\n",
      "  녀\n",
      "  들\n",
      "  의\n",
      "   \n",
      "- 일\n",
      "- 홈\n",
      "+ 이\n",
      "+ 름\n",
      "  과\n",
      "+ ,\n",
      "   \n",
      "  벌\n",
      "- 서\n",
      "+ 써\n",
      "   \n",
      "- 애\n",
      "+ 아\n",
      "  기\n",
      "   \n",
      "  어\n",
      "- 마\n",
      "+ 머\n",
      "  니\n",
      "   \n",
      "  된\n",
      "   \n",
      "- 게\n",
      "+ 계\n",
      "  집\n",
      "  애\n",
      "  들\n",
      "  의\n",
      "   \n",
      "- 일\n",
      "- 홈\n",
      "+ 이\n",
      "+ 름\n",
      "  과\n",
      "  ,\n",
      "   \n",
      "  가\n",
      "  난\n",
      "  한\n",
      "   \n",
      "  이\n",
      "  웃\n",
      "+  \n",
      "  사\n",
      "  람\n",
      "  들\n",
      "  의\n",
      "   \n",
      "- 일\n",
      "- 홈\n",
      "+ 이\n",
      "+ 름\n",
      "  과\n",
      "  ,\n",
      "   \n",
      "  비\n",
      "  둘\n",
      "  기\n",
      "  ,\n",
      "   \n",
      "  강\n",
      "  아\n",
      "  지\n",
      "  ,\n",
      "   \n",
      "  토\n",
      "  끼\n",
      "  ,\n",
      "   \n",
      "  노\n",
      "  새\n",
      "  ,\n",
      "   \n",
      "  노\n",
      "  루\n",
      "  ,\n",
      "   \n",
      "+ '\n",
      "  프\n",
      "  랑\n",
      "  시\n",
      "  스\n",
      "- 자\n",
      "   \n",
      "+ 잠\n",
      "+ '\n",
      "+ ,\n",
      "+  \n",
      "+ '\n",
      "  라\n",
      "  이\n",
      "  너\n",
      "+  \n",
      "  마\n",
      "  리\n",
      "  아\n",
      "+  \n",
      "  릴\n",
      "  케\n",
      "+ '\n",
      "   \n",
      "  이\n",
      "  런\n",
      "   \n",
      "- 人\n",
      "  시\n",
      "  인\n",
      "  의\n",
      "   \n",
      "- 일\n",
      "- 홈\n",
      "+ 이\n",
      "+ 름\n",
      "  을\n",
      "   \n",
      "  불\n",
      "  러\n",
      "+  \n",
      "  봅\n",
      "  니\n",
      "  다\n",
      "  .\n",
      "  \n",
      "\n",
      "  \n",
      "\n",
      "  이\n",
      "  네\n",
      "  들\n",
      "  은\n",
      "   \n",
      "  너\n",
      "  무\n",
      "  나\n",
      "   \n",
      "  멀\n",
      "  리\n",
      "   \n",
      "  있\n",
      "  습\n",
      "  니\n",
      "  다\n",
      "  .\n",
      "  \n",
      "\n",
      "  별\n",
      "  이\n",
      "   \n",
      "  아\n",
      "- 슬\n",
      "+ 스\n",
      "+ 라\n",
      "  이\n",
      "   \n",
      "  멀\n",
      "  듯\n",
      "  이\n",
      "+ .\n",
      "- ,\n",
      "-  \n",
      "  \n",
      "\n",
      "  \n",
      "\n",
      "  어\n",
      "  머\n",
      "  님\n",
      "  ,\n",
      "-  \n",
      "  \n",
      "\n",
      "  그\n",
      "  리\n",
      "  고\n",
      "   \n",
      "  당\n",
      "  신\n",
      "  은\n",
      "   \n",
      "  멀\n",
      "  리\n",
      "   \n",
      "  북\n",
      "  간\n",
      "  도\n",
      "  에\n",
      "   \n",
      "- 게\n",
      "+ 계\n",
      "  십\n",
      "  니\n",
      "  다\n",
      "  .\n",
      "  \n",
      "\n",
      "  \n",
      "\n",
      "  나\n",
      "  는\n",
      "   \n",
      "  무\n",
      "  엇\n",
      "  인\n",
      "  지\n",
      "   \n",
      "  그\n",
      "- 러\n",
      "+ 리\n",
      "  워\n",
      "  \n",
      "\n",
      "  이\n",
      "+  \n",
      "  많\n",
      "  은\n",
      "   \n",
      "  별\n",
      "  빛\n",
      "  이\n",
      "   \n",
      "- 나\n",
      "+ 내\n",
      "  린\n",
      "   \n",
      "  언\n",
      "  덕\n",
      "- 우\n",
      "+  \n",
      "+ 위\n",
      "  에\n",
      "  \n",
      "\n",
      "  내\n",
      "   \n",
      "- 일\n",
      "- 홈\n",
      "+ 이\n",
      "+ 름\n",
      "  자\n",
      "  를\n",
      "   \n",
      "  써\n",
      "+  \n",
      "  보\n",
      "  고\n",
      "- ,\n",
      "-  \n",
      "  \n",
      "\n",
      "  흙\n",
      "  으\n",
      "  로\n",
      "   \n",
      "- 덥\n",
      "- 허\n",
      "+ 덮\n",
      "+ 어\n",
      "   \n",
      "  버\n",
      "  리\n",
      "- 엿\n",
      "+ 었\n",
      "  습\n",
      "  니\n",
      "  다\n",
      "  .\n",
      "  \n",
      "\n",
      "  \n",
      "\n",
      "  따\n",
      "  는\n",
      "   \n",
      "  밤\n",
      "  을\n",
      "   \n",
      "  새\n",
      "  워\n",
      "   \n",
      "  우\n",
      "  는\n",
      "   \n",
      "- 버\n",
      "+ 벌\n",
      "  레\n",
      "  는\n",
      "  \n",
      "\n",
      "  부\n",
      "  끄\n",
      "  러\n",
      "  운\n",
      "   \n",
      "- 일\n",
      "- 홈\n",
      "+ 이\n",
      "+ 름\n",
      "  을\n",
      "   \n",
      "  슬\n",
      "  퍼\n",
      "  하\n",
      "  는\n",
      "   \n",
      "  까\n",
      "  닭\n",
      "  입\n",
      "  니\n",
      "  다\n",
      "  .\n",
      "  \n",
      "\n",
      "- ,\n",
      "-  \n",
      "- ,\n",
      "-  \n",
      "- .\n",
      "- \n",
      "\n",
      "  \n",
      "\n",
      "  그\n",
      "  러\n",
      "  나\n",
      "   \n",
      "  겨\n",
      "- 을\n",
      "+ 울\n",
      "  이\n",
      "   \n",
      "  지\n",
      "  나\n",
      "  고\n",
      "   \n",
      "  나\n",
      "  의\n",
      "+  \n",
      "  별\n",
      "  에\n",
      "  도\n",
      "   \n",
      "  봄\n",
      "  이\n",
      "   \n",
      "  오\n",
      "  면\n",
      "  \n",
      "\n",
      "  무\n",
      "  덤\n",
      "- 우\n",
      "+  \n",
      "+ 위\n",
      "  에\n",
      "   \n",
      "  파\n",
      "  란\n",
      "   \n",
      "  잔\n",
      "  디\n",
      "  가\n",
      "   \n",
      "  피\n",
      "- 여\n",
      "+ 어\n",
      "  나\n",
      "  듯\n",
      "  이\n",
      "  \n",
      "\n",
      "  내\n",
      "- 일\n",
      "- 홈\n",
      "+  \n",
      "+ 이\n",
      "+ 름\n",
      "  자\n",
      "   \n",
      "  묻\n",
      "  힌\n",
      "   \n",
      "  언\n",
      "  덕\n",
      "- 우\n",
      "+  \n",
      "+ 위\n",
      "  에\n",
      "  도\n",
      "  \n",
      "\n",
      "  자\n",
      "  랑\n",
      "  처\n",
      "  럼\n",
      "   \n",
      "  풀\n",
      "  이\n",
      "   \n",
      "  무\n",
      "  성\n",
      "-  \n",
      "  할\n",
      "- 게\n",
      "+  \n",
      "+ 거\n",
      "  외\n",
      "  다\n",
      "  .\n",
      "  \n",
      "\n"
     ]
    }
   ],
   "source": [
    "for i in ndiff(원문, 현대):\n",
    "    print(i)"
   ],
   "metadata": {
    "collapsed": false,
    "ExecuteTime": {
     "end_time": "2023-07-12T01:37:41.551044Z",
     "start_time": "2023-07-12T01:37:41.548368300Z"
    }
   }
  },
  {
   "cell_type": "code",
   "execution_count": 22,
   "outputs": [
    {
     "data": {
      "text/plain": "0.8852201257861635"
     },
     "execution_count": 22,
     "metadata": {},
     "output_type": "execute_result"
    }
   ],
   "source": [
    "SequenceMatcher(None, 원문, 현대).ratio()"
   ],
   "metadata": {
    "collapsed": false,
    "ExecuteTime": {
     "end_time": "2023-07-12T01:38:50.849801100Z",
     "start_time": "2023-07-12T01:38:50.849801100Z"
    }
   }
  },
  {
   "cell_type": "markdown",
   "source": [
    "현대시와 원문시를 리스트로 각각 쪼개고,\n",
    "\n",
    "원문시를 랜덤하게 섞은 후,\n",
    "\n",
    "**현대시의 각 줄에 해당하는 원문시의 줄을 찾아 매칭해주는 프로그램**"
   ],
   "metadata": {
    "collapsed": false
   }
  },
  {
   "cell_type": "code",
   "execution_count": 24,
   "outputs": [],
   "source": [
    "현대리스트 = 현대.split(\"\\n\")\n",
    "원문리스트 = 원문.split(\"\\n\")"
   ],
   "metadata": {
    "collapsed": false,
    "ExecuteTime": {
     "end_time": "2023-07-12T01:42:43.656581100Z",
     "start_time": "2023-07-12T01:42:43.646037700Z"
    }
   }
  },
  {
   "cell_type": "code",
   "execution_count": 25,
   "outputs": [],
   "source": [
    "import random\n",
    "\n",
    "random.shuffle(원문리스트)"
   ],
   "metadata": {
    "collapsed": false,
    "ExecuteTime": {
     "end_time": "2023-07-12T01:42:58.188809800Z",
     "start_time": "2023-07-12T01:42:58.173154600Z"
    }
   }
  },
  {
   "cell_type": "code",
   "execution_count": 27,
   "outputs": [],
   "source": [
    "원문리스트 = [i for i in 원문리스트 if i != \"\"]"
   ],
   "metadata": {
    "collapsed": false,
    "ExecuteTime": {
     "end_time": "2023-07-12T01:44:16.454904400Z",
     "start_time": "2023-07-12T01:44:16.435873800Z"
    }
   }
  },
  {
   "cell_type": "code",
   "execution_count": 30,
   "outputs": [],
   "source": [
    "현대리스트_ = []\n",
    "for i in 현대리스트:\n",
    "    if i != \"\":\n",
    "        현대리스트_.append(i)\n",
    "현대리스트 = 현대리스트_"
   ],
   "metadata": {
    "collapsed": false,
    "ExecuteTime": {
     "end_time": "2023-07-12T01:46:03.414821300Z",
     "start_time": "2023-07-12T01:46:03.383293600Z"
    }
   }
  },
  {
   "cell_type": "code",
   "execution_count": 33,
   "outputs": [],
   "source": [
    "# 전처리는 끝났다. 비교해보자."
   ],
   "metadata": {
    "collapsed": false,
    "ExecuteTime": {
     "end_time": "2023-07-12T01:46:59.301275100Z",
     "start_time": "2023-07-12T01:46:59.285647Z"
    }
   }
  },
  {
   "cell_type": "code",
   "execution_count": null,
   "outputs": [],
   "source": [
    "비교사전 = {}\n",
    "\n",
    "for 현대문장 in 현대리스트:\n",
    "    ratio_list = []\n",
    "    for idx, 원문문장 in enumerate(원문리스트):\n",
    "        ratio = SequenceMatcher(None, 현대문장, 원문문장).ratio()\n",
    "        ratio_list.append(ratio)\n",
    "        print(f\"\\n{현대문장} ~ {원문문장} : [{ratio}]\\n\")\n",
    "    비교사전[현대문장] = 원문리스트[ratio_list.index(max(ratio_list))]"
   ],
   "metadata": {
    "collapsed": false
   }
  },
  {
   "cell_type": "code",
   "execution_count": 54,
   "outputs": [
    {
     "name": "stdout",
     "output_type": "stream",
     "text": [
      "계절이 지나가는 하늘에는\n",
      "가을로 가득 차있습니다.\n",
      "나는 아무 걱정도 없이\n",
      "가을속의 별들을 다 헤일듯합니다.\n",
      "가슴속에 하나 둘 색여지는 별을\n",
      "이제 다 못헤는것은\n",
      "쉬이 아츰이 오는 까닭이오, \n",
      "내일밤이 남은 까닭이오, \n",
      "아직 나의 청춘이 다하지 않은 까닭입니다.\n",
      "별 하나에 추억과\n",
      "별 하나에 사랑과\n",
      "별 하나에 쓸쓸함과\n",
      "별 하나에 동경과\n",
      "별 하나에 시와\n",
      "별 하나에 어머니, 어머니, \n",
      "어머님, 나는 별 하나에 아름다운 말 한마디식 불러봅니다. 소학교 때 책상을 같이 햇든 아이들의 일홈과 패, 경, 옥 이런 이국소녀들의 일홈과 벌서 애기 어마니 된 게집애들의 일홈과, 가난한 이웃사람들의 일홈과, 비둘기, 강아지, 토끼, 노새, 노루, 프랑시스자 라이너마리아릴케 이런 人시인의 일홈을 불러봅니다.\n",
      "이네들은 너무나 멀리 있습니다.\n",
      "별이 아슬이 멀듯이, \n",
      "어머님, \n",
      "그리고 당신은 멀리 북간도에 게십니다.\n",
      "나는 무엇인지 그러워\n",
      "이많은 별빛이 나린 언덕우에\n",
      "내 일홈자를 써보고, \n",
      "흙으로 덥허 버리엿습니다.\n",
      "따는 밤을 새워 우는 버레는\n",
      "부끄러운 일홈을 슬퍼하는 까닭입니다.\n",
      "그러나 겨을이 지나고 나의별에도 봄이 오면\n",
      "무덤우에 파란 잔디가 피여나듯이\n",
      "내일홈자 묻힌 언덕우에도\n",
      "자랑처럼 풀이 무성 할게외다.\n"
     ]
    }
   ],
   "source": [
    "복원결과 = \"\\n\".join(list(비교사전.values()))\n",
    "print(복원결과)"
   ],
   "metadata": {
    "collapsed": false,
    "ExecuteTime": {
     "end_time": "2023-07-12T02:10:42.471965300Z",
     "start_time": "2023-07-12T02:10:42.456309800Z"
    }
   }
  },
  {
   "cell_type": "code",
   "execution_count": 55,
   "outputs": [
    {
     "data": {
      "text/plain": "{'계절이 지나가는 하늘에는': '계절이 지나가는 하늘에는',\n '가을로 가득 차 있습니다.': '가을로 가득 차있습니다.',\n '나는 아무 걱정도 없이': '나는 아무 걱정도 없이',\n '가을 속의 별들을 다 헤일 듯합니다.': '가을속의 별들을 다 헤일듯합니다.',\n '가슴 속에 하나 둘 새겨지는 별을': '가슴속에 하나 둘 색여지는 별을',\n '이제 다 못 헤는 것은': '이제 다 못헤는것은',\n '쉬이 아침이 오는 까닭이요,': '쉬이 아츰이 오는 까닭이오, ',\n '내일 밤이 남은 까닭이요,': '내일밤이 남은 까닭이오, ',\n '아직 나의 청춘이 다하지 않은 까닭입니다.': '아직 나의 청춘이 다하지 않은 까닭입니다.',\n '별 하나에 추억과': '별 하나에 추억과',\n '별 하나에 사랑과': '별 하나에 사랑과',\n '별 하나에 쓸쓸함과': '별 하나에 쓸쓸함과',\n '별 하나에 동경과': '별 하나에 동경과',\n '별 하나에 시와': '별 하나에 시와',\n '별 하나에 어머니, 어머니,': '별 하나에 어머니, 어머니, ',\n \"어머님, 나는 별 하나에 아름다운 말 한마디씩 불러 봅니다. 소학교 때 책상을 같이 했던 아이들의 이름과, 패, 경, 옥, 이런 이국 소녀들의 이름과, 벌써 아기 어머니 된 계집애들의 이름과, 가난한 이웃 사람들의 이름과, 비둘기, 강아지, 토끼, 노새, 노루, '프랑시스 잠', '라이너 마리아 릴케' 이런 시인의 이름을 불러 봅니다.\": '어머님, 나는 별 하나에 아름다운 말 한마디식 불러봅니다. 소학교 때 책상을 같이 햇든 아이들의 일홈과 패, 경, 옥 이런 이국소녀들의 일홈과 벌서 애기 어마니 된 게집애들의 일홈과, 가난한 이웃사람들의 일홈과, 비둘기, 강아지, 토끼, 노새, 노루, 프랑시스자 라이너마리아릴케 이런 人시인의 일홈을 불러봅니다.',\n '이네들은 너무나 멀리 있습니다.': '이네들은 너무나 멀리 있습니다.',\n '별이 아스라이 멀듯이.': '별이 아슬이 멀듯이, ',\n '어머님,': '어머님, ',\n '그리고 당신은 멀리 북간도에 계십니다.': '그리고 당신은 멀리 북간도에 게십니다.',\n '나는 무엇인지 그리워': '나는 무엇인지 그러워',\n '이 많은 별빛이 내린 언덕 위에': '이많은 별빛이 나린 언덕우에',\n '내 이름자를 써 보고': '내 일홈자를 써보고, ',\n '흙으로 덮어 버리었습니다.': '흙으로 덥허 버리엿습니다.',\n '따는 밤을 새워 우는 벌레는': '따는 밤을 새워 우는 버레는',\n '부끄러운 이름을 슬퍼하는 까닭입니다.': '부끄러운 일홈을 슬퍼하는 까닭입니다.',\n '그러나 겨울이 지나고 나의 별에도 봄이 오면': '그러나 겨을이 지나고 나의별에도 봄이 오면',\n '무덤 위에 파란 잔디가 피어나듯이': '무덤우에 파란 잔디가 피여나듯이',\n '내 이름자 묻힌 언덕 위에도': '내일홈자 묻힌 언덕우에도',\n '자랑처럼 풀이 무성할 거외다.': '자랑처럼 풀이 무성 할게외다.'}"
     },
     "execution_count": 55,
     "metadata": {},
     "output_type": "execute_result"
    }
   ],
   "source": [
    "비교사전"
   ],
   "metadata": {
    "collapsed": false,
    "ExecuteTime": {
     "end_time": "2023-07-12T02:12:28.120275600Z",
     "start_time": "2023-07-12T02:12:28.089003500Z"
    }
   }
  },
  {
   "cell_type": "code",
   "execution_count": 56,
   "outputs": [],
   "source": [
    "imsi_dict = {1: \"a\",\n",
    "             2: \"b\",\n",
    "             3: \"c\"}"
   ],
   "metadata": {
    "collapsed": false,
    "ExecuteTime": {
     "end_time": "2023-07-12T02:12:51.534807500Z",
     "start_time": "2023-07-12T02:12:51.519181Z"
    }
   }
  },
  {
   "cell_type": "code",
   "execution_count": 61,
   "outputs": [
    {
     "ename": "TypeError",
     "evalue": "'dict_values' object is not subscriptable",
     "output_type": "error",
     "traceback": [
      "\u001B[1;31m---------------------------------------------------------------------------\u001B[0m",
      "\u001B[1;31mTypeError\u001B[0m                                 Traceback (most recent call last)",
      "Cell \u001B[1;32mIn[61], line 1\u001B[0m\n\u001B[1;32m----> 1\u001B[0m \u001B[43mimsi_dict\u001B[49m\u001B[38;5;241;43m.\u001B[39;49m\u001B[43mvalues\u001B[49m\u001B[43m(\u001B[49m\u001B[43m)\u001B[49m\u001B[43m[\u001B[49m\u001B[38;5;241;43m0\u001B[39;49m\u001B[43m]\u001B[49m\n",
      "\u001B[1;31mTypeError\u001B[0m: 'dict_values' object is not subscriptable"
     ]
    }
   ],
   "source": [
    "list(imsi_dict.values())"
   ],
   "metadata": {
    "collapsed": false,
    "ExecuteTime": {
     "end_time": "2023-07-12T02:13:53.376677800Z",
     "start_time": "2023-07-12T02:13:53.356883300Z"
    }
   }
  },
  {
   "cell_type": "code",
   "execution_count": 63,
   "outputs": [
    {
     "data": {
      "text/plain": "'a\\nb\\nc'"
     },
     "execution_count": 63,
     "metadata": {},
     "output_type": "execute_result"
    }
   ],
   "source": [
    "\"\\n\".join(list(imsi_dict.values()))"
   ],
   "metadata": {
    "collapsed": false,
    "ExecuteTime": {
     "end_time": "2023-07-12T02:14:19.683214Z",
     "start_time": "2023-07-12T02:14:19.660055900Z"
    }
   }
  },
  {
   "cell_type": "code",
   "execution_count": 67,
   "outputs": [],
   "source": [
    "a = [\"a\", \"b\", \"c\", \"d\", \"e\"]"
   ],
   "metadata": {
    "collapsed": false,
    "ExecuteTime": {
     "end_time": "2023-07-12T02:22:40.214006900Z",
     "start_time": "2023-07-12T02:22:40.203236500Z"
    }
   }
  },
  {
   "cell_type": "code",
   "execution_count": 68,
   "outputs": [
    {
     "data": {
      "text/plain": "2"
     },
     "execution_count": 68,
     "metadata": {},
     "output_type": "execute_result"
    }
   ],
   "source": [
    "a.index(\"c\")"
   ],
   "metadata": {
    "collapsed": false,
    "ExecuteTime": {
     "end_time": "2023-07-12T02:22:51.183670200Z",
     "start_time": "2023-07-12T02:22:51.175729800Z"
    }
   }
  },
  {
   "cell_type": "code",
   "execution_count": 69,
   "outputs": [],
   "source": [
    "a = [99, 100, 68, 72, 50]"
   ],
   "metadata": {
    "collapsed": false,
    "ExecuteTime": {
     "end_time": "2023-07-12T02:23:06.557503700Z",
     "start_time": "2023-07-12T02:23:06.541872700Z"
    }
   }
  },
  {
   "cell_type": "code",
   "execution_count": 72,
   "outputs": [
    {
     "data": {
      "text/plain": "1"
     },
     "execution_count": 72,
     "metadata": {},
     "output_type": "execute_result"
    }
   ],
   "source": [
    "a.index(max(a))"
   ],
   "metadata": {
    "collapsed": false,
    "ExecuteTime": {
     "end_time": "2023-07-12T02:24:39.544840300Z",
     "start_time": "2023-07-12T02:24:39.529391600Z"
    }
   }
  }
 ],
 "metadata": {
  "kernelspec": {
   "display_name": "Python 3",
   "language": "python",
   "name": "python3"
  },
  "language_info": {
   "codemirror_mode": {
    "name": "ipython",
    "version": 2
   },
   "file_extension": ".py",
   "mimetype": "text/x-python",
   "name": "python",
   "nbconvert_exporter": "python",
   "pygments_lexer": "ipython2",
   "version": "2.7.6"
  }
 },
 "nbformat": 4,
 "nbformat_minor": 0
}
