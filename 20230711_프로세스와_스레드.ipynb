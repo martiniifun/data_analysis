{
 "cells": [
  {
   "cell_type": "markdown",
   "source": [
    "# 프로세스란?\n",
    "\n",
    "- 운영체제로부터 할당받는 자원 단위(실행중인 프로그램)\n",
    "- CPU동작 시간, 주소공간(모두 독립적)\n",
    "- 코드 영역, 데이터 영역, 스택 영역, 힙 영역 모두 독립적.\n",
    "- 최소 1개의 메인 스레드 보유\n",
    "- 파이프, 파일, 소켓 등을 사용해서 프로세스간 통신 가능(비용Context switching이 큼)\n",
    "\n",
    "# 스레드란?\n",
    "\n",
    "- 프로세스 내의 실행 흐름 단위(게임하면서 음성채팅도 하는 등)\n",
    "- 프로세스의 자원을 사용\n",
    "- Stack만 별도로 사용하고 나머지(Code, Data, Heap)는 공유함\n",
    "- 메모리(변수)를 공유함\n",
    "- 한 스레드의 결과가 다른 스레드에 영향을 끼침\n",
    "- 동기화 문제는 정말 주의해야 함\n",
    "\n",
    "# 멀티스레드?\n",
    "\n",
    "- 한 개의 단일 어플리케이션(응용프로그램) - 여러 스레드로 구성 후 작업 처리\n",
    "- 시스템 자원 소모 감소(효율성), 처리량 증가(비용 감소)\n",
    "- 통신 부담 감소, 디버깅 어려움, 단일 프로세스에는 효과 미약.\n",
    "- 자원 공유 문제(교착 상태)\n",
    "- 프로세스에 영향을 줌.\n",
    "\n",
    "# 멀티프로세스\n",
    "\n",
    "- 한 개의 단일 어플리케이션(응용프로그램) - 여러 프로세스로 구성 후 작업 처리\n",
    "- 한 개의 프로세스 문제 발생은 확산 없음(프로세스 kill)\n",
    "- 캐시체인지, 비용 매우 높음(오버헤드), 복잡한 통신 방식 사용\n",
    "\n",
    "구글에 \"thread vs process\" 검색해볼 것\n"
   ],
   "metadata": {
    "collapsed": false
   }
  },
  {
   "cell_type": "markdown",
   "source": [
    "\n",
    "파이썬이 GIL(Global Interpreter Lock)을 쓰는 이유?\n",
    "# 파이썬의 GIL\n",
    "\n",
    "파이썬은 싱글스레드일 때 가장 빠르더라.\n",
    "\n",
    "멀티스레드를 사용하더라도, 하나의 스레드만 사용할 수 있음.\n",
    "\n",
    "앞으로도 GIL은 없애지 않을 것이다.\n",
    "\n",
    "멀티프로세스 사용 가능(행렬, 벡터 계산 등. GIL이 제약이 되지 않는다.)\n",
    "\n",
    "병렬 처리는 Multiprocessing을 쓰거나, asyncio 등 선택지가 다양하다.\n",
    "\n",
    "thread의 동시성 완벽 처리를 위해? -> Jython, Ironpython, Stackless python 등의 언어도 있다.\n",
    "\n",
    "\"고성능 파이썬\" 등의 책에서도 GIL에 대해 상세히 설명함."
   ],
   "metadata": {
    "collapsed": false
   }
  },
  {
   "cell_type": "code",
   "execution_count": null,
   "outputs": [],
   "source": [
    "import logging\n",
    "import threading\n",
    "import time\n",
    "\n",
    "\n",
    "# 스레드 실행 함수\n",
    "def thread_func(name):\n",
    "    logging.info(\"Sub-Thread: before creating thread\")\n",
    "\n",
    "\n",
    "\n",
    "# 메인 영역\n",
    "if __name__ == '__main__':\n",
    "    # Logging Format 설정\n",
    "    format_ = \"%(asctime)s: %(message)s\"\n",
    "    logging.basicConfig(format=format_, level=logging.INFO, datefmt=\"%H:%M:%S\")\n",
    "    logging.info(\"Main-Thread: before creating thread\")\n",
    "\n",
    "    # 함수 인자 확인\n",
    "    x = threading.Thread(target=thread_func, args=(\"First\", ))\n"
   ],
   "metadata": {
    "collapsed": false
   }
  }
 ],
 "metadata": {
  "kernelspec": {
   "display_name": "Python 3",
   "language": "python",
   "name": "python3"
  },
  "language_info": {
   "codemirror_mode": {
    "name": "ipython",
    "version": 2
   },
   "file_extension": ".py",
   "mimetype": "text/x-python",
   "name": "python",
   "nbconvert_exporter": "python",
   "pygments_lexer": "ipython2",
   "version": "2.7.6"
  }
 },
 "nbformat": 4,
 "nbformat_minor": 0
}
