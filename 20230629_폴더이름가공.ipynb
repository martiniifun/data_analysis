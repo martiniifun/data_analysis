{
 "cells": [
  {
   "cell_type": "markdown",
   "source": [
    "# 폴더 이름 가공하기(os 모듈)\n",
    "\n",
    "파이썬의 os모듈은 비교적 간편한 문법으로\n",
    "\n",
    "운영체제 레벨에서의 다양한 명령들을\n",
    "\n",
    "사용할 수 있습니다.\n",
    "\n",
    "이번 시간에는 os 모듈의 listdir, rename과\n",
    "\n",
    "파이썬 기본문법(str.split, str.replace, f-string, for문)을 활용하여\n",
    "\n",
    "폴더 이름을 일괄 변경하는 코드를 작성해보겠습니다.\n",
    "\n",
    "먼저 os 모듈을 임포트해줍니다."
   ],
   "metadata": {
    "collapsed": false
   }
  },
  {
   "cell_type": "code",
   "execution_count": 5,
   "metadata": {
    "collapsed": true,
    "ExecuteTime": {
     "end_time": "2023-06-29T04:50:42.651804600Z",
     "start_time": "2023-06-29T04:50:42.637742700Z"
    }
   },
   "outputs": [],
   "source": [
    "import os"
   ]
  },
  {
   "cell_type": "markdown",
   "source": [
    "지난 시간까지 작성했던 코드들은\n",
    "\n",
    "현재 작업중인 폴더(working directory)에 대한 개념이\n",
    "\n",
    "필요없는 프로그램들이었습니다.\n",
    "\n",
    "이번에는 특정 위치의 폴더목록 및 파일목록을 다뤄야 하기 때문에\n",
    "\n",
    "os.getcwd()를 사용하여 현재 콘솔이 열려 있는 폴더를 확인해야 합니다."
   ],
   "metadata": {
    "collapsed": false
   }
  },
  {
   "cell_type": "code",
   "execution_count": 6,
   "outputs": [
    {
     "data": {
      "text/plain": "'C:\\\\Users\\\\HKIT\\\\PycharmProjects\\\\data_analysis'"
     },
     "execution_count": 6,
     "metadata": {},
     "output_type": "execute_result"
    }
   ],
   "source": [
    "os.getcwd()"
   ],
   "metadata": {
    "collapsed": false,
    "ExecuteTime": {
     "end_time": "2023-06-29T04:52:37.508590300Z",
     "start_time": "2023-06-29T04:52:37.502336800Z"
    }
   }
  },
  {
   "cell_type": "markdown",
   "source": [
    "우리 프로젝트 폴더를 가리키고 있네요.\n",
    "\n",
    "하위에 폴더를 하나 생성해봅시다.\n",
    "\n",
    "만들 폴더 이름은 \"os_tutorial\"로 하겠습니다.\n",
    "\n",
    "사용할 함수(메서드) 이름은 mkdir입니다. (MaKeDIRectory의 약자)"
   ],
   "metadata": {
    "collapsed": false
   }
  },
  {
   "cell_type": "code",
   "execution_count": 7,
   "outputs": [],
   "source": [
    "os.mkdir(\"os_tutorial\")"
   ],
   "metadata": {
    "collapsed": false,
    "ExecuteTime": {
     "end_time": "2023-06-29T04:54:27.208189300Z",
     "start_time": "2023-06-29T04:54:27.208189300Z"
    }
   }
  },
  {
   "cell_type": "markdown",
   "source": [
    "이제 탐색기를 통해 확인해보면\n",
    "\n",
    "![](https://i.ibb.co/DQkRqBF/2023-06-29-135532.png)\n",
    "\n",
    "하위에 os_tutorial이라는 폴더가 생성되었습니다.\n",
    "\n",
    "이번에는 \"os_tutorial\" 폴더로 들어가봅시다.\n",
    "\n",
    "폴더 이동 메서드는 chdir입니다. (CHangeDIRectory의 약자)"
   ],
   "metadata": {
    "collapsed": false
   }
  },
  {
   "cell_type": "code",
   "execution_count": 8,
   "outputs": [
    {
     "data": {
      "text/plain": "'C:\\\\Users\\\\HKIT\\\\PycharmProjects\\\\data_analysis\\\\os_tutorial'"
     },
     "execution_count": 8,
     "metadata": {},
     "output_type": "execute_result"
    }
   ],
   "source": [
    "os.chdir(\"os_tutorial\")\n",
    "os.getcwd()"
   ],
   "metadata": {
    "collapsed": false,
    "ExecuteTime": {
     "end_time": "2023-06-29T04:57:28.178888Z",
     "start_time": "2023-06-29T04:57:28.162727300Z"
    }
   }
  },
  {
   "cell_type": "markdown",
   "source": [
    "cwd가 os_tutorial로 바뀌었네요.\n",
    "\n",
    "이제 학습에 사용할 임시폴더를 100개 정도 만들어보겠습니다.\n",
    "\n",
    "\"새 폴더 (1)\", \"새 폴더 (2)\", \"새 폴더 (3)\" ... \"새 폴더 (100)\" 까지\n",
    "\n",
    "비슷한 이름의 폴더 100개를 만들어보겠습니다.\n",
    "\n",
    "폴더를 만드는 명령어는 os.mkdir(만들_폴더명) 입니다."
   ],
   "metadata": {
    "collapsed": false
   }
  },
  {
   "cell_type": "code",
   "execution_count": 9,
   "outputs": [],
   "source": [
    "for i in range(1, 101):\n",
    "    os.mkdir(f\"새 폴더 ({i})\")"
   ],
   "metadata": {
    "collapsed": false,
    "ExecuteTime": {
     "end_time": "2023-06-29T05:02:13.858407900Z",
     "start_time": "2023-06-29T05:02:13.817741900Z"
    }
   }
  },
  {
   "cell_type": "markdown",
   "source": [
    "탐색기에서 확인해보면\n",
    "\n",
    "![](https://i.ibb.co/P6RyF1w/2023-06-29-140310.png)\n",
    "\n",
    "의도한 대로 폴더 100개가 생성되었습니다.\n",
    "\n",
    "이제 본격적으로 폴더 이름을 일괄 변경해보겠습니다.\n",
    "\n",
    "그러기 위해서는 먼저 현재 폴더의 목록을 가져와야 합니다.\n",
    "\n",
    "현재 폴더의 파일과 폴더의 목록을 리스트로 가져오는 명령어는\n",
    "\n",
    "os.listdir() 입니다."
   ],
   "metadata": {
    "collapsed": false
   }
  },
  {
   "cell_type": "code",
   "execution_count": 10,
   "outputs": [
    {
     "data": {
      "text/plain": "['새 폴더 (1)',\n '새 폴더 (10)',\n '새 폴더 (100)',\n '새 폴더 (11)',\n '새 폴더 (12)',\n '새 폴더 (13)',\n '새 폴더 (14)',\n '새 폴더 (15)',\n '새 폴더 (16)',\n '새 폴더 (17)',\n '새 폴더 (18)',\n '새 폴더 (19)',\n '새 폴더 (2)',\n '새 폴더 (20)',\n '새 폴더 (21)',\n '새 폴더 (22)',\n '새 폴더 (23)',\n '새 폴더 (24)',\n '새 폴더 (25)',\n '새 폴더 (26)',\n '새 폴더 (27)',\n '새 폴더 (28)',\n '새 폴더 (29)',\n '새 폴더 (3)',\n '새 폴더 (30)',\n '새 폴더 (31)',\n '새 폴더 (32)',\n '새 폴더 (33)',\n '새 폴더 (34)',\n '새 폴더 (35)',\n '새 폴더 (36)',\n '새 폴더 (37)',\n '새 폴더 (38)',\n '새 폴더 (39)',\n '새 폴더 (4)',\n '새 폴더 (40)',\n '새 폴더 (41)',\n '새 폴더 (42)',\n '새 폴더 (43)',\n '새 폴더 (44)',\n '새 폴더 (45)',\n '새 폴더 (46)',\n '새 폴더 (47)',\n '새 폴더 (48)',\n '새 폴더 (49)',\n '새 폴더 (5)',\n '새 폴더 (50)',\n '새 폴더 (51)',\n '새 폴더 (52)',\n '새 폴더 (53)',\n '새 폴더 (54)',\n '새 폴더 (55)',\n '새 폴더 (56)',\n '새 폴더 (57)',\n '새 폴더 (58)',\n '새 폴더 (59)',\n '새 폴더 (6)',\n '새 폴더 (60)',\n '새 폴더 (61)',\n '새 폴더 (62)',\n '새 폴더 (63)',\n '새 폴더 (64)',\n '새 폴더 (65)',\n '새 폴더 (66)',\n '새 폴더 (67)',\n '새 폴더 (68)',\n '새 폴더 (69)',\n '새 폴더 (7)',\n '새 폴더 (70)',\n '새 폴더 (71)',\n '새 폴더 (72)',\n '새 폴더 (73)',\n '새 폴더 (74)',\n '새 폴더 (75)',\n '새 폴더 (76)',\n '새 폴더 (77)',\n '새 폴더 (78)',\n '새 폴더 (79)',\n '새 폴더 (8)',\n '새 폴더 (80)',\n '새 폴더 (81)',\n '새 폴더 (82)',\n '새 폴더 (83)',\n '새 폴더 (84)',\n '새 폴더 (85)',\n '새 폴더 (86)',\n '새 폴더 (87)',\n '새 폴더 (88)',\n '새 폴더 (89)',\n '새 폴더 (9)',\n '새 폴더 (90)',\n '새 폴더 (91)',\n '새 폴더 (92)',\n '새 폴더 (93)',\n '새 폴더 (94)',\n '새 폴더 (95)',\n '새 폴더 (96)',\n '새 폴더 (97)',\n '새 폴더 (98)',\n '새 폴더 (99)']"
     },
     "execution_count": 10,
     "metadata": {},
     "output_type": "execute_result"
    }
   ],
   "source": [
    "os.listdir()"
   ],
   "metadata": {
    "collapsed": false,
    "ExecuteTime": {
     "end_time": "2023-06-29T05:06:49.356568200Z",
     "start_time": "2023-06-29T05:06:49.352149800Z"
    }
   }
  },
  {
   "cell_type": "markdown",
   "source": [
    "문자열 서식의 폴더이름을 리스트에 담아서 돌려주네요.\n",
    "\n",
    "그럼 이제 folder_list라는 변수에 위 값을 저장해봅시다."
   ],
   "metadata": {
    "collapsed": false
   }
  },
  {
   "cell_type": "code",
   "execution_count": 11,
   "outputs": [],
   "source": [
    "folder_list = os.listdir()"
   ],
   "metadata": {
    "collapsed": false,
    "ExecuteTime": {
     "end_time": "2023-06-29T05:08:45.704991800Z",
     "start_time": "2023-06-29T05:08:45.704991800Z"
    }
   }
  },
  {
   "cell_type": "markdown",
   "source": [
    "아주 간단한 변경작업부터 시작해볼까요?\n",
    "\n",
    "저는 현재 폴더 목록에서 스페이스를 모두 제거하고 싶습니다.\n",
    "\n",
    "**\"새 폴더 (99)\"**라는 폴더 이름을 **\"새폴더(99)\"**로 말이죠.\n",
    "\n",
    "폴더 이름을 바꾸는 명령어는 os.rename(src, dst)입니다. [src는 source, dst는 destination의 약자]\n",
    "\n",
    "for문으로 일괄처리해보겠습니다."
   ],
   "metadata": {
    "collapsed": false
   }
  },
  {
   "cell_type": "code",
   "execution_count": 12,
   "outputs": [
    {
     "data": {
      "text/plain": "['새폴더(1)', '새폴더(10)', '새폴더(100)', '새폴더(11)', '새폴더(12)']"
     },
     "execution_count": 12,
     "metadata": {},
     "output_type": "execute_result"
    }
   ],
   "source": [
    "for folder in folder_list:  # folder_list의 모든 폴더목록을 하나씩 가져다가\n",
    "    os.rename(folder, folder.replace(\" \", \"\"))  # 스페이스는 빈 문자열로 치환\n",
    "os.listdir()[:5]"
   ],
   "metadata": {
    "collapsed": false,
    "ExecuteTime": {
     "end_time": "2023-06-29T05:11:55.511336900Z",
     "start_time": "2023-06-29T05:11:55.430857700Z"
    }
   }
  },
  {
   "cell_type": "markdown",
   "source": [
    "모든 폴더이름의 스페이스가 모두 제거되었네요.\n",
    "\n",
    "탐색기를 통해 확인해볼까요?\n",
    "\n",
    "![](https://i.ibb.co/GVHvttM/2023-06-29-141246.png)\n",
    "\n",
    "잘 변경되었습니다.\n",
    "\n",
    "# 이번엔 다른 방식으로 변경해볼까요?\n",
    "\n",
    "\"새폴더(1)\"을 \"새폴더_1\"로 변경해보고 싶습니다.\n",
    "\n",
    "split 메서드를 사용하면 될 것 같은데요.\n",
    "\n",
    "다소 복잡해 보이더라도 아래 설명과 코드를 대조해 읽어보시기 바랍니다.\n",
    "\n",
    "\"새폴더(1)\"의 마지막 글자 \")\"는 제외하고, \"(\"를 기준으로 split해줘.\n",
    "\n",
    "```\n",
    "\"새폴더(1)\"[:-1].split(\"(\")\n",
    "```\n",
    "\n",
    "\n"
   ],
   "metadata": {
    "collapsed": false
   }
  },
  {
   "cell_type": "code",
   "execution_count": 16,
   "outputs": [
    {
     "data": {
      "text/plain": "'777'"
     },
     "execution_count": 16,
     "metadata": {},
     "output_type": "execute_result"
    }
   ],
   "source": [
    "\"새폴더(777)\"[:-1].split(\"(\")[1]"
   ],
   "metadata": {
    "collapsed": false,
    "ExecuteTime": {
     "end_time": "2023-06-29T05:25:11.672389700Z",
     "start_time": "2023-06-29T05:25:11.667330600Z"
    }
   }
  },
  {
   "cell_type": "markdown",
   "source": [
    "위 코드를 이용하면 숫자 부분만 추출할 수 있겠네요^^\n",
    "\n",
    "그럼 \"새폴더_\" 뒤에 위의 코드를 더하면\n",
    "\n",
    "우리가 원하는 \"새폴더_777\"이라는 폴더로 변경이 가능하겠군요?\n",
    "\n",
    "for문으로 돌려봅시다."
   ],
   "metadata": {
    "collapsed": false
   }
  },
  {
   "cell_type": "code",
   "execution_count": 17,
   "outputs": [],
   "source": [
    "folder_list = os.listdir()  # 폴더 이름이 한 차례 변경되었으니 재실행해줘야 함.\n",
    "for folder in folder_list:\n",
    "    os.rename(folder, f\"새폴더_{folder[:-1].split('(')[1]}\")"
   ],
   "metadata": {
    "collapsed": false,
    "ExecuteTime": {
     "end_time": "2023-06-29T05:28:42.692392600Z",
     "start_time": "2023-06-29T05:28:42.467936200Z"
    }
   }
  },
  {
   "cell_type": "markdown",
   "source": [
    "폴더 이름이 \"새폴더_##\"로 바뀐 것을 확인할 수 있습니다.\n",
    "\n",
    "![](https://i.ibb.co/2sCV9Ns/2023-06-29-142921.png)\n",
    "\n",
    "# 한 가지 아쉬운 점이 있다면..\n",
    "\n",
    "폴더나 파일 이름에 이런 방식으로 번호를 붙이면\n",
    "\n",
    "정렬할 때 꼬이는 경우가 발생합니다.\n",
    "\n",
    "문자열 내부의 여러자리 숫자를 인식하지 못해서\n",
    "\n",
    "아래처럼 정렬이 되어버리는 거죠.\n",
    "\n",
    "![](https://i.ibb.co/sHxgRzP/2023-06-29-143506.png)\n",
    "\n",
    "문제가 발생할 여지가 있습니다.\n",
    "\n",
    "그래서 이번엔 (마지막으로)\n",
    "\n",
    "\"새폴더_1\"을 \"새폴더_0001\"로 변경해보고 마치려고 합니다.\n",
    "\n",
    "\"새폴더_777\"은 \"새폴더_0777\"이 되겠죠?\n",
    "\n",
    "이렇게, 특정 자릿수를 정해놓고 빈 앞자리를 0으로 채우는 메서드는\n",
    "\n",
    "문자열.zfill(원하는_자릿수)입니다.\n",
    "\n",
    "예제를 한 번 보여드리겠습니다."
   ],
   "metadata": {
    "collapsed": false
   }
  },
  {
   "cell_type": "code",
   "execution_count": 20,
   "outputs": [
    {
     "data": {
      "text/plain": "'0033'"
     },
     "execution_count": 20,
     "metadata": {},
     "output_type": "execute_result"
    }
   ],
   "source": [
    "\"33\".zfill(4)"
   ],
   "metadata": {
    "collapsed": false,
    "ExecuteTime": {
     "end_time": "2023-06-29T05:37:17.925955100Z",
     "start_time": "2023-06-29T05:37:17.910995800Z"
    }
   }
  },
  {
   "cell_type": "markdown",
   "source": [
    "이런 식으로 채우게 된다는 거죠.\n",
    "\n",
    "그럼 우리 폴더에 전부 zfill(4)를 적용해보겠습니다."
   ],
   "metadata": {
    "collapsed": false
   }
  },
  {
   "cell_type": "code",
   "execution_count": 21,
   "outputs": [],
   "source": [
    "folder_list = os.listdir()\n",
    "for folder in folder_list:\n",
    "    number = folder[4:]  # \"새폴더_52\"에서 4번인덱스의 글자부터 -> 52\n",
    "    os.rename(folder, f\"새폴더_{number.zfill(4)}\")"
   ],
   "metadata": {
    "collapsed": false,
    "ExecuteTime": {
     "end_time": "2023-06-29T05:41:18.298564500Z",
     "start_time": "2023-06-29T05:41:18.225495300Z"
    }
   }
  },
  {
   "cell_type": "markdown",
   "source": [
    "우리가 의도한 대로 폴더 수정이 완료되었습니다.\n",
    "\n",
    "![](https://i.ibb.co/7V0tysQ/2023-06-29-144706.png)\n",
    "\n",
    "아직 아쉬운 점이 조금 있기는 합니다.\n",
    "\n",
    "os.listdir()는 폴더나 파일, 숨겨진 폴더나 아랑곳하지 않고 전부 끄집어옵니다.\n",
    "\n",
    "만약 우리가 일괄처리하고자 하는 폴더 안에 특정 파일이 들어있었다면\n",
    "\n",
    "해당 파일 이름도 바뀌어버리는 일이 발생할 수 있습니다.\n",
    "\n",
    "\"폴더에 한해서\" 변경하고 싶을 때에는 아래처럼 처리할 수도 있습니다."
   ],
   "metadata": {
    "collapsed": false
   }
  },
  {
   "cell_type": "code",
   "execution_count": 23,
   "outputs": [],
   "source": [
    "folder_list = os.listdir()\n",
    "for folder in folder_list:\n",
    "    if os.path.isdir(folder):  # folder가 파일이 아닌 폴더인 경우에만..\n",
    "        number = str(int(folder[4:]))  # \"새폴더_52\"에서 4번인덱스의 글자부터 -> 52\n",
    "        os.rename(folder, f\"새폴더_{number.zfill(4)}\")"
   ],
   "metadata": {
    "collapsed": false,
    "ExecuteTime": {
     "end_time": "2023-06-29T05:58:45.305103800Z",
     "start_time": "2023-06-29T05:58:45.246178400Z"
    }
   }
  },
  {
   "cell_type": "markdown",
   "source": [
    "이밖에도 glob이나 shutil, 특히 re(정규표현식)를 활용하면\n",
    "\n",
    "더욱 풍부한 문법으로\n",
    "\n",
    "폴더, 파일의 이름을 변경하거나 필터링할 수 있습니다.\n",
    "\n",
    "끝."
   ],
   "metadata": {
    "collapsed": false
   }
  },
  {
   "cell_type": "code",
   "execution_count": 27,
   "outputs": [],
   "source": [
    "import shutil\n",
    "\n",
    "os.chdir(\"..\")  # 상위 폴더로 이동\n",
    "shutil.rmtree(\"os_tutorial\")  # 비어있지 않은 os_tutorial 폴더 일괄삭제"
   ],
   "metadata": {
    "collapsed": false,
    "ExecuteTime": {
     "end_time": "2023-06-29T06:04:02.369174100Z",
     "start_time": "2023-06-29T06:04:02.334412500Z"
    }
   }
  }
 ],
 "metadata": {
  "kernelspec": {
   "display_name": "Python 3",
   "language": "python",
   "name": "python3"
  },
  "language_info": {
   "codemirror_mode": {
    "name": "ipython",
    "version": 2
   },
   "file_extension": ".py",
   "mimetype": "text/x-python",
   "name": "python",
   "nbconvert_exporter": "python",
   "pygments_lexer": "ipython2",
   "version": "2.7.6"
  }
 },
 "nbformat": 4,
 "nbformat_minor": 0
}
