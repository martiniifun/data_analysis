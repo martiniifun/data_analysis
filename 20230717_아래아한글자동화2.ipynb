{
 "cells": [
  {
   "cell_type": "code",
   "execution_count": 1,
   "metadata": {
    "collapsed": true,
    "ExecuteTime": {
     "end_time": "2023-07-17T00:21:39.448355Z",
     "start_time": "2023-07-17T00:21:39.417851100Z"
    }
   },
   "outputs": [],
   "source": [
    "# 아래아한글 불러오기 위한 모듈 임포트\n",
    "\n",
    "import win32com.client as win32"
   ]
  },
  {
   "cell_type": "code",
   "execution_count": 3,
   "outputs": [],
   "source": [
    "# 아래아한글 실행\n",
    "hwp = win32.gencache.EnsureDispatch(\"hwpframe.hwpobject\")"
   ],
   "metadata": {
    "collapsed": false,
    "ExecuteTime": {
     "end_time": "2023-07-17T00:23:03.229865300Z",
     "start_time": "2023-07-17T00:22:59.481988400Z"
    }
   }
  },
  {
   "cell_type": "code",
   "execution_count": 4,
   "outputs": [],
   "source": [
    "# 백그라운드 해제\n",
    "hwp.XHwpWindows.Item(0).Visible = True"
   ],
   "metadata": {
    "collapsed": false,
    "ExecuteTime": {
     "end_time": "2023-07-17T00:23:39.153020800Z",
     "start_time": "2023-07-17T00:23:38.858700800Z"
    }
   }
  },
  {
   "cell_type": "code",
   "execution_count": 34,
   "outputs": [],
   "source": [
    "def insert_text(string):\n",
    "    hwp.HAction.GetDefault(\"InsertText\", hwp.HParameterSet.HInsertText.HSet)\n",
    "    hwp.HParameterSet.HInsertText.Text = string\n",
    "    hwp.HAction.Execute(\"InsertText\", hwp.HParameterSet.HInsertText.HSet)"
   ],
   "metadata": {
    "collapsed": false,
    "ExecuteTime": {
     "end_time": "2023-07-17T01:35:57.218017200Z",
     "start_time": "2023-07-17T01:35:57.212094400Z"
    }
   }
  },
  {
   "cell_type": "code",
   "execution_count": 7,
   "outputs": [],
   "source": [
    "for _ in range(5):\n",
    "    insert_text(\"\\r\\n\")  # 엔터"
   ],
   "metadata": {
    "collapsed": false,
    "ExecuteTime": {
     "end_time": "2023-07-17T00:30:58.593141600Z",
     "start_time": "2023-07-17T00:30:58.510979700Z"
    }
   }
  },
  {
   "cell_type": "code",
   "execution_count": 8,
   "outputs": [],
   "source": [
    "insert_text(\"제 이름은 신명진입니다.\")\n",
    "hwp.Run(\"BreakPara\")"
   ],
   "metadata": {
    "collapsed": false,
    "ExecuteTime": {
     "end_time": "2023-07-17T00:31:58.465364900Z",
     "start_time": "2023-07-17T00:31:58.395209400Z"
    }
   }
  },
  {
   "cell_type": "code",
   "execution_count": 10,
   "outputs": [],
   "source": [
    "for i in range(2, 10):\n",
    "    for j in range(1, 10):\n",
    "        insert_text(f\"{i} X {j} = {i * j}\")\n",
    "        hwp.Run(\"BreakPara\")\n",
    "    hwp.Run(\"BreakPara\")  # 단 사이에 빈 줄 추가"
   ],
   "metadata": {
    "collapsed": false,
    "ExecuteTime": {
     "end_time": "2023-07-17T00:36:23.240937300Z",
     "start_time": "2023-07-17T00:36:21.239809300Z"
    }
   }
  },
  {
   "cell_type": "code",
   "execution_count": 11,
   "outputs": [],
   "source": [
    "hwp.Run(\"SelectAll\")  # 전체선택\n",
    "hwp.Run(\"Delete\")  # 삭제"
   ],
   "metadata": {
    "collapsed": false,
    "ExecuteTime": {
     "end_time": "2023-07-17T00:37:51.321870900Z",
     "start_time": "2023-07-17T00:37:50.863422700Z"
    }
   }
  },
  {
   "cell_type": "code",
   "execution_count": 13,
   "outputs": [
    {
     "data": {
      "text/plain": "True"
     },
     "execution_count": 13,
     "metadata": {},
     "output_type": "execute_result"
    }
   ],
   "source": [
    "# 우측 셀로 이동\n",
    "hwp.HAction.Run(\"TableRightCell\")"
   ],
   "metadata": {
    "collapsed": false,
    "ExecuteTime": {
     "end_time": "2023-07-17T00:41:47.136106500Z",
     "start_time": "2023-07-17T00:41:47.107412300Z"
    }
   }
  },
  {
   "cell_type": "code",
   "execution_count": 14,
   "outputs": [],
   "source": [
    "# 1~50까지 50개의 셀에 값 채우기(1. 2. 3. ... 50.)\n",
    "# <힌트>\n",
    "# for\n",
    "# insert_text()\n",
    "# TableRightCell"
   ],
   "metadata": {
    "collapsed": false,
    "ExecuteTime": {
     "end_time": "2023-07-17T00:44:19.341226400Z",
     "start_time": "2023-07-17T00:44:19.335214300Z"
    }
   }
  },
  {
   "cell_type": "code",
   "execution_count": 16,
   "outputs": [],
   "source": [
    "for i in range(1, 101):\n",
    "    insert_text(f\"{i}. \")\n",
    "    hwp.Run(\"TableRightCellAppend\")"
   ],
   "metadata": {
    "collapsed": false,
    "ExecuteTime": {
     "end_time": "2023-07-17T00:47:28.536857300Z",
     "start_time": "2023-07-17T00:47:26.159909100Z"
    }
   }
  },
  {
   "cell_type": "code",
   "execution_count": null,
   "outputs": [],
   "source": [
    "# 아래아한글 표 채우기\n",
    "\n",
    "# 1. 오늘의 날짜 가져오기 & n일 뒤의 날짜 가져오기\n",
    "import datetime as dt\n",
    "\n",
    "today = dt.date.today()\n",
    "today.strftime(\"%Y-%m-%d\")"
   ],
   "metadata": {
    "collapsed": false
   }
  },
  {
   "cell_type": "code",
   "execution_count": null,
   "outputs": [],
   "source": [
    "(today + dt.timedelta(days=1)).strftime(\"%Y-%m-%d\")"
   ],
   "metadata": {
    "collapsed": false
   }
  },
  {
   "cell_type": "code",
   "execution_count": null,
   "outputs": [],
   "source": [
    "# 2.해당 날짜의 요일 불러오기\n",
    "(today + dt.timedelta(days=1)).weekday()"
   ],
   "metadata": {
    "collapsed": false
   }
  },
  {
   "cell_type": "code",
   "execution_count": 38,
   "outputs": [],
   "source": [
    "# 아래 알고리즘에 가장 적절한 자료형은 무엇일까요?\n",
    "# 함수로 짜서 활용하세요.\n",
    "# 0:\"월\", 1:\"화\", 2:\"수\" ... 6:\"일\"\n",
    "\n",
    "# 1. 문자열 인덱스를 통해 요일 문자열로 바꾸기\n",
    "def week_str1(s):\n",
    "    return \"월화수목금토일\"[s]\n",
    "\n",
    "\n",
    "# 2. 사전 데이터타입을 이용\n",
    "def week_str2(s):\n",
    "    return {0: \"월\", 1: \"화\", 2: \"수\", 3: \"목\", 4: \"금\", 5: \"토\", 6: \"일\"}[s]"
   ],
   "metadata": {
    "collapsed": false,
    "ExecuteTime": {
     "end_time": "2023-07-17T01:40:24.783140700Z",
     "start_time": "2023-07-17T01:40:24.777440100Z"
    }
   }
  },
  {
   "cell_type": "code",
   "execution_count": null,
   "outputs": [],
   "source": [
    "# 3. 현재시각\n",
    "dt.datetime.now().strftime(\"%H:%M:%S\")"
   ],
   "metadata": {
    "collapsed": false
   }
  },
  {
   "cell_type": "code",
   "execution_count": null,
   "outputs": [],
   "source": [
    "# 4. 현재시각 + 2시간\n",
    "(dt.datetime.now() + dt.timedelta(hours=2)).strftime(\"%H:%M:%S\")"
   ],
   "metadata": {
    "collapsed": false
   }
  },
  {
   "cell_type": "code",
   "execution_count": 43,
   "outputs": [],
   "source": [
    "# 작성해봅시다.\n",
    "\n",
    "for i in range(30):\n",
    "    # 연월일 입력\n",
    "    insert_text(\n",
    "        (dt.date.today() + dt.timedelta(days=i)).strftime(\"%Y-%m-%d\")\n",
    "    )\n",
    "    hwp.Run(\"TableRightCellAppend\")\n",
    "\n",
    "    # 요일\n",
    "    insert_text(\n",
    "        week_str1(\n",
    "            (\n",
    "                    dt.datetime.now() + dt.timedelta(days=i)\n",
    "            ).weekday()\n",
    "        )\n",
    "    )\n",
    "    hwp.Run(\"TableRightCellAppend\")\n",
    "\n",
    "    # 시작시각\n",
    "    insert_text(\n",
    "        dt.datetime.now().strftime(\"%H:%M:%S\")\n",
    "    )\n",
    "    hwp.Run(\"TableRightCellAppend\")\n",
    "\n",
    "    # 종료시각\n",
    "    insert_text(\n",
    "        (dt.datetime.now() + dt.timedelta(hours=2)).strftime(\"%H:%M:%S\")\n",
    "    )\n",
    "    hwp.Run(\"TableRightCellAppend\")\n",
    "\n",
    "    # 비고(빈 칸)\n",
    "    if i != 29:\n",
    "        hwp.Run(\"TableRightCellAppend\")"
   ],
   "metadata": {
    "collapsed": false,
    "ExecuteTime": {
     "end_time": "2023-07-17T01:59:29.505274800Z",
     "start_time": "2023-07-17T01:59:26.805064700Z"
    }
   }
  },
  {
   "cell_type": "code",
   "execution_count": 46,
   "outputs": [],
   "source": [
    "a = dt.datetime.now() + \\\n",
    "    dt.timedelta(hours=2)"
   ],
   "metadata": {
    "collapsed": false,
    "ExecuteTime": {
     "end_time": "2023-07-17T02:02:02.114921Z",
     "start_time": "2023-07-17T02:02:02.110928Z"
    }
   }
  },
  {
   "cell_type": "code",
   "execution_count": null,
   "outputs": [],
   "source": [],
   "metadata": {
    "collapsed": false
   }
  }
 ],
 "metadata": {
  "kernelspec": {
   "display_name": "Python 3",
   "language": "python",
   "name": "python3"
  },
  "language_info": {
   "codemirror_mode": {
    "name": "ipython",
    "version": 2
   },
   "file_extension": ".py",
   "mimetype": "text/x-python",
   "name": "python",
   "nbconvert_exporter": "python",
   "pygments_lexer": "ipython2",
   "version": "2.7.6"
  }
 },
 "nbformat": 4,
 "nbformat_minor": 0
}
