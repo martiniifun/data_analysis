{
 "cells": [
  {
   "cell_type": "code",
   "execution_count": 41,
   "metadata": {
    "collapsed": true,
    "ExecuteTime": {
     "end_time": "2023-06-26T02:34:21.757242300Z",
     "start_time": "2023-06-26T02:34:21.757242300Z"
    }
   },
   "outputs": [],
   "source": [
    "# %pip install selenium chromedriver_autoinstaller"
   ]
  },
  {
   "cell_type": "code",
   "execution_count": 42,
   "outputs": [],
   "source": [
    "from selenium import webdriver\n",
    "import chromedriver_autoinstaller"
   ],
   "metadata": {
    "collapsed": false,
    "ExecuteTime": {
     "end_time": "2023-06-26T02:34:21.772595200Z",
     "start_time": "2023-06-26T02:34:21.757242300Z"
    }
   }
  },
  {
   "cell_type": "code",
   "execution_count": 43,
   "outputs": [],
   "source": [
    "chromedriver_autoinstaller.install()\n",
    "driver = webdriver.Chrome()"
   ],
   "metadata": {
    "collapsed": false,
    "ExecuteTime": {
     "end_time": "2023-06-26T02:34:23.703890200Z",
     "start_time": "2023-06-26T02:34:21.772595200Z"
    }
   }
  },
  {
   "cell_type": "code",
   "execution_count": 44,
   "outputs": [],
   "source": [
    "# url 접속: driver.get\n",
    "driver.get(\"https://burgerkingevent.com\")"
   ],
   "metadata": {
    "collapsed": false,
    "ExecuteTime": {
     "end_time": "2023-06-26T02:34:28.504336700Z",
     "start_time": "2023-06-26T02:34:23.704888200Z"
    }
   }
  },
  {
   "cell_type": "code",
   "execution_count": 45,
   "outputs": [],
   "source": [
    "from selenium.webdriver.common.by import By\n",
    "\n",
    "x_button = driver.find_element(By.CSS_SELECTOR, \"#modal > div.modal-inner > img.btn-close.close-top\")"
   ],
   "metadata": {
    "collapsed": false,
    "ExecuteTime": {
     "end_time": "2023-06-26T02:34:28.523097500Z",
     "start_time": "2023-06-26T02:34:28.506331200Z"
    }
   }
  },
  {
   "cell_type": "code",
   "execution_count": 46,
   "outputs": [],
   "source": [
    "x_button.click()"
   ],
   "metadata": {
    "collapsed": false,
    "ExecuteTime": {
     "end_time": "2023-06-26T02:34:28.578827200Z",
     "start_time": "2023-06-26T02:34:28.526089700Z"
    }
   }
  },
  {
   "cell_type": "code",
   "execution_count": 47,
   "outputs": [],
   "source": [
    "# 참여버튼 누르기\n",
    "driver.execute_script(\"go_play_page()\")"
   ],
   "metadata": {
    "collapsed": false,
    "ExecuteTime": {
     "end_time": "2023-06-26T02:34:28.610139700Z",
     "start_time": "2023-06-26T02:34:28.579824300Z"
    }
   }
  },
  {
   "cell_type": "code",
   "execution_count": 48,
   "outputs": [],
   "source": [
    "입력칸 = driver.find_element(By.CSS_SELECTOR, \"#input_typing\")"
   ],
   "metadata": {
    "collapsed": false,
    "ExecuteTime": {
     "end_time": "2023-06-26T02:34:30.728678900Z",
     "start_time": "2023-06-26T02:34:28.607148300Z"
    }
   }
  },
  {
   "cell_type": "code",
   "execution_count": 49,
   "outputs": [],
   "source": [
    "from time import sleep\n",
    "\n",
    "전체문자열 = \"콰트로 맥시멈 미트 포커스드 어메이징 얼티밋 그릴드 패티 오브 더 비기스트 포 슈퍼 미트 프릭\\n\"\n",
    "\n",
    "for i in 전체문자열:\n",
    "    sleep(0.05)\n",
    "    입력칸.send_keys(i)"
   ],
   "metadata": {
    "collapsed": false,
    "ExecuteTime": {
     "end_time": "2023-06-26T02:34:34.735954200Z",
     "start_time": "2023-06-26T02:34:30.729675300Z"
    }
   }
  },
  {
   "cell_type": "code",
   "execution_count": 49,
   "outputs": [],
   "source": [],
   "metadata": {
    "collapsed": false,
    "ExecuteTime": {
     "end_time": "2023-06-26T02:34:34.739800100Z",
     "start_time": "2023-06-26T02:34:34.737295700Z"
    }
   }
  }
 ],
 "metadata": {
  "kernelspec": {
   "display_name": "Python 3",
   "language": "python",
   "name": "python3"
  },
  "language_info": {
   "codemirror_mode": {
    "name": "ipython",
    "version": 2
   },
   "file_extension": ".py",
   "mimetype": "text/x-python",
   "name": "python",
   "nbconvert_exporter": "python",
   "pygments_lexer": "ipython2",
   "version": "2.7.6"
  }
 },
 "nbformat": 4,
 "nbformat_minor": 0
}
