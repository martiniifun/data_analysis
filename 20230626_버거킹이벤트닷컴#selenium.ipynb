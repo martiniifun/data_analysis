{
 "cells": [
  {
   "cell_type": "code",
   "execution_count": 41,
   "metadata": {
    "collapsed": true,
    "ExecuteTime": {
     "end_time": "2023-06-26T02:34:21.757242300Z",
     "start_time": "2023-06-26T02:34:21.757242300Z"
    }
   },
   "outputs": [],
   "source": [
    "# 크롬브라우저가 PC에 설치되어 있어야 하고,\n",
    "# 파이썬 환경 안에 selenium과 chromedriver_autoinstaller 모듈이 설치되어 있어야 합니다.\n",
    "# %pip install selenium chromedriver_autoinstaller"
   ]
  },
  {
   "cell_type": "code",
   "execution_count": 42,
   "outputs": [],
   "source": [
    "# 모듈 임포트\n",
    "\n",
    "from selenium import webdriver\n",
    "import chromedriver_autoinstaller"
   ],
   "metadata": {
    "collapsed": false,
    "ExecuteTime": {
     "end_time": "2023-06-26T02:34:21.772595200Z",
     "start_time": "2023-06-26T02:34:21.757242300Z"
    }
   }
  },
  {
   "cell_type": "code",
   "execution_count": 43,
   "outputs": [],
   "source": [
    "# 파이썬으로 조작 가능한 크롬브라우저(driver) 열기\n",
    "\n",
    "chromedriver_autoinstaller.install()\n",
    "driver = webdriver.Chrome()"
   ],
   "metadata": {
    "collapsed": false,
    "ExecuteTime": {
     "end_time": "2023-06-26T02:34:23.703890200Z",
     "start_time": "2023-06-26T02:34:21.772595200Z"
    }
   }
  },
  {
   "cell_type": "code",
   "execution_count": 44,
   "outputs": [],
   "source": [
    "# url 접속: driver.get 메서드 사용\n",
    "driver.get(\"https://burgerkingevent.com\")"
   ],
   "metadata": {
    "collapsed": false,
    "ExecuteTime": {
     "end_time": "2023-06-26T02:34:28.504336700Z",
     "start_time": "2023-06-26T02:34:23.704888200Z"
    }
   }
  },
  {
   "cell_type": "code",
   "execution_count": 45,
   "outputs": [],
   "source": [
    "from selenium.webdriver.common.by import By\n",
    "\n",
    "# 특정 엘리먼트를 선택할 때 브라우저 안에서 우클릭-\"검사\"로 태그를 찾아간 후 다시 우클릭-복사-selector 복사를 선택하여\n",
    "# 아래 find_element 메서드 뒤에 붙여넣기합니다.\n",
    "\n",
    "x_button = driver.find_element(By.CSS_SELECTOR, \"#modal > div.modal-inner > img.btn-close.close-top\")"
   ],
   "metadata": {
    "collapsed": false,
    "ExecuteTime": {
     "end_time": "2023-06-26T02:34:28.523097500Z",
     "start_time": "2023-06-26T02:34:28.506331200Z"
    }
   }
  },
  {
   "cell_type": "code",
   "execution_count": 46,
   "outputs": [],
   "source": [
    "x_button.click()  # 팝업닫기(X)버튼이 클릭되었습니다."
   ],
   "metadata": {
    "collapsed": false,
    "ExecuteTime": {
     "end_time": "2023-06-26T02:34:28.578827200Z",
     "start_time": "2023-06-26T02:34:28.526089700Z"
    }
   }
  },
  {
   "cell_type": "code",
   "execution_count": 47,
   "outputs": [],
   "source": [
    "# 참여하기버튼 누르기\n",
    "# 위와 동일한 방법으로 버튼을 클릭해도 되지만\n",
    "# 버튼 태그 내의 \"onclick=자바스크립트함수\" 속성이 있으므로\n",
    "# 해당 자바스크립트 함수를 직접 실행해버립시다.\n",
    "\n",
    "driver.execute_script(\"go_play_page()\")"
   ],
   "metadata": {
    "collapsed": false,
    "ExecuteTime": {
     "end_time": "2023-06-26T02:34:28.610139700Z",
     "start_time": "2023-06-26T02:34:28.579824300Z"
    }
   }
  },
  {
   "cell_type": "code",
   "execution_count": 48,
   "outputs": [],
   "source": [
    "# 타이핑 입력칸을 찾아서 동일하게 붙여넣습니다.\n",
    "\n",
    "입력칸 = driver.find_element(By.CSS_SELECTOR, \"#input_typing\")"
   ],
   "metadata": {
    "collapsed": false,
    "ExecuteTime": {
     "end_time": "2023-06-26T02:34:30.728678900Z",
     "start_time": "2023-06-26T02:34:28.607148300Z"
    }
   }
  },
  {
   "cell_type": "code",
   "execution_count": 49,
   "outputs": [],
   "source": [
    "# 적당히 쉬어주지 않으면 분당 1,000 ~ 1,400타 정도가 나와버리므로,\n",
    "# sleep 함수를 중간에 넣어 평균 700 ~ 800타 정도로 만들어봅시다.\n",
    "\n",
    "from time import sleep\n",
    "\n",
    "전체문자열 = \"콰트로 맥시멈 미트 포커스드 어메이징 얼티밋 그릴드 패티 오브 더 비기스트 포 슈퍼 미트 프릭\\n\"\n",
    "\n",
    "for i in 전체문자열:\n",
    "    sleep(0.05)\n",
    "    입력칸.send_keys(i)\n",
    "\n",
    "# 끝."
   ],
   "metadata": {
    "collapsed": false,
    "ExecuteTime": {
     "end_time": "2023-06-26T02:34:34.735954200Z",
     "start_time": "2023-06-26T02:34:30.729675300Z"
    }
   }
  }
 ],
 "metadata": {
  "kernelspec": {
   "display_name": "Python 3",
   "language": "python",
   "name": "python3"
  },
  "language_info": {
   "codemirror_mode": {
    "name": "ipython",
    "version": 2
   },
   "file_extension": ".py",
   "mimetype": "text/x-python",
   "name": "python",
   "nbconvert_exporter": "python",
   "pygments_lexer": "ipython2",
   "version": "2.7.6"
  }
 },
 "nbformat": 4,
 "nbformat_minor": 0
}
