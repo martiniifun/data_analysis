{
 "cells": [
  {
   "cell_type": "markdown",
   "source": [
    "# 문자열 치환 방법 ① : C 스타일 치환(%)"
   ],
   "metadata": {
    "collapsed": false
   }
  },
  {
   "cell_type": "code",
   "execution_count": null,
   "metadata": {
    "collapsed": true
   },
   "outputs": [],
   "source": [
    "a = \"안녕하세요? 제 이름은 %s입니다.\" % \"신명진\"\n",
    "print(a)"
   ]
  },
  {
   "cell_type": "markdown",
   "source": [
    "# 문자열 치환 방법② : .format() 메서드 사용"
   ],
   "metadata": {
    "collapsed": false
   }
  },
  {
   "cell_type": "code",
   "execution_count": 122,
   "outputs": [],
   "source": [
    "b = \"안녕하세요? 제 이름은 {}입니다. 제 나이는 {}입니다.\""
   ],
   "metadata": {
    "collapsed": false,
    "ExecuteTime": {
     "end_time": "2023-06-26T04:44:46.866283800Z",
     "start_time": "2023-06-26T04:44:46.865778200Z"
    }
   }
  },
  {
   "cell_type": "code",
   "execution_count": 123,
   "outputs": [
    {
     "data": {
      "text/plain": "'안녕하세요? 제 이름은 {}입니다. 제 나이는 {}입니다.'"
     },
     "execution_count": 123,
     "metadata": {},
     "output_type": "execute_result"
    }
   ],
   "source": [
    "b"
   ],
   "metadata": {
    "collapsed": false,
    "ExecuteTime": {
     "end_time": "2023-06-26T04:44:47.699212600Z",
     "start_time": "2023-06-26T04:44:47.692482600Z"
    }
   }
  },
  {
   "cell_type": "code",
   "execution_count": 125,
   "outputs": [
    {
     "name": "stdout",
     "output_type": "stream",
     "text": [
      "안녕하세요? 제 이름은 신명진입니다. 제 나이는 40입니다.\n"
     ]
    }
   ],
   "source": [
    "print(b.format(\"신명진\", 40))"
   ],
   "metadata": {
    "collapsed": false,
    "ExecuteTime": {
     "end_time": "2023-06-26T04:45:00.326612500Z",
     "start_time": "2023-06-26T04:45:00.323414200Z"
    }
   }
  },
  {
   "cell_type": "markdown",
   "source": [
    "# 문자열 치환 방법②-1 : format() 메서드에 키워드인자 적용"
   ],
   "metadata": {
    "collapsed": false
   }
  },
  {
   "cell_type": "code",
   "execution_count": 126,
   "outputs": [],
   "source": [
    "c = \"안녕하세요? 제 이름은 {name}이고, 저는 {age}세입니다.\""
   ],
   "metadata": {
    "collapsed": false,
    "ExecuteTime": {
     "end_time": "2023-06-26T04:45:38.718336900Z",
     "start_time": "2023-06-26T04:45:38.717830900Z"
    }
   }
  },
  {
   "cell_type": "code",
   "execution_count": 128,
   "outputs": [
    {
     "data": {
      "text/plain": "'안녕하세요? 제 이름은 신명진이고, 저는 40세입니다.'"
     },
     "execution_count": 128,
     "metadata": {},
     "output_type": "execute_result"
    }
   ],
   "source": [
    "c.format(age=40, name=\"신명진\")  # 순서 무관"
   ],
   "metadata": {
    "collapsed": false,
    "ExecuteTime": {
     "end_time": "2023-06-26T04:45:44.807713900Z",
     "start_time": "2023-06-26T04:45:44.775963100Z"
    }
   }
  },
  {
   "cell_type": "markdown",
   "source": [
    "# 문자열 치환 방법③ : f-string 기법(속도도 빠르고 많이 씀. 단, 파이썬 3.6 이상 버전에서 사용가능)"
   ],
   "metadata": {
    "collapsed": false
   }
  },
  {
   "cell_type": "code",
   "execution_count": 129,
   "outputs": [],
   "source": [
    "name = \"신명진\"\n",
    "age = 40\n",
    "\n",
    "d = f\"안녕하세요? 제 이름은 {name}이고, 저는 {age}세입니다.\""
   ],
   "metadata": {
    "collapsed": false,
    "ExecuteTime": {
     "end_time": "2023-06-26T04:46:42.434331400Z",
     "start_time": "2023-06-26T04:46:42.434331400Z"
    }
   }
  },
  {
   "cell_type": "code",
   "execution_count": 130,
   "outputs": [
    {
     "name": "stdout",
     "output_type": "stream",
     "text": [
      "안녕하세요? 제 이름은 신명진이고, 저는 40세입니다.\n"
     ]
    }
   ],
   "source": [
    "print(d)"
   ],
   "metadata": {
    "collapsed": false,
    "ExecuteTime": {
     "end_time": "2023-06-26T04:46:46.378059500Z",
     "start_time": "2023-06-26T04:46:46.377554300Z"
    }
   }
  },
  {
   "cell_type": "code",
   "execution_count": 131,
   "outputs": [
    {
     "name": "stdout",
     "output_type": "stream",
     "text": [
      "2023. 6. 26.\n"
     ]
    }
   ],
   "source": [
    "year = 2023\n",
    "month = 6\n",
    "day = 26\n",
    "\n",
    "date = f\"{year}. {month}. {day}.\"\n",
    "print(date)"
   ],
   "metadata": {
    "collapsed": false,
    "ExecuteTime": {
     "end_time": "2023-06-26T04:46:50.635404500Z",
     "start_time": "2023-06-26T04:46:50.622586400Z"
    }
   }
  },
  {
   "cell_type": "code",
   "execution_count": 132,
   "outputs": [
    {
     "name": "stdout",
     "output_type": "stream",
     "text": [
      "안녕하세요? 제 이름은 신명진이고, 제 나이는 40입니다.\n",
      "안녕하세요? 제 이름은 신보석이고, 제 나이는 39입니다.\n",
      "안녕하세요? 제 이름은 신현식이고, 제 나이는 50입니다.\n"
     ]
    }
   ],
   "source": [
    "name_list = [\"신명진\", \"신보석\", \"신현식\"]\n",
    "age_list = [40, 39, 50]\n",
    "\n",
    "for info in zip(name_list, age_list):\n",
    "    name = info[0]\n",
    "    age = info[1]\n",
    "    print(f\"안녕하세요? 제 이름은 {name}이고, 제 나이는 {age}입니다.\")"
   ],
   "metadata": {
    "collapsed": false,
    "ExecuteTime": {
     "end_time": "2023-06-26T04:46:59.315156300Z",
     "start_time": "2023-06-26T04:46:59.307560900Z"
    }
   }
  },
  {
   "cell_type": "markdown",
   "source": [
    "# 판다스 맛보기 - 엑셀 문자열 가공"
   ],
   "metadata": {
    "collapsed": false
   }
  },
  {
   "cell_type": "code",
   "execution_count": 133,
   "outputs": [
    {
     "name": "stdout",
     "output_type": "stream",
     "text": [
      "Requirement already satisfied: openpyxl in c:\\users\\hkit\\appdata\\local\\programs\\python\\python311\\lib\\site-packages (3.1.2)\n",
      "Requirement already satisfied: et-xmlfile in c:\\users\\hkit\\appdata\\local\\programs\\python\\python311\\lib\\site-packages (from openpyxl) (1.1.0)\n",
      "Note: you may need to restart the kernel to use updated packages.\n"
     ]
    }
   ],
   "source": [
    "%pip install openpyxl\n",
    "import pandas as pd"
   ],
   "metadata": {
    "collapsed": false,
    "ExecuteTime": {
     "end_time": "2023-06-26T04:47:33.514462500Z",
     "start_time": "2023-06-26T04:47:31.409422Z"
    }
   }
  },
  {
   "cell_type": "code",
   "execution_count": 134,
   "outputs": [],
   "source": [
    "df = pd.read_excel(\"./이름나이.xlsx\")"
   ],
   "metadata": {
    "collapsed": false,
    "ExecuteTime": {
     "end_time": "2023-06-26T04:47:33.540292300Z",
     "start_time": "2023-06-26T04:47:33.514462500Z"
    }
   }
  },
  {
   "cell_type": "code",
   "execution_count": 136,
   "outputs": [
    {
     "data": {
      "text/plain": "    이름  나이\n0  신명진  40\n1  신보석  39\n2  신현식  50\n3  신예별   8\n4  신예라   6",
      "text/html": "<div>\n<style scoped>\n    .dataframe tbody tr th:only-of-type {\n        vertical-align: middle;\n    }\n\n    .dataframe tbody tr th {\n        vertical-align: top;\n    }\n\n    .dataframe thead th {\n        text-align: right;\n    }\n</style>\n<table border=\"1\" class=\"dataframe\">\n  <thead>\n    <tr style=\"text-align: right;\">\n      <th></th>\n      <th>이름</th>\n      <th>나이</th>\n    </tr>\n  </thead>\n  <tbody>\n    <tr>\n      <th>0</th>\n      <td>신명진</td>\n      <td>40</td>\n    </tr>\n    <tr>\n      <th>1</th>\n      <td>신보석</td>\n      <td>39</td>\n    </tr>\n    <tr>\n      <th>2</th>\n      <td>신현식</td>\n      <td>50</td>\n    </tr>\n    <tr>\n      <th>3</th>\n      <td>신예별</td>\n      <td>8</td>\n    </tr>\n    <tr>\n      <th>4</th>\n      <td>신예라</td>\n      <td>6</td>\n    </tr>\n  </tbody>\n</table>\n</div>"
     },
     "execution_count": 136,
     "metadata": {},
     "output_type": "execute_result"
    }
   ],
   "source": [
    "df.head()"
   ],
   "metadata": {
    "collapsed": false,
    "ExecuteTime": {
     "end_time": "2023-06-26T04:47:45.587628200Z",
     "start_time": "2023-06-26T04:47:45.575600400Z"
    }
   }
  },
  {
   "cell_type": "code",
   "execution_count": 137,
   "outputs": [
    {
     "data": {
      "text/plain": "1    39\nName: 나이, dtype: int64"
     },
     "execution_count": 137,
     "metadata": {},
     "output_type": "execute_result"
    }
   ],
   "source": [
    "# 이름이 \"신보석\"인 사람의 \"나이\"를 알려줘\n",
    "df[df[\"이름\"] == \"신보석\"][\"나이\"]"
   ],
   "metadata": {
    "collapsed": false,
    "ExecuteTime": {
     "end_time": "2023-06-26T04:47:50.422131700Z",
     "start_time": "2023-06-26T04:47:50.400965200Z"
    }
   }
  },
  {
   "cell_type": "code",
   "execution_count": 138,
   "outputs": [
    {
     "data": {
      "text/plain": "    이름  나이\n3  신예별   8\n4  신예라   6",
      "text/html": "<div>\n<style scoped>\n    .dataframe tbody tr th:only-of-type {\n        vertical-align: middle;\n    }\n\n    .dataframe tbody tr th {\n        vertical-align: top;\n    }\n\n    .dataframe thead th {\n        text-align: right;\n    }\n</style>\n<table border=\"1\" class=\"dataframe\">\n  <thead>\n    <tr style=\"text-align: right;\">\n      <th></th>\n      <th>이름</th>\n      <th>나이</th>\n    </tr>\n  </thead>\n  <tbody>\n    <tr>\n      <th>3</th>\n      <td>신예별</td>\n      <td>8</td>\n    </tr>\n    <tr>\n      <th>4</th>\n      <td>신예라</td>\n      <td>6</td>\n    </tr>\n  </tbody>\n</table>\n</div>"
     },
     "execution_count": 138,
     "metadata": {},
     "output_type": "execute_result"
    }
   ],
   "source": [
    "# 이름이 \"신예\"로 시작하는 사람을 전부 보여줘\n",
    "\n",
    "df[df[\"이름\"].str.startswith(\"신예\")]"
   ],
   "metadata": {
    "collapsed": false,
    "ExecuteTime": {
     "end_time": "2023-06-26T04:48:04.234542400Z",
     "start_time": "2023-06-26T04:48:04.147165300Z"
    }
   }
  },
  {
   "cell_type": "markdown",
   "source": [
    "# 엑셀파일의 워크시트를 클립보드로 복사한 후, 클립보드에서 데이터프레임을 만드는 방법"
   ],
   "metadata": {
    "collapsed": false
   }
  },
  {
   "cell_type": "code",
   "execution_count": 139,
   "outputs": [],
   "source": [
    "# 엑셀 워크시트 클립보드 복사 후\n",
    "df = pd.read_clipboard()"
   ],
   "metadata": {
    "collapsed": false,
    "ExecuteTime": {
     "end_time": "2023-06-26T04:48:59.497731100Z",
     "start_time": "2023-06-26T04:48:59.485425300Z"
    }
   }
  },
  {
   "cell_type": "code",
   "execution_count": 140,
   "outputs": [
    {
     "data": {
      "text/plain": "    이름  나이\n0  신명진  40\n1  신보석  39\n2  신현식  50\n3  신예별   8\n4  신예라   6",
      "text/html": "<div>\n<style scoped>\n    .dataframe tbody tr th:only-of-type {\n        vertical-align: middle;\n    }\n\n    .dataframe tbody tr th {\n        vertical-align: top;\n    }\n\n    .dataframe thead th {\n        text-align: right;\n    }\n</style>\n<table border=\"1\" class=\"dataframe\">\n  <thead>\n    <tr style=\"text-align: right;\">\n      <th></th>\n      <th>이름</th>\n      <th>나이</th>\n    </tr>\n  </thead>\n  <tbody>\n    <tr>\n      <th>0</th>\n      <td>신명진</td>\n      <td>40</td>\n    </tr>\n    <tr>\n      <th>1</th>\n      <td>신보석</td>\n      <td>39</td>\n    </tr>\n    <tr>\n      <th>2</th>\n      <td>신현식</td>\n      <td>50</td>\n    </tr>\n    <tr>\n      <th>3</th>\n      <td>신예별</td>\n      <td>8</td>\n    </tr>\n    <tr>\n      <th>4</th>\n      <td>신예라</td>\n      <td>6</td>\n    </tr>\n  </tbody>\n</table>\n</div>"
     },
     "execution_count": 140,
     "metadata": {},
     "output_type": "execute_result"
    }
   ],
   "source": [
    "df"
   ],
   "metadata": {
    "collapsed": false,
    "ExecuteTime": {
     "end_time": "2023-06-26T04:49:00.100254800Z",
     "start_time": "2023-06-26T04:49:00.095823500Z"
    }
   }
  },
  {
   "cell_type": "markdown",
   "source": [
    "# (판다스를 사용하지 않고) 클립보드로 데이터를 가공하는 방법"
   ],
   "metadata": {
    "collapsed": false
   }
  },
  {
   "cell_type": "code",
   "execution_count": 145,
   "outputs": [
    {
     "name": "stdout",
     "output_type": "stream",
     "text": [
      "Requirement already satisfied: pyperclip in c:\\users\\hkit\\appdata\\local\\programs\\python\\python311\\lib\\site-packages (1.8.2)\n",
      "Note: you may need to restart the kernel to use updated packages.\n"
     ]
    }
   ],
   "source": [
    "# 엑셀데이터 복사 후\n",
    "%pip install pyperclip\n",
    "import pyperclip as cb"
   ],
   "metadata": {
    "collapsed": false,
    "ExecuteTime": {
     "end_time": "2023-06-26T04:50:09.136390700Z",
     "start_time": "2023-06-26T04:50:07.198455Z"
    }
   }
  },
  {
   "cell_type": "code",
   "execution_count": 146,
   "outputs": [],
   "source": [
    "data = cb.paste()"
   ],
   "metadata": {
    "collapsed": false,
    "ExecuteTime": {
     "end_time": "2023-06-26T04:50:09.141759100Z",
     "start_time": "2023-06-26T04:50:09.141253700Z"
    }
   }
  },
  {
   "cell_type": "code",
   "execution_count": 147,
   "outputs": [
    {
     "data": {
      "text/plain": "'이름\\t나이\\r\\n신명진\\t40\\r\\n신보석\\t39\\r\\n신현식\\t50\\r\\n신예별\\t8\\r\\n신예라\\t6'"
     },
     "execution_count": 147,
     "metadata": {},
     "output_type": "execute_result"
    }
   ],
   "source": [
    "data"
   ],
   "metadata": {
    "collapsed": false,
    "ExecuteTime": {
     "end_time": "2023-06-26T04:50:13.561071Z",
     "start_time": "2023-06-26T04:50:13.551094600Z"
    }
   }
  },
  {
   "cell_type": "markdown",
   "source": [
    "# 데이터 구조 예시\n",
    "\n",
    "## ① 리스트 안의 리스트\n",
    "[[\"이름\", \"나이\"],\n",
    " [\"신명진\", 40],\n",
    " [\"신보석\", 39],\n",
    " ...]]\n",
    "\n",
    "## ② 리스트 안의 딕셔너리\n",
    "[{\"이름\": \"신명진\",\n",
    " \"나이\": 40,},\n",
    " {\"이름\": \"신보석\",\n",
    " \"나이\": 39,},\n",
    " {\"이름\": \"신현식\",\n",
    " \"나이\": 50,},\n",
    " ...}]\n",
    "\n",
    "## ③ 딕셔너리 안의 딕셔너리\n",
    "{0: {\"이름\": \"신명진\", \"나이\": 40},\n",
    " 1: {\"이름\": \"신보석\", \"나이\": 39},\n",
    " 2: {\"이름\": \"신현식\", \"나이\": 50},\n",
    " ...}"
   ],
   "metadata": {
    "collapsed": false
   }
  },
  {
   "cell_type": "code",
   "execution_count": 148,
   "outputs": [
    {
     "data": {
      "text/plain": "'이름\\t나이\\r\\n신명진\\t40\\r\\n신보석\\t39\\r\\n신현식\\t50\\r\\n신예별\\t8\\r\\n신예라\\t6'"
     },
     "execution_count": 148,
     "metadata": {},
     "output_type": "execute_result"
    }
   ],
   "source": [
    "data"
   ],
   "metadata": {
    "collapsed": false,
    "ExecuteTime": {
     "end_time": "2023-06-26T04:53:03.897774400Z",
     "start_time": "2023-06-26T04:53:03.883687900Z"
    }
   }
  },
  {
   "cell_type": "code",
   "execution_count": 149,
   "outputs": [
    {
     "data": {
      "text/plain": "[['이름', '나이'],\n ['신명진', '40'],\n ['신보석', '39'],\n ['신현식', '50'],\n ['신예별', '8'],\n ['신예라', '6']]"
     },
     "execution_count": 149,
     "metadata": {},
     "output_type": "execute_result"
    }
   ],
   "source": [
    "# 엑셀 칼럼 구분자 : \"\\t\"\n",
    "# 엑셀 행 구분자 : \"\\r\\n\"\n",
    "\n",
    "new_data = []\n",
    "for i in data.split(\"\\r\\n\"):\n",
    "    row = i.split(\"\\t\")\n",
    "    new_data.append(row)\n",
    "new_data"
   ],
   "metadata": {
    "collapsed": false,
    "ExecuteTime": {
     "end_time": "2023-06-26T04:54:58.474930800Z",
     "start_time": "2023-06-26T04:54:58.443180700Z"
    }
   }
  },
  {
   "cell_type": "code",
   "execution_count": 151,
   "outputs": [
    {
     "data": {
      "text/plain": "[['이름', '나이'],\n ['신명진', '40'],\n ['신보석', '39'],\n ['신현식', '50'],\n ['신예별', '8'],\n ['신예라', '6']]"
     },
     "execution_count": 151,
     "metadata": {},
     "output_type": "execute_result"
    }
   ],
   "source": [
    "# 위 코드는 아래처럼 한 줄로도 작성할 수 있음(리스트 컴프리헨션)\n",
    "\n",
    "new_data = [i.split(\"\\t\") for i in data.split(\"\\r\\n\")]\n",
    "new_data"
   ],
   "metadata": {
    "collapsed": false,
    "ExecuteTime": {
     "end_time": "2023-06-26T04:56:15.200285900Z",
     "start_time": "2023-06-26T04:56:15.190865700Z"
    }
   }
  },
  {
   "cell_type": "markdown",
   "source": [
    "# 가상데이터 생성기(faker)를 활용한 데이터 분석 연습"
   ],
   "metadata": {
    "collapsed": false
   }
  },
  {
   "cell_type": "code",
   "execution_count": null,
   "outputs": [],
   "source": [
    "%pip install faker\n",
    "!python.exe -m pip install --upgrade pip"
   ],
   "metadata": {
    "collapsed": false
   }
  },
  {
   "cell_type": "code",
   "execution_count": 153,
   "outputs": [],
   "source": [
    "from faker import Faker"
   ],
   "metadata": {
    "collapsed": false,
    "ExecuteTime": {
     "end_time": "2023-06-26T04:57:32.225322Z",
     "start_time": "2023-06-26T04:57:32.225322Z"
    }
   }
  },
  {
   "cell_type": "code",
   "execution_count": 154,
   "outputs": [],
   "source": [
    "faker = Faker(\"ko-kr\")  # 한국어 데이터 취득"
   ],
   "metadata": {
    "collapsed": false,
    "ExecuteTime": {
     "end_time": "2023-06-26T04:57:33.972738600Z",
     "start_time": "2023-06-26T04:57:33.886214200Z"
    }
   }
  },
  {
   "cell_type": "code",
   "execution_count": 157,
   "outputs": [],
   "source": [
    "# 1,000명의 한국인 이름 추출\n",
    "\n",
    "name_list = []\n",
    "for i in range(1000):\n",
    "    name_list.append(faker.name())"
   ],
   "metadata": {
    "collapsed": false,
    "ExecuteTime": {
     "end_time": "2023-06-26T04:58:11.775886200Z",
     "start_time": "2023-06-26T04:58:11.745016800Z"
    }
   }
  },
  {
   "cell_type": "code",
   "execution_count": 158,
   "outputs": [
    {
     "data": {
      "text/plain": "['이서윤', '김승현', '곽상철', '이예원', '김병철', '우명숙', '서현정', '박예진', '이동현', '김명숙']"
     },
     "execution_count": 158,
     "metadata": {},
     "output_type": "execute_result"
    }
   ],
   "source": [
    "name_list[:10]  # 앞쪽 10명의 이름 확인"
   ],
   "metadata": {
    "collapsed": false,
    "ExecuteTime": {
     "end_time": "2023-06-26T04:58:29.736726100Z",
     "start_time": "2023-06-26T04:58:29.717393400Z"
    }
   }
  },
  {
   "cell_type": "code",
   "execution_count": 159,
   "outputs": [
    {
     "data": {
      "text/plain": "{'job': '한의사',\n 'company': '주식회사 최이최',\n 'ssn': '260115-2145791',\n 'residence': '세종특별자치시 관악구 논현거리 (경희박동)',\n 'current_location': (Decimal('-49.517498'), Decimal('27.571595')),\n 'blood_group': 'A+',\n 'website': ['https://gimbag.com/',\n  'https://www.yuhanhoesa.net/',\n  'http://yuhanhoesa.com/',\n  'https://yuhanhoesa.net/'],\n 'username': 'zan',\n 'name': '김성민',\n 'sex': 'M',\n 'address': '대전광역시 강남구 테헤란247로',\n 'mail': 'gwangsusin@gmail.com',\n 'birthdate': datetime.date(1977, 8, 3)}"
     },
     "execution_count": 159,
     "metadata": {},
     "output_type": "execute_result"
    }
   ],
   "source": [
    "faker.profile()  # 1인 프로필을 사전 데이터로 생성하는 메서드"
   ],
   "metadata": {
    "collapsed": false,
    "ExecuteTime": {
     "end_time": "2023-06-26T05:09:37.847061100Z",
     "start_time": "2023-06-26T05:09:37.819154Z"
    }
   }
  },
  {
   "cell_type": "markdown",
   "source": [
    "# 실습 : 가상데이터 분석예제"
   ],
   "metadata": {
    "collapsed": false
   }
  },
  {
   "cell_type": "markdown",
   "source": [
    "## 1만명의 가상데이터 생성하기(name, ssn, mail, address 등 4개 칼럼 생성)"
   ],
   "metadata": {
    "collapsed": false
   }
  },
  {
   "cell_type": "code",
   "execution_count": 163,
   "outputs": [],
   "source": [
    "# data = {\n",
    "#     \"name\": [\"신명진\", \"신보석\", \"신현식\", ...],\n",
    "#     \"ssn\": [\"830226-1234567\", \"840430-1345678\", ...],\n",
    "#     \"mail\": [\"smj@abc.com\", \"def@asd.com\", ...],\n",
    "#     \"address\": [\"서울특별시..\", \"광주광역시..\", ...],\n",
    "# }"
   ],
   "metadata": {
    "collapsed": false,
    "ExecuteTime": {
     "end_time": "2023-06-26T05:21:12.410641300Z",
     "start_time": "2023-06-26T05:21:12.410641300Z"
    }
   }
  },
  {
   "cell_type": "code",
   "execution_count": 165,
   "outputs": [],
   "source": [
    "# 각 칼럼에 해당하는 리스트 4개 생성\n",
    "name_list = []\n",
    "ssn_list = []\n",
    "mail_list = []\n",
    "address_list = []\n",
    "\n",
    "# 10,000개의 데이터 입력하기\n",
    "for _ in range(10000):\n",
    "    name_list.append(faker.name())\n",
    "    ssn_list.append(faker.ssn())\n",
    "    mail_list.append(faker.email())\n",
    "    address_list.append(faker.address())\n",
    "\n",
    "# dict 생성하기\n",
    "data = {\"name\": name_list,\n",
    "        \"ssn\": ssn_list,\n",
    "        \"email\": mail_list,\n",
    "        \"address_list\": address_list}"
   ],
   "metadata": {
    "collapsed": false,
    "ExecuteTime": {
     "end_time": "2023-06-26T05:23:34.869428700Z",
     "start_time": "2023-06-26T05:23:33.740783600Z"
    }
   }
  },
  {
   "cell_type": "code",
   "execution_count": 166,
   "outputs": [],
   "source": [
    "# 위 셀의 코드는 아래처럼 단축입력 가능함.\n",
    "\n",
    "data = {\n",
    "    \"name\": [faker.name() for _ in range(10000)],\n",
    "    \"ssn\": [faker.ssn() for _ in range(10000)],\n",
    "    \"mail\": [faker.email() for _ in range(10000)],\n",
    "    \"address\": [faker.address() for _ in range(10000)],\n",
    "}"
   ],
   "metadata": {
    "collapsed": false,
    "ExecuteTime": {
     "end_time": "2023-06-26T05:24:06.391706900Z",
     "start_time": "2023-06-26T05:24:05.281752800Z"
    }
   }
  },
  {
   "cell_type": "markdown",
   "source": [
    "# 분석예제① : 사용자데이터에서 지역별로 가장 이용자가 많은 지역부터 순서대로 출력하시오."
   ],
   "metadata": {
    "collapsed": false
   }
  },
  {
   "cell_type": "code",
   "execution_count": 168,
   "outputs": [
    {
     "data": {
      "text/plain": "['세종특별자치시 강동구 반포대21가 (혜진유마을)',\n '세종특별자치시 관악구 반포대길 (선영안최면)',\n '충청북도 수원시 테헤란길 (윤서윤이면)',\n '경상북도 안산시 상록구 오금13로',\n '충청남도 양평군 가락4길',\n '경상북도 아산시 언주4가 (지민권이리)',\n '대구광역시 남구 봉은사212거리 (성수엄읍)',\n '전라남도 파주시 서초대로',\n '부산광역시 종로구 선릉669거리',\n '강원도 제천시 양재천601로 (영진허마을)']"
     },
     "execution_count": 168,
     "metadata": {},
     "output_type": "execute_result"
    }
   ],
   "source": [
    "# 우리가 사용할 데이터는 \"address\" 칼럼의 첫 번째 단어들임.\n",
    "data[\"address\"][:10]"
   ],
   "metadata": {
    "collapsed": false,
    "ExecuteTime": {
     "end_time": "2023-06-26T05:25:09.576517700Z",
     "start_time": "2023-06-26T05:25:09.545598800Z"
    }
   }
  },
  {
   "cell_type": "code",
   "execution_count": 169,
   "outputs": [
    {
     "data": {
      "text/plain": "['세종특별자치시',\n '세종특별자치시',\n '충청북도',\n '경상북도',\n '충청남도',\n '경상북도',\n '대구광역시',\n '전라남도',\n '부산광역시',\n '강원도']"
     },
     "execution_count": 169,
     "metadata": {},
     "output_type": "execute_result"
    }
   ],
   "source": [
    "# 필요한 데이터만 추출(주소 문자열을 스페이스로 잘랐을 때 첫 번째 요소)\n",
    "\n",
    "지역리스트 = [i.split(\" \")[0] for i in data[\"address\"]]\n",
    "지역리스트[:10]"
   ],
   "metadata": {
    "collapsed": false,
    "ExecuteTime": {
     "end_time": "2023-06-26T05:25:39.076412400Z",
     "start_time": "2023-06-26T05:25:39.052196300Z"
    }
   }
  },
  {
   "cell_type": "code",
   "execution_count": 170,
   "outputs": [],
   "source": [
    "# 갯수를 입력할 dict 변수 생성\n",
    "\n",
    "지역카운트 = {}"
   ],
   "metadata": {
    "collapsed": false,
    "ExecuteTime": {
     "end_time": "2023-06-26T05:25:58.481406500Z",
     "start_time": "2023-06-26T05:25:58.481406500Z"
    }
   }
  },
  {
   "cell_type": "code",
   "execution_count": 171,
   "outputs": [],
   "source": [
    "# 지역카운트 사전의 키는 지역명, 값은 카운트\n",
    "\n",
    "for i in 지역리스트:\n",
    "    if i in 지역카운트.keys():\n",
    "        지역카운트[i] += 1  # 기존 지역명 키가 들어 있을 때에는 값 += 1\n",
    "    else:\n",
    "        지역카운트[i] = 1  # 기존 지역명 키가 없을 때에는 값 = 1"
   ],
   "metadata": {
    "collapsed": false,
    "ExecuteTime": {
     "end_time": "2023-06-26T05:27:18.132870800Z",
     "start_time": "2023-06-26T05:27:18.117926200Z"
    }
   }
  },
  {
   "cell_type": "code",
   "execution_count": 172,
   "outputs": [
    {
     "data": {
      "text/plain": "{'세종특별자치시': 590,\n '충청북도': 604,\n '경상북도': 538,\n '충청남도': 574,\n '대구광역시': 653,\n '전라남도': 538,\n '부산광역시': 606,\n '강원도': 538,\n '경기도': 529,\n '대전광역시': 593,\n '제주특별자치도': 521,\n '광주광역시': 692,\n '전라북도': 561,\n '서울특별시': 592,\n '경상남도': 570,\n '인천광역시': 651,\n '울산광역시': 650}"
     },
     "execution_count": 172,
     "metadata": {},
     "output_type": "execute_result"
    }
   ],
   "source": [
    "지역카운트"
   ],
   "metadata": {
    "collapsed": false,
    "ExecuteTime": {
     "end_time": "2023-06-26T05:27:19.099782Z",
     "start_time": "2023-06-26T05:27:19.085466900Z"
    }
   }
  },
  {
   "cell_type": "code",
   "execution_count": 173,
   "outputs": [
    {
     "data": {
      "text/plain": "dict_items([('세종특별자치시', 590), ('충청북도', 604), ('경상북도', 538), ('충청남도', 574), ('대구광역시', 653), ('전라남도', 538), ('부산광역시', 606), ('강원도', 538), ('경기도', 529), ('대전광역시', 593), ('제주특별자치도', 521), ('광주광역시', 692), ('전라북도', 561), ('서울특별시', 592), ('경상남도', 570), ('인천광역시', 651), ('울산광역시', 650)])"
     },
     "execution_count": 173,
     "metadata": {},
     "output_type": "execute_result"
    }
   ],
   "source": [
    "# 정렬을 해서 보고 싶은데 dict 자료형에는 sort가 없음.\n",
    "# 그래서 dict 메서드 중 dict.items()를 이용해 변환하고 리스트로 변환함.\n",
    "# 이 때 dict.items() 는 사전데이터를 [(키1, 값1), (키2, 값2), ...] 의 형태로 리턴해줌.\n",
    "\n",
    "지역카운트 = 지역카운트.items()\n",
    "지역카운트"
   ],
   "metadata": {
    "collapsed": false,
    "ExecuteTime": {
     "end_time": "2023-06-26T05:29:22.622709600Z",
     "start_time": "2023-06-26T05:29:22.610575300Z"
    }
   }
  },
  {
   "cell_type": "code",
   "execution_count": 174,
   "outputs": [
    {
     "data": {
      "text/plain": "[('세종특별자치시', 590),\n ('충청북도', 604),\n ('경상북도', 538),\n ('충청남도', 574),\n ('대구광역시', 653),\n ('전라남도', 538),\n ('부산광역시', 606),\n ('강원도', 538),\n ('경기도', 529),\n ('대전광역시', 593),\n ('제주특별자치도', 521),\n ('광주광역시', 692),\n ('전라북도', 561),\n ('서울특별시', 592),\n ('경상남도', 570),\n ('인천광역시', 651),\n ('울산광역시', 650)]"
     },
     "execution_count": 174,
     "metadata": {},
     "output_type": "execute_result"
    }
   ],
   "source": [
    "지역카운트 = list(지역카운트)\n",
    "지역카운트"
   ],
   "metadata": {
    "collapsed": false,
    "ExecuteTime": {
     "end_time": "2023-06-26T05:29:28.587733Z",
     "start_time": "2023-06-26T05:29:28.573656500Z"
    }
   }
  },
  {
   "cell_type": "code",
   "execution_count": 177,
   "outputs": [
    {
     "data": {
      "text/plain": "[('강원도', 538),\n ('경기도', 529),\n ('경상남도', 570),\n ('경상북도', 538),\n ('광주광역시', 692),\n ('대구광역시', 653),\n ('대전광역시', 593),\n ('부산광역시', 606),\n ('서울특별시', 592),\n ('세종특별자치시', 590),\n ('울산광역시', 650),\n ('인천광역시', 651),\n ('전라남도', 538),\n ('전라북도', 561),\n ('제주특별자치도', 521),\n ('충청남도', 574),\n ('충청북도', 604)]"
     },
     "execution_count": 177,
     "metadata": {},
     "output_type": "execute_result"
    }
   ],
   "source": [
    "# 정렬하기\n",
    "\n",
    "지역카운트.sort()  # 오름차순 정렬(결과를 바로 적용해버림)\n",
    "지역카운트  # 의도와 다르게 첫 번째 요소인 지역명을 ㄱㄴㄷ순으로 정렬해버렸음"
   ],
   "metadata": {
    "collapsed": false,
    "ExecuteTime": {
     "end_time": "2023-06-26T05:30:40.613905100Z",
     "start_time": "2023-06-26T05:30:40.605713400Z"
    }
   }
  },
  {
   "cell_type": "markdown",
   "source": [
    "## 두 번째 요소(i[1])로 정렬하려면 어떻게 해야 할까요?"
   ],
   "metadata": {
    "collapsed": false
   }
  },
  {
   "cell_type": "code",
   "execution_count": 179,
   "outputs": [],
   "source": [
    "# 먼저 두 번째 요소를 리턴해주는 함수를 하나 정의해줍니다.\n",
    "\n",
    "def get_2nd_elem(i):\n",
    "    return i[1]"
   ],
   "metadata": {
    "collapsed": false,
    "ExecuteTime": {
     "end_time": "2023-06-26T05:52:11.262020300Z",
     "start_time": "2023-06-26T05:52:11.246140500Z"
    }
   }
  },
  {
   "cell_type": "code",
   "execution_count": 183,
   "outputs": [
    {
     "data": {
      "text/plain": "[('광주광역시', 692),\n ('대구광역시', 653),\n ('인천광역시', 651),\n ('울산광역시', 650),\n ('부산광역시', 606),\n ('충청북도', 604),\n ('대전광역시', 593),\n ('서울특별시', 592),\n ('세종특별자치시', 590),\n ('충청남도', 574),\n ('경상남도', 570),\n ('전라북도', 561),\n ('강원도', 538),\n ('경상북도', 538),\n ('전라남도', 538),\n ('경기도', 529),\n ('제주특별자치도', 521)]"
     },
     "execution_count": 183,
     "metadata": {},
     "output_type": "execute_result"
    }
   ],
   "source": [
    "# sort 메서드의 key 파라미터에 get_2nd_elem을 넣어줍니다. 내림차순으로 정렬하려면 reverse=True 옵션을 추가해줍니다.\n",
    "지역카운트.sort(key=get_2nd_elem, reverse=True)\n",
    "지역카운트  # 의도대로 잘 출력되었습니다."
   ],
   "metadata": {
    "collapsed": false,
    "ExecuteTime": {
     "end_time": "2023-06-26T05:53:36.716690300Z",
     "start_time": "2023-06-26T05:53:36.701598400Z"
    }
   }
  },
  {
   "cell_type": "code",
   "execution_count": 184,
   "outputs": [
    {
     "data": {
      "text/plain": "[('광주광역시', 692),\n ('대구광역시', 653),\n ('인천광역시', 651),\n ('울산광역시', 650),\n ('부산광역시', 606),\n ('충청북도', 604),\n ('대전광역시', 593),\n ('서울특별시', 592),\n ('세종특별자치시', 590),\n ('충청남도', 574),\n ('경상남도', 570),\n ('전라북도', 561),\n ('강원도', 538),\n ('경상북도', 538),\n ('전라남도', 538),\n ('경기도', 529),\n ('제주특별자치도', 521)]"
     },
     "execution_count": 184,
     "metadata": {},
     "output_type": "execute_result"
    }
   ],
   "source": [
    "# 위의 일련의 방식은 별도 함수정의 없이 아래처럼 한 줄로도 실행 가능합니다.\n",
    "\n",
    "지역카운트.sort(key=lambda x: x[1], reverse=True)\n",
    "지역카운트  # 위와 결과가 동일합니다."
   ],
   "metadata": {
    "collapsed": false,
    "ExecuteTime": {
     "end_time": "2023-06-26T05:54:06.027852300Z",
     "start_time": "2023-06-26T05:54:05.994776400Z"
    }
   }
  },
  {
   "cell_type": "code",
   "execution_count": 185,
   "outputs": [
    {
     "data": {
      "text/plain": "[('광주광역시', 692), ('대구광역시', 653), ('인천광역시', 651)]"
     },
     "execution_count": 185,
     "metadata": {},
     "output_type": "execute_result"
    }
   ],
   "source": [
    "# 상위 3개의 결과만 확인하고 싶다면?\n",
    "지역카운트[:3]"
   ],
   "metadata": {
    "collapsed": false,
    "ExecuteTime": {
     "end_time": "2023-06-26T05:54:26.463348Z",
     "start_time": "2023-06-26T05:54:26.441677800Z"
    }
   }
  },
  {
   "cell_type": "markdown",
   "source": [
    "# 분석예제② : 사용자의 연령대를 10년 기준 (20대, 30대, 40대, 50대...)으로 구분하여 가장 많은 사용자 연령대를 파악하시오."
   ],
   "metadata": {
    "collapsed": false
   }
  },
  {
   "cell_type": "code",
   "execution_count": 186,
   "outputs": [
    {
     "data": {
      "text/plain": "['150715-2034670',\n '410103-2111637',\n '460906-2733902',\n '610308-1594453',\n '640416-1333984',\n '650421-1413020',\n '690826-1990411',\n '170512-1481556',\n '100714-1505819',\n '390524-1777200']"
     },
     "execution_count": 186,
     "metadata": {},
     "output_type": "execute_result"
    }
   ],
   "source": [
    "# 우리가 사용할 칼럼은 data[\"ssn\"]입니다.\n",
    "\n",
    "data[\"ssn\"][:10]"
   ],
   "metadata": {
    "collapsed": false,
    "ExecuteTime": {
     "end_time": "2023-06-26T05:55:35.574593800Z",
     "start_time": "2023-06-26T05:55:35.561600100Z"
    }
   }
  },
  {
   "cell_type": "code",
   "execution_count": 187,
   "outputs": [
    {
     "data": {
      "text/plain": "['15', '41', '46', '61', '64', '65', '69', '17', '10', '39']"
     },
     "execution_count": 187,
     "metadata": {},
     "output_type": "execute_result"
    }
   ],
   "source": [
    "# 나이를 파악하려면 주민등록번호 앞의 두 자리만 있으면 되기 때문에\n",
    "# 아래처럼 슬라이싱을 해 줍니다.\n",
    "\n",
    "birthday_list = [i[:2] for i in data[\"ssn\"]]\n",
    "birthday_list[:10]"
   ],
   "metadata": {
    "collapsed": false,
    "ExecuteTime": {
     "end_time": "2023-06-26T05:56:09.767649200Z",
     "start_time": "2023-06-26T05:56:09.761292600Z"
    }
   }
  },
  {
   "cell_type": "code",
   "execution_count": 188,
   "outputs": [],
   "source": [
    "# 두 자리 문자열이 0으로 시작하면 앞에 \"20\"을 붙이고(\"01\"~\"09\" -> \"2001\"~\"2009\")\n",
    "# 그 이외의 경우에는 모두 \"19\"를 붙여보겠습니다. -> (\"11\"~\"99\" -> \"1911\" ~ \"1999\")\n",
    "\n",
    "for i, v in enumerate(birthday_list):\n",
    "    if v.startswith(\"0\"):  # 0으로 시작하면?\n",
    "        birthday_list[i] = \"20\" + v  # 앞에 \"20\"을 붙이고\n",
    "    else:  # 0으로 시작하지 않는 모든 경우에는?\n",
    "        birthday_list[i] = \"19\" + v  # 앞에 \"19\"를 붙인다."
   ],
   "metadata": {
    "collapsed": false,
    "ExecuteTime": {
     "end_time": "2023-06-26T05:58:38.599136500Z",
     "start_time": "2023-06-26T05:58:38.568922500Z"
    }
   }
  },
  {
   "cell_type": "code",
   "execution_count": 189,
   "outputs": [
    {
     "data": {
      "text/plain": "['1915',\n '1941',\n '1946',\n '1961',\n '1964',\n '1965',\n '1969',\n '1917',\n '1910',\n '1939']"
     },
     "execution_count": 189,
     "metadata": {},
     "output_type": "execute_result"
    }
   ],
   "source": [
    "birthday_list[:10]"
   ],
   "metadata": {
    "collapsed": false,
    "ExecuteTime": {
     "end_time": "2023-06-26T05:58:39.823526400Z",
     "start_time": "2023-06-26T05:58:39.807375200Z"
    }
   }
  },
  {
   "cell_type": "code",
   "execution_count": 190,
   "outputs": [
    {
     "data": {
      "text/plain": "[108, 82, 77, 62, 59, 58, 54, 106, 113, 84]"
     },
     "execution_count": 190,
     "metadata": {},
     "output_type": "execute_result"
    }
   ],
   "source": [
    "# 출생연도를 모두 추출하는 데 성공했습니다.\n",
    "# 이제 출생연도를 나이로 바꾸고 싶은데요.\n",
    "# (연도를 정수로 바꾼 후) 2023에서 출생연도를 빼주면\n",
    "# 출생연도 리스트가 나이 리스트로 바뀔 것입니다.\n",
    "\n",
    "나이리스트 = [2023-int(i) for i in birthday_list]\n",
    "나이리스트[:10]"
   ],
   "metadata": {
    "collapsed": false,
    "ExecuteTime": {
     "end_time": "2023-06-26T06:00:00.337456600Z",
     "start_time": "2023-06-26T06:00:00.328743800Z"
    }
   }
  },
  {
   "cell_type": "code",
   "execution_count": 191,
   "outputs": [
    {
     "data": {
      "text/plain": "[10, 8, 7, 6, 5, 5, 5, 10, 11, 8, 4, 1, 6, 6, 8, 10, 11, 8, 9, 10]"
     },
     "execution_count": 191,
     "metadata": {},
     "output_type": "execute_result"
    }
   ],
   "source": [
    "# 위 요소의 1의자리를 지우면 (10대, 20대, 30대, 40대, ...) 식으로\n",
    "# 일종의 세대구분이 가능해질 것 같습니다.\n",
    "# 10, 11, 12, 13, 14, 15, 16, 17, 18, 19가 전부 1로 바뀌니까요.\n",
    "#\n",
    "# 그럼 나이리스트의 모든 요소들을 문자열로 변환한 후 제일 끝자리만 지우고\n",
    "# 카운트를 해보겠습니다.\n",
    "\n",
    "나이리스트 = [int(str(i)[:-1]) for i in 나이리스트]\n",
    "나이리스트[:20]"
   ],
   "metadata": {
    "collapsed": false,
    "ExecuteTime": {
     "end_time": "2023-06-26T06:02:11.625862300Z",
     "start_time": "2023-06-26T06:02:11.564484100Z"
    }
   }
  },
  {
   "cell_type": "code",
   "execution_count": 193,
   "outputs": [
    {
     "data": {
      "text/plain": "[(5, 1041),\n (10, 1016),\n (6, 1009),\n (9, 1009),\n (7, 1008),\n (2, 988),\n (3, 975),\n (4, 971),\n (8, 945),\n (1, 614),\n (11, 424)]"
     },
     "execution_count": 193,
     "metadata": {},
     "output_type": "execute_result"
    }
   ],
   "source": [
    "# 예제①과 동일하게 카운트를 해보겠습니다.\n",
    "\n",
    "나이사전 = {}\n",
    "\n",
    "for i in 나이리스트:\n",
    "    if i in 나이사전.keys():\n",
    "        나이사전[i] += 1\n",
    "    else:\n",
    "        나이사전[i] = 1\n",
    "\n",
    "sorted(나이사전.items(), key=lambda x: x[1], reverse=True)  # 50대가 근소하게 1위를 차지하고 있네요."
   ],
   "metadata": {
    "collapsed": false,
    "ExecuteTime": {
     "end_time": "2023-06-26T06:04:32.123567100Z",
     "start_time": "2023-06-26T06:04:32.108448300Z"
    }
   }
  },
  {
   "cell_type": "markdown",
   "source": [
    "# 카운트 프로세스는 collections.Counter로 간단히 해결할 수 있습니다."
   ],
   "metadata": {
    "collapsed": false
   }
  },
  {
   "cell_type": "code",
   "execution_count": 194,
   "outputs": [],
   "source": [
    "from collections import Counter"
   ],
   "metadata": {
    "collapsed": false,
    "ExecuteTime": {
     "end_time": "2023-06-26T06:05:39.934359500Z",
     "start_time": "2023-06-26T06:05:39.926371900Z"
    }
   }
  },
  {
   "cell_type": "code",
   "execution_count": 195,
   "outputs": [
    {
     "data": {
      "text/plain": "Counter({5: 1041,\n         10: 1016,\n         6: 1009,\n         9: 1009,\n         7: 1008,\n         2: 988,\n         3: 975,\n         4: 971,\n         8: 945,\n         1: 614,\n         11: 424})"
     },
     "execution_count": 195,
     "metadata": {},
     "output_type": "execute_result"
    }
   ],
   "source": [
    "Counter(나이리스트)"
   ],
   "metadata": {
    "collapsed": false,
    "ExecuteTime": {
     "end_time": "2023-06-26T06:05:41.488980200Z",
     "start_time": "2023-06-26T06:05:41.472855400Z"
    }
   }
  },
  {
   "cell_type": "code",
   "execution_count": 196,
   "outputs": [
    {
     "data": {
      "text/plain": "[(5, 1041), (10, 1016), (6, 1009), (9, 1009), (7, 1008)]"
     },
     "execution_count": 196,
     "metadata": {},
     "output_type": "execute_result"
    }
   ],
   "source": [
    "# 상위 5개만 출력하고 싶다면?\n",
    "Counter(나이리스트).most_common(5)"
   ],
   "metadata": {
    "collapsed": false,
    "ExecuteTime": {
     "end_time": "2023-06-26T06:06:11.630817400Z",
     "start_time": "2023-06-26T06:06:11.601498700Z"
    }
   }
  },
  {
   "cell_type": "code",
   "execution_count": 197,
   "outputs": [
    {
     "data": {
      "text/plain": "[('광주광역시', 692), ('대구광역시', 653), ('인천광역시', 651)]"
     },
     "execution_count": 197,
     "metadata": {},
     "output_type": "execute_result"
    }
   ],
   "source": [
    "# 분석예제①의 지역리스트에도 Counter를 적용해볼까요?\n",
    "Counter(지역리스트).most_common(3)"
   ],
   "metadata": {
    "collapsed": false,
    "ExecuteTime": {
     "end_time": "2023-06-26T06:06:59.948666100Z",
     "start_time": "2023-06-26T06:06:59.886210200Z"
    }
   }
  },
  {
   "cell_type": "markdown",
   "source": [
    "# 끝."
   ],
   "metadata": {
    "collapsed": false
   }
  }
 ],
 "metadata": {
  "kernelspec": {
   "display_name": "Python 3",
   "language": "python",
   "name": "python3"
  },
  "language_info": {
   "codemirror_mode": {
    "name": "ipython",
    "version": 2
   },
   "file_extension": ".py",
   "mimetype": "text/x-python",
   "name": "python",
   "nbconvert_exporter": "python",
   "pygments_lexer": "ipython2",
   "version": "2.7.6"
  }
 },
 "nbformat": 4,
 "nbformat_minor": 0
}
