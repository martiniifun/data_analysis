{
 "cells": [
  {
   "cell_type": "code",
   "execution_count": null,
   "outputs": [],
   "source": [
    "DB에 연월일시분초를 저장할 때, \"2023-07-14 13:57:24\"\n",
    "얘를 꺼내쓰려면 문자열을 다루는 방법, 시분초 쪼개는 방법"
   ],
   "metadata": {
    "collapsed": false
   }
  },
  {
   "cell_type": "code",
   "execution_count": 1,
   "metadata": {
    "collapsed": true,
    "ExecuteTime": {
     "end_time": "2023-07-14T04:02:20.884196700Z",
     "start_time": "2023-07-14T04:02:20.868563700Z"
    }
   },
   "outputs": [],
   "source": [
    "# datetime 모듈이나 time 모듈을 쓰지 않아야 함.\n",
    "\n",
    "# 00:00:00\n",
    "\n",
    "# -> n초 이후의 시각을 \"01:23:52\" 서식으로 리턴하는 함수를 만드시오.\n",
    "\n",
    "# 예) \"01:23:52\" + 5000초 -> \"??:??:??\""
   ]
  },
  {
   "cell_type": "markdown",
   "source": [
    "\n",
    "\n",
    "00:00:00 + 50 = 00:00:50\n",
    "00:00:00 + 65 = 00:01:05\n",
    "\n",
    "# 초 계산\n",
    "65초 // 60초 = 1분 == 몫( -> 분)\n",
    "65초 % 60초 = 5초 == 나머지( -> 초)\n",
    "\n",
    "\n",
    "# 분 계산\n",
    "65분 // 60분 = 1시간 == 몫( -> 시)\n",
    "65분 % 60분 = 5분 == 나머지( -> 분)\n",
    "\n",
    "\n",
    "# 시간 < 24 (% 24)\n",
    "110분\n",
    "\n",
    "00:110:00 -> 01:50:00"
   ],
   "metadata": {
    "collapsed": false
   }
  },
  {
   "cell_type": "code",
   "execution_count": null,
   "outputs": [],
   "source": [
    "def solution(hhmmdd, sec):\n",
    "    # hhmmdd = \"12:34:56\"\n",
    "    # 시, 분, 초 = hhmmdd.split(\":\")\n"
   ],
   "metadata": {
    "collapsed": false
   }
  },
  {
   "cell_type": "code",
   "execution_count": 19,
   "outputs": [
    {
     "data": {
      "text/plain": "'Ȁ'"
     },
     "execution_count": 19,
     "metadata": {},
     "output_type": "execute_result"
    }
   ],
   "source": [
    "chr(512)"
   ],
   "metadata": {
    "collapsed": false,
    "ExecuteTime": {
     "end_time": "2023-07-14T04:15:30.733586300Z",
     "start_time": "2023-07-14T04:15:30.716074Z"
    }
   }
  },
  {
   "cell_type": "code",
   "execution_count": 8,
   "outputs": [
    {
     "name": "stdout",
     "output_type": "stream",
     "text": [
      "A\n",
      "B\n",
      "C\n",
      "D\n",
      "E\n",
      "F\n",
      "G\n",
      "H\n",
      "I\n",
      "J\n",
      "K\n",
      "L\n",
      "M\n",
      "N\n",
      "O\n",
      "P\n",
      "Q\n",
      "R\n",
      "S\n",
      "T\n",
      "U\n",
      "V\n",
      "W\n",
      "X\n",
      "Y\n",
      "Z\n"
     ]
    }
   ],
   "source": [
    "for i in range(65, 65+26):\n",
    "    print(chr(i))"
   ],
   "metadata": {
    "collapsed": false,
    "ExecuteTime": {
     "end_time": "2023-07-14T04:14:07.212040700Z",
     "start_time": "2023-07-14T04:14:07.212040700Z"
    }
   }
  },
  {
   "cell_type": "code",
   "execution_count": null,
   "outputs": [],
   "source": [
    "pd.read_csv(\"asdf.csv\", encoding=\"utf-8\")"
   ],
   "metadata": {
    "collapsed": false
   }
  }
 ],
 "metadata": {
  "kernelspec": {
   "display_name": "Python 3",
   "language": "python",
   "name": "python3"
  },
  "language_info": {
   "codemirror_mode": {
    "name": "ipython",
    "version": 2
   },
   "file_extension": ".py",
   "mimetype": "text/x-python",
   "name": "python",
   "nbconvert_exporter": "python",
   "pygments_lexer": "ipython2",
   "version": "2.7.6"
  }
 },
 "nbformat": 4,
 "nbformat_minor": 0
}
