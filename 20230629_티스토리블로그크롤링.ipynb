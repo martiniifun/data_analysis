{
 "cells": [
  {
   "cell_type": "markdown",
   "source": [
    "# 크롤링 예제 : 티스토리 블로그 공감 누르기 자동화"
   ],
   "metadata": {
    "collapsed": false
   }
  },
  {
   "cell_type": "markdown",
   "source": [
    "먼저 크롬 브라우저를 열겠습니다."
   ],
   "metadata": {
    "collapsed": false
   }
  },
  {
   "cell_type": "code",
   "execution_count": 1,
   "metadata": {
    "collapsed": true,
    "ExecuteTime": {
     "end_time": "2023-06-29T06:35:21.215517100Z",
     "start_time": "2023-06-29T06:35:21.065021300Z"
    }
   },
   "outputs": [],
   "source": [
    "import chromedriver_autoinstaller\n",
    "from selenium import webdriver\n",
    "from selenium.webdriver.common.by import By"
   ]
  },
  {
   "cell_type": "code",
   "execution_count": 2,
   "outputs": [],
   "source": [
    "chromedriver_autoinstaller.install()\n",
    "driver = webdriver.Chrome()"
   ],
   "metadata": {
    "collapsed": false,
    "ExecuteTime": {
     "end_time": "2023-06-29T06:35:23.244332Z",
     "start_time": "2023-06-29T06:35:21.215517100Z"
    }
   }
  },
  {
   "cell_type": "markdown",
   "source": [
    "티스토리 블로그에 접속해봅시다.\n",
    "\n",
    "(티스토리는 로그인 없이 공감버튼 클릭이 가능하므로 로그인은 생략하겠습니다.)"
   ],
   "metadata": {
    "collapsed": false
   }
  },
  {
   "cell_type": "code",
   "execution_count": 3,
   "outputs": [],
   "source": [
    "# 티스토리 블로그 접속\n",
    "driver.get(\"https://ilco.tistory.com\")"
   ],
   "metadata": {
    "collapsed": false,
    "ExecuteTime": {
     "end_time": "2023-06-29T06:36:32.878635100Z",
     "start_time": "2023-06-29T06:36:31.548739200Z"
    }
   }
  },
  {
   "cell_type": "markdown",
   "source": [
    "첫 번째 포스팅을 클릭해보겠습니다.\n",
    "\n",
    "먼저 브라우저에서 첫 번째 글의 제목에 마우스 커서를 대고 우클릭한 후 \"검사\"를 누릅니다.\n",
    "\n",
    "![](https://i.ibb.co/BBrHZY2/2023-06-29-160124.png)\n",
    "\n",
    "개발자도구(우측 창)의 `<span class=\"title\">테스트2</span>`이라는 문자열에\n",
    "\n",
    "하이라이트가 되어 있네요.\n",
    "\n",
    "저 태그를 우클릭해서 Copy - Copy Selector 를 선택합니다.\n",
    "\n",
    "![](https://i.ibb.co/3SJvt2w/2023-06-29-155948.png)\n",
    "\n",
    "클립보드에 복사된 문자열은 아래와 같습니다."
   ],
   "metadata": {
    "collapsed": false
   }
  },
  {
   "cell_type": "code",
   "execution_count": null,
   "outputs": [],
   "source": [
    "\"#content > div.inner > div:nth-child(1) > a > span.title\""
   ],
   "metadata": {
    "collapsed": false
   }
  },
  {
   "cell_type": "markdown",
   "source": [
    "**위 문자열은 특정 태그나 태그들의 목록을 가리키는 일종의 \"주소\"와 비슷합니다.**\n",
    "\n",
    "우리 한국IT교육원의 주소는\n",
    "\n",
    "\"[41223] 대한민국 대구광역시 동구 동대구로 566 (신암동)\" 인데요.\n",
    "\n",
    "대한민국 사람이라면\n",
    "\n",
    "[우편번호]나 \"대한민국\", 또는 \"대구광역시 동구\"라는 단어까지 빼고 말해도\n",
    "\n",
    "이를테면 \"동대구로 566\"만 듣고도 우리 학원에 찾아오실 수 있을 거예요.\n",
    "\n",
    "위에 붙여넣기한 저 문자열(\"#content > div.inner > ...\")도\n",
    "\n",
    "CSS SELECTOR 라고 불리는 문법으로,\n",
    "\n",
    "특정 태그(첫 번째 글의 제목)를 가리키는 유연한 주소 개념이라고 이해하시면 됩니다.\n",
    "\n",
    "간단한 문법만 몇 가지 알려드리면,\n",
    "\n",
    "① \"a\" : 현재 html 소스 내에 있는 모든 a 태그들을 가리킴\n",
    "\n",
    "② \"body > a\" : body 태그 바로 아래(body의 자식)에 있는 a 태그들만 가리킴\n",
    "\n",
    "③ \"body a\" : body 태그 아래 어딘가 있는(body의 자손) 모든 a 태그들을 가리킴\n",
    "\n",
    "④ \"a.asdfqwer\" : a 태그 중에 <a class=\"asdfqwer\" ..> 라고 정의된 태그들만 가리킴\n",
    "\n",
    "⑤ \"#zxcvasdf\" : 태그 종류와 무관하게 아이디(id)가 zxcvasdf인 태그를 가리킴\n",
    "\n",
    "⑥ \"div > a:nth-child(#)\" : html소스코드 내 모든 div 중에 바로 아래 a 태그가 여러 개 있는 경우, 그 a태그 중 각각 #번째 a태그들을 가리킴\n",
    "\n",
    "⑦ \"div[class]\" : div태그 중에 class라는 속성을 가진 태그들을 가리킴\n",
    "\n",
    "⑧ \"div[id^='qwer']\" : div 태그 중에 id가 \"qwer\"로 시작하는 태그들을 가리킴\n",
    "\n",
    "⑨ \"div[id$='qwer']\" : div 태그 중에 id가 \"qwer\"로 끝나는 태그를 가리킴\n",
    "\n",
    "⑩ \"div[id*='qwer']\" : div 태그 중에 id 속성에 \"qwer\" 문자열이 포함된 태그들을 가리킴\n",
    "\n",
    "이밖에도 다양한 CSS 선택자들이 있으나 우리 학습의 범위를 벗어납니다.\n",
    "\n",
    "그래도 학습의욕이 있는 분들을 위해 w3schools의 관련 페이지 링크를 남겨둡니다.\n",
    "\n",
    "https://www.w3schools.com/cssref/css_selectors.php\n",
    "\n",
    "## 본론으로 돌아와서\n",
    "\n",
    "첫 번째 글의 CSS선택자부터 네 번째 글의 CSS선택자까지\n",
    "\n",
    "동일한 과정으로 각각 아래 붙여넣기 해보면 다음과 같습니다."
   ],
   "metadata": {
    "collapsed": false
   }
  },
  {
   "cell_type": "code",
   "execution_count": 4,
   "outputs": [],
   "source": [
    "첫번째글 = \"#content > div.inner > div:nth-child(1) > a > span.title\"\n",
    "두번째글 = \"#content > div.inner > div:nth-child(2) > a > span.title\"\n",
    "세번째글 = \"#content > div.inner > div:nth-child(3) > a > span.title\"\n",
    "네번째글 = \"#content > div.inner > div:nth-child(4) > a > span.title\""
   ],
   "metadata": {
    "collapsed": false,
    "ExecuteTime": {
     "end_time": "2023-06-29T07:31:06.036035900Z",
     "start_time": "2023-06-29T07:31:06.036035900Z"
    }
   }
  },
  {
   "cell_type": "markdown",
   "source": [
    "차이점이 딱 한 군데 있네요. 가운데쯤의 `div:nth-child(#)` 부분인데요.\n",
    "\n",
    "여기서 \":nth-child(#)\"를 지우고 \"div\"만 남기면\n",
    "\n",
    "네 개의 글을 전부 선택할 수 있는 주소가 됩니다.\n",
    "\n",
    "이걸 \"글목록\" 변수에 저장해줍니다."
   ],
   "metadata": {
    "collapsed": false
   }
  },
  {
   "cell_type": "code",
   "execution_count": 6,
   "outputs": [],
   "source": [
    "글목록_선택자 = \"#content > div.inner > div > a > span.title\""
   ],
   "metadata": {
    "collapsed": false,
    "ExecuteTime": {
     "end_time": "2023-06-29T07:34:11.004900100Z",
     "start_time": "2023-06-29T07:34:10.993954700Z"
    }
   }
  },
  {
   "cell_type": "markdown",
   "source": [
    "이제 글목록_선택자를 통해 글제목을 가리키는 span 태그 네 개를 선택해보겠습니다.\n",
    "\n",
    "선택자를 통해 태그를 선택하는 명령어는\n",
    "\n",
    "driver.find_element(몇 개가 됐든지 첫 번째만 리턴), 또는\n",
    "\n",
    "driver.find_elements(몇 개든 리스트에 담아 리턴. 한 개라도 리스트에 담음)\n",
    "\n",
    "입니다."
   ],
   "metadata": {
    "collapsed": false
   }
  },
  {
   "cell_type": "code",
   "execution_count": 8,
   "outputs": [
    {
     "name": "stdout",
     "output_type": "stream",
     "text": [
      "테스트2\n",
      "테스트1\n",
      "이커머스\n",
      "qwerqwer\n"
     ]
    }
   ],
   "source": [
    "글제목_태그목록 = driver.find_elements(By.CSS_SELECTOR, 글목록_선택자)\n",
    "for 글제목 in 글제목_태그목록:\n",
    "    print(글제목.text)"
   ],
   "metadata": {
    "collapsed": false,
    "ExecuteTime": {
     "end_time": "2023-06-29T07:36:44.499761Z",
     "start_time": "2023-06-29T07:36:44.418912400Z"
    }
   }
  },
  {
   "cell_type": "markdown",
   "source": [
    "해당 글제목이 전부 출력되었습니다.\n",
    "\n",
    "이번엔 글제목을 하나씩 클릭해서 포스팅에 들어갔다가\n",
    "\n",
    "driver.back()으로 메인화면으로 돌아오는 코드를 실행해볼까요?\n",
    "\n",
    "(미리 말씀드리지만 오류가 발생합니다.)"
   ],
   "metadata": {
    "collapsed": false
   }
  },
  {
   "cell_type": "code",
   "execution_count": 9,
   "outputs": [
    {
     "ename": "StaleElementReferenceException",
     "evalue": "Message: stale element reference: stale element not found\n  (Session info: chrome=114.0.5735.199); For documentation on this error, please visit: https://www.selenium.dev/documentation/webdriver/troubleshooting/errors#stale-element-reference-exception\nStacktrace:\nBacktrace:\n\tGetHandleVerifier [0x00F26E73+48323]\n\t(No symbol) [0x00EB9661]\n\t(No symbol) [0x00DC5308]\n\t(No symbol) [0x00DCE553]\n\t(No symbol) [0x00DC8A28]\n\t(No symbol) [0x00DC7BB3]\n\t(No symbol) [0x00DC9991]\n\t(No symbol) [0x00DC9A30]\n\t(No symbol) [0x00DF1EC9]\n\t(No symbol) [0x00DE9F4D]\n\t(No symbol) [0x00E0A8DC]\n\t(No symbol) [0x00DE9BD6]\n\t(No symbol) [0x00E0AC34]\n\t(No symbol) [0x00E1CAC2]\n\t(No symbol) [0x00E0A6D6]\n\t(No symbol) [0x00DE847C]\n\t(No symbol) [0x00DE957D]\n\tGetHandleVerifier [0x0118FD5D+2575277]\n\tGetHandleVerifier [0x011CF86E+2836158]\n\tGetHandleVerifier [0x011C96DC+2811180]\n\tGetHandleVerifier [0x00FB41B0+626688]\n\t(No symbol) [0x00EC314C]\n\t(No symbol) [0x00EBF4B8]\n\t(No symbol) [0x00EBF59B]\n\t(No symbol) [0x00EB21B7]\n\tBaseThreadInitThunk [0x760C00C9+25]\n\tRtlGetAppContainerNamedObjectPath [0x77A87B4E+286]\n\tRtlGetAppContainerNamedObjectPath [0x77A87B1E+238]\n",
     "output_type": "error",
     "traceback": [
      "\u001B[1;31m---------------------------------------------------------------------------\u001B[0m",
      "\u001B[1;31mStaleElementReferenceException\u001B[0m            Traceback (most recent call last)",
      "Cell \u001B[1;32mIn[9], line 3\u001B[0m\n\u001B[0;32m      1\u001B[0m 글제목_태그목록 \u001B[38;5;241m=\u001B[39m driver\u001B[38;5;241m.\u001B[39mfind_elements(By\u001B[38;5;241m.\u001B[39mCSS_SELECTOR, 글목록_선택자)\n\u001B[0;32m      2\u001B[0m \u001B[38;5;28;01mfor\u001B[39;00m 글제목 \u001B[38;5;129;01min\u001B[39;00m 글제목_태그목록:\n\u001B[1;32m----> 3\u001B[0m     \u001B[43m글제목\u001B[49m\u001B[38;5;241;43m.\u001B[39;49m\u001B[43mclick\u001B[49m\u001B[43m(\u001B[49m\u001B[43m)\u001B[49m\n\u001B[0;32m      4\u001B[0m     driver\u001B[38;5;241m.\u001B[39mback()\n",
      "File \u001B[1;32m~\\AppData\\Local\\Programs\\Python\\Python311\\Lib\\site-packages\\selenium\\webdriver\\remote\\webelement.py:94\u001B[0m, in \u001B[0;36mWebElement.click\u001B[1;34m(self)\u001B[0m\n\u001B[0;32m     92\u001B[0m \u001B[38;5;28;01mdef\u001B[39;00m \u001B[38;5;21mclick\u001B[39m(\u001B[38;5;28mself\u001B[39m) \u001B[38;5;241m-\u001B[39m\u001B[38;5;241m>\u001B[39m \u001B[38;5;28;01mNone\u001B[39;00m:\n\u001B[0;32m     93\u001B[0m \u001B[38;5;250m    \u001B[39m\u001B[38;5;124;03m\"\"\"Clicks the element.\"\"\"\u001B[39;00m\n\u001B[1;32m---> 94\u001B[0m     \u001B[38;5;28;43mself\u001B[39;49m\u001B[38;5;241;43m.\u001B[39;49m\u001B[43m_execute\u001B[49m\u001B[43m(\u001B[49m\u001B[43mCommand\u001B[49m\u001B[38;5;241;43m.\u001B[39;49m\u001B[43mCLICK_ELEMENT\u001B[49m\u001B[43m)\u001B[49m\n",
      "File \u001B[1;32m~\\AppData\\Local\\Programs\\Python\\Python311\\Lib\\site-packages\\selenium\\webdriver\\remote\\webelement.py:395\u001B[0m, in \u001B[0;36mWebElement._execute\u001B[1;34m(self, command, params)\u001B[0m\n\u001B[0;32m    393\u001B[0m     params \u001B[38;5;241m=\u001B[39m {}\n\u001B[0;32m    394\u001B[0m params[\u001B[38;5;124m\"\u001B[39m\u001B[38;5;124mid\u001B[39m\u001B[38;5;124m\"\u001B[39m] \u001B[38;5;241m=\u001B[39m \u001B[38;5;28mself\u001B[39m\u001B[38;5;241m.\u001B[39m_id\n\u001B[1;32m--> 395\u001B[0m \u001B[38;5;28;01mreturn\u001B[39;00m \u001B[38;5;28;43mself\u001B[39;49m\u001B[38;5;241;43m.\u001B[39;49m\u001B[43m_parent\u001B[49m\u001B[38;5;241;43m.\u001B[39;49m\u001B[43mexecute\u001B[49m\u001B[43m(\u001B[49m\u001B[43mcommand\u001B[49m\u001B[43m,\u001B[49m\u001B[43m \u001B[49m\u001B[43mparams\u001B[49m\u001B[43m)\u001B[49m\n",
      "File \u001B[1;32m~\\AppData\\Local\\Programs\\Python\\Python311\\Lib\\site-packages\\selenium\\webdriver\\remote\\webdriver.py:346\u001B[0m, in \u001B[0;36mWebDriver.execute\u001B[1;34m(self, driver_command, params)\u001B[0m\n\u001B[0;32m    344\u001B[0m response \u001B[38;5;241m=\u001B[39m \u001B[38;5;28mself\u001B[39m\u001B[38;5;241m.\u001B[39mcommand_executor\u001B[38;5;241m.\u001B[39mexecute(driver_command, params)\n\u001B[0;32m    345\u001B[0m \u001B[38;5;28;01mif\u001B[39;00m response:\n\u001B[1;32m--> 346\u001B[0m     \u001B[38;5;28;43mself\u001B[39;49m\u001B[38;5;241;43m.\u001B[39;49m\u001B[43merror_handler\u001B[49m\u001B[38;5;241;43m.\u001B[39;49m\u001B[43mcheck_response\u001B[49m\u001B[43m(\u001B[49m\u001B[43mresponse\u001B[49m\u001B[43m)\u001B[49m\n\u001B[0;32m    347\u001B[0m     response[\u001B[38;5;124m\"\u001B[39m\u001B[38;5;124mvalue\u001B[39m\u001B[38;5;124m\"\u001B[39m] \u001B[38;5;241m=\u001B[39m \u001B[38;5;28mself\u001B[39m\u001B[38;5;241m.\u001B[39m_unwrap_value(response\u001B[38;5;241m.\u001B[39mget(\u001B[38;5;124m\"\u001B[39m\u001B[38;5;124mvalue\u001B[39m\u001B[38;5;124m\"\u001B[39m, \u001B[38;5;28;01mNone\u001B[39;00m))\n\u001B[0;32m    348\u001B[0m     \u001B[38;5;28;01mreturn\u001B[39;00m response\n",
      "File \u001B[1;32m~\\AppData\\Local\\Programs\\Python\\Python311\\Lib\\site-packages\\selenium\\webdriver\\remote\\errorhandler.py:245\u001B[0m, in \u001B[0;36mErrorHandler.check_response\u001B[1;34m(self, response)\u001B[0m\n\u001B[0;32m    243\u001B[0m         alert_text \u001B[38;5;241m=\u001B[39m value[\u001B[38;5;124m\"\u001B[39m\u001B[38;5;124malert\u001B[39m\u001B[38;5;124m\"\u001B[39m]\u001B[38;5;241m.\u001B[39mget(\u001B[38;5;124m\"\u001B[39m\u001B[38;5;124mtext\u001B[39m\u001B[38;5;124m\"\u001B[39m)\n\u001B[0;32m    244\u001B[0m     \u001B[38;5;28;01mraise\u001B[39;00m exception_class(message, screen, stacktrace, alert_text)  \u001B[38;5;66;03m# type: ignore[call-arg]  # mypy is not smart enough here\u001B[39;00m\n\u001B[1;32m--> 245\u001B[0m \u001B[38;5;28;01mraise\u001B[39;00m exception_class(message, screen, stacktrace)\n",
      "\u001B[1;31mStaleElementReferenceException\u001B[0m: Message: stale element reference: stale element not found\n  (Session info: chrome=114.0.5735.199); For documentation on this error, please visit: https://www.selenium.dev/documentation/webdriver/troubleshooting/errors#stale-element-reference-exception\nStacktrace:\nBacktrace:\n\tGetHandleVerifier [0x00F26E73+48323]\n\t(No symbol) [0x00EB9661]\n\t(No symbol) [0x00DC5308]\n\t(No symbol) [0x00DCE553]\n\t(No symbol) [0x00DC8A28]\n\t(No symbol) [0x00DC7BB3]\n\t(No symbol) [0x00DC9991]\n\t(No symbol) [0x00DC9A30]\n\t(No symbol) [0x00DF1EC9]\n\t(No symbol) [0x00DE9F4D]\n\t(No symbol) [0x00E0A8DC]\n\t(No symbol) [0x00DE9BD6]\n\t(No symbol) [0x00E0AC34]\n\t(No symbol) [0x00E1CAC2]\n\t(No symbol) [0x00E0A6D6]\n\t(No symbol) [0x00DE847C]\n\t(No symbol) [0x00DE957D]\n\tGetHandleVerifier [0x0118FD5D+2575277]\n\tGetHandleVerifier [0x011CF86E+2836158]\n\tGetHandleVerifier [0x011C96DC+2811180]\n\tGetHandleVerifier [0x00FB41B0+626688]\n\t(No symbol) [0x00EC314C]\n\t(No symbol) [0x00EBF4B8]\n\t(No symbol) [0x00EBF59B]\n\t(No symbol) [0x00EB21B7]\n\tBaseThreadInitThunk [0x760C00C9+25]\n\tRtlGetAppContainerNamedObjectPath [0x77A87B4E+286]\n\tRtlGetAppContainerNamedObjectPath [0x77A87B1E+238]\n"
     ]
    }
   ],
   "source": [
    "글제목_태그목록 = driver.find_elements(By.CSS_SELECTOR, 글목록_선택자)\n",
    "for 글제목 in 글제목_태그목록:\n",
    "    글제목.click()\n",
    "    driver.back()"
   ],
   "metadata": {
    "collapsed": false,
    "ExecuteTime": {
     "end_time": "2023-06-29T07:38:20.207777100Z",
     "start_time": "2023-06-29T07:38:18.497028200Z"
    }
   }
  },
  {
   "cell_type": "markdown",
   "source": [
    "StaleElementReferenceException 오류는 왜 발생하게 된 걸까요?\n",
    "\n",
    "사실 find_elements를 통해 추출한 태그정보는 일회성입니다.\n",
    "\n",
    "페이지가 변경되거나 새로고침될 때 다시 얻어와야 합니다.\n",
    "\n",
    "새로고침된 태그들은 (주소나 속성은 완전히 동일할지언정)\n",
    "\n",
    "이전의 태그들과 다른 객체(인스턴스)이기 때문에,\n",
    "\n",
    "기존의 태그 리스트로 접근할 수 없습니다.\n",
    "\n",
    "조금 번거롭지만 아래와 같이 수정하면 실행할 수는 있습니다."
   ],
   "metadata": {
    "collapsed": false
   }
  },
  {
   "cell_type": "code",
   "execution_count": 12,
   "outputs": [],
   "source": [
    "글_갯수 = len(driver.find_elements(By.CSS_SELECTOR, 글목록_선택자))\n",
    "\n",
    "for 글번호 in range(글_갯수):\n",
    "    글제목_태그목록 = driver.find_elements(By.CSS_SELECTOR, 글목록_선택자)\n",
    "    글제목_태그목록[글번호].click()\n",
    "    driver.back()"
   ],
   "metadata": {
    "collapsed": false,
    "ExecuteTime": {
     "end_time": "2023-06-29T08:10:43.102514200Z",
     "start_time": "2023-06-29T08:10:40.406497700Z"
    }
   }
  },
  {
   "cell_type": "markdown",
   "source": [
    "1페이지의 글 4개를 모두 들어갔다 나왔습니다.\n",
    "\n",
    "하지만 좋은 방법은 아닙니다.\n",
    "\n",
    "태그목록을 매번 조회하는 방법이 다소 비효율적이네요.\n",
    "\n",
    "더 좋은 방법이 없을까요?\n",
    "\n",
    "# 바로 span 태그 상단의 a 태그를 이용하는 방식입니다.\n",
    "\n",
    "a태그 안에는 해당 글의 URL이 들어있는데,\n",
    "\n",
    "이 문자열을 통해 driver.get으로 직접 접근하면 될 것 같아요.\n",
    "\n",
    "그러면 매번 글제목 태그의 목록을 조회하지 않아도 되겠습니다."
   ],
   "metadata": {
    "collapsed": false
   }
  },
  {
   "cell_type": "markdown",
   "source": [
    "# 새로운 방법(a태그의 href 속성을 이용)\n",
    "\n",
    "html 소스코드 내에서 사용자와 상호작용하는 태그는 주로\n",
    "\n",
    "a, input, button 등입니다. 특히 a는 anchor의 약자로\n",
    "\n",
    "다른 페이지로 이동할 수 있게 해줍니다.\n",
    "\n",
    "아까 우리가 제목을 클릭했지만, 실제로 행동했던 태그는\n",
    "\n",
    "바로 상단의 a태그입니다.\n",
    "\n",
    "![](https://i.ibb.co/sqSgRbs/2023-06-29-173218.png)\n",
    "\n",
    "(그리고 자세히 보시면 a태그 안에 네 개의 span이 전부 들어있는 것도 확인할 수 있습니다.)\n",
    "\n",
    "아까와 동일한 과정으로 a태그의 선택자를 복사해와봅시다.\n"
   ],
   "metadata": {
    "collapsed": false
   }
  },
  {
   "cell_type": "code",
   "execution_count": 13,
   "outputs": [],
   "source": [
    "첫번째글_a태그 = \"#content > div.inner > div:nth-child(1) > a\"\n",
    "두번째글_a태그 = \"#content > div.inner > div:nth-child(2) > a\"\n",
    "세번째글_a태그 = \"#content > div.inner > div:nth-child(3) > a\"\n",
    "네번째글_a태그 = \"#content > div.inner > div:nth-child(4) > a\""
   ],
   "metadata": {
    "collapsed": false,
    "ExecuteTime": {
     "end_time": "2023-06-29T08:34:37.867730100Z",
     "start_time": "2023-06-29T08:34:37.855824500Z"
    }
   }
  },
  {
   "cell_type": "markdown",
   "source": [
    "이번에도 동일하게 \":nth-child(#)\"이 붙어있네요.\n",
    "\n",
    "제거하고 find_element를 실행해보겠습니다."
   ],
   "metadata": {
    "collapsed": false
   }
  },
  {
   "cell_type": "code",
   "execution_count": 14,
   "outputs": [
    {
     "data": {
      "text/plain": "[<selenium.webdriver.remote.webelement.WebElement (session=\"4699d0b05821192494dae9e693a6f80e\", element=\"F646481B5B56FE04BF311B139185E845_element_580\")>,\n <selenium.webdriver.remote.webelement.WebElement (session=\"4699d0b05821192494dae9e693a6f80e\", element=\"F646481B5B56FE04BF311B139185E845_element_587\")>,\n <selenium.webdriver.remote.webelement.WebElement (session=\"4699d0b05821192494dae9e693a6f80e\", element=\"F646481B5B56FE04BF311B139185E845_element_588\")>,\n <selenium.webdriver.remote.webelement.WebElement (session=\"4699d0b05821192494dae9e693a6f80e\", element=\"F646481B5B56FE04BF311B139185E845_element_589\")>]"
     },
     "execution_count": 14,
     "metadata": {},
     "output_type": "execute_result"
    }
   ],
   "source": [
    "주소선택자 = \"#content > div.inner > div > a\"\n",
    "driver.find_elements(By.CSS_SELECTOR, 주소선택자)"
   ],
   "metadata": {
    "collapsed": false,
    "ExecuteTime": {
     "end_time": "2023-06-29T08:35:07.951919300Z",
     "start_time": "2023-06-29T08:35:07.921755400Z"
    }
   }
  },
  {
   "cell_type": "code",
   "execution_count": 15,
   "outputs": [
    {
     "data": {
      "text/plain": "['https://ilco.tistory.com/8',\n 'https://ilco.tistory.com/7',\n 'https://ilco.tistory.com/4',\n 'https://ilco.tistory.com/3']"
     },
     "execution_count": 15,
     "metadata": {},
     "output_type": "execute_result"
    }
   ],
   "source": [
    "[i.get_attribute(\"href\") for i in driver.find_elements(By.CSS_SELECTOR, 주소선택자)]"
   ],
   "metadata": {
    "collapsed": false,
    "ExecuteTime": {
     "end_time": "2023-06-29T08:35:10.375626900Z",
     "start_time": "2023-06-29T08:35:10.282064Z"
    }
   }
  },
  {
   "cell_type": "markdown",
   "source": [
    "네 개의 포스팅 주소가 추출되었습니다.\n",
    "\n",
    "이걸 이용하면 태그를 찾고 클릭하고 back() 으로 돌아오고 하는 과정 없이\n",
    "\n",
    "한 번에 네 개의 포스팅을 빠르게 돌 수 있겠습니다.\n",
    "\n",
    "다음은 페이지를 옮기는 방식입니다.\n",
    "\n",
    "# 작성중"
   ],
   "metadata": {
    "collapsed": false
   }
  },
  {
   "cell_type": "markdown",
   "source": [],
   "metadata": {
    "collapsed": false
   }
  },
  {
   "cell_type": "code",
   "execution_count": 33,
   "outputs": [
    {
     "name": "stdout",
     "output_type": "stream",
     "text": [
      "2\n"
     ]
    }
   ],
   "source": [
    "# 내 블로그의 마지막 페이지가 몇 번인지 확인할 수 있을까?\n",
    "page_num = 1\n",
    "while True:\n",
    "    driver.get(f\"https://ilco.tistory.com/?page={page_num}\")\n",
    "\n",
    "    주소선택자 = \"#content > div.inner > div > a\"\n",
    "    주소태그목록 = driver.find_elements(By.CSS_SELECTOR, 주소선택자)\n",
    "    주소목록 = [i.get_attribute(\"href\") for i in driver.find_elements(By.CSS_SELECTOR, 주소선택자)]\n",
    "\n",
    "    for 포스팅 in 주소목록:\n",
    "        driver.get(포스팅)\n",
    "\n",
    "        공감클릭()\n",
    "\n",
    "    driver.get(f\"https://ilco.tistory.com/?page={page_num}\")\n",
    "    if \"no-more-next\" in driver.find_element(By.CSS_SELECTOR, \"#content > div.pagination > a.next\").get_attribute(\"class\"):\n",
    "        break\n",
    "    page_num += 1\n",
    "print(page_num)"
   ],
   "metadata": {
    "collapsed": false,
    "ExecuteTime": {
     "end_time": "2023-06-29T03:50:52.278416900Z",
     "start_time": "2023-06-29T03:50:46.338931600Z"
    }
   }
  },
  {
   "cell_type": "code",
   "execution_count": 32,
   "outputs": [],
   "source": [
    "공감클릭()"
   ],
   "metadata": {
    "collapsed": false,
    "ExecuteTime": {
     "end_time": "2023-06-29T03:50:39.365989400Z",
     "start_time": "2023-06-29T03:50:39.325498900Z"
    }
   }
  },
  {
   "cell_type": "code",
   "execution_count": null,
   "outputs": [],
   "source": [],
   "metadata": {
    "collapsed": false
   }
  },
  {
   "cell_type": "code",
   "execution_count": 25,
   "outputs": [],
   "source": [
    "def 공감클릭():\n",
    "    공감_선택자 = \"button > div > span.ico_postbtn.ico_like\"\n",
    "    if \"like_on\" not in driver.find_element(By.CSS_SELECTOR, \"div[id^='reaction-'] > button > div\").get_attribute(\"class\"):\n",
    "        공감버튼 = driver.find_element(By.CSS_SELECTOR, 공감_선택자)\n",
    "        공감버튼.click()"
   ],
   "metadata": {
    "collapsed": false
   }
  }
 ],
 "metadata": {
  "kernelspec": {
   "display_name": "Python 3",
   "language": "python",
   "name": "python3"
  },
  "language_info": {
   "codemirror_mode": {
    "name": "ipython",
    "version": 2
   },
   "file_extension": ".py",
   "mimetype": "text/x-python",
   "name": "python",
   "nbconvert_exporter": "python",
   "pygments_lexer": "ipython2",
   "version": "2.7.6"
  }
 },
 "nbformat": 4,
 "nbformat_minor": 0
}
