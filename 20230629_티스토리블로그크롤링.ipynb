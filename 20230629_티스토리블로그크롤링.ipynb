{
 "cells": [
  {
   "cell_type": "markdown",
   "source": [
    "# 크롤링 예제 : 티스토리 블로그 공감 누르기 자동화"
   ],
   "metadata": {
    "collapsed": false
   }
  },
  {
   "cell_type": "markdown",
   "source": [
    "먼저 크롬 브라우저를 열겠습니다."
   ],
   "metadata": {
    "collapsed": false
   }
  },
  {
   "cell_type": "code",
   "execution_count": 1,
   "metadata": {
    "collapsed": true,
    "ExecuteTime": {
     "end_time": "2023-06-29T14:32:08.617859500Z",
     "start_time": "2023-06-29T14:32:04.464291700Z"
    }
   },
   "outputs": [
    {
     "name": "stdout",
     "output_type": "stream",
     "text": [
      "Requirement already satisfied: chromedriver_autoinstaller in c:\\users\\hkit\\appdata\\local\\programs\\python\\python311\\lib\\site-packages (0.4.0)\n",
      "Requirement already satisfied: selenium in c:\\users\\hkit\\appdata\\local\\programs\\python\\python311\\lib\\site-packages (4.10.0)\n",
      "Requirement already satisfied: urllib3[socks]<3,>=1.26 in c:\\users\\hkit\\appdata\\local\\programs\\python\\python311\\lib\\site-packages (from selenium) (2.0.3)\n",
      "Requirement already satisfied: trio~=0.17 in c:\\users\\hkit\\appdata\\local\\programs\\python\\python311\\lib\\site-packages (from selenium) (0.22.0)\n",
      "Requirement already satisfied: trio-websocket~=0.9 in c:\\users\\hkit\\appdata\\local\\programs\\python\\python311\\lib\\site-packages (from selenium) (0.10.3)\n",
      "Requirement already satisfied: certifi>=2021.10.8 in c:\\users\\hkit\\appdata\\local\\programs\\python\\python311\\lib\\site-packages (from selenium) (2023.5.7)\n",
      "Requirement already satisfied: attrs>=19.2.0 in c:\\users\\hkit\\appdata\\local\\programs\\python\\python311\\lib\\site-packages (from trio~=0.17->selenium) (23.1.0)\n",
      "Requirement already satisfied: sortedcontainers in c:\\users\\hkit\\appdata\\local\\programs\\python\\python311\\lib\\site-packages (from trio~=0.17->selenium) (2.4.0)\n",
      "Requirement already satisfied: async-generator>=1.9 in c:\\users\\hkit\\appdata\\local\\programs\\python\\python311\\lib\\site-packages (from trio~=0.17->selenium) (1.10)\n",
      "Requirement already satisfied: idna in c:\\users\\hkit\\appdata\\local\\programs\\python\\python311\\lib\\site-packages (from trio~=0.17->selenium) (3.4)\n",
      "Requirement already satisfied: outcome in c:\\users\\hkit\\appdata\\local\\programs\\python\\python311\\lib\\site-packages (from trio~=0.17->selenium) (1.2.0)\n",
      "Requirement already satisfied: sniffio in c:\\users\\hkit\\appdata\\local\\programs\\python\\python311\\lib\\site-packages (from trio~=0.17->selenium) (1.3.0)\n",
      "Requirement already satisfied: cffi>=1.14 in c:\\users\\hkit\\appdata\\local\\programs\\python\\python311\\lib\\site-packages (from trio~=0.17->selenium) (1.15.1)\n",
      "Requirement already satisfied: exceptiongroup in c:\\users\\hkit\\appdata\\local\\programs\\python\\python311\\lib\\site-packages (from trio-websocket~=0.9->selenium) (1.1.1)\n",
      "Requirement already satisfied: wsproto>=0.14 in c:\\users\\hkit\\appdata\\local\\programs\\python\\python311\\lib\\site-packages (from trio-websocket~=0.9->selenium) (1.2.0)\n",
      "Requirement already satisfied: pysocks!=1.5.7,<2.0,>=1.5.6 in c:\\users\\hkit\\appdata\\local\\programs\\python\\python311\\lib\\site-packages (from urllib3[socks]<3,>=1.26->selenium) (1.7.1)\n",
      "Requirement already satisfied: pycparser in c:\\users\\hkit\\appdata\\local\\programs\\python\\python311\\lib\\site-packages (from cffi>=1.14->trio~=0.17->selenium) (2.21)\n",
      "Requirement already satisfied: h11<1,>=0.9.0 in c:\\users\\hkit\\appdata\\local\\programs\\python\\python311\\lib\\site-packages (from wsproto>=0.14->trio-websocket~=0.9->selenium) (0.14.0)\n",
      "Note: you may need to restart the kernel to use updated packages.\n"
     ]
    }
   ],
   "source": [
    "from time import sleep\n",
    "%pip install chromedriver_autoinstaller selenium\n",
    "import chromedriver_autoinstaller\n",
    "from selenium import webdriver\n",
    "from selenium.webdriver.common.by import By"
   ]
  },
  {
   "cell_type": "code",
   "execution_count": 2,
   "outputs": [],
   "source": [
    "chromedriver_autoinstaller.install()\n",
    "driver = webdriver.Chrome()"
   ],
   "metadata": {
    "collapsed": false,
    "ExecuteTime": {
     "end_time": "2023-06-29T14:32:10.500757800Z",
     "start_time": "2023-06-29T14:32:08.617859500Z"
    }
   }
  },
  {
   "cell_type": "markdown",
   "source": [
    "티스토리 블로그에 접속해봅시다.\n",
    "\n",
    "(티스토리는 로그인 없이 공감버튼 클릭이 가능하므로 로그인은 생략하겠습니다.)"
   ],
   "metadata": {
    "collapsed": false
   }
  },
  {
   "cell_type": "code",
   "execution_count": 3,
   "outputs": [],
   "source": [
    "# 티스토리 블로그 접속\n",
    "driver.get(\"https://ilco.tistory.com\")"
   ],
   "metadata": {
    "collapsed": false,
    "ExecuteTime": {
     "end_time": "2023-06-29T14:32:11.634847500Z",
     "start_time": "2023-06-29T14:32:10.502753300Z"
    }
   }
  },
  {
   "cell_type": "markdown",
   "source": [
    "첫 번째 포스팅을 클릭해보겠습니다.\n",
    "\n",
    "먼저 브라우저에서 첫 번째 글의 제목에 마우스 커서를 대고 우클릭한 후 \"검사\"를 누릅니다.\n",
    "\n",
    "![](https://i.ibb.co/BBrHZY2/2023-06-29-160124.png)\n",
    "\n",
    "개발자도구(우측 창)의 `<span class=\"title\">테스트2</span>`이라는 문자열에\n",
    "\n",
    "하이라이트가 되어 있네요.\n",
    "\n",
    "저 태그를 우클릭해서 Copy - Copy Selector 를 선택합니다.\n",
    "\n",
    "![](https://i.ibb.co/3SJvt2w/2023-06-29-155948.png)\n",
    "\n",
    "클립보드에 복사된 문자열은 아래와 같습니다."
   ],
   "metadata": {
    "collapsed": false
   }
  },
  {
   "cell_type": "code",
   "execution_count": 4,
   "outputs": [
    {
     "data": {
      "text/plain": "'#content > div.inner > div:nth-child(1) > a > span.title'"
     },
     "execution_count": 4,
     "metadata": {},
     "output_type": "execute_result"
    }
   ],
   "source": [
    "\"#content > div.inner > div:nth-child(1) > a > span.title\""
   ],
   "metadata": {
    "collapsed": false,
    "ExecuteTime": {
     "end_time": "2023-06-29T14:32:11.644121500Z",
     "start_time": "2023-06-29T14:32:11.635845600Z"
    }
   }
  },
  {
   "cell_type": "markdown",
   "source": [
    "**위 문자열은 특정 태그나 태그들의 목록을 가리키는 일종의 \"주소\"와 비슷합니다.**\n",
    "\n",
    "우리 한국IT교육원의 주소는\n",
    "\n",
    "\"[41223] 대한민국 대구광역시 동구 동대구로 566 (신암동)\" 인데요.\n",
    "\n",
    "대한민국 사람이라면\n",
    "\n",
    "[우편번호]나 \"대한민국\", 또는 \"대구광역시 동구\"라는 단어까지 빼고 말해도\n",
    "\n",
    "이를테면 \"동대구로 566\"만 듣고도 우리 학원에 찾아오실 수 있을 거예요.\n",
    "\n",
    "위에 붙여넣기한 저 문자열(\"#content > div.inner > ...\")도\n",
    "\n",
    "CSS SELECTOR 라고 불리는 문법으로,\n",
    "\n",
    "특정 태그(첫 번째 글의 제목)를 가리키는 유연한 주소 개념이라고 이해하시면 됩니다.\n",
    "\n",
    "간단한 문법만 몇 가지 알려드리면,\n",
    "\n",
    "① \"a\" : 현재 html 소스 내에 있는 모든 a 태그들을 가리킴\n",
    "\n",
    "② \"body > a\" : body 태그 바로 아래(body의 자식)에 있는 a 태그들만 가리킴\n",
    "\n",
    "③ \"body a\" : body 태그 아래 어딘가 있는(body의 자손) 모든 a 태그들을 가리킴\n",
    "\n",
    "④ \"a.asdfqwer\" : a 태그 중에 <a class=\"asdfqwer\" ..> 라고 정의된 태그들만 가리킴\n",
    "\n",
    "⑤ \"#zxcvasdf\" : 태그 종류와 무관하게 아이디(id)가 zxcvasdf인 태그를 가리킴\n",
    "\n",
    "⑥ \"div > a:nth-child(#)\" : html소스코드 내 모든 div 중에 바로 아래 a 태그가 여러 개 있는 경우, 그 a태그 중 각각 #번째 a태그들을 가리킴\n",
    "\n",
    "⑦ \"div[class]\" : div태그 중에 class라는 속성을 가진 태그들을 가리킴\n",
    "\n",
    "⑧ \"div[id^='qwer']\" : div 태그 중에 id가 \"qwer\"로 시작하는 태그들을 가리킴\n",
    "\n",
    "⑨ \"div[id$='qwer']\" : div 태그 중에 id가 \"qwer\"로 끝나는 태그를 가리킴\n",
    "\n",
    "⑩ \"div[id*='qwer']\" : div 태그 중에 id 속성에 \"qwer\" 문자열이 포함된 태그들을 가리킴\n",
    "\n",
    "이밖에도 다양한 CSS 선택자들이 있으나 우리 학습의 범위를 벗어납니다.\n",
    "\n",
    "그래도 학습의욕이 있는 분들을 위해 w3schools의 관련 페이지 링크를 남겨둡니다.\n",
    "\n",
    "https://www.w3schools.com/cssref/css_selectors.php\n",
    "\n",
    "## 본론으로 돌아와서\n",
    "\n",
    "첫 번째 글의 CSS선택자부터 네 번째 글의 CSS선택자까지\n",
    "\n",
    "동일한 과정으로 각각 아래 붙여넣기 해보면 다음과 같습니다."
   ],
   "metadata": {
    "collapsed": false
   }
  },
  {
   "cell_type": "code",
   "execution_count": 5,
   "outputs": [],
   "source": [
    "첫번째글 = \"#content > div.inner > div:nth-child(1) > a > span.title\"\n",
    "두번째글 = \"#content > div.inner > div:nth-child(2) > a > span.title\"\n",
    "세번째글 = \"#content > div.inner > div:nth-child(3) > a > span.title\"\n",
    "네번째글 = \"#content > div.inner > div:nth-child(4) > a > span.title\""
   ],
   "metadata": {
    "collapsed": false,
    "ExecuteTime": {
     "end_time": "2023-06-29T14:32:11.648110600Z",
     "start_time": "2023-06-29T14:32:11.636842600Z"
    }
   }
  },
  {
   "cell_type": "markdown",
   "source": [
    "차이점이 딱 한 군데 있네요. 가운데쯤의 `div:nth-child(#)` 부분인데요.\n",
    "\n",
    "여기서 \":nth-child(#)\"를 지우고 \"div\"만 남기면\n",
    "\n",
    "네 개의 글을 전부 선택할 수 있는 주소가 됩니다.\n",
    "\n",
    "이걸 \"글목록\" 변수에 저장해줍니다."
   ],
   "metadata": {
    "collapsed": false
   }
  },
  {
   "cell_type": "code",
   "execution_count": 6,
   "outputs": [],
   "source": [
    "글목록_선택자 = \"#content > div.inner > div > a > span.title\""
   ],
   "metadata": {
    "collapsed": false,
    "ExecuteTime": {
     "end_time": "2023-06-29T14:32:15.897568100Z",
     "start_time": "2023-06-29T14:32:15.897314Z"
    }
   }
  },
  {
   "cell_type": "markdown",
   "source": [
    "이제 글목록_선택자를 통해 글제목을 가리키는 span 태그 네 개를 선택해보겠습니다.\n",
    "\n",
    "선택자를 통해 태그를 선택하는 명령어는\n",
    "\n",
    "driver.find_element(몇 개가 됐든지 첫 번째만 리턴), 또는\n",
    "\n",
    "driver.find_elements(몇 개든 리스트에 담아 리턴. 한 개라도 리스트에 담음)\n",
    "\n",
    "입니다."
   ],
   "metadata": {
    "collapsed": false
   }
  },
  {
   "cell_type": "code",
   "execution_count": 7,
   "outputs": [
    {
     "name": "stdout",
     "output_type": "stream",
     "text": [
      "테스트2\n",
      "테스트1\n",
      "이커머스\n",
      "qwerqwer\n"
     ]
    }
   ],
   "source": [
    "글제목_태그목록 = driver.find_elements(By.CSS_SELECTOR, 글목록_선택자)\n",
    "for 글제목 in 글제목_태그목록:\n",
    "    print(글제목.text)"
   ],
   "metadata": {
    "collapsed": false,
    "ExecuteTime": {
     "end_time": "2023-06-29T14:32:17.684076900Z",
     "start_time": "2023-06-29T14:32:17.594576200Z"
    }
   }
  },
  {
   "cell_type": "markdown",
   "source": [
    "해당 글제목이 전부 출력되었습니다.\n",
    "\n",
    "이번엔 글제목을 하나씩 클릭해서 포스팅에 들어갔다가\n",
    "\n",
    "driver.back()으로 메인화면으로 돌아오는 코드를 실행해볼까요?\n",
    "\n",
    "(미리 말씀드리지만 오류가 발생합니다.)"
   ],
   "metadata": {
    "collapsed": false
   }
  },
  {
   "cell_type": "code",
   "execution_count": 8,
   "outputs": [
    {
     "ename": "StaleElementReferenceException",
     "evalue": "Message: stale element reference: stale element not found\n  (Session info: chrome=114.0.5735.199); For documentation on this error, please visit: https://www.selenium.dev/documentation/webdriver/troubleshooting/errors#stale-element-reference-exception\nStacktrace:\nBacktrace:\n\tGetHandleVerifier [0x00986E73+48323]\n\t(No symbol) [0x00919661]\n\t(No symbol) [0x00825308]\n\t(No symbol) [0x0082E553]\n\t(No symbol) [0x00828A28]\n\t(No symbol) [0x00827BB3]\n\t(No symbol) [0x00829991]\n\t(No symbol) [0x00829A30]\n\t(No symbol) [0x00851EC9]\n\t(No symbol) [0x00849F4D]\n\t(No symbol) [0x0086A8DC]\n\t(No symbol) [0x00849BD6]\n\t(No symbol) [0x0086AC34]\n\t(No symbol) [0x0087CAC2]\n\t(No symbol) [0x0086A6D6]\n\t(No symbol) [0x0084847C]\n\t(No symbol) [0x0084957D]\n\tGetHandleVerifier [0x00BEFD5D+2575277]\n\tGetHandleVerifier [0x00C2F86E+2836158]\n\tGetHandleVerifier [0x00C296DC+2811180]\n\tGetHandleVerifier [0x00A141B0+626688]\n\t(No symbol) [0x0092314C]\n\t(No symbol) [0x0091F4B8]\n\t(No symbol) [0x0091F59B]\n\t(No symbol) [0x009121B7]\n\tBaseThreadInitThunk [0x760C00C9+25]\n\tRtlGetAppContainerNamedObjectPath [0x77A87B4E+286]\n\tRtlGetAppContainerNamedObjectPath [0x77A87B1E+238]\n",
     "output_type": "error",
     "traceback": [
      "\u001B[1;31m---------------------------------------------------------------------------\u001B[0m",
      "\u001B[1;31mStaleElementReferenceException\u001B[0m            Traceback (most recent call last)",
      "Cell \u001B[1;32mIn[8], line 3\u001B[0m\n\u001B[0;32m      1\u001B[0m 글제목_태그목록 \u001B[38;5;241m=\u001B[39m driver\u001B[38;5;241m.\u001B[39mfind_elements(By\u001B[38;5;241m.\u001B[39mCSS_SELECTOR, 글목록_선택자)\n\u001B[0;32m      2\u001B[0m \u001B[38;5;28;01mfor\u001B[39;00m 글제목 \u001B[38;5;129;01min\u001B[39;00m 글제목_태그목록:\n\u001B[1;32m----> 3\u001B[0m     \u001B[43m글제목\u001B[49m\u001B[38;5;241;43m.\u001B[39;49m\u001B[43mclick\u001B[49m\u001B[43m(\u001B[49m\u001B[43m)\u001B[49m\n\u001B[0;32m      4\u001B[0m     driver\u001B[38;5;241m.\u001B[39mback()\n",
      "File \u001B[1;32m~\\AppData\\Local\\Programs\\Python\\Python311\\Lib\\site-packages\\selenium\\webdriver\\remote\\webelement.py:94\u001B[0m, in \u001B[0;36mWebElement.click\u001B[1;34m(self)\u001B[0m\n\u001B[0;32m     92\u001B[0m \u001B[38;5;28;01mdef\u001B[39;00m \u001B[38;5;21mclick\u001B[39m(\u001B[38;5;28mself\u001B[39m) \u001B[38;5;241m-\u001B[39m\u001B[38;5;241m>\u001B[39m \u001B[38;5;28;01mNone\u001B[39;00m:\n\u001B[0;32m     93\u001B[0m \u001B[38;5;250m    \u001B[39m\u001B[38;5;124;03m\"\"\"Clicks the element.\"\"\"\u001B[39;00m\n\u001B[1;32m---> 94\u001B[0m     \u001B[38;5;28;43mself\u001B[39;49m\u001B[38;5;241;43m.\u001B[39;49m\u001B[43m_execute\u001B[49m\u001B[43m(\u001B[49m\u001B[43mCommand\u001B[49m\u001B[38;5;241;43m.\u001B[39;49m\u001B[43mCLICK_ELEMENT\u001B[49m\u001B[43m)\u001B[49m\n",
      "File \u001B[1;32m~\\AppData\\Local\\Programs\\Python\\Python311\\Lib\\site-packages\\selenium\\webdriver\\remote\\webelement.py:395\u001B[0m, in \u001B[0;36mWebElement._execute\u001B[1;34m(self, command, params)\u001B[0m\n\u001B[0;32m    393\u001B[0m     params \u001B[38;5;241m=\u001B[39m {}\n\u001B[0;32m    394\u001B[0m params[\u001B[38;5;124m\"\u001B[39m\u001B[38;5;124mid\u001B[39m\u001B[38;5;124m\"\u001B[39m] \u001B[38;5;241m=\u001B[39m \u001B[38;5;28mself\u001B[39m\u001B[38;5;241m.\u001B[39m_id\n\u001B[1;32m--> 395\u001B[0m \u001B[38;5;28;01mreturn\u001B[39;00m \u001B[38;5;28;43mself\u001B[39;49m\u001B[38;5;241;43m.\u001B[39;49m\u001B[43m_parent\u001B[49m\u001B[38;5;241;43m.\u001B[39;49m\u001B[43mexecute\u001B[49m\u001B[43m(\u001B[49m\u001B[43mcommand\u001B[49m\u001B[43m,\u001B[49m\u001B[43m \u001B[49m\u001B[43mparams\u001B[49m\u001B[43m)\u001B[49m\n",
      "File \u001B[1;32m~\\AppData\\Local\\Programs\\Python\\Python311\\Lib\\site-packages\\selenium\\webdriver\\remote\\webdriver.py:346\u001B[0m, in \u001B[0;36mWebDriver.execute\u001B[1;34m(self, driver_command, params)\u001B[0m\n\u001B[0;32m    344\u001B[0m response \u001B[38;5;241m=\u001B[39m \u001B[38;5;28mself\u001B[39m\u001B[38;5;241m.\u001B[39mcommand_executor\u001B[38;5;241m.\u001B[39mexecute(driver_command, params)\n\u001B[0;32m    345\u001B[0m \u001B[38;5;28;01mif\u001B[39;00m response:\n\u001B[1;32m--> 346\u001B[0m     \u001B[38;5;28;43mself\u001B[39;49m\u001B[38;5;241;43m.\u001B[39;49m\u001B[43merror_handler\u001B[49m\u001B[38;5;241;43m.\u001B[39;49m\u001B[43mcheck_response\u001B[49m\u001B[43m(\u001B[49m\u001B[43mresponse\u001B[49m\u001B[43m)\u001B[49m\n\u001B[0;32m    347\u001B[0m     response[\u001B[38;5;124m\"\u001B[39m\u001B[38;5;124mvalue\u001B[39m\u001B[38;5;124m\"\u001B[39m] \u001B[38;5;241m=\u001B[39m \u001B[38;5;28mself\u001B[39m\u001B[38;5;241m.\u001B[39m_unwrap_value(response\u001B[38;5;241m.\u001B[39mget(\u001B[38;5;124m\"\u001B[39m\u001B[38;5;124mvalue\u001B[39m\u001B[38;5;124m\"\u001B[39m, \u001B[38;5;28;01mNone\u001B[39;00m))\n\u001B[0;32m    348\u001B[0m     \u001B[38;5;28;01mreturn\u001B[39;00m response\n",
      "File \u001B[1;32m~\\AppData\\Local\\Programs\\Python\\Python311\\Lib\\site-packages\\selenium\\webdriver\\remote\\errorhandler.py:245\u001B[0m, in \u001B[0;36mErrorHandler.check_response\u001B[1;34m(self, response)\u001B[0m\n\u001B[0;32m    243\u001B[0m         alert_text \u001B[38;5;241m=\u001B[39m value[\u001B[38;5;124m\"\u001B[39m\u001B[38;5;124malert\u001B[39m\u001B[38;5;124m\"\u001B[39m]\u001B[38;5;241m.\u001B[39mget(\u001B[38;5;124m\"\u001B[39m\u001B[38;5;124mtext\u001B[39m\u001B[38;5;124m\"\u001B[39m)\n\u001B[0;32m    244\u001B[0m     \u001B[38;5;28;01mraise\u001B[39;00m exception_class(message, screen, stacktrace, alert_text)  \u001B[38;5;66;03m# type: ignore[call-arg]  # mypy is not smart enough here\u001B[39;00m\n\u001B[1;32m--> 245\u001B[0m \u001B[38;5;28;01mraise\u001B[39;00m exception_class(message, screen, stacktrace)\n",
      "\u001B[1;31mStaleElementReferenceException\u001B[0m: Message: stale element reference: stale element not found\n  (Session info: chrome=114.0.5735.199); For documentation on this error, please visit: https://www.selenium.dev/documentation/webdriver/troubleshooting/errors#stale-element-reference-exception\nStacktrace:\nBacktrace:\n\tGetHandleVerifier [0x00986E73+48323]\n\t(No symbol) [0x00919661]\n\t(No symbol) [0x00825308]\n\t(No symbol) [0x0082E553]\n\t(No symbol) [0x00828A28]\n\t(No symbol) [0x00827BB3]\n\t(No symbol) [0x00829991]\n\t(No symbol) [0x00829A30]\n\t(No symbol) [0x00851EC9]\n\t(No symbol) [0x00849F4D]\n\t(No symbol) [0x0086A8DC]\n\t(No symbol) [0x00849BD6]\n\t(No symbol) [0x0086AC34]\n\t(No symbol) [0x0087CAC2]\n\t(No symbol) [0x0086A6D6]\n\t(No symbol) [0x0084847C]\n\t(No symbol) [0x0084957D]\n\tGetHandleVerifier [0x00BEFD5D+2575277]\n\tGetHandleVerifier [0x00C2F86E+2836158]\n\tGetHandleVerifier [0x00C296DC+2811180]\n\tGetHandleVerifier [0x00A141B0+626688]\n\t(No symbol) [0x0092314C]\n\t(No symbol) [0x0091F4B8]\n\t(No symbol) [0x0091F59B]\n\t(No symbol) [0x009121B7]\n\tBaseThreadInitThunk [0x760C00C9+25]\n\tRtlGetAppContainerNamedObjectPath [0x77A87B4E+286]\n\tRtlGetAppContainerNamedObjectPath [0x77A87B1E+238]\n"
     ]
    }
   ],
   "source": [
    "글제목_태그목록 = driver.find_elements(By.CSS_SELECTOR, 글목록_선택자)\n",
    "for 글제목 in 글제목_태그목록:\n",
    "    글제목.click()\n",
    "    driver.back()"
   ],
   "metadata": {
    "collapsed": false,
    "ExecuteTime": {
     "end_time": "2023-06-29T14:32:25.839090200Z",
     "start_time": "2023-06-29T14:32:24.350041200Z"
    }
   }
  },
  {
   "cell_type": "markdown",
   "source": [
    "StaleElementReferenceException 오류는 왜 발생하게 된 걸까요?\n",
    "\n",
    "사실 find_elements를 통해 추출한 태그정보는 일회성입니다.\n",
    "\n",
    "페이지가 변경되거나 새로고침될 때 다시 얻어와야 합니다.\n",
    "\n",
    "새로고침된 태그들은 (주소나 속성은 완전히 동일할지언정)\n",
    "\n",
    "이전의 태그들과 다른 객체(인스턴스)이기 때문에,\n",
    "\n",
    "기존의 태그 리스트로 접근할 수 없습니다.\n",
    "\n",
    "조금 번거롭지만 아래와 같이 수정하면 실행할 수는 있습니다."
   ],
   "metadata": {
    "collapsed": false
   }
  },
  {
   "cell_type": "code",
   "execution_count": 9,
   "outputs": [],
   "source": [
    "글_갯수 = len(driver.find_elements(By.CSS_SELECTOR, 글목록_선택자))\n",
    "\n",
    "for 글번호 in range(글_갯수):\n",
    "    글제목_태그목록 = driver.find_elements(By.CSS_SELECTOR, 글목록_선택자)\n",
    "    글제목_태그목록[글번호].click()\n",
    "    driver.back()"
   ],
   "metadata": {
    "collapsed": false,
    "ExecuteTime": {
     "end_time": "2023-06-29T14:32:34.949281800Z",
     "start_time": "2023-06-29T14:32:32.733362600Z"
    }
   }
  },
  {
   "cell_type": "markdown",
   "source": [
    "1페이지의 글 4개를 모두 들어갔다 나왔습니다.\n",
    "\n",
    "하지만 좋은 방법은 아닙니다.\n",
    "\n",
    "태그목록을 매번 조회하는 방법이 다소 비효율적이네요.\n",
    "\n",
    "더 좋은 방법이 없을까요?\n",
    "\n",
    "# 바로 span 태그 상단의 a 태그를 이용하는 방식입니다.\n",
    "\n",
    "a태그 안에는 해당 글의 URL이 들어있는데,\n",
    "\n",
    "이 문자열을 통해 driver.get으로 직접 접근하면 될 것 같아요.\n",
    "\n",
    "그러면 매번 글제목 태그의 목록을 조회하지 않아도 되겠습니다."
   ],
   "metadata": {
    "collapsed": false
   }
  },
  {
   "cell_type": "markdown",
   "source": [
    "# 새로운 방법(a태그의 href 속성을 이용)\n",
    "\n",
    "html 소스코드 내에서 사용자와 상호작용하는 태그는 주로\n",
    "\n",
    "a, input, button 등입니다. 특히 a는 anchor의 약자로\n",
    "\n",
    "다른 페이지로 이동할 수 있게 해줍니다.\n",
    "\n",
    "아까 우리가 제목을 클릭했지만, 실제로 행동했던 태그는\n",
    "\n",
    "바로 상단의 a태그입니다.\n",
    "\n",
    "![](https://i.ibb.co/sqSgRbs/2023-06-29-173218.png)\n",
    "\n",
    "(그리고 자세히 보시면 a태그 안에 네 개의 span이 전부 들어있는 것도 확인할 수 있습니다.)\n",
    "\n",
    "아까와 동일한 과정으로 a태그의 선택자를 복사해와봅시다.\n"
   ],
   "metadata": {
    "collapsed": false
   }
  },
  {
   "cell_type": "code",
   "execution_count": 10,
   "outputs": [],
   "source": [
    "첫번째글_a태그 = \"#content > div.inner > div:nth-child(1) > a\"\n",
    "두번째글_a태그 = \"#content > div.inner > div:nth-child(2) > a\"\n",
    "세번째글_a태그 = \"#content > div.inner > div:nth-child(3) > a\"\n",
    "네번째글_a태그 = \"#content > div.inner > div:nth-child(4) > a\""
   ],
   "metadata": {
    "collapsed": false,
    "ExecuteTime": {
     "end_time": "2023-06-29T14:32:38.015557600Z",
     "start_time": "2023-06-29T14:32:38.015051500Z"
    }
   }
  },
  {
   "cell_type": "markdown",
   "source": [
    "이번에도 동일하게 \":nth-child(#)\"이 붙어있네요.\n",
    "\n",
    "제거하고 find_element를 실행해보겠습니다."
   ],
   "metadata": {
    "collapsed": false
   }
  },
  {
   "cell_type": "code",
   "execution_count": 11,
   "outputs": [
    {
     "data": {
      "text/plain": "[<selenium.webdriver.remote.webelement.WebElement (session=\"ece425891b1b431608af9859032b1ad5\", element=\"94DAE6F781C089CCE6EE6018550C84D1_element_202\")>,\n <selenium.webdriver.remote.webelement.WebElement (session=\"ece425891b1b431608af9859032b1ad5\", element=\"94DAE6F781C089CCE6EE6018550C84D1_element_203\")>,\n <selenium.webdriver.remote.webelement.WebElement (session=\"ece425891b1b431608af9859032b1ad5\", element=\"94DAE6F781C089CCE6EE6018550C84D1_element_204\")>,\n <selenium.webdriver.remote.webelement.WebElement (session=\"ece425891b1b431608af9859032b1ad5\", element=\"94DAE6F781C089CCE6EE6018550C84D1_element_205\")>]"
     },
     "execution_count": 11,
     "metadata": {},
     "output_type": "execute_result"
    }
   ],
   "source": [
    "주소선택자 = \"#content > div.inner > div > a\"\n",
    "driver.find_elements(By.CSS_SELECTOR, 주소선택자)"
   ],
   "metadata": {
    "collapsed": false,
    "ExecuteTime": {
     "end_time": "2023-06-29T14:32:41.205425500Z",
     "start_time": "2023-06-29T14:32:41.173460300Z"
    }
   }
  },
  {
   "cell_type": "code",
   "execution_count": 12,
   "outputs": [
    {
     "data": {
      "text/plain": "['https://ilco.tistory.com/8',\n 'https://ilco.tistory.com/7',\n 'https://ilco.tistory.com/4',\n 'https://ilco.tistory.com/3']"
     },
     "execution_count": 12,
     "metadata": {},
     "output_type": "execute_result"
    }
   ],
   "source": [
    "[i.get_attribute(\"href\") for i in driver.find_elements(By.CSS_SELECTOR, 주소선택자)]"
   ],
   "metadata": {
    "collapsed": false,
    "ExecuteTime": {
     "end_time": "2023-06-29T14:32:42.909804300Z",
     "start_time": "2023-06-29T14:32:42.777597400Z"
    }
   }
  },
  {
   "cell_type": "markdown",
   "source": [
    "네 개의 포스팅 주소가 추출되었습니다.\n",
    "\n",
    "이걸 이용하면 태그를 찾고 클릭하고 back() 으로 돌아오고 하는 과정 없이\n",
    "\n",
    "한 번에 네 개의 포스팅을 빠르게 돌 수 있겠습니다.\n",
    "\n",
    "작성될 코드의 뼈대는 아래와 같습니다."
   ],
   "metadata": {
    "collapsed": false
   }
  },
  {
   "cell_type": "code",
   "execution_count": 13,
   "outputs": [],
   "source": [
    "a태그_선택자 = \"#content > div.inner > div > a\"\n",
    "a태그_리스트 = driver.find_elements(By.CSS_SELECTOR, a태그_선택자)\n",
    "href_리스트 = [i.get_attribute(\"href\") for i in driver.find_elements(By.CSS_SELECTOR, a태그_선택자)]\n",
    "for href in href_리스트:\n",
    "    driver.get(href)\n",
    "    # 공감버튼 클릭하기(아직 안 만들었음)"
   ],
   "metadata": {
    "collapsed": false,
    "ExecuteTime": {
     "end_time": "2023-06-29T14:32:49.931743Z",
     "start_time": "2023-06-29T14:32:49.073967800Z"
    }
   }
  },
  {
   "cell_type": "markdown",
   "source": [
    "이제 거의 다 왔습니다. 두 가지 코드가 남았는데요.\n",
    "\n",
    "첫 번째는, 다른 페이지까지 모두 자동으로 탐색하며 포스팅을 클릭하게 하고 싶습니다.\n",
    "\n",
    "그리고 두 번째는 포스팅 클릭 후에 실행할 공감버튼 클릭 함수예요.\n",
    "\n",
    "첫 번째 코드부터 완성해봅시다.\n",
    "\n",
    "페이지가 어디서 끝날지 알 수 없으므로\n",
    "\n",
    "for문보다는 while문이 적절합니다.\n",
    "\n",
    "우선 페이지 이동부터 완성해봅시다.\n",
    "\n",
    "1페이지에서 하단의 내비게이션 바를 보면\n",
    "\n",
    "다음페이지인 2, 3, 4가 보이고\n",
    "\n",
    "좌측과 우측 끝에 각각 화살표가 있네요.\n",
    "\n",
    "하나씩 클릭해보면 상단의 주소창이\n",
    "\n",
    "\"ilco.tistory.com/?page=#\" 이라고 바뀌고\n",
    "\n",
    "마지막 페이지에 가서는\n",
    "\n",
    "우측끝의 화살표가 클릭되지 않습니다.\n",
    "\n",
    "![](https://i.ibb.co/yRvSjXZ/2023-06-29-234615.png)\n",
    "\n",
    "(스킨마다 차이가 있을 수 있습니다.)\n",
    "\n",
    "여러분도 아이디어가 떠오르나요?\n",
    "\n",
    "마지막 페이지에 도착했다는 시그널로\n",
    "\n",
    "우측 화살표 클릭이 안 되면 while문을 종료하는 겁니다.\n",
    "\n",
    "우측화살표 태그를 한 번 살펴보겠습니다.\n",
    "\n",
    "1~3페이지까지는\n",
    "\n",
    "해당 화살표의 태그 내용이\n",
    "\n",
    "`<a href=\"/?page=4\" class=\"next \">다음</a>`이고\n",
    "\n",
    "마지막 4페이지에서는 해당 화살표의 태그 내용이\n",
    "\n",
    "`<a class=\"next no-more-next\">다음</a>` 입니다.\n",
    "\n",
    "![](https://i.ibb.co/Wt4RxRh/2023-06-29-235210.png)\n",
    "\n",
    "마지막 페이지에만 \"no-more-next\"라는 클래스 속성이 추가되는군요.\n",
    "\n",
    "그럼 해당 화살표 태그에 get_attribute(\"class\") 를 실행해서\n",
    "\n",
    "\"no-more-text\"가 있는지 없는지 여부만 if문으로 알아내서\n",
    "\n",
    "while문을 break 하면 되겠네요.\n",
    "\n",
    "한 번 코드를 짜고 실행해봅시다."
   ],
   "metadata": {
    "collapsed": false
   }
  },
  {
   "cell_type": "code",
   "execution_count": 14,
   "outputs": [],
   "source": [
    "page_num = 1  # 1페이지부터 접속하기 위함\n",
    "\n",
    "while True:\n",
    "    driver.get(f\"https://ilco.tistory.com/?page={page_num}\")\n",
    "\n",
    "    주소선택자 = \"#content > div.inner > div > a\"\n",
    "    주소태그목록 = driver.find_elements(By.CSS_SELECTOR, 주소선택자)\n",
    "    주소목록 = [i.get_attribute(\"href\") for i in driver.find_elements(By.CSS_SELECTOR, 주소선택자)]\n",
    "\n",
    "    마지막페이지 = False\n",
    "    if \"no-more-next\" in driver.find_element(By.CSS_SELECTOR, \"#content > div.pagination > a.next\").get_attribute(\n",
    "            \"class\"):\n",
    "        마지막페이지 = True\n",
    "\n",
    "    for 포스팅 in 주소목록:\n",
    "        driver.get(포스팅)\n",
    "        # 공감클릭()\n",
    "\n",
    "    if 마지막페이지:\n",
    "        break\n",
    "\n",
    "    page_num += 1"
   ],
   "metadata": {
    "collapsed": false,
    "ExecuteTime": {
     "end_time": "2023-06-29T14:58:34.944775100Z",
     "start_time": "2023-06-29T14:58:23.259577300Z"
    }
   }
  },
  {
   "cell_type": "markdown",
   "source": [
    "아주 빠르게 모든 포스팅을 방문하였습니다.\n",
    "\n",
    "이번에는 공감버튼을 클릭하는 함수도 만들어봅시다.\n",
    "\n",
    "아무 포스팅에나 들어가서\n",
    "\n",
    "빈 하트 아이콘을 우클릭하고 검사를 눌러서\n",
    "\n",
    "![](https://i.ibb.co/1zNSSQ4/2023-06-30-000042.png)\n",
    "\n",
    "해당 span 태그의 CSS셀렉터를 복사합니다.\n",
    "\n",
    "(Copy - Copy Selector)\n",
    "\n",
    "그러면 아래와 같은 선택자가 복사됩니다."
   ],
   "metadata": {
    "collapsed": false
   }
  },
  {
   "cell_type": "code",
   "execution_count": 15,
   "outputs": [
    {
     "data": {
      "text/plain": "'#reaction-1 > button > div > span.ico_postbtn.ico_like'"
     },
     "execution_count": 15,
     "metadata": {},
     "output_type": "execute_result"
    }
   ],
   "source": [
    "\"#reaction-1 > button > div > span.ico_postbtn.ico_like\""
   ],
   "metadata": {
    "collapsed": false,
    "ExecuteTime": {
     "end_time": "2023-06-29T15:02:33.581408700Z",
     "start_time": "2023-06-29T15:02:33.575189200Z"
    }
   }
  },
  {
   "cell_type": "markdown",
   "source": [
    "그런데 한 가지 주의할 점이 있습니다. 다른 포스팅의 선택자가 살짝 다르네요.\n",
    "\n",
    "어떻게 다른지 한 번 몇 개 포스팅의 공감버튼 선택자를 더 살펴보겠습니다."
   ],
   "metadata": {
    "collapsed": false
   }
  },
  {
   "cell_type": "code",
   "execution_count": null,
   "outputs": [],
   "source": [
    "\"#reaction-1 > button > div > span.ico_postbtn.ico_like\"\n",
    "\"#reaction-8 > button > div > span.ico_postbtn.ico_like\"\n",
    "\"#reaction-9 > button > div > span.ico_postbtn.ico_like\"\n",
    "\"#reaction-11 > button > div > span.ico_postbtn.ico_like\""
   ],
   "metadata": {
    "collapsed": false
   }
  },
  {
   "cell_type": "markdown",
   "source": [
    "앞부분의 `\"#reaction-??\"` 이 부분이 차이가 나는데요?\n",
    "\n",
    "그럼 CSS문법을 사용해 위 선택자들을 아래처럼 통일해봅시다.\n"
   ],
   "metadata": {
    "collapsed": false
   }
  },
  {
   "cell_type": "code",
   "execution_count": 16,
   "outputs": [],
   "source": [
    "# id 속성이 \"reaction-\"으로 시작하는 div 태그 하위의 button 태그 하위의.. 라는 뜻입니다.\n",
    "공감버튼_선택자 = \"div[id^='reaction-'] > button > div > span.ico_postbtn.ico_like\""
   ],
   "metadata": {
    "collapsed": false,
    "ExecuteTime": {
     "end_time": "2023-06-29T15:06:27.245615400Z",
     "start_time": "2023-06-29T15:06:27.235134Z"
    }
   }
  },
  {
   "cell_type": "markdown",
   "source": [
    "그리고 한 가지 유의할 점은\n",
    "\n",
    "공감버튼을 두 번 누를 때 공감이 취소되어버린다는 점입니다.\n",
    "\n",
    "그래서 이미 공감이 눌러진 상태라면 공감을 누르면 안 됩니다.\n",
    "\n",
    "공감이 눌러진 상태의 태그를 보니\n",
    "\n",
    "차이점이 바로 상위의 div태그의 class 속성에 \"like_on\"이 들어갑니다.\n",
    "\n",
    "![](https://i.ibb.co/wNkJCHJ/2023-06-30-000930.png)\n",
    "\n",
    "아하! div.get_attribute(\"class\") 안에 \"like_on\" 문자열이 들어있는지만 확인해서\n",
    "\n",
    "들어있으면 공감버튼을 클릭하지 말고,\n",
    "\n",
    "\"like_on\"이 들어있지 않은 경우에만 공감버튼을 클릭할 수 있게\n",
    "\n",
    "if문을 추가해주면 되겠네요.\n",
    "\n",
    "그럼 이 정보를 모아서 함수를 완성해보겠습니다."
   ],
   "metadata": {
    "collapsed": false
   }
  },
  {
   "cell_type": "code",
   "execution_count": 17,
   "outputs": [],
   "source": [
    "def 공감클릭():\n",
    "    공감_선택자 = \"button > div > span.ico_postbtn.ico_like\"\n",
    "    if \"like_on\" not in driver.find_element(By.CSS_SELECTOR, \"div[id^='reaction-'] > button > div\").get_attribute(\n",
    "            \"class\"):\n",
    "        공감버튼 = driver.find_element(By.CSS_SELECTOR, 공감_선택자)\n",
    "        공감버튼.click()"
   ],
   "metadata": {
    "collapsed": false,
    "ExecuteTime": {
     "end_time": "2023-06-29T15:10:50.841364100Z",
     "start_time": "2023-06-29T15:10:50.825738Z"
    }
   }
  },
  {
   "cell_type": "markdown",
   "source": [
    "자, 이제 모든 코드가 완성되었습니다. 위 코드를 조합하여\n",
    "\n",
    "내 블로그 모든 포스팅에 공감버튼을 한 번씩 눌러주는 프로그램을 완성해봅시다.\n",
    "\n",
    "기존에 열린 크롬창을 닫고,\n",
    "\n",
    "아래 셀만 .py 파일로 복사해서 터미널에서 실행해봅시다."
   ],
   "metadata": {
    "collapsed": false
   }
  },
  {
   "cell_type": "code",
   "execution_count": 29,
   "outputs": [],
   "source": [
    "from selenium.common import UnexpectedAlertPresentException\n",
    "import chromedriver_autoinstaller\n",
    "from selenium import webdriver\n",
    "from selenium.webdriver.common.by import By\n",
    "\n",
    "\n",
    "def click_heart():\n",
    "    공감_선택자 = \"button > div > span.ico_postbtn.ico_like\"\n",
    "    if \"like_on\" not in driver.find_element(By.CSS_SELECTOR, \"div[id^='reaction-'] > button > div\").get_attribute(\n",
    "            \"class\"):\n",
    "        공감버튼 = driver.find_element(By.CSS_SELECTOR, 공감_선택자)\n",
    "        공감버튼.click()\n",
    "\n",
    "\n",
    "def main():\n",
    "    page_num = 1  # 1페이지부터 접속하기 위함\n",
    "\n",
    "    while True:\n",
    "        driver.get(f\"https://ilco.tistory.com/?page={page_num}\")\n",
    "\n",
    "        주소선택자 = \"#content > div.inner > div > a\"\n",
    "        주소태그목록 = driver.find_elements(By.CSS_SELECTOR, 주소선택자)\n",
    "        주소목록 = [i.get_attribute(\"href\") for i in driver.find_elements(By.CSS_SELECTOR, 주소선택자)]\n",
    "\n",
    "        마지막페이지 = False\n",
    "        if \"no-more-next\" in driver.find_element(By.CSS_SELECTOR, \"#content > div.pagination > a.next\").get_attribute(\n",
    "                \"class\"):\n",
    "            마지막페이지 = True\n",
    "\n",
    "        for 포스팅 in 주소목록:\n",
    "            try:  # 과도한 클릭시 경고팝업이 뜨는데, 무시하고 지나가도 됨.\n",
    "                driver.get(포스팅)\n",
    "                click_heart()\n",
    "            except UnexpectedAlertPresentException as e:\n",
    "                pass\n",
    "\n",
    "        if 마지막페이지:\n",
    "            break\n",
    "\n",
    "        page_num += 1\n",
    "\n",
    "\n",
    "if __name__ == '__main__':\n",
    "    driver = webdriver.Chrome()\n",
    "    main()\n",
    "    driver.quit()\n"
   ],
   "metadata": {
    "collapsed": false,
    "ExecuteTime": {
     "end_time": "2023-06-29T15:20:52.423640800Z",
     "start_time": "2023-06-29T15:20:40.208752800Z"
    }
   }
  },
  {
   "cell_type": "markdown",
   "source": [
    "# 끝."
   ],
   "metadata": {
    "collapsed": false
   }
  },
  {
   "cell_type": "markdown",
   "source": [
    "# 부록 : 포스팅주소가 숫자인 경우 더 빠른 공감클릭 방법\n",
    "\n",
    "만약 포스팅 주소가 숫자로 구성되어 있다면\n",
    "굳이 페이지를 옮길 필요가 없이\n",
    "최신 포스팅부터 역순으로 1까지 숫자를 넣어 주소를 찾아가도 됩니다.\n",
    "만약 최신 포스팅의 주소가 https://ilco.tistory.com/16 이라면\n",
    "driver.get(f\"https://ilco.tistory.com/{i}\") 와\n",
    "공감클릭 함수면 해결되는 거죠.\n",
    "\n",
    "혹은 \"반대로 https://ilco.tistory.com/1 부터 접속해서\n",
    "페이지가 없다고 뜰 때까지 올라가는 방법이 낫지 않냐?\"고 물으실 수도 있습니다.\n",
    "하지만 1부터 올라가는 방법을 사용하면,\n",
    "비공개 포스팅과, 존재하지 않는 포스팅을 구분할 방법이 없습니다.\n",
    "비공개 포스팅에서는 건너뛰어야 하고(continue),\n",
    "더이상 포스팅이 없을 때에는 종료(break)해야 하는데\n",
    "브라우저 상에서는 이 둘을 구분할 수 없기 때문입니다.\n",
    "\n",
    "그래서 첫 번째 방법(역순)을 사용합니다."
   ],
   "metadata": {
    "collapsed": false
   }
  },
  {
   "cell_type": "code",
   "execution_count": 72,
   "outputs": [],
   "source": [
    "from time import sleep\n",
    "from selenium.common import UnexpectedAlertPresentException\n",
    "from selenium.common import NoAlertPresentException\n",
    "import chromedriver_autoinstaller\n",
    "from selenium import webdriver\n",
    "from selenium.webdriver.common.by import By\n",
    "\n",
    "\n",
    "def click_heart():\n",
    "    공감_선택자 = \"button > div > span.ico_postbtn.ico_like\"\n",
    "    if \"like_on\" not in driver.find_element(By.CSS_SELECTOR, \"div[id^='reaction-'] > button > div\").get_attribute(\n",
    "            \"class\"):\n",
    "        공감버튼 = driver.find_element(By.CSS_SELECTOR, 공감_선택자)\n",
    "        공감버튼.click()\n",
    "        sleep(0.1)\n",
    "        try:\n",
    "            driver.switch_to.alert.accept()\n",
    "        except NoAlertPresentException as e:\n",
    "            pass\n",
    "\n",
    "\n",
    "if __name__ == '__main__':\n",
    "    post_num = 1\n",
    "    driver = webdriver.Chrome()\n",
    "    driver.get(\"https://ilco.tistory.com\")\n",
    "    last_num = int(\n",
    "        driver.find_element(By.CSS_SELECTOR, \"#content > div.inner > div:nth-child(1) > a\").get_attribute(\"href\").split(\n",
    "            \"/\")[-1])\n",
    "    for post_num in range(last_num, 0, -1):  # 16, 15, 14, ... 2, 1 끝\n",
    "        driver.get(f\"https://ilco.tistory.com/{post_num}\")\n",
    "        sleep(0.1)\n",
    "        try:\n",
    "            driver.switch_to.alert.accept()\n",
    "        except NoAlertPresentException as e:\n",
    "            pass\n",
    "\n",
    "        if \"권한이 없거나 존재하지 않는\" in driver.page_source:  # 비공개인 경우\n",
    "            continue\n",
    "        click_heart()\n",
    "        post_num += 1\n",
    "    driver.quit()"
   ],
   "metadata": {
    "collapsed": false,
    "ExecuteTime": {
     "end_time": "2023-06-29T15:51:07.910073500Z",
     "start_time": "2023-06-29T15:50:54.504758500Z"
    }
   }
  },
  {
   "cell_type": "markdown",
   "source": [
    "# 끝!"
   ],
   "metadata": {
    "collapsed": false
   }
  }
 ],
 "metadata": {
  "kernelspec": {
   "display_name": "Python 3",
   "language": "python",
   "name": "python3"
  },
  "language_info": {
   "codemirror_mode": {
    "name": "ipython",
    "version": 2
   },
   "file_extension": ".py",
   "mimetype": "text/x-python",
   "name": "python",
   "nbconvert_exporter": "python",
   "pygments_lexer": "ipython2",
   "version": "2.7.6"
  }
 },
 "nbformat": 4,
 "nbformat_minor": 0
}
