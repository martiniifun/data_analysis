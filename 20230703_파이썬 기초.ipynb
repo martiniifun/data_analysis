{
 "cells": [
  {
   "cell_type": "code",
   "execution_count": null,
   "metadata": {
    "collapsed": true
   },
   "outputs": [],
   "source": [
    "# 출력 : print(asdf)\n",
    "# 입력 : input()\n",
    "# 함수 : def 함수명(): 몸체\n",
    "# 리턴 : \"반환\"이라고도 하고, 함수가 돌려주는 결과값\n",
    "# 함수 중 리턴을 안 하는 함수 : 동작(특정 객체의 상태를 바꾸거나..)\n",
    "# 클래스 : 클래스 사용방법(문법)\n",
    "# if-elif-else : 조건문 + 분기\n",
    "# for문 : 반복 횟수를 알고 있을 때\n",
    "# while문 : 반복 조건만 알고 있을 때\n",
    "# try-except : 오류가 발생하지만, 프로그램을 종료하고 싶지 않을 때\n",
    "#\n",
    "# 자료형\n",
    "#\n",
    "# 숫자와 문자\n",
    "# 숫자 : int float\n",
    "# 문자 : '', \"\", ''' ''', \"\"\" \"\"\"\n",
    "#      : \"I'm a boy.\" vs \"He said, \"I'm a boy.\"\"\n",
    "#      : 따옴표 안에서 따옴표를 쓰려면 역슬래시를 붙이면 됨.\n",
    "# 리스트list : 순서가 있고 변경 가능한 데이터 배열\n",
    "#            : 자료형이 자유로움. 제공하는 메서드가 많아 편리함\n",
    "# 사전dict : {키1:값1, 키2:값2, 키3:값3}\n",
    "# 튜플 : 리스트와 비슷하지만, 변경불가능. 메서드 없음. 메모리덜 씀.\n",
    "# 세트 : 집합연산이 가능한 자료형. 중복제거해줌\n",
    "#\n",
    "# 인덱싱, 슬라이싱\n",
    "#\n",
    "# 리스트, 튜플에서는 a[0~n번째], a[시작인덱스:끝인덱스:스텝]\n",
    "# 문자열 인덱싱 슬라이싱은 리스트와 사용법 동일\n",
    "# 딕셔너리에서는 a[키] 또는 a.키\n",
    "# 세트 자료형은 인덱싱 불가(리스트로 변환 후 가능)\n",
    "#\n",
    "# 파일 입출력 -- with open(파일명, \"w\") as f:\n",
    "#\n",
    "# 판다스 모듈 - 데이터프레임\n",
    "#\n",
    "# 데이터프레임 : 행과 열로 이루어진 2차원 배열\n",
    "# 한 열은 시리즈Series, 데이터프레임은 시리즈의 배열\n"
   ]
  },
  {
   "cell_type": "code",
   "execution_count": 14,
   "outputs": [
    {
     "data": {
      "text/plain": "'\"asdfasdf\"'"
     },
     "execution_count": 14,
     "metadata": {},
     "output_type": "execute_result"
    }
   ],
   "source": [],
   "metadata": {
    "collapsed": false,
    "ExecuteTime": {
     "end_time": "2023-07-03T02:02:17.849764400Z",
     "start_time": "2023-07-03T02:02:10.921458900Z"
    }
   }
  },
  {
   "cell_type": "code",
   "execution_count": 15,
   "outputs": [
    {
     "name": "stdout",
     "output_type": "stream",
     "text": [
      "asdf\n"
     ]
    }
   ],
   "source": [
    "print(\"asdf\")"
   ],
   "metadata": {
    "collapsed": false,
    "ExecuteTime": {
     "end_time": "2023-07-03T02:04:00.335795800Z",
     "start_time": "2023-07-03T02:04:00.320135700Z"
    }
   }
  },
  {
   "cell_type": "code",
   "execution_count": 24,
   "outputs": [],
   "source": [
    "def asdf():\n",
    "    print(\"asdf\")"
   ],
   "metadata": {
    "collapsed": false,
    "ExecuteTime": {
     "end_time": "2023-07-03T02:05:49.822057100Z",
     "start_time": "2023-07-03T02:05:49.822057100Z"
    }
   }
  },
  {
   "cell_type": "code",
   "execution_count": 25,
   "outputs": [
    {
     "name": "stdout",
     "output_type": "stream",
     "text": [
      "asdf\n"
     ]
    }
   ],
   "source": [
    "asdf()"
   ],
   "metadata": {
    "collapsed": false,
    "ExecuteTime": {
     "end_time": "2023-07-03T02:05:51.392131400Z",
     "start_time": "2023-07-03T02:05:51.378411Z"
    }
   }
  },
  {
   "cell_type": "code",
   "execution_count": 26,
   "outputs": [
    {
     "name": "stdout",
     "output_type": "stream",
     "text": [
      "asdf\n"
     ]
    }
   ],
   "source": [
    "a = asdf()"
   ],
   "metadata": {
    "collapsed": false,
    "ExecuteTime": {
     "end_time": "2023-07-03T02:05:56.369360700Z",
     "start_time": "2023-07-03T02:05:56.354433900Z"
    }
   }
  },
  {
   "cell_type": "code",
   "execution_count": 27,
   "outputs": [],
   "source": [
    "a"
   ],
   "metadata": {
    "collapsed": false,
    "ExecuteTime": {
     "end_time": "2023-07-03T02:05:59.703198700Z",
     "start_time": "2023-07-03T02:05:59.703198700Z"
    }
   }
  },
  {
   "cell_type": "code",
   "execution_count": 21,
   "outputs": [
    {
     "name": "stdout",
     "output_type": "stream",
     "text": [
      "a\n"
     ]
    }
   ],
   "source": [
    "a = print(\"a\")"
   ],
   "metadata": {
    "collapsed": false,
    "ExecuteTime": {
     "end_time": "2023-07-03T02:05:15.143234700Z",
     "start_time": "2023-07-03T02:05:15.143234700Z"
    }
   }
  },
  {
   "cell_type": "code",
   "execution_count": 23,
   "outputs": [],
   "source": [
    "a"
   ],
   "metadata": {
    "collapsed": false,
    "ExecuteTime": {
     "end_time": "2023-07-03T02:05:22.911617Z",
     "start_time": "2023-07-03T02:05:22.911617Z"
    }
   }
  },
  {
   "cell_type": "code",
   "execution_count": null,
   "outputs": [],
   "source": [],
   "metadata": {
    "collapsed": false
   }
  }
 ],
 "metadata": {
  "kernelspec": {
   "display_name": "Python 3",
   "language": "python",
   "name": "python3"
  },
  "language_info": {
   "codemirror_mode": {
    "name": "ipython",
    "version": 2
   },
   "file_extension": ".py",
   "mimetype": "text/x-python",
   "name": "python",
   "nbconvert_exporter": "python",
   "pygments_lexer": "ipython2",
   "version": "2.7.6"
  }
 },
 "nbformat": 4,
 "nbformat_minor": 0
}
