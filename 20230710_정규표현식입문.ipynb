{
 "cells": [
  {
   "cell_type": "code",
   "execution_count": 4,
   "metadata": {
    "collapsed": true,
    "ExecuteTime": {
     "end_time": "2023-07-10T00:26:55.787201900Z",
     "start_time": "2023-07-10T00:26:55.783658200Z"
    }
   },
   "outputs": [],
   "source": [
    "data = [\n",
    "    \"830226-1******\",\n",
    "    \"991231-2345678\",\n",
    "    \"880917-2109876\",\n",
    "]"
   ]
  },
  {
   "cell_type": "code",
   "execution_count": 5,
   "outputs": [],
   "source": [
    "new_data = []\n",
    "for i in data:\n",
    "    new_i = i[:8] + \"*\"*6\n",
    "    new_data.append(new_i)"
   ],
   "metadata": {
    "collapsed": false,
    "ExecuteTime": {
     "end_time": "2023-07-10T00:26:56.214300900Z",
     "start_time": "2023-07-10T00:26:56.210790100Z"
    }
   }
  },
  {
   "cell_type": "code",
   "execution_count": 6,
   "outputs": [
    {
     "data": {
      "text/plain": "['830226-1******', '991231-2******', '880917-2******']"
     },
     "execution_count": 6,
     "metadata": {},
     "output_type": "execute_result"
    }
   ],
   "source": [
    "new_data"
   ],
   "metadata": {
    "collapsed": false,
    "ExecuteTime": {
     "end_time": "2023-07-10T00:26:56.637129300Z",
     "start_time": "2023-07-10T00:26:56.626141100Z"
    }
   }
  },
  {
   "cell_type": "code",
   "execution_count": 7,
   "outputs": [],
   "source": [
    "import re"
   ],
   "metadata": {
    "collapsed": false,
    "ExecuteTime": {
     "end_time": "2023-07-10T00:28:02.563736200Z",
     "start_time": "2023-07-10T00:28:02.563736200Z"
    }
   }
  },
  {
   "cell_type": "code",
   "execution_count": 9,
   "outputs": [
    {
     "data": {
      "text/plain": "'830226-*******'"
     },
     "execution_count": 9,
     "metadata": {},
     "output_type": "execute_result"
    }
   ],
   "source": [
    "re.sub(r\"(\\d{6})-\\d{7}\", \"\\g<1>-*******\", \"830226-1357913\")"
   ],
   "metadata": {
    "collapsed": false,
    "ExecuteTime": {
     "end_time": "2023-07-10T00:32:05.585910200Z",
     "start_time": "2023-07-10T00:32:05.575822300Z"
    }
   }
  },
  {
   "cell_type": "code",
   "execution_count": 26,
   "outputs": [],
   "source": [
    "a = \"김나은 김재환 박영진 박예림 장효원 신진\" \\\n",
    "    \" 김가람이 박이슬만\""
   ],
   "metadata": {
    "collapsed": false,
    "ExecuteTime": {
     "end_time": "2023-07-10T00:51:38.198393500Z",
     "start_time": "2023-07-10T00:51:38.196630500Z"
    }
   }
  },
  {
   "cell_type": "code",
   "execution_count": 24,
   "outputs": [
    {
     "data": {
      "text/plain": "['a', 's', 'd', 'f', 'a', 's', 'd', 'f']"
     },
     "execution_count": 24,
     "metadata": {},
     "output_type": "execute_result"
    }
   ],
   "source": [
    "re.findall(\"[A-Za-z]\", a)"
   ],
   "metadata": {
    "collapsed": false,
    "ExecuteTime": {
     "end_time": "2023-07-10T00:41:38.606080100Z",
     "start_time": "2023-07-10T00:41:38.595463800Z"
    }
   }
  },
  {
   "cell_type": "code",
   "execution_count": 25,
   "outputs": [
    {
     "data": {
      "text/plain": "['asdfasdf']"
     },
     "execution_count": 25,
     "metadata": {},
     "output_type": "execute_result"
    }
   ],
   "source": [
    "re.findall(\"[A-Za-z]{8}\", a)"
   ],
   "metadata": {
    "collapsed": false,
    "ExecuteTime": {
     "end_time": "2023-07-10T00:42:29.167175100Z",
     "start_time": "2023-07-10T00:42:29.158056100Z"
    }
   }
  },
  {
   "cell_type": "markdown",
   "source": [
    "\".\" : 뭐가 됐든 한 글자\n",
    "\"[ㄱ-ㅎ가-힣ㅏ-ㅣ]\" : 그룹화(한글 한 글자)\n",
    "\"[A-Za-z]\" : 알파벳 한 글자\n",
    "\"[0-9]\" : 숫자 한 글자(\\d)"
   ],
   "metadata": {
    "collapsed": false
   }
  },
  {
   "cell_type": "code",
   "execution_count": null,
   "outputs": [],
   "source": [
    "# 휴대폰 번호 패턴?\n"
   ],
   "metadata": {
    "collapsed": false
   }
  },
  {
   "cell_type": "code",
   "execution_count": 34,
   "outputs": [
    {
     "data": {
      "text/plain": "[]"
     },
     "execution_count": 34,
     "metadata": {},
     "output_type": "execute_result"
    }
   ],
   "source": [
    "re.findall(r\"\\n?[가-힣]{2,4}\\s?\", a)"
   ],
   "metadata": {
    "collapsed": false,
    "ExecuteTime": {
     "end_time": "2023-07-10T00:54:38.518554500Z",
     "start_time": "2023-07-10T00:54:38.508397800Z"
    }
   }
  },
  {
   "cell_type": "code",
   "execution_count": 45,
   "outputs": [],
   "source": [
    "a = '존박 김나은 김재환 박영진 박예림 장효원 신진 김가람이 박이슬만 이적'"
   ],
   "metadata": {
    "collapsed": false,
    "ExecuteTime": {
     "end_time": "2023-07-10T01:04:08.342370600Z",
     "start_time": "2023-07-10T01:04:08.332151600Z"
    }
   }
  },
  {
   "cell_type": "code",
   "execution_count": 53,
   "outputs": [
    {
     "data": {
      "text/plain": "['존박 ',\n '김나',\n ' 김재',\n ' 박영',\n ' 박예',\n ' 장효',\n ' 신진 ',\n '김가',\n '람이 ',\n '박이',\n '슬만 ',\n '이적']"
     },
     "execution_count": 53,
     "metadata": {},
     "output_type": "execute_result"
    }
   ],
   "source": [
    "re.findall(r\"\\s?[가-힣]{2}\\s?\", a)  # 존박 신진 이적"
   ],
   "metadata": {
    "collapsed": false,
    "ExecuteTime": {
     "end_time": "2023-07-10T01:09:00.335736200Z",
     "start_time": "2023-07-10T01:09:00.332564300Z"
    }
   }
  },
  {
   "cell_type": "code",
   "execution_count": 60,
   "outputs": [],
   "source": [
    "# \"?\" 있거나 없거나\n",
    "a = \"asdf 01051693937 010-5169-3937 010.5169.3937 qewr 010/5169/1234\""
   ],
   "metadata": {
    "collapsed": false,
    "ExecuteTime": {
     "end_time": "2023-07-10T01:12:17.564879500Z",
     "start_time": "2023-07-10T01:12:17.561094700Z"
    }
   }
  },
  {
   "cell_type": "code",
   "execution_count": 57,
   "outputs": [
    {
     "data": {
      "text/plain": "['01051693937']"
     },
     "execution_count": 57,
     "metadata": {},
     "output_type": "execute_result"
    }
   ],
   "source": [
    "re.findall(r\"\\d{3}\\d{4}\\d{4}\", a)"
   ],
   "metadata": {
    "collapsed": false,
    "ExecuteTime": {
     "end_time": "2023-07-10T01:11:37.873063400Z",
     "start_time": "2023-07-10T01:11:37.857332200Z"
    }
   }
  },
  {
   "cell_type": "code",
   "execution_count": 58,
   "outputs": [
    {
     "data": {
      "text/plain": "['010-5169-3937']"
     },
     "execution_count": 58,
     "metadata": {},
     "output_type": "execute_result"
    }
   ],
   "source": [
    "re.findall(r\"\\d{3}-\\d{4}-\\d{4}\", a)"
   ],
   "metadata": {
    "collapsed": false,
    "ExecuteTime": {
     "end_time": "2023-07-10T01:11:44.827333400Z",
     "start_time": "2023-07-10T01:11:44.827151500Z"
    }
   }
  },
  {
   "cell_type": "code",
   "execution_count": 59,
   "outputs": [
    {
     "data": {
      "text/plain": "['01051693937', '010-5169-3937']"
     },
     "execution_count": 59,
     "metadata": {},
     "output_type": "execute_result"
    }
   ],
   "source": [
    "re.findall(r\"\\d{3}-?\\d{4}-?\\d{4}\", a)"
   ],
   "metadata": {
    "collapsed": false,
    "ExecuteTime": {
     "end_time": "2023-07-10T01:11:58.004358800Z",
     "start_time": "2023-07-10T01:11:57.994163900Z"
    }
   }
  },
  {
   "cell_type": "code",
   "execution_count": 61,
   "outputs": [
    {
     "data": {
      "text/plain": "['01051693937', '010-5169-3937', '010.5169.3937', '010/5169/1234']"
     },
     "execution_count": 61,
     "metadata": {},
     "output_type": "execute_result"
    }
   ],
   "source": [
    "# 숫자 사이 \"-\", \".\", \"/\" 가 있거나 없거나\n",
    "re.findall(r\"\\d{3}[-./]?\\d{4}[-./]?\\d{4}\", a)"
   ],
   "metadata": {
    "collapsed": false,
    "ExecuteTime": {
     "end_time": "2023-07-10T01:14:39.891176Z",
     "start_time": "2023-07-10T01:14:39.880899200Z"
    }
   }
  },
  {
   "cell_type": "code",
   "execution_count": 68,
   "outputs": [],
   "source": [
    "# \"+\" : 한 번 이상 반복\n",
    "a = \"cat caat caaaaaaaaaaaaaat cbt ct cbbbbbbbt c----------t c...........t cccccccccct\""
   ],
   "metadata": {
    "collapsed": false,
    "ExecuteTime": {
     "end_time": "2023-07-10T01:18:53.341056400Z",
     "start_time": "2023-07-10T01:18:53.330895700Z"
    }
   }
  },
  {
   "cell_type": "code",
   "execution_count": 76,
   "outputs": [
    {
     "data": {
      "text/plain": "['cat',\n 'caat',\n 'caaaaaaaaaaaaaat',\n 'cbt',\n 'ct cbbbbbbbt',\n 'c----------t',\n 'c...........t',\n 'cccccccccct']"
     },
     "execution_count": 76,
     "metadata": {},
     "output_type": "execute_result"
    }
   ],
   "source": [
    "# 불특정 글자의 반복\n",
    "re.findall(r\"c.+t\", a)"
   ],
   "metadata": {
    "collapsed": false,
    "ExecuteTime": {
     "end_time": "2023-07-10T01:21:37.575074500Z",
     "start_time": "2023-07-10T01:21:37.569784900Z"
    }
   }
  },
  {
   "cell_type": "code",
   "execution_count": 75,
   "outputs": [
    {
     "data": {
      "text/plain": "['cat caat caaaaaaaaaaaaaat cbt ct cbbbbbbbt c----------t c...........t cccccccccct']"
     },
     "execution_count": 75,
     "metadata": {},
     "output_type": "execute_result"
    }
   ],
   "source": [
    "# \"*\" : 있거나 반복되거나 없어도 탐색\n",
    "re.findall(r\"c.*t\", a)"
   ],
   "metadata": {
    "collapsed": false,
    "ExecuteTime": {
     "end_time": "2023-07-10T01:21:31.557315600Z",
     "start_time": "2023-07-10T01:21:31.555130900Z"
    }
   }
  },
  {
   "cell_type": "code",
   "execution_count": 77,
   "outputs": [],
   "source": [
    "# ? : 1개 있거나 없거나\n",
    "# + : 1개 있거나 그 이상 반복되거나\n",
    "# * : 없거나 반복되거나"
   ],
   "metadata": {
    "collapsed": false,
    "ExecuteTime": {
     "end_time": "2023-07-10T01:25:20.626604700Z",
     "start_time": "2023-07-10T01:25:20.606115Z"
    }
   }
  },
  {
   "cell_type": "code",
   "execution_count": 78,
   "outputs": [
    {
     "data": {
      "text/plain": "<re.Match object; span=(0, 6), match='python'>"
     },
     "execution_count": 78,
     "metadata": {},
     "output_type": "execute_result"
    }
   ],
   "source": [
    "a = \"python\"\n",
    "\n",
    "# 소문자 6글자로 이뤄져 있나?\n",
    "re.match(r\"[a-z]{6}\", a)"
   ],
   "metadata": {
    "collapsed": false,
    "ExecuteTime": {
     "end_time": "2023-07-10T01:28:03.984136500Z",
     "start_time": "2023-07-10T01:28:03.963780100Z"
    }
   }
  },
  {
   "cell_type": "code",
   "execution_count": 82,
   "outputs": [
    {
     "data": {
      "text/plain": "['python']"
     },
     "execution_count": 82,
     "metadata": {},
     "output_type": "execute_result"
    }
   ],
   "source": [
    "a = \"python JAVA C go\"\n",
    "\n",
    "# 소문자로 이뤄져 있나?\n",
    "re.findall(r\"[a-z]+\", a)"
   ],
   "metadata": {
    "collapsed": false,
    "ExecuteTime": {
     "end_time": "2023-07-10T01:31:05.774403500Z",
     "start_time": "2023-07-10T01:31:05.763426700Z"
    }
   }
  },
  {
   "cell_type": "code",
   "execution_count": 85,
   "outputs": [
    {
     "data": {
      "text/plain": "<re.Match object; span=(7, 9), match='go'>"
     },
     "execution_count": 85,
     "metadata": {},
     "output_type": "execute_result"
    }
   ],
   "source": [
    "a = \"JAVA C go python\"\n",
    "\n",
    "re.search(r\"[a-z]+\", a)"
   ],
   "metadata": {
    "collapsed": false,
    "ExecuteTime": {
     "end_time": "2023-07-10T01:33:25.621184200Z",
     "start_time": "2023-07-10T01:33:25.615813300Z"
    }
   }
  },
  {
   "cell_type": "code",
   "execution_count": 86,
   "outputs": [
    {
     "data": {
      "text/plain": "['go', 'python']"
     },
     "execution_count": 86,
     "metadata": {},
     "output_type": "execute_result"
    }
   ],
   "source": [
    "a = \"JAVA C go python\"\n",
    "\n",
    "re.findall(r\"[a-z]+\", a)"
   ],
   "metadata": {
    "collapsed": false,
    "ExecuteTime": {
     "end_time": "2023-07-10T01:33:52.714921400Z",
     "start_time": "2023-07-10T01:33:52.694503500Z"
    }
   }
  },
  {
   "cell_type": "code",
   "execution_count": 87,
   "outputs": [],
   "source": [
    "# 이메일패턴 찾아내보자.\n",
    "#    모듈         클래스\n",
    "from faker import Faker"
   ],
   "metadata": {
    "collapsed": false,
    "ExecuteTime": {
     "end_time": "2023-07-10T01:36:06.239079900Z",
     "start_time": "2023-07-10T01:36:06.037325300Z"
    }
   }
  },
  {
   "cell_type": "code",
   "execution_count": 88,
   "outputs": [],
   "source": [
    "#변수(인스턴스)\n",
    "faker = Faker(\"ko-kr\")"
   ],
   "metadata": {
    "collapsed": false,
    "ExecuteTime": {
     "end_time": "2023-07-10T01:36:19.644552Z",
     "start_time": "2023-07-10T01:36:19.540935200Z"
    }
   }
  },
  {
   "cell_type": "code",
   "execution_count": 96,
   "outputs": [],
   "source": [
    "a = [faker.email() for i in range(100)]"
   ],
   "metadata": {
    "collapsed": false,
    "ExecuteTime": {
     "end_time": "2023-07-10T01:38:56.018241600Z",
     "start_time": "2023-07-10T01:38:56.010934700Z"
    }
   }
  },
  {
   "cell_type": "code",
   "execution_count": 98,
   "outputs": [],
   "source": [
    "# a 리스트의 원소들 중 이메일 패턴이 아닌 문자열을 골라내기\n"
   ],
   "metadata": {
    "collapsed": false,
    "ExecuteTime": {
     "end_time": "2023-07-10T01:39:46.955553300Z",
     "start_time": "2023-07-10T01:39:46.948573600Z"
    }
   }
  },
  {
   "cell_type": "code",
   "execution_count": 99,
   "outputs": [
    {
     "data": {
      "text/plain": "'^[0-9a-zA-Z]([-_.]?[0-9a-zA-Z])*@[0-9a-zA-Z]([-_.]?[0-9a-zA-Z])*.[a-zA-Z]{2,3}$'"
     },
     "execution_count": 99,
     "metadata": {},
     "output_type": "execute_result"
    }
   ],
   "source": [
    "# 패턴을 설계해봅시다.\n",
    "r\"^[0-9a-zA-Z]([-_.]?[0-9a-zA-Z])*@[0-9a-zA-Z]([-_.]?[0-9a-zA-Z])*.[a-zA-Z]{2,3}$\""
   ],
   "metadata": {
    "collapsed": false,
    "ExecuteTime": {
     "end_time": "2023-07-10T01:51:20.327897300Z",
     "start_time": "2023-07-10T01:51:20.317700400Z"
    }
   }
  },
  {
   "cell_type": "code",
   "execution_count": 1,
   "outputs": [],
   "source": [
    "# 이메일 패턴을 찾아내는 정규식 패턴\n",
    "\n",
    "\n"
   ],
   "metadata": {
    "collapsed": false,
    "ExecuteTime": {
     "end_time": "2023-07-10T02:11:58.138190400Z",
     "start_time": "2023-07-10T02:11:58.138190400Z"
    }
   }
  },
  {
   "cell_type": "code",
   "execution_count": null,
   "outputs": [],
   "source": [],
   "metadata": {
    "collapsed": false
   }
  }
 ],
 "metadata": {
  "kernelspec": {
   "display_name": "Python 3",
   "language": "python",
   "name": "python3"
  },
  "language_info": {
   "codemirror_mode": {
    "name": "ipython",
    "version": 2
   },
   "file_extension": ".py",
   "mimetype": "text/x-python",
   "name": "python",
   "nbconvert_exporter": "python",
   "pygments_lexer": "ipython2",
   "version": "2.7.6"
  }
 },
 "nbformat": 4,
 "nbformat_minor": 0
}
