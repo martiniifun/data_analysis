{
 "cells": [
  {
   "cell_type": "markdown",
   "metadata": {},
   "source": [
    "# 초록색: Edit mode (Enter)\n",
    "# 파란색: Commande mode (ESC)\n",
    "\n",
    " \n",
    "\n",
    "\n",
    "\n"
   ]
  },
  {
   "cell_type": "code",
   "execution_count": null,
   "metadata": {},
   "outputs": [],
   "source": []
  },
  {
   "cell_type": "markdown",
   "metadata": {},
   "source": [
    "### 셀 추가: [Command] A(위), B(아래) \n",
    "### 셀 삭제: [Command] DD\n",
    "### 셀 실행: Ctrl + Enter (실행 후 제자리), Shift + Enter (실행 후 다음셀)\n",
    "### 셀 복사: [Command] C\n",
    "### 셀 붙여넣기: [Command] P\n",
    "### 셀 잘라내기: [Command] X"
   ]
  },
  {
   "cell_type": "code",
   "execution_count": null,
   "metadata": {},
   "outputs": [],
   "source": []
  },
  {
   "cell_type": "markdown",
   "metadata": {},
   "source": [
    "### 셀 둘로 나누기: [Edit] Ctrl + Shift + (-)\n",
    "### 아래 셀과 합치기: [Command] Shift + M"
   ]
  },
  {
   "cell_type": "code",
   "execution_count": null,
   "metadata": {},
   "outputs": [],
   "source": []
  },
  {
   "cell_type": "markdown",
   "metadata": {},
   "source": [
    "### 셀 타입 변경(To code): [Command] Y (Code)\n",
    "### 셀 타입 변경(To markdown): [Command] M (Markdown)"
   ]
  },
  {
   "cell_type": "code",
   "execution_count": null,
   "metadata": {},
   "outputs": [],
   "source": []
  }
 ],
 "metadata": {
  "kernelspec": {
   "display_name": "Python 3",
   "language": "python",
   "name": "python3"
  },
  "language_info": {
   "codemirror_mode": {
    "name": "ipython",
    "version": 3
   },
   "file_extension": ".py",
   "mimetype": "text/x-python",
   "name": "python",
   "nbconvert_exporter": "python",
   "pygments_lexer": "ipython3",
   "version": "3.7.6"
  }
 },
 "nbformat": 4,
 "nbformat_minor": 4
}
