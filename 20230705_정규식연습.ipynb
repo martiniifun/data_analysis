{
 "cells": [
  {
   "cell_type": "code",
   "execution_count": null,
   "outputs": [],
   "source": [
    "data = \"\"\"\n",
    "park 800905-1049118\n",
    "kim  700905-1059119\n",
    "\"\"\"\n",
    "\n",
    "result = []  # 빈 리스트 생성\n",
    "for line in data.split(\"\\n\"):  # 엔터로 쪼개서 하나씩 line에 담아 [\"park 800905-1049118\", \"kim 700905-1059119\"]\n",
    "    word_result = []  # 라인 순회할 때마다 빈 리스트 하나 더 만들어서\n",
    "    for word in line.split(\" \"):  # 라인을 띄어쓰기로 자르고 [\"park\", \"800905-1049118\"], [\"kim\", \"700905-1059119\"]\n",
    "        if len(word) == 14 and word[:6].isdigit() and word[7:].isdigit():  # 만약 총 14자에 앞6자리가 숫자이고 뒤6자리도 숫자이면\n",
    "            word = word[:6] + \"-\" + \"*******\"  # 앞 6자리는 그대로 사용하고 \"-\"를 붙인 후에 \"*\" 7개를 붙임\n",
    "        word_result.append(word)  # 정제된 문자열을 word_result 에 담고\n",
    "    result.append(\" \".join(word_result))  # \" \"를 본드 삼아 word_result의 각 원소들을 한 개의 문자열로 이어붙이기\n",
    "print(\"\\n\".join(result))  # 각각의 result를 \"\\n\"을 본드 삼아 한 개의 문자열로 이어붙임"
   ],
   "metadata": {
    "collapsed": false
   }
  },
  {
   "cell_type": "markdown",
   "source": [
    "너무 복잡해요. 그렇지 않나요?\n",
    "\n",
    "정규식을 사용하면 저 기나긴 코드를 아래처럼 한 줄로, 그것도 직관적으로 표현할 수 있습니다."
   ],
   "metadata": {
    "collapsed": false
   }
  },
  {
   "cell_type": "code",
   "execution_count": 2,
   "outputs": [
    {
     "name": "stdout",
     "output_type": "stream",
     "text": [
      "\n",
      "park 800905-*******\n",
      "kim  700905-*******\n",
      "\n"
     ]
    }
   ],
   "source": [
    "import re\n",
    "\n",
    "data = \"\"\"\n",
    "park 800905-1049118\n",
    "kim  700905-1059119\n",
    "\"\"\"\n",
    "\n",
    "print(re.sub(pattern=r\"(\\d{6})[-]\\d{7}\", repl=r\"\\g<1>-*******\", string=data))\n",
    "#                      <pattern>  \"(여섯자리숫자)-일곱자리숫자\" 패턴을,\n",
    "#                     <repl(ace)> \"첫번째 괄호 안의 숫자-*******\" 로 변경할 것.\n",
    "#                      <string>    위 패턴을 적용할 문자열은 data임."
   ],
   "metadata": {
    "collapsed": false,
    "ExecuteTime": {
     "end_time": "2023-07-04T09:33:54.251640Z",
     "start_time": "2023-07-04T09:33:54.241220300Z"
    }
   }
  },
  {
   "cell_type": "markdown",
   "source": [
    "어때요? 정말 짧은 코드 한 줄로 처리가 됐죠?\n",
    "\n",
    "파이썬의 문자열 메서드를 사용해 가공하는 경우\n",
    "\n",
    "패턴이 복잡해질수록 코드라인이 길어지거나, 처리가 무척 어려워지는 데 반해\n",
    "\n",
    "정규식은 어떤 복잡한 패턴이라도 비교적 짧은 코드로 수월하게 처리할 수 있습니다.\n",
    "\n",
    "정규식의 유일한 단점이라면,\n",
    "\n",
    "정규식을 잘 모르는 동료가 보기에는 해독 불가능한 암호처럼 보인다는 점입니다..\n",
    "\n",
    "(그래서 정규식이 미움을 사는 경우도 더러 있습니다..)"
   ],
   "metadata": {
    "collapsed": false
   }
  },
  {
   "cell_type": "markdown",
   "source": [
    "# 아무 글자(\"신명진\")\n",
    "\n",
    "정규식 안에서는 모든 글자가 패턴입니다.\n",
    "\n",
    "\"신명진\"은 말 그대로 문자열 안에서 \"신명진\"을 찾습니다.\n",
    "\n",
    "\"장효원\"도, \"김영준\"도, \"윤채원\"도 정규식의 패턴이 될 수 있습니다."
   ],
   "metadata": {
    "collapsed": false
   }
  },
  {
   "cell_type": "code",
   "execution_count": 3,
   "outputs": [
    {
     "name": "stdout",
     "output_type": "stream",
     "text": [
      "['신명진'] 1\n"
     ]
    }
   ],
   "source": [
    "# 파이썬 문법 : 아래의 리스트 중 \"신명진\"으로 시작하는 문자열의 갯수는?\n",
    "\n",
    "a = [\"신명진\", \"장효원\", \"김영준\", \"윤채원\", \"신신명명진진\", \"진명신명진명신\"]\n",
    "\n",
    "b = []\n",
    "for i in a:\n",
    "    if i.startswith(\"신명진\"):\n",
    "        b.append(i)\n",
    "print(b, len(b))"
   ],
   "metadata": {
    "collapsed": false,
    "ExecuteTime": {
     "end_time": "2023-07-04T09:33:56.449683100Z",
     "start_time": "2023-07-04T09:33:56.439341500Z"
    }
   }
  },
  {
   "cell_type": "code",
   "execution_count": 4,
   "outputs": [
    {
     "name": "stdout",
     "output_type": "stream",
     "text": [
      "['신명진'] 1\n"
     ]
    }
   ],
   "source": [
    "# 정규식 문법 : 위와 거의 동일\n",
    "\n",
    "b = []\n",
    "for i in a:\n",
    "    if re.match(\"신명진\", i):\n",
    "        b.append(i)\n",
    "print(b, len(b))"
   ],
   "metadata": {
    "collapsed": false,
    "ExecuteTime": {
     "end_time": "2023-07-04T09:33:57.218490700Z",
     "start_time": "2023-07-04T09:33:57.199767700Z"
    }
   }
  },
  {
   "cell_type": "markdown",
   "source": [
    "# 온점(\".\")\n",
    "\n",
    "\".\"은 그냥 아무 한 글자를 나타냅니다. 알파벳, 숫자, 문자 및 특수기호나 스페이스, 탭까지\n",
    "\n",
    "전부 \".\"로 인식할 수 있습니다. \".\"이 글자로 인식하지 않는 유일한 글자는 줄바꿈(\"\\n\")입니다.\n",
    "\n",
    "그런데 그 줄바꿈마저도 Re.DOTALL 이라는 옵션만 함수 안에 넣으면 역시 \".\"으로 취급할 수 있습니다."
   ],
   "metadata": {
    "collapsed": false
   }
  },
  {
   "cell_type": "code",
   "execution_count": 5,
   "outputs": [
    {
     "name": "stdout",
     "output_type": "stream",
     "text": [
      "['신진진진', '신신신진진', '신1진', '신나진', '신 진식', '태양신@진짜.com']\n"
     ]
    }
   ],
   "source": [
    "# 파이썬 문법 : 아래 리스트의 요소들 중 \"신.진\"이라는 문자열 패턴이 들어 있는 요소 갯수는? (단, .는 아무 한 글자)\n",
    "\n",
    "a = [\"신진진진\", \"신신신진진\", \"신1진\", \"신나진\", \"신 진식\", \"신명준\", \"태양신@진짜.com\"]\n",
    "\n",
    "b = []\n",
    "for i in a:\n",
    "    for idx, chr in enumerate(i):\n",
    "        if chr == \"신\" and i[idx+2] == \"진\":\n",
    "            b.append(i)\n",
    "            break  # \"신신신진진\"에서 \"신신진\", \"신진진\"으로 두 번 검색되기 때문에 break 필요.\n",
    "print(b)"
   ],
   "metadata": {
    "collapsed": false,
    "ExecuteTime": {
     "end_time": "2023-07-04T09:34:03.762220300Z",
     "start_time": "2023-07-04T09:34:03.750811500Z"
    }
   }
  },
  {
   "cell_type": "code",
   "execution_count": 6,
   "outputs": [
    {
     "name": "stdout",
     "output_type": "stream",
     "text": [
      "['신진진진', '신신신진진', '신1진', '신나진', '신 진식', '태양신@진짜.com']\n"
     ]
    }
   ],
   "source": [
    "# 정규식 문법\n",
    "\n",
    "b = []\n",
    "for i in a:\n",
    "    if re.findall(pattern=\"신.진\", string=i):\n",
    "        b.append(i)\n",
    "print(b)"
   ],
   "metadata": {
    "collapsed": false,
    "ExecuteTime": {
     "end_time": "2023-07-04T09:34:04.921736Z",
     "start_time": "2023-07-04T09:34:04.911510200Z"
    }
   }
  },
  {
   "cell_type": "markdown",
   "source": [
    "# \"abc\" 또는 \"ac\"를 검색하고 싶다면? \"?\"\n",
    "\n",
    "?는, ?기호 앞의 글자가 있을 수도 있고 없을 수도 있다는 패턴입니다.\n",
    "\n",
    "웹페이지에서 고객의 휴대전화번호를 입력받을 때, 적절한 검증패턴이 없다면\n",
    "\n",
    "아래와 같이 적재되어 있을 겁니다. (개발자들 사이에는 \"절대 사용자를 기대하거나 믿지 말라\"라는 유명한 말이 있습니다.)"
   ],
   "metadata": {
    "collapsed": false
   }
  },
  {
   "cell_type": "code",
   "execution_count": 7,
   "outputs": [
    {
     "name": "stdout",
     "output_type": "stream",
     "text": [
      "['01012341234', '01023456789', '01034567890', '01045678901', '01056789012', '01022223333']\n"
     ]
    }
   ],
   "source": [
    "# 정규식 문법 : ddd-ddd-dddd 비슷한 패턴에서 dddddddddd만 모아서 리스트에 담자. (d는 정수, 0~9)\n",
    "# (여기서 사용한 sub는 substitute의 약자로, \"교체하다\"라는 뜻을 가짐.)\n",
    "\n",
    "a = [\"01012341234\", \"0102345-6789\", \"010 3456 7890\", \"010/4567/8901\", \"010_5678-9012\", \"010 22223333\"]\n",
    "\n",
    "b = []\n",
    "for i in a:\n",
    "    b.append(re.sub(\"(\\d{3}).?(\\d{4}).?(\\d{4})\", r\"\\1\\2\\3\", i))  # \".?\" 는 \"어떤 한 글자가 있거나 없거나\"\n",
    "print(b)"
   ],
   "metadata": {
    "collapsed": false,
    "ExecuteTime": {
     "end_time": "2023-07-04T09:34:06.848237500Z",
     "start_time": "2023-07-04T09:34:06.837095100Z"
    }
   }
  },
  {
   "cell_type": "code",
   "execution_count": 8,
   "outputs": [
    {
     "name": "stdout",
     "output_type": "stream",
     "text": [
      "['01012341234', '01023456789', '01034567890', '01045678901', '01056789012', '01022223333']\n"
     ]
    }
   ],
   "source": [
    "# 위 패턴을 좀 더 단순하게 : 숫자로만 구성된 전화번호 리스트를 만들자. (정수가 아닌 모든 문자를 제거)\n",
    "\n",
    "b = []\n",
    "for i in a:\n",
    "    b.append(re.sub(pattern=\"[^\\d]\", repl=\"\", string=i))\n",
    "print(b)"
   ],
   "metadata": {
    "collapsed": false,
    "ExecuteTime": {
     "end_time": "2023-07-04T09:34:07.797254900Z",
     "start_time": "2023-07-04T09:34:07.787715500Z"
    }
   }
  },
  {
   "cell_type": "markdown",
   "source": [
    "# \".\"은 한 글자, \".?\"는 한 글자 .이 있거나 없거나? 그리고 \".*\"은 한 글자 .이 없거나 있거나 아주 많거나!\n",
    "\n",
    "\"ac\", \"abc\", \"abbbbbbbbbbbbbbc\" 이 세 가지를 모두 선택하고 싶다면?\n",
    "\n",
    "이 때 \"*\"를 사용해야 합니다.\n",
    "\n",
    "\"ab.*c\"라는 패턴은 \"ac\"도, \"abc\"도, 그리고 \"abbbbbbbc\"나 \"abbbbbbbbbbbbbbbbbbbbbbbbbbc\"도 탐색해냅니다.\n",
    "\n",
    "\".*\"와 비슷한 패턴 중에 \".+\"가 있습니다. \".+\"는 \".\" 문자가 한 개 이상 ~ 여러 개 있는 경우를 가리킵니다."
   ],
   "metadata": {
    "collapsed": false
   }
  },
  {
   "cell_type": "code",
   "execution_count": 11,
   "outputs": [
    {
     "name": "stdout",
     "output_type": "stream",
     "text": [
      "['신        명           진', '신명진', '신  명  진', '신 명진'] 4\n"
     ]
    }
   ],
   "source": [
    "# 다음 문자열 리스트 중 스페이스 길이와 무관하게 \"신\", \"명\", \"진\"이 순서대로 들어가 있는 문자열 리스트를 리턴!\n",
    "\n",
    "a = [\"신        명           진\", \"신명진\", \"신  명  진\", \"김명진\", \"김 명 진\", \"신 명진\", \"진  명신\"]\n",
    "b = []\n",
    "for i in a:\n",
    "    result = re.match(\"신 *명 *진\", i)\n",
    "    if result:\n",
    "        b.append(result.group())\n",
    "print(b, len(b))"
   ],
   "metadata": {
    "collapsed": false,
    "ExecuteTime": {
     "end_time": "2023-07-04T09:37:31.171414100Z",
     "start_time": "2023-07-04T09:37:31.157967100Z"
    }
   }
  },
  {
   "cell_type": "markdown",
   "source": [
    "# 중간정리를 해 봅시다.\n",
    "\n",
    "## 사용한 패턴\n",
    "\n",
    "- \".\" : 어떤 한 글자, 줄바꿈은 제외\n",
    "- \".?\" : 어떤 한 글자가 한 개 있거나 혹은 없거나\n",
    "- \".+\" : 어떤 한 글자 \".\"이 한 개 이상 ~ 여러 개 있는 경우\n",
    "- \".*\" : 어떤 한 글자 \".\"이 한 개 있거나,\n",
    "- \".{n}\" : 어떤 한 글자 \".\"이 n번 반복되는 모든 패턴 캐치\n",
    "- \".{n, m}\" : 어떤 한 글자 \".\"이 n번 이상, m번 이하 반복되는 모든 패턴 캐치\n",
    "\n",
    "## 사용한 메서드\n",
    "\n",
    "- re.match(pattern, string) : string이 pattern으로 시작하는가?\n",
    "- re.findall(pattern, string) : string 내에서 pattern을 모두 찾자.\n",
    "- re.sub(pattern, repl, string) : string의 pattern 부분을 repl로 교체해달라"
   ],
   "metadata": {
    "collapsed": false
   }
  },
  {
   "cell_type": "code",
   "execution_count": null,
   "outputs": [],
   "source": [
    "re.findall(\"ab*c\", \"abc abbc ac abbbc adddb adb \")"
   ],
   "metadata": {
    "collapsed": false
   }
  }
 ],
 "metadata": {
  "kernelspec": {
   "display_name": "Python 3",
   "language": "python",
   "name": "python3"
  },
  "language_info": {
   "codemirror_mode": {
    "name": "ipython",
    "version": 2
   },
   "file_extension": ".py",
   "mimetype": "text/x-python",
   "name": "python",
   "nbconvert_exporter": "python",
   "pygments_lexer": "ipython2",
   "version": "2.7.6"
  }
 },
 "nbformat": 4,
 "nbformat_minor": 0
}
