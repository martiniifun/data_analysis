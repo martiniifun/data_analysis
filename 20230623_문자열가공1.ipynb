{
 "cells": [
  {
   "cell_type": "markdown",
   "source": [
    "# 문자열을 다룰 때 가장 많이 사용하는 메서드① : split"
   ],
   "metadata": {
    "collapsed": false
   }
  },
  {
   "cell_type": "code",
   "execution_count": 1,
   "metadata": {
    "collapsed": true,
    "ExecuteTime": {
     "end_time": "2023-06-26T06:21:50.843082800Z",
     "start_time": "2023-06-26T06:21:50.810714200Z"
    }
   },
   "outputs": [],
   "source": [
    "a = '신명진 신예별 신예라'"
   ]
  },
  {
   "cell_type": "markdown",
   "source": [
    "엑셀의 열 구분 : \"\\t\"\n",
    "엑셀의 행 구분 : \"\\r\\n\"\n",
    "txt파일의 줄바꿈 : \"\\n\"\n",
    "아래아한글 줄바꿈 : \"\\r\\n\""
   ],
   "metadata": {
    "collapsed": false
   }
  },
  {
   "cell_type": "code",
   "execution_count": 2,
   "outputs": [
    {
     "data": {
      "text/plain": "['신명진', '신예별', '신예라']"
     },
     "execution_count": 2,
     "metadata": {},
     "output_type": "execute_result"
    }
   ],
   "source": [
    "a.split()"
   ],
   "metadata": {
    "collapsed": false,
    "ExecuteTime": {
     "end_time": "2023-06-26T06:22:00.191263700Z",
     "start_time": "2023-06-26T06:22:00.176348100Z"
    }
   }
  },
  {
   "cell_type": "markdown",
   "source": [
    "split은 기본적으로 스페이스(\" \")를 기준으로 문자열을 잘라 리스트로 만듭니다.\n",
    "다른 문자열을 기준으로 자르고 싶다면 해당 문자열을 괄호 안에 넣으면 됩니다."
   ],
   "metadata": {
    "collapsed": false
   }
  },
  {
   "cell_type": "code",
   "execution_count": 3,
   "outputs": [
    {
     "name": "stdout",
     "output_type": "stream",
     "text": [
      "['hello', 'world']\n"
     ]
    }
   ],
   "source": [
    "b = \"hello\\nworld\"\n",
    "c = b.split(\"\\n\")\n",
    "print(c)"
   ],
   "metadata": {
    "collapsed": false,
    "ExecuteTime": {
     "end_time": "2023-06-26T06:22:55.212427Z",
     "start_time": "2023-06-26T06:22:55.211921200Z"
    }
   }
  },
  {
   "cell_type": "markdown",
   "source": [
    "리스트 끝에 요소 하나를 추가하고 싶을 때에는 append 메서드를 사용하면 됩니다."
   ],
   "metadata": {
    "collapsed": false
   }
  },
  {
   "cell_type": "code",
   "execution_count": 5,
   "outputs": [],
   "source": [
    "a = a.split()\n",
    "a.append(\"안서올\")"
   ],
   "metadata": {
    "collapsed": false,
    "ExecuteTime": {
     "end_time": "2023-06-26T06:24:04.322250100Z",
     "start_time": "2023-06-26T06:24:04.319703400Z"
    }
   }
  },
  {
   "cell_type": "code",
   "execution_count": 6,
   "outputs": [],
   "source": [
    "a.append(\"최준영\")"
   ],
   "metadata": {
    "collapsed": false,
    "ExecuteTime": {
     "end_time": "2023-06-26T06:24:05.818735900Z",
     "start_time": "2023-06-26T06:24:05.818230400Z"
    }
   }
  },
  {
   "cell_type": "code",
   "execution_count": 7,
   "outputs": [
    {
     "data": {
      "text/plain": "['신명진', '신예별', '신예라', '안서올', '최준영']"
     },
     "execution_count": 7,
     "metadata": {},
     "output_type": "execute_result"
    }
   ],
   "source": [
    "a"
   ],
   "metadata": {
    "collapsed": false,
    "ExecuteTime": {
     "end_time": "2023-06-26T06:24:07.171657600Z",
     "start_time": "2023-06-26T06:24:07.155171800Z"
    }
   }
  },
  {
   "cell_type": "code",
   "execution_count": 8,
   "outputs": [
    {
     "data": {
      "text/plain": "True"
     },
     "execution_count": 8,
     "metadata": {},
     "output_type": "execute_result"
    }
   ],
   "source": [
    "# \"a 리스트의 첫 번째 요소가 '진'으로 끝나?\"라고 파이썬에게 물어보고 싶습니다.\n",
    "\n",
    "a[0].endswith(\"진\")  # \"맞습니다.\"라고 대답해주네요."
   ],
   "metadata": {
    "collapsed": false,
    "ExecuteTime": {
     "end_time": "2023-06-26T06:24:37.206824600Z",
     "start_time": "2023-06-26T06:24:37.189692300Z"
    }
   }
  },
  {
   "cell_type": "code",
   "execution_count": 9,
   "outputs": [],
   "source": [
    "# \"'신'씨 성을 가진 사람만 골라서 d라는 리스트에 넣어줘\" 라고 파이썬에게 부탁해봅니다.\n",
    "\n",
    "d = []\n",
    "for name in a:\n",
    "    if name.startswith(\"신\"):\n",
    "        d.append(name)"
   ],
   "metadata": {
    "collapsed": false,
    "ExecuteTime": {
     "end_time": "2023-06-26T06:25:14.374486300Z",
     "start_time": "2023-06-26T06:25:14.374486300Z"
    }
   }
  },
  {
   "cell_type": "code",
   "execution_count": 10,
   "outputs": [
    {
     "data": {
      "text/plain": "['신명진', '신예별', '신예라']"
     },
     "execution_count": 10,
     "metadata": {},
     "output_type": "execute_result"
    }
   ],
   "source": [
    "d"
   ],
   "metadata": {
    "collapsed": false,
    "ExecuteTime": {
     "end_time": "2023-06-26T06:25:15.049665400Z",
     "start_time": "2023-06-26T06:25:15.044021Z"
    }
   }
  },
  {
   "cell_type": "markdown",
   "source": [
    "# 리스트를 하나의 문자열로 병합(join)하는 방법"
   ],
   "metadata": {
    "collapsed": false
   }
  },
  {
   "cell_type": "code",
   "execution_count": 12,
   "outputs": [
    {
     "data": {
      "text/plain": "'신명진 신예별 신예라'"
     },
     "execution_count": 12,
     "metadata": {},
     "output_type": "execute_result"
    }
   ],
   "source": [
    "# 병합할 요소들 사이에 들어갈 문자열을 먼저 쓰고, 병합문자열.join(리스트) 방식으로 사용합니다.\n",
    "\n",
    "e = \" \".join(d)\n",
    "e"
   ],
   "metadata": {
    "collapsed": false,
    "ExecuteTime": {
     "end_time": "2023-06-26T06:26:20.913613900Z",
     "start_time": "2023-06-26T06:26:20.900816100Z"
    }
   }
  },
  {
   "cell_type": "markdown",
   "source": [
    "# 문자열을 다룰 때 가장 많이 사용하는 메서드② : replace"
   ],
   "metadata": {
    "collapsed": false
   }
  },
  {
   "cell_type": "code",
   "execution_count": 13,
   "outputs": [
    {
     "data": {
      "text/plain": "'신명진.신예별.신예라'"
     },
     "execution_count": 13,
     "metadata": {},
     "output_type": "execute_result"
    }
   ],
   "source": [
    "e = e.replace(\" \", \".\")\n",
    "e"
   ],
   "metadata": {
    "collapsed": false,
    "ExecuteTime": {
     "end_time": "2023-06-26T06:27:06.596340200Z",
     "start_time": "2023-06-26T06:27:06.595835500Z"
    }
   }
  },
  {
   "cell_type": "markdown",
   "source": [
    "### e라는 리스트 안에 온점(\".\")이 몇 개 있는지 출력하는 함수를 찾거나 만드시오."
   ],
   "metadata": {
    "collapsed": false
   }
  },
  {
   "cell_type": "code",
   "execution_count": 16,
   "outputs": [
    {
     "name": "stdout",
     "output_type": "stream",
     "text": [
      "2\n"
     ]
    }
   ],
   "source": [
    "# 아래처럼 작성해도 되고\n",
    "\n",
    "total = 0\n",
    "for i in e:\n",
    "    if i == \".\":\n",
    "        total += 1\n",
    "print(total)"
   ],
   "metadata": {
    "collapsed": false,
    "ExecuteTime": {
     "end_time": "2023-06-26T06:29:02.575819800Z",
     "start_time": "2023-06-26T06:29:02.575314200Z"
    }
   }
  },
  {
   "cell_type": "code",
   "execution_count": 18,
   "outputs": [
    {
     "data": {
      "text/plain": "2"
     },
     "execution_count": 18,
     "metadata": {},
     "output_type": "execute_result"
    }
   ],
   "source": [
    "# 문자열에는 count라는 메서드를 기본적으로 제공하고 있습니다. 간단하죠?\n",
    "\n",
    "e.count(\".\")"
   ],
   "metadata": {
    "collapsed": false,
    "ExecuteTime": {
     "end_time": "2023-06-26T06:29:24.449327600Z",
     "start_time": "2023-06-26T06:29:24.445749600Z"
    }
   }
  },
  {
   "cell_type": "markdown",
   "source": [
    "# 오늘의 실습\n",
    "\"2023-06-23\" 형식의 날짜 문자열을\n",
    "\n",
    "\"2023. 6. 23.\" 형식으로 변환하기"
   ],
   "metadata": {
    "collapsed": false
   }
  },
  {
   "cell_type": "code",
   "execution_count": 24,
   "outputs": [],
   "source": [
    "dates = [\"2023-06-23\", \"2023-01-01\", \"1983-02-26\"]"
   ],
   "metadata": {
    "collapsed": false,
    "ExecuteTime": {
     "end_time": "2023-06-26T06:34:43.310322700Z",
     "start_time": "2023-06-26T06:34:43.310322700Z"
    }
   }
  },
  {
   "cell_type": "code",
   "execution_count": 25,
   "outputs": [
    {
     "data": {
      "text/plain": "['2023. 06. 23.', '2023. 01. 01.', '1983. 02. 26.']"
     },
     "execution_count": 25,
     "metadata": {},
     "output_type": "execute_result"
    }
   ],
   "source": [
    "# 구분기호를 \". \"으로 바꾸기\n",
    "dates = [i.replace(\"-\", \". \")+\".\" for i in dates]\n",
    "dates"
   ],
   "metadata": {
    "collapsed": false,
    "ExecuteTime": {
     "end_time": "2023-06-26T06:34:43.755583700Z",
     "start_time": "2023-06-26T06:34:43.740858200Z"
    }
   }
  },
  {
   "cell_type": "markdown",
   "source": [
    "거의 다 된 것 같은데 \"2023. 06. 23.\"은 \"2023. 6. 23.\"으로 변경하고 싶어요.\n",
    "\n",
    "조금 번거롭지만 replace나 슬라이싱을 써야 할 것 같네요."
   ],
   "metadata": {
    "collapsed": false
   }
  },
  {
   "cell_type": "code",
   "execution_count": 35,
   "outputs": [
    {
     "data": {
      "text/plain": "['2023. 6. 23.', '2000. 1. 1.', '1983. 2. 26.']"
     },
     "execution_count": 35,
     "metadata": {},
     "output_type": "execute_result"
    }
   ],
   "source": [
    "# 실제로는 이렇게 불편하게 코딩하지 않습니다... 대신 datetime.date를 사용하면 엄청나게 간편해집니다.\n",
    "\n",
    "dates = [\n",
    "    \"2023-06-23\",\n",
    "    \"2000-01-01\",\n",
    "    \"1983-02-26\",\n",
    "]\n",
    "\n",
    "for idx, val in enumerate(dates):\n",
    "    if val[8] == \"0\":\n",
    "        val = val[:8] + val[9:]\n",
    "    if val[5] == \"0\":\n",
    "        dates[idx] = val[:5] + val[6:]\n",
    "dates = [i.replace(\"-\", \". \") + \".\" for i in dates]\n",
    "dates  # 완성되기는 했지만, 뭔가 아쉽습니다. 코드가 너무 복잡하잖아요?"
   ],
   "metadata": {
    "collapsed": false,
    "ExecuteTime": {
     "end_time": "2023-06-26T06:51:18.447505300Z",
     "start_time": "2023-06-26T06:51:18.435273300Z"
    }
   }
  },
  {
   "cell_type": "markdown",
   "source": [
    "# 날짜 문자열을 다루는 최선의 방법 : datetime 모듈 사용해보기"
   ],
   "metadata": {
    "collapsed": false
   }
  },
  {
   "cell_type": "code",
   "execution_count": 36,
   "outputs": [],
   "source": [
    "import datetime as dt"
   ],
   "metadata": {
    "collapsed": false,
    "ExecuteTime": {
     "end_time": "2023-06-26T06:51:44.853334400Z",
     "start_time": "2023-06-26T06:51:44.853334400Z"
    }
   }
  },
  {
   "cell_type": "markdown",
   "source": [
    "datetime.date를 사용하여 날짜 객체를 생성합니다."
   ],
   "metadata": {
    "collapsed": false
   }
  },
  {
   "cell_type": "code",
   "execution_count": 46,
   "outputs": [
    {
     "data": {
      "text/plain": "datetime.date(2023, 6, 23)"
     },
     "execution_count": 46,
     "metadata": {},
     "output_type": "execute_result"
    }
   ],
   "source": [
    "today = dt.date(2023, 6, 23)\n",
    "today"
   ],
   "metadata": {
    "collapsed": false,
    "ExecuteTime": {
     "end_time": "2023-06-26T06:55:44.459535500Z",
     "start_time": "2023-06-26T06:55:44.443190100Z"
    }
   }
  },
  {
   "cell_type": "markdown",
   "source": [
    "today 인스턴스 안에서는 year, month, day 등의 시맨틱 속성을 사용할 수 있습니다."
   ],
   "metadata": {
    "collapsed": false
   }
  },
  {
   "cell_type": "code",
   "execution_count": 47,
   "outputs": [
    {
     "data": {
      "text/plain": "2023"
     },
     "execution_count": 47,
     "metadata": {},
     "output_type": "execute_result"
    }
   ],
   "source": [
    "today.year  # 연"
   ],
   "metadata": {
    "collapsed": false,
    "ExecuteTime": {
     "end_time": "2023-06-26T06:55:45.262036500Z",
     "start_time": "2023-06-26T06:55:45.257633900Z"
    }
   }
  },
  {
   "cell_type": "code",
   "execution_count": 48,
   "outputs": [
    {
     "data": {
      "text/plain": "6"
     },
     "execution_count": 48,
     "metadata": {},
     "output_type": "execute_result"
    }
   ],
   "source": [
    "today.month  # 월"
   ],
   "metadata": {
    "collapsed": false,
    "ExecuteTime": {
     "end_time": "2023-06-26T06:55:45.571731400Z",
     "start_time": "2023-06-26T06:55:45.566867400Z"
    }
   }
  },
  {
   "cell_type": "code",
   "execution_count": 49,
   "outputs": [
    {
     "data": {
      "text/plain": "23"
     },
     "execution_count": 49,
     "metadata": {},
     "output_type": "execute_result"
    }
   ],
   "source": [
    "today.day  # 일"
   ],
   "metadata": {
    "collapsed": false,
    "ExecuteTime": {
     "end_time": "2023-06-26T06:55:45.996387500Z",
     "start_time": "2023-06-26T06:55:45.989982700Z"
    }
   }
  },
  {
   "cell_type": "code",
   "execution_count": 50,
   "outputs": [
    {
     "data": {
      "text/plain": "4"
     },
     "execution_count": 50,
     "metadata": {},
     "output_type": "execute_result"
    }
   ],
   "source": [
    "today.weekday()  # 요일(0이 월요일, 1이 화요일, 4는 금요일..)"
   ],
   "metadata": {
    "collapsed": false,
    "ExecuteTime": {
     "end_time": "2023-06-26T06:55:46.375694400Z",
     "start_time": "2023-06-26T06:55:46.369671800Z"
    }
   }
  },
  {
   "cell_type": "markdown",
   "source": [
    "date 객체를 문자열로 변환할 때는 strftime을 사용합니다.(STRingFormat of TIME의 약자)"
   ],
   "metadata": {
    "collapsed": false
   }
  },
  {
   "cell_type": "code",
   "execution_count": 51,
   "outputs": [
    {
     "data": {
      "text/plain": "'2023. 6. 23.'"
     },
     "execution_count": 51,
     "metadata": {},
     "output_type": "execute_result"
    }
   ],
   "source": [
    "today = today.strftime(\"%Y. %#m. %#d.\")\n",
    "today  # 우리가 원했던 포맷변환이 한 줄로 처리되었습니다."
   ],
   "metadata": {
    "collapsed": false,
    "ExecuteTime": {
     "end_time": "2023-06-26T06:55:50.311112100Z",
     "start_time": "2023-06-26T06:55:50.300837500Z"
    }
   }
  },
  {
   "cell_type": "markdown",
   "source": [
    "(위와 반대로) 날짜 서식의 문자열에서 date 객체를 생성하려면?\n",
    "\n",
    "아래처럼 dt.datetime.strptime을 사용하면 됩니다. (STRing-Parsed TIME의 약자)"
   ],
   "metadata": {
    "collapsed": false
   }
  },
  {
   "cell_type": "code",
   "execution_count": 57,
   "outputs": [
    {
     "data": {
      "text/plain": "datetime.datetime(2023, 6, 22, 0, 0)"
     },
     "execution_count": 57,
     "metadata": {},
     "output_type": "execute_result"
    }
   ],
   "source": [
    "yesterday = \"2023-06-22\"\n",
    "yesterday = dt.datetime.strptime(yesterday, \"%Y-%m-%d\")\n",
    "yesterday"
   ],
   "metadata": {
    "collapsed": false,
    "ExecuteTime": {
     "end_time": "2023-06-26T06:58:33.271135700Z",
     "start_time": "2023-06-26T06:58:33.255967900Z"
    }
   }
  },
  {
   "cell_type": "markdown",
   "source": [
    "datetime 객체는 timedelta를 통한 덧셈뺄셈 연산이 가능합니다."
   ],
   "metadata": {
    "collapsed": false
   }
  },
  {
   "cell_type": "code",
   "execution_count": 59,
   "outputs": [
    {
     "data": {
      "text/plain": "'2023. 7. 12.'"
     },
     "execution_count": 59,
     "metadata": {},
     "output_type": "execute_result"
    }
   ],
   "source": [
    "# 어제 날짜에서 20일 후는 언제인가?\n",
    "target_date = yesterday + dt.timedelta(days=20)\n",
    "target_date.strftime(\"%Y. %#m. %#d.\")"
   ],
   "metadata": {
    "collapsed": false,
    "ExecuteTime": {
     "end_time": "2023-06-26T07:00:09.647596900Z",
     "start_time": "2023-06-26T07:00:09.631470300Z"
    }
   }
  },
  {
   "cell_type": "code",
   "execution_count": 60,
   "outputs": [
    {
     "data": {
      "text/plain": "'수'"
     },
     "execution_count": 60,
     "metadata": {},
     "output_type": "execute_result"
    }
   ],
   "source": [
    "# 해당 일자는 무슨 요일인가?\n",
    "weekdays = \"월화수목금토일\"\n",
    "weekdays[target_date.weekday()]"
   ],
   "metadata": {
    "collapsed": false,
    "ExecuteTime": {
     "end_time": "2023-06-26T07:01:40.706642800Z",
     "start_time": "2023-06-26T07:01:40.675396800Z"
    }
   }
  },
  {
   "cell_type": "markdown",
   "source": [
    "해당 일자인 7월 12일은 수요일이군요! 끝."
   ],
   "metadata": {
    "collapsed": false
   }
  }
 ],
 "metadata": {
  "kernelspec": {
   "display_name": "Python 3",
   "language": "python",
   "name": "python3"
  },
  "language_info": {
   "codemirror_mode": {
    "name": "ipython",
    "version": 2
   },
   "file_extension": ".py",
   "mimetype": "text/x-python",
   "name": "python",
   "nbconvert_exporter": "python",
   "pygments_lexer": "ipython2",
   "version": "2.7.6"
  }
 },
 "nbformat": 4,
 "nbformat_minor": 0
}
